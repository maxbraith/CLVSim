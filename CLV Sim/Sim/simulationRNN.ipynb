{
 "cells": [
  {
   "cell_type": "code",
   "execution_count": 22,
   "metadata": {},
   "outputs": [],
   "source": [
    "import pandas as pd\n",
    "import tensorflow as tf \n",
    "import gc\n",
    "import joblib\n",
    "from features import extract_sequence, implied_probability, american_to_decimal, fixed_length, split_for_datetime, time_for_75\n",
    "from tensorflow.keras.models import load_model\n",
    "import numpy as np"
   ]
  },
  {
   "cell_type": "code",
   "execution_count": 23,
   "metadata": {},
   "outputs": [
    {
     "name": "stderr",
     "output_type": "stream",
     "text": [
      "C:\\Users\\maxbr\\AppData\\Local\\Temp\\ipykernel_9992\\993521357.py:1: DtypeWarning: Columns (206,207,208,209,210,211,212,213,214,215,216,217,218,219,220,221,222,223,224,225,226,227,228,229,230) have mixed types. Specify dtype option on import or set low_memory=False.\n",
      "  dftp = pd.read_csv(\"timestampsDatetimeA.csv\", header=None, names=range(231))\n"
     ]
    },
    {
     "data": {
      "text/html": [
       "<div>\n",
       "<style scoped>\n",
       "    .dataframe tbody tr th:only-of-type {\n",
       "        vertical-align: middle;\n",
       "    }\n",
       "\n",
       "    .dataframe tbody tr th {\n",
       "        vertical-align: top;\n",
       "    }\n",
       "\n",
       "    .dataframe thead th {\n",
       "        text-align: right;\n",
       "    }\n",
       "</style>\n",
       "<table border=\"1\" class=\"dataframe\">\n",
       "  <thead>\n",
       "    <tr style=\"text-align: right;\">\n",
       "      <th></th>\n",
       "      <th>0</th>\n",
       "      <th>1</th>\n",
       "      <th>2</th>\n",
       "      <th>3</th>\n",
       "      <th>4</th>\n",
       "      <th>5</th>\n",
       "      <th>6</th>\n",
       "      <th>7</th>\n",
       "      <th>8</th>\n",
       "      <th>9</th>\n",
       "      <th>...</th>\n",
       "      <th>221</th>\n",
       "      <th>222</th>\n",
       "      <th>223</th>\n",
       "      <th>224</th>\n",
       "      <th>225</th>\n",
       "      <th>226</th>\n",
       "      <th>227</th>\n",
       "      <th>228</th>\n",
       "      <th>229</th>\n",
       "      <th>230</th>\n",
       "    </tr>\n",
       "  </thead>\n",
       "  <tbody>\n",
       "    <tr>\n",
       "      <th>0</th>\n",
       "      <td>fighter</td>\n",
       "      <td>event</td>\n",
       "      <td>date</td>\n",
       "      <td>opponent</td>\n",
       "      <td>timestep-1</td>\n",
       "      <td>timestep-2</td>\n",
       "      <td>timestep-3</td>\n",
       "      <td>timestep-4</td>\n",
       "      <td>timestep-5</td>\n",
       "      <td>timestep-6</td>\n",
       "      <td>...</td>\n",
       "      <td>timestep-218</td>\n",
       "      <td>timestep-219</td>\n",
       "      <td>timestep-220</td>\n",
       "      <td>timestep-221</td>\n",
       "      <td>timestep-222</td>\n",
       "      <td>timestep-223</td>\n",
       "      <td>timestep-224</td>\n",
       "      <td>timestep-225</td>\n",
       "      <td>timestep-226</td>\n",
       "      <td>timestep-227</td>\n",
       "    </tr>\n",
       "    <tr>\n",
       "      <th>1</th>\n",
       "      <td>Mansur Abdul-Malik</td>\n",
       "      <td>UFC</td>\n",
       "      <td>2025-02-23</td>\n",
       "      <td>Nick Klein</td>\n",
       "      <td>2025-02-13 14:17:00 - price: -549</td>\n",
       "      <td>2025-02-13 20:33:00 - price: -549</td>\n",
       "      <td>2025-02-14 18:09:00 - price: -562</td>\n",
       "      <td>2025-02-14 18:13:00 - price: -532</td>\n",
       "      <td>2025-02-14 19:09:00 - price: -569</td>\n",
       "      <td>2025-02-14 19:11:00 - price: -569</td>\n",
       "      <td>...</td>\n",
       "      <td>NaN</td>\n",
       "      <td>NaN</td>\n",
       "      <td>NaN</td>\n",
       "      <td>NaN</td>\n",
       "      <td>NaN</td>\n",
       "      <td>NaN</td>\n",
       "      <td>NaN</td>\n",
       "      <td>NaN</td>\n",
       "      <td>NaN</td>\n",
       "      <td>NaN</td>\n",
       "    </tr>\n",
       "    <tr>\n",
       "      <th>2</th>\n",
       "      <td>Daichi Abe</td>\n",
       "      <td>UFC Fight Night 132: Cowboy vs. Edwards</td>\n",
       "      <td>2018-06-23</td>\n",
       "      <td>Li Jingliang</td>\n",
       "      <td>2018-06-13 12:09:00 - price: +240</td>\n",
       "      <td>2018-06-13 12:21:00 - price: +325</td>\n",
       "      <td>2018-06-13 13:42:00 - price: +315</td>\n",
       "      <td>2018-06-13 15:24:00 - price: +323</td>\n",
       "      <td>2018-06-13 16:18:00 - price: +320</td>\n",
       "      <td>2018-06-13 17:06:00 - price: +313</td>\n",
       "      <td>...</td>\n",
       "      <td>NaN</td>\n",
       "      <td>NaN</td>\n",
       "      <td>NaN</td>\n",
       "      <td>NaN</td>\n",
       "      <td>NaN</td>\n",
       "      <td>NaN</td>\n",
       "      <td>NaN</td>\n",
       "      <td>NaN</td>\n",
       "      <td>NaN</td>\n",
       "      <td>NaN</td>\n",
       "    </tr>\n",
       "    <tr>\n",
       "      <th>3</th>\n",
       "      <td>John Adajar</td>\n",
       "      <td>Road to UFC 4</td>\n",
       "      <td>2022-06-10</td>\n",
       "      <td>Han Seul Kim</td>\n",
       "      <td>2022-06-07 10:00:00 - price: -120</td>\n",
       "      <td>2022-06-07 10:18:00 - price: +105</td>\n",
       "      <td>2022-06-07 22:02:00 - price: -105</td>\n",
       "      <td>2022-06-08 13:08:00 - price: +100</td>\n",
       "      <td>2022-06-08 13:26:00 - price: +115</td>\n",
       "      <td>2022-06-08 13:50:00 - price: +118</td>\n",
       "      <td>...</td>\n",
       "      <td>NaN</td>\n",
       "      <td>NaN</td>\n",
       "      <td>NaN</td>\n",
       "      <td>NaN</td>\n",
       "      <td>NaN</td>\n",
       "      <td>NaN</td>\n",
       "      <td>NaN</td>\n",
       "      <td>NaN</td>\n",
       "      <td>NaN</td>\n",
       "      <td>NaN</td>\n",
       "    </tr>\n",
       "    <tr>\n",
       "      <th>4</th>\n",
       "      <td>Shamil Abdurakhimov</td>\n",
       "      <td>UFC 283</td>\n",
       "      <td>2023-01-21</td>\n",
       "      <td>Jailton Almeida</td>\n",
       "      <td>2023-01-06 10:00:00 - price: +600</td>\n",
       "      <td>2023-01-06 13:20:00 - price: +583</td>\n",
       "      <td>2023-01-07 19:48:00 - price: +588</td>\n",
       "      <td>2023-01-08 15:40:00 - price: +585</td>\n",
       "      <td>2023-01-08 23:16:00 - price: +593</td>\n",
       "      <td>2023-01-08 23:54:00 - price: +596</td>\n",
       "      <td>...</td>\n",
       "      <td>NaN</td>\n",
       "      <td>NaN</td>\n",
       "      <td>NaN</td>\n",
       "      <td>NaN</td>\n",
       "      <td>NaN</td>\n",
       "      <td>NaN</td>\n",
       "      <td>NaN</td>\n",
       "      <td>NaN</td>\n",
       "      <td>NaN</td>\n",
       "      <td>NaN</td>\n",
       "    </tr>\n",
       "  </tbody>\n",
       "</table>\n",
       "<p>5 rows × 231 columns</p>\n",
       "</div>"
      ],
      "text/plain": [
       "                   0                                        1           2    \\\n",
       "0              fighter                                    event        date   \n",
       "1   Mansur Abdul-Malik                                      UFC  2025-02-23   \n",
       "2           Daichi Abe  UFC Fight Night 132: Cowboy vs. Edwards  2018-06-23   \n",
       "3          John Adajar                            Road to UFC 4  2022-06-10   \n",
       "4  Shamil Abdurakhimov                                  UFC 283  2023-01-21   \n",
       "\n",
       "               3                                  4    \\\n",
       "0         opponent                         timestep-1   \n",
       "1       Nick Klein  2025-02-13 14:17:00 - price: -549   \n",
       "2     Li Jingliang  2018-06-13 12:09:00 - price: +240   \n",
       "3     Han Seul Kim  2022-06-07 10:00:00 - price: -120   \n",
       "4  Jailton Almeida  2023-01-06 10:00:00 - price: +600   \n",
       "\n",
       "                                 5                                  6    \\\n",
       "0                         timestep-2                         timestep-3   \n",
       "1  2025-02-13 20:33:00 - price: -549  2025-02-14 18:09:00 - price: -562   \n",
       "2  2018-06-13 12:21:00 - price: +325  2018-06-13 13:42:00 - price: +315   \n",
       "3  2022-06-07 10:18:00 - price: +105  2022-06-07 22:02:00 - price: -105   \n",
       "4  2023-01-06 13:20:00 - price: +583  2023-01-07 19:48:00 - price: +588   \n",
       "\n",
       "                                 7                                  8    \\\n",
       "0                         timestep-4                         timestep-5   \n",
       "1  2025-02-14 18:13:00 - price: -532  2025-02-14 19:09:00 - price: -569   \n",
       "2  2018-06-13 15:24:00 - price: +323  2018-06-13 16:18:00 - price: +320   \n",
       "3  2022-06-08 13:08:00 - price: +100  2022-06-08 13:26:00 - price: +115   \n",
       "4  2023-01-08 15:40:00 - price: +585  2023-01-08 23:16:00 - price: +593   \n",
       "\n",
       "                                 9    ...           221           222  \\\n",
       "0                         timestep-6  ...  timestep-218  timestep-219   \n",
       "1  2025-02-14 19:11:00 - price: -569  ...           NaN           NaN   \n",
       "2  2018-06-13 17:06:00 - price: +313  ...           NaN           NaN   \n",
       "3  2022-06-08 13:50:00 - price: +118  ...           NaN           NaN   \n",
       "4  2023-01-08 23:54:00 - price: +596  ...           NaN           NaN   \n",
       "\n",
       "            223           224           225           226           227  \\\n",
       "0  timestep-220  timestep-221  timestep-222  timestep-223  timestep-224   \n",
       "1           NaN           NaN           NaN           NaN           NaN   \n",
       "2           NaN           NaN           NaN           NaN           NaN   \n",
       "3           NaN           NaN           NaN           NaN           NaN   \n",
       "4           NaN           NaN           NaN           NaN           NaN   \n",
       "\n",
       "            228           229           230  \n",
       "0  timestep-225  timestep-226  timestep-227  \n",
       "1           NaN           NaN           NaN  \n",
       "2           NaN           NaN           NaN  \n",
       "3           NaN           NaN           NaN  \n",
       "4           NaN           NaN           NaN  \n",
       "\n",
       "[5 rows x 231 columns]"
      ]
     },
     "execution_count": 23,
     "metadata": {},
     "output_type": "execute_result"
    }
   ],
   "source": [
    "dftp = pd.read_csv(\"timestampsDatetimeA.csv\", header=None, names=range(231))\n",
    "dftp.head()"
   ]
  },
  {
   "cell_type": "code",
   "execution_count": 24,
   "metadata": {},
   "outputs": [
    {
     "data": {
      "text/html": [
       "<div>\n",
       "<style scoped>\n",
       "    .dataframe tbody tr th:only-of-type {\n",
       "        vertical-align: middle;\n",
       "    }\n",
       "\n",
       "    .dataframe tbody tr th {\n",
       "        vertical-align: top;\n",
       "    }\n",
       "\n",
       "    .dataframe thead th {\n",
       "        text-align: right;\n",
       "    }\n",
       "</style>\n",
       "<table border=\"1\" class=\"dataframe\">\n",
       "  <thead>\n",
       "    <tr style=\"text-align: right;\">\n",
       "      <th></th>\n",
       "      <th>fighter</th>\n",
       "      <th>event</th>\n",
       "      <th>date</th>\n",
       "      <th>opponent</th>\n",
       "      <th>timestep-1</th>\n",
       "      <th>timestep-2</th>\n",
       "      <th>timestep-3</th>\n",
       "      <th>timestep-4</th>\n",
       "      <th>timestep-5</th>\n",
       "      <th>timestep-6</th>\n",
       "      <th>...</th>\n",
       "      <th>timestep-218</th>\n",
       "      <th>timestep-219</th>\n",
       "      <th>timestep-220</th>\n",
       "      <th>timestep-221</th>\n",
       "      <th>timestep-222</th>\n",
       "      <th>timestep-223</th>\n",
       "      <th>timestep-224</th>\n",
       "      <th>timestep-225</th>\n",
       "      <th>timestep-226</th>\n",
       "      <th>timestep-227</th>\n",
       "    </tr>\n",
       "  </thead>\n",
       "  <tbody>\n",
       "    <tr>\n",
       "      <th>0</th>\n",
       "      <td>Mansur Abdul-Malik</td>\n",
       "      <td>UFC</td>\n",
       "      <td>2025-02-23</td>\n",
       "      <td>Nick Klein</td>\n",
       "      <td>2025-02-13 14:17:00 - price: -549</td>\n",
       "      <td>2025-02-13 20:33:00 - price: -549</td>\n",
       "      <td>2025-02-14 18:09:00 - price: -562</td>\n",
       "      <td>2025-02-14 18:13:00 - price: -532</td>\n",
       "      <td>2025-02-14 19:09:00 - price: -569</td>\n",
       "      <td>2025-02-14 19:11:00 - price: -569</td>\n",
       "      <td>...</td>\n",
       "      <td>NaN</td>\n",
       "      <td>NaN</td>\n",
       "      <td>NaN</td>\n",
       "      <td>NaN</td>\n",
       "      <td>NaN</td>\n",
       "      <td>NaN</td>\n",
       "      <td>NaN</td>\n",
       "      <td>NaN</td>\n",
       "      <td>NaN</td>\n",
       "      <td>NaN</td>\n",
       "    </tr>\n",
       "    <tr>\n",
       "      <th>1</th>\n",
       "      <td>Daichi Abe</td>\n",
       "      <td>UFC Fight Night 132: Cowboy vs. Edwards</td>\n",
       "      <td>2018-06-23</td>\n",
       "      <td>Li Jingliang</td>\n",
       "      <td>2018-06-13 12:09:00 - price: +240</td>\n",
       "      <td>2018-06-13 12:21:00 - price: +325</td>\n",
       "      <td>2018-06-13 13:42:00 - price: +315</td>\n",
       "      <td>2018-06-13 15:24:00 - price: +323</td>\n",
       "      <td>2018-06-13 16:18:00 - price: +320</td>\n",
       "      <td>2018-06-13 17:06:00 - price: +313</td>\n",
       "      <td>...</td>\n",
       "      <td>NaN</td>\n",
       "      <td>NaN</td>\n",
       "      <td>NaN</td>\n",
       "      <td>NaN</td>\n",
       "      <td>NaN</td>\n",
       "      <td>NaN</td>\n",
       "      <td>NaN</td>\n",
       "      <td>NaN</td>\n",
       "      <td>NaN</td>\n",
       "      <td>NaN</td>\n",
       "    </tr>\n",
       "    <tr>\n",
       "      <th>2</th>\n",
       "      <td>John Adajar</td>\n",
       "      <td>Road to UFC 4</td>\n",
       "      <td>2022-06-10</td>\n",
       "      <td>Han Seul Kim</td>\n",
       "      <td>2022-06-07 10:00:00 - price: -120</td>\n",
       "      <td>2022-06-07 10:18:00 - price: +105</td>\n",
       "      <td>2022-06-07 22:02:00 - price: -105</td>\n",
       "      <td>2022-06-08 13:08:00 - price: +100</td>\n",
       "      <td>2022-06-08 13:26:00 - price: +115</td>\n",
       "      <td>2022-06-08 13:50:00 - price: +118</td>\n",
       "      <td>...</td>\n",
       "      <td>NaN</td>\n",
       "      <td>NaN</td>\n",
       "      <td>NaN</td>\n",
       "      <td>NaN</td>\n",
       "      <td>NaN</td>\n",
       "      <td>NaN</td>\n",
       "      <td>NaN</td>\n",
       "      <td>NaN</td>\n",
       "      <td>NaN</td>\n",
       "      <td>NaN</td>\n",
       "    </tr>\n",
       "    <tr>\n",
       "      <th>3</th>\n",
       "      <td>Shamil Abdurakhimov</td>\n",
       "      <td>UFC 283</td>\n",
       "      <td>2023-01-21</td>\n",
       "      <td>Jailton Almeida</td>\n",
       "      <td>2023-01-06 10:00:00 - price: +600</td>\n",
       "      <td>2023-01-06 13:20:00 - price: +583</td>\n",
       "      <td>2023-01-07 19:48:00 - price: +588</td>\n",
       "      <td>2023-01-08 15:40:00 - price: +585</td>\n",
       "      <td>2023-01-08 23:16:00 - price: +593</td>\n",
       "      <td>2023-01-08 23:54:00 - price: +596</td>\n",
       "      <td>...</td>\n",
       "      <td>NaN</td>\n",
       "      <td>NaN</td>\n",
       "      <td>NaN</td>\n",
       "      <td>NaN</td>\n",
       "      <td>NaN</td>\n",
       "      <td>NaN</td>\n",
       "      <td>NaN</td>\n",
       "      <td>NaN</td>\n",
       "      <td>NaN</td>\n",
       "      <td>NaN</td>\n",
       "    </tr>\n",
       "    <tr>\n",
       "      <th>4</th>\n",
       "      <td>Hamdy Abdelwahab</td>\n",
       "      <td>UFC</td>\n",
       "      <td>2025-02-01</td>\n",
       "      <td>Jamal Pogues</td>\n",
       "      <td>2025-01-14 07:53:00 - price: +105</td>\n",
       "      <td>2025-01-14 12:39:00 - price: +113</td>\n",
       "      <td>2025-01-15 08:41:00 - price: +110</td>\n",
       "      <td>2025-01-16 12:13:00 - price: +111</td>\n",
       "      <td>2025-01-16 14:27:00 - price: +111</td>\n",
       "      <td>2025-01-16 15:57:00 - price: +112</td>\n",
       "      <td>...</td>\n",
       "      <td>NaN</td>\n",
       "      <td>NaN</td>\n",
       "      <td>NaN</td>\n",
       "      <td>NaN</td>\n",
       "      <td>NaN</td>\n",
       "      <td>NaN</td>\n",
       "      <td>NaN</td>\n",
       "      <td>NaN</td>\n",
       "      <td>NaN</td>\n",
       "      <td>NaN</td>\n",
       "    </tr>\n",
       "  </tbody>\n",
       "</table>\n",
       "<p>5 rows × 231 columns</p>\n",
       "</div>"
      ],
      "text/plain": [
       "0              fighter                                    event        date  \\\n",
       "0   Mansur Abdul-Malik                                      UFC  2025-02-23   \n",
       "1           Daichi Abe  UFC Fight Night 132: Cowboy vs. Edwards  2018-06-23   \n",
       "2          John Adajar                            Road to UFC 4  2022-06-10   \n",
       "3  Shamil Abdurakhimov                                  UFC 283  2023-01-21   \n",
       "4     Hamdy Abdelwahab                                      UFC  2025-02-01   \n",
       "\n",
       "0         opponent                         timestep-1  \\\n",
       "0       Nick Klein  2025-02-13 14:17:00 - price: -549   \n",
       "1     Li Jingliang  2018-06-13 12:09:00 - price: +240   \n",
       "2     Han Seul Kim  2022-06-07 10:00:00 - price: -120   \n",
       "3  Jailton Almeida  2023-01-06 10:00:00 - price: +600   \n",
       "4     Jamal Pogues  2025-01-14 07:53:00 - price: +105   \n",
       "\n",
       "0                         timestep-2                         timestep-3  \\\n",
       "0  2025-02-13 20:33:00 - price: -549  2025-02-14 18:09:00 - price: -562   \n",
       "1  2018-06-13 12:21:00 - price: +325  2018-06-13 13:42:00 - price: +315   \n",
       "2  2022-06-07 10:18:00 - price: +105  2022-06-07 22:02:00 - price: -105   \n",
       "3  2023-01-06 13:20:00 - price: +583  2023-01-07 19:48:00 - price: +588   \n",
       "4  2025-01-14 12:39:00 - price: +113  2025-01-15 08:41:00 - price: +110   \n",
       "\n",
       "0                         timestep-4                         timestep-5  \\\n",
       "0  2025-02-14 18:13:00 - price: -532  2025-02-14 19:09:00 - price: -569   \n",
       "1  2018-06-13 15:24:00 - price: +323  2018-06-13 16:18:00 - price: +320   \n",
       "2  2022-06-08 13:08:00 - price: +100  2022-06-08 13:26:00 - price: +115   \n",
       "3  2023-01-08 15:40:00 - price: +585  2023-01-08 23:16:00 - price: +593   \n",
       "4  2025-01-16 12:13:00 - price: +111  2025-01-16 14:27:00 - price: +111   \n",
       "\n",
       "0                         timestep-6  ... timestep-218 timestep-219  \\\n",
       "0  2025-02-14 19:11:00 - price: -569  ...          NaN          NaN   \n",
       "1  2018-06-13 17:06:00 - price: +313  ...          NaN          NaN   \n",
       "2  2022-06-08 13:50:00 - price: +118  ...          NaN          NaN   \n",
       "3  2023-01-08 23:54:00 - price: +596  ...          NaN          NaN   \n",
       "4  2025-01-16 15:57:00 - price: +112  ...          NaN          NaN   \n",
       "\n",
       "0 timestep-220 timestep-221 timestep-222 timestep-223 timestep-224  \\\n",
       "0          NaN          NaN          NaN          NaN          NaN   \n",
       "1          NaN          NaN          NaN          NaN          NaN   \n",
       "2          NaN          NaN          NaN          NaN          NaN   \n",
       "3          NaN          NaN          NaN          NaN          NaN   \n",
       "4          NaN          NaN          NaN          NaN          NaN   \n",
       "\n",
       "0 timestep-225 timestep-226 timestep-227  \n",
       "0          NaN          NaN          NaN  \n",
       "1          NaN          NaN          NaN  \n",
       "2          NaN          NaN          NaN  \n",
       "3          NaN          NaN          NaN  \n",
       "4          NaN          NaN          NaN  \n",
       "\n",
       "[5 rows x 231 columns]"
      ]
     },
     "execution_count": 24,
     "metadata": {},
     "output_type": "execute_result"
    }
   ],
   "source": [
    "dftp.columns = dftp.iloc[0]\n",
    "dftp = dftp[1:]\n",
    "dftp.reset_index(drop=True, inplace=True)\n",
    "dftp.head()"
   ]
  },
  {
   "cell_type": "code",
   "execution_count": 25,
   "metadata": {},
   "outputs": [
    {
     "data": {
      "text/html": [
       "<div>\n",
       "<style scoped>\n",
       "    .dataframe tbody tr th:only-of-type {\n",
       "        vertical-align: middle;\n",
       "    }\n",
       "\n",
       "    .dataframe tbody tr th {\n",
       "        vertical-align: top;\n",
       "    }\n",
       "\n",
       "    .dataframe thead th {\n",
       "        text-align: right;\n",
       "    }\n",
       "</style>\n",
       "<table border=\"1\" class=\"dataframe\">\n",
       "  <thead>\n",
       "    <tr style=\"text-align: right;\">\n",
       "      <th></th>\n",
       "      <th>date</th>\n",
       "      <th>event</th>\n",
       "      <th>fighter1</th>\n",
       "      <th>fighter1 - open</th>\n",
       "      <th>fighter1 - 48h</th>\n",
       "      <th>fighter1 - close</th>\n",
       "      <th>fighter2</th>\n",
       "      <th>fighter2 - open</th>\n",
       "      <th>fighter2 - 48h</th>\n",
       "      <th>fighter2 - close</th>\n",
       "      <th>winner</th>\n",
       "    </tr>\n",
       "  </thead>\n",
       "  <tbody>\n",
       "    <tr>\n",
       "      <th>0</th>\n",
       "      <td>2025-03-09</td>\n",
       "      <td>UFC</td>\n",
       "      <td>Curtis Blaydes</td>\n",
       "      <td>2025-01-18 02:57:00 - price: -275</td>\n",
       "      <td>2025-03-06 15:01:00 - price: -339</td>\n",
       "      <td>2025-03-08 15:01:00 - price: -335</td>\n",
       "      <td>Rizvan Kuniev</td>\n",
       "      <td>2025-01-18 02:57:00 - price: +210</td>\n",
       "      <td>2025-03-06 15:01:00 - price: +259</td>\n",
       "      <td>2025-03-08 15:01:00 - price: +261</td>\n",
       "      <td>NaN</td>\n",
       "    </tr>\n",
       "    <tr>\n",
       "      <th>1</th>\n",
       "      <td>2025-03-09</td>\n",
       "      <td>UFC</td>\n",
       "      <td>Brunno Ferreira</td>\n",
       "      <td>2025-02-24 18:07:00 - price: +105</td>\n",
       "      <td>2025-03-06 21:01:00 - price: +116</td>\n",
       "      <td>2025-03-08 21:01:00 - price: +112</td>\n",
       "      <td>Armen Petrosyan</td>\n",
       "      <td>2025-02-24 18:07:00 - price: -125</td>\n",
       "      <td>2025-03-06 21:01:00 - price: -141</td>\n",
       "      <td>2025-03-08 21:01:00 - price: -134</td>\n",
       "      <td>Brunno Ferreira</td>\n",
       "    </tr>\n",
       "    <tr>\n",
       "      <th>2</th>\n",
       "      <td>2025-03-09</td>\n",
       "      <td>UFC</td>\n",
       "      <td>Rafael Fiziev</td>\n",
       "      <td>2025-02-27 05:11:00 - price: -139</td>\n",
       "      <td>2025-03-07 01:01:00 - price: -163</td>\n",
       "      <td>2025-03-08 23:01:00 - price: -159</td>\n",
       "      <td>Justin Gaethje</td>\n",
       "      <td>2025-02-27 05:11:00 - price: +112</td>\n",
       "      <td>2025-03-07 01:01:00 - price: +133</td>\n",
       "      <td>2025-03-08 23:01:00 - price: +131</td>\n",
       "      <td>Justin Gaethje</td>\n",
       "    </tr>\n",
       "    <tr>\n",
       "      <th>3</th>\n",
       "      <td>2025-03-09</td>\n",
       "      <td>UFC</td>\n",
       "      <td>Francis Marshall</td>\n",
       "      <td>2025-02-24 18:15:00 - price: +290</td>\n",
       "      <td>2025-03-06 17:01:00 - price: +247</td>\n",
       "      <td>2025-03-08 19:01:00 - price: +197</td>\n",
       "      <td>Mairon Santos</td>\n",
       "      <td>2025-02-24 18:15:00 - price: -370</td>\n",
       "      <td>2025-03-06 17:01:00 - price: -322</td>\n",
       "      <td>2025-03-08 19:01:00 - price: -245</td>\n",
       "      <td>Mairon Santos</td>\n",
       "    </tr>\n",
       "    <tr>\n",
       "      <th>4</th>\n",
       "      <td>2025-03-09</td>\n",
       "      <td>UFC</td>\n",
       "      <td>John Castaneda</td>\n",
       "      <td>2025-03-03 09:01:00 - price: -112</td>\n",
       "      <td>2025-03-06 15:01:00 - price: -106</td>\n",
       "      <td>2025-03-08 15:01:00 - price: -108</td>\n",
       "      <td>Chris Gutierrez</td>\n",
       "      <td>2025-03-03 09:01:00 - price: -112</td>\n",
       "      <td>2025-03-06 15:01:00 - price: -116</td>\n",
       "      <td>2025-03-08 15:01:00 - price: -112</td>\n",
       "      <td>NaN</td>\n",
       "    </tr>\n",
       "  </tbody>\n",
       "</table>\n",
       "</div>"
      ],
      "text/plain": [
       "         date event          fighter1                    fighter1 - open  \\\n",
       "0  2025-03-09   UFC    Curtis Blaydes  2025-01-18 02:57:00 - price: -275   \n",
       "1  2025-03-09   UFC   Brunno Ferreira  2025-02-24 18:07:00 - price: +105   \n",
       "2  2025-03-09   UFC     Rafael Fiziev  2025-02-27 05:11:00 - price: -139   \n",
       "3  2025-03-09   UFC  Francis Marshall  2025-02-24 18:15:00 - price: +290   \n",
       "4  2025-03-09   UFC    John Castaneda  2025-03-03 09:01:00 - price: -112   \n",
       "\n",
       "                      fighter1 - 48h                   fighter1 - close  \\\n",
       "0  2025-03-06 15:01:00 - price: -339  2025-03-08 15:01:00 - price: -335   \n",
       "1  2025-03-06 21:01:00 - price: +116  2025-03-08 21:01:00 - price: +112   \n",
       "2  2025-03-07 01:01:00 - price: -163  2025-03-08 23:01:00 - price: -159   \n",
       "3  2025-03-06 17:01:00 - price: +247  2025-03-08 19:01:00 - price: +197   \n",
       "4  2025-03-06 15:01:00 - price: -106  2025-03-08 15:01:00 - price: -108   \n",
       "\n",
       "          fighter2                    fighter2 - open  \\\n",
       "0    Rizvan Kuniev  2025-01-18 02:57:00 - price: +210   \n",
       "1  Armen Petrosyan  2025-02-24 18:07:00 - price: -125   \n",
       "2   Justin Gaethje  2025-02-27 05:11:00 - price: +112   \n",
       "3    Mairon Santos  2025-02-24 18:15:00 - price: -370   \n",
       "4  Chris Gutierrez  2025-03-03 09:01:00 - price: -112   \n",
       "\n",
       "                      fighter2 - 48h                   fighter2 - close  \\\n",
       "0  2025-03-06 15:01:00 - price: +259  2025-03-08 15:01:00 - price: +261   \n",
       "1  2025-03-06 21:01:00 - price: -141  2025-03-08 21:01:00 - price: -134   \n",
       "2  2025-03-07 01:01:00 - price: +133  2025-03-08 23:01:00 - price: +131   \n",
       "3  2025-03-06 17:01:00 - price: -322  2025-03-08 19:01:00 - price: -245   \n",
       "4  2025-03-06 15:01:00 - price: -116  2025-03-08 15:01:00 - price: -112   \n",
       "\n",
       "            winner  \n",
       "0              NaN  \n",
       "1  Brunno Ferreira  \n",
       "2   Justin Gaethje  \n",
       "3    Mairon Santos  \n",
       "4              NaN  "
      ]
     },
     "execution_count": 25,
     "metadata": {},
     "output_type": "execute_result"
    }
   ],
   "source": [
    "df = pd.read_csv('simData48Clean.csv')\n",
    "df.head()"
   ]
  },
  {
   "cell_type": "code",
   "execution_count": 26,
   "metadata": {},
   "outputs": [
    {
     "name": "stdout",
     "output_type": "stream",
     "text": [
      "285\n",
      "0\n"
     ]
    }
   ],
   "source": [
    "print(df.isna().any(axis=1).sum())\n",
    "df = df.dropna().reset_index(drop=True)\n",
    "print(df.isna().any(axis=1).sum())"
   ]
  },
  {
   "cell_type": "code",
   "execution_count": 27,
   "metadata": {},
   "outputs": [],
   "source": [
    "def calculate_profit(wager, price):\n",
    "    if price > 0:\n",
    "        profit = (price/100)*wager\n",
    "    else:\n",
    "        profit = (100/abs(price))*wager\n",
    "    return profit"
   ]
  },
  {
   "cell_type": "code",
   "execution_count": null,
   "metadata": {},
   "outputs": [],
   "source": [
    "import random\n",
    "\n",
    "def perform_sim(wager, model, size):\n",
    "    bankroll = wager * len(df)\n",
    "\n",
    "    profit_dict = {\n",
    "    'favorite_at_open': bankroll,\n",
    "    'favorite_at_close': bankroll,\n",
    "    'favorite_at_48h': bankroll,\n",
    "\n",
    "    'favorite_ML': bankroll,\n",
    "\n",
    "    'underdog_at_open': bankroll,\n",
    "    'underdog_at_close': bankroll,\n",
    "    'underdog_at_48h': bankroll,\n",
    "\n",
    "    'underdog_ML': bankroll,\n",
    "\n",
    "    'favorite_random': bankroll,\n",
    "    'underdog_random': bankroll,\n",
    "    \n",
    "    'true_random': bankroll\n",
    "    }   \n",
    "\n",
    "    for index, row in df.iterrows():\n",
    "        print(index)\n",
    "        fighter1 = row['fighter1']\n",
    "        fighter2 = row['fighter2']\n",
    "        winner = row['winner']\n",
    "\n",
    "        model = load_model(model)\n",
    "\n",
    "\n",
    "        #get open line\n",
    "        open1 = int(row['fighter1 - open'].split('price: ')[1])\n",
    "        open2 = int(row['fighter2 - open'].split('price: ')[1])\n",
    "\n",
    "        close1 = int(row['fighter1 - close'].split('price: ')[1])\n",
    "        close2 = int(row['fighter2 - close'].split('price: ')[1])\n",
    "\n",
    "        forty81 = int(row['fighter1 - 48h'].split('price: ')[1])\n",
    "        forty82 = int(row['fighter2 - 48h'].split('price: ')[1])\n",
    "\n",
    "        lines = {\n",
    "            fighter1: [open1, forty81, close1],\n",
    "            fighter2: [open2, forty82, close2]\n",
    "        }\n",
    "\n",
    "        fighter1_avg = sum(lines[fighter1])/len(lines[fighter1])\n",
    "        fighter2_avg = sum(lines[fighter2])/len(lines[fighter2])\n",
    "\n",
    "        #get indice for fav and dog\n",
    "        if fighter1_avg < fighter2_avg:\n",
    "            favorite_mean = 1\n",
    "            dog_mean = 2\n",
    "        else:\n",
    "            favorite_mean = 2\n",
    "            dog_mean = 1\n",
    "            \n",
    "        #find the sequence\n",
    "        fav_frame = dftp[(dftp['fighter'] == row[f'fighter{favorite_mean}']) \n",
    "                    & (dftp['opponent'] == row[f'fighter{dog_mean}'])\n",
    "                    & (dftp['date'] == row['date'])]\n",
    "        \n",
    "        dog_frame = dftp[(dftp['fighter'] == row[f'fighter{dog_mean}']) \n",
    "                    & (dftp['opponent'] == row[f'fighter{favorite_mean}'])\n",
    "                    & (dftp['date'] == row['date'])]\n",
    "        \n",
    "        #extract sequences\n",
    "        fav_sequence = extract_sequence(fav_frame)\n",
    "        dog_sequence = extract_sequence(dog_frame)\n",
    "\n",
    "        #generate input data\n",
    "        fav_seq = fixed_length(fav_sequence, size, 'linear')\n",
    "        dog_seq = fixed_length(dog_sequence, size, 'linear')\n",
    "\n",
    "        fav_action = model.predict(np.array(fav_seq, dtype=np.float32).reshape(1, 20, 1))[0]\n",
    "        dog_action = model.predict(np.array(dog_seq, dtype=np.float32).reshape(1, 20, 1))[0]\n",
    "\n",
    "        #Test changed to decimal\n",
    "        if(fav_action >= 0.5):\n",
    "            fav_ML = lines[row[f'fighter{favorite_mean}']][2]\n",
    "        else:\n",
    "            fav_ML = lines[row[f'fighter{favorite_mean}']][1]\n",
    "\n",
    "        if(dog_action >= 0.5):\n",
    "            dog_ML = lines[row[f'fighter{dog_mean}']][2]\n",
    "        else:\n",
    "            dog_ML = lines[row[f'fighter{dog_mean}']][1]\n",
    "\n",
    "        line_list = lines[winner]\n",
    "\n",
    "        if fav_ML in line_list:\n",
    "            profit_dict['favorite_ML']+=calculate_profit(wager, fav_ML)\n",
    "        else:\n",
    "            profit_dict['favorite_ML']-=wager\n",
    "        \n",
    "        if dog_ML in line_list:\n",
    "            profit_dict['underdog_ML']+=calculate_profit(wager, dog_ML)\n",
    "        else:\n",
    "            profit_dict['underdog_ML']-=wager\n",
    "            \n",
    "\n",
    "        for_random = [open1, open2, forty81, close1, forty82, close2]\n",
    "\n",
    "        neg_lines = []\n",
    "        pos_lines = []\n",
    "        for line in for_random:\n",
    "            if(line > 0):\n",
    "                pos_lines.append(line)\n",
    "            else:\n",
    "                neg_lines.append(line)\n",
    "\n",
    "        if(len(pos_lines) >0):\n",
    "            #dog random blindly takes a line\n",
    "            random_dog = random.choice(pos_lines)\n",
    "        else:\n",
    "            #no pos line default to closest to pos\n",
    "            random_dog = max(for_random)\n",
    "\n",
    "        if(len(neg_lines)> 0):\n",
    "            #fav random blindly takes a line\n",
    "            random_fav = random.choice(neg_lines)\n",
    "        else:\n",
    "            random_fav = min(for_random)\n",
    "\n",
    "\n",
    "        #if random fav picked a winning line\n",
    "        if random_fav in line_list:\n",
    "            profit_dict['favorite_random']+=calculate_profit(wager, random_fav)\n",
    "        else:\n",
    "            profit_dict['favorite_random']-=wager\n",
    "\n",
    "        #if random dog picked a winning line\n",
    "        if random_dog in line_list:\n",
    "            profit_dict['underdog_random']+=calculate_profit(wager, random_dog)\n",
    "        else:\n",
    "            profit_dict['underdog_random']-=wager\n",
    "\n",
    "\n",
    "\n",
    "        #true random\n",
    "        random_fighter = row[f'fighter{random.randint(1,2)}']\n",
    "        random_line = random.randint(0,2)\n",
    "        true_random = lines[random_fighter][random_line]\n",
    "        \n",
    "\n",
    "        #if true random picked a winning line\n",
    "        if true_random in line_list:\n",
    "            profit_dict['true_random']+=calculate_profit(wager, true_random)\n",
    "        else:\n",
    "            profit_dict['true_random']-=wager\n",
    "\n",
    "        #open fav line wins\n",
    "        if(line_list[0] < 0):\n",
    "            #favorite open bettors win\n",
    "            profit_dict['favorite_at_open']+=calculate_profit(wager, line_list[0])\n",
    "            #dog open bettor loses\n",
    "            profit_dict['underdog_at_open']-=wager\n",
    "        #open fav line loses\n",
    "        else:\n",
    "            profit_dict['favorite_at_open']-=wager\n",
    "            profit_dict['underdog_at_open']+=calculate_profit(wager, line_list[0])\n",
    "\n",
    "        #48h fav wins\n",
    "        if(line_list[1] < 0):\n",
    "            #favorite 48h bettors win\n",
    "            profit_dict['favorite_at_48h']+=calculate_profit(wager, line_list[1])\n",
    "            #dog 48h bettor loses\n",
    "            profit_dict['underdog_at_48h']-=wager\n",
    "        #48h fav line loses\n",
    "        else:\n",
    "            profit_dict['favorite_at_48h']-=wager\n",
    "            profit_dict['underdog_at_48h']+=calculate_profit(wager, line_list[1])\n",
    "\n",
    "\n",
    "        if(line_list[2] < 0):\n",
    "            #favorite open bettors win\n",
    "            profit_dict['favorite_at_close']+=calculate_profit(wager, line_list[2])\n",
    "            #dog open bettor loses\n",
    "            profit_dict['underdog_at_close']-=wager\n",
    "        #open fav line loses\n",
    "        else:\n",
    "            profit_dict['favorite_at_close']-=wager\n",
    "            profit_dict['underdog_at_close']+=calculate_profit(wager, line_list[2])\n",
    "\n",
    "\n",
    "    for k in profit_dict:\n",
    "        profit_dict[k] = (profit_dict[k] - bankroll) / bankroll\n",
    "\n",
    "    return(profit_dict)\n",
    "\n"
   ]
  },
  {
   "cell_type": "code",
   "execution_count": null,
   "metadata": {},
   "outputs": [],
   "source": [
    "simpleRNN = 'simpleRNN.keras'"
   ]
  },
  {
   "cell_type": "code",
   "execution_count": 30,
   "metadata": {},
   "outputs": [
    {
     "name": "stdout",
     "output_type": "stream",
     "text": [
      "0\n",
      "1/1 [==============================] - ETA: 0s"
     ]
    },
    {
     "name": "stderr",
     "output_type": "stream",
     "text": [
      "c:\\Users\\maxbr\\OneDrive\\Desktop\\CLVSim\\CLVSim\\CLV Sim\\Sim\\features.py:65: FutureWarning: DataFrame.applymap has been deprecated. Use DataFrame.map instead.\n",
      "  frame = frame.applymap(lambda x: x.split(' - price: ')[1].strip()\n",
      "c:\\Users\\maxbr\\OneDrive\\Desktop\\CLVSim\\CLVSim\\CLV Sim\\Sim\\features.py:65: FutureWarning: DataFrame.applymap has been deprecated. Use DataFrame.map instead.\n",
      "  frame = frame.applymap(lambda x: x.split(' - price: ')[1].strip()\n"
     ]
    },
    {
     "name": "stdout",
     "output_type": "stream",
     "text": [
      "1/1 [==============================] - 0s 164ms/step\n",
      "1/1 [==============================] - 0s 31ms/step\n",
      "1\n",
      "1/1 [==============================] - 0s 86ms/step\n"
     ]
    },
    {
     "name": "stderr",
     "output_type": "stream",
     "text": [
      "c:\\Users\\maxbr\\OneDrive\\Desktop\\CLVSim\\CLVSim\\CLV Sim\\Sim\\features.py:65: FutureWarning: DataFrame.applymap has been deprecated. Use DataFrame.map instead.\n",
      "  frame = frame.applymap(lambda x: x.split(' - price: ')[1].strip()\n",
      "c:\\Users\\maxbr\\OneDrive\\Desktop\\CLVSim\\CLVSim\\CLV Sim\\Sim\\features.py:65: FutureWarning: DataFrame.applymap has been deprecated. Use DataFrame.map instead.\n",
      "  frame = frame.applymap(lambda x: x.split(' - price: ')[1].strip()\n"
     ]
    },
    {
     "name": "stdout",
     "output_type": "stream",
     "text": [
      "1/1 [==============================] - 0s 31ms/step\n",
      "2\n",
      "1/1 [==============================] - 0s 85ms/step\n",
      "1/1 [==============================] - 0s 16ms/step\n"
     ]
    },
    {
     "name": "stderr",
     "output_type": "stream",
     "text": [
      "c:\\Users\\maxbr\\OneDrive\\Desktop\\CLVSim\\CLVSim\\CLV Sim\\Sim\\features.py:65: FutureWarning: DataFrame.applymap has been deprecated. Use DataFrame.map instead.\n",
      "  frame = frame.applymap(lambda x: x.split(' - price: ')[1].strip()\n",
      "c:\\Users\\maxbr\\OneDrive\\Desktop\\CLVSim\\CLVSim\\CLV Sim\\Sim\\features.py:65: FutureWarning: DataFrame.applymap has been deprecated. Use DataFrame.map instead.\n",
      "  frame = frame.applymap(lambda x: x.split(' - price: ')[1].strip()\n"
     ]
    },
    {
     "name": "stdout",
     "output_type": "stream",
     "text": [
      "3\n",
      "1/1 [==============================] - 0s 101ms/step\n"
     ]
    },
    {
     "name": "stderr",
     "output_type": "stream",
     "text": [
      "c:\\Users\\maxbr\\OneDrive\\Desktop\\CLVSim\\CLVSim\\CLV Sim\\Sim\\features.py:65: FutureWarning: DataFrame.applymap has been deprecated. Use DataFrame.map instead.\n",
      "  frame = frame.applymap(lambda x: x.split(' - price: ')[1].strip()\n",
      "c:\\Users\\maxbr\\OneDrive\\Desktop\\CLVSim\\CLVSim\\CLV Sim\\Sim\\features.py:65: FutureWarning: DataFrame.applymap has been deprecated. Use DataFrame.map instead.\n",
      "  frame = frame.applymap(lambda x: x.split(' - price: ')[1].strip()\n"
     ]
    },
    {
     "name": "stdout",
     "output_type": "stream",
     "text": [
      "1/1 [==============================] - 0s 28ms/step\n",
      "4\n",
      "1/1 [==============================] - 0s 99ms/step\n",
      "1/1 [==============================] - 0s 19ms/step\n"
     ]
    },
    {
     "name": "stderr",
     "output_type": "stream",
     "text": [
      "c:\\Users\\maxbr\\OneDrive\\Desktop\\CLVSim\\CLVSim\\CLV Sim\\Sim\\features.py:65: FutureWarning: DataFrame.applymap has been deprecated. Use DataFrame.map instead.\n",
      "  frame = frame.applymap(lambda x: x.split(' - price: ')[1].strip()\n",
      "c:\\Users\\maxbr\\OneDrive\\Desktop\\CLVSim\\CLVSim\\CLV Sim\\Sim\\features.py:65: FutureWarning: DataFrame.applymap has been deprecated. Use DataFrame.map instead.\n",
      "  frame = frame.applymap(lambda x: x.split(' - price: ')[1].strip()\n"
     ]
    },
    {
     "name": "stdout",
     "output_type": "stream",
     "text": [
      "5\n",
      "1/1 [==============================] - 0s 83ms/step\n",
      "1/1 [==============================] - ETA: 0s"
     ]
    },
    {
     "name": "stderr",
     "output_type": "stream",
     "text": [
      "c:\\Users\\maxbr\\OneDrive\\Desktop\\CLVSim\\CLVSim\\CLV Sim\\Sim\\features.py:65: FutureWarning: DataFrame.applymap has been deprecated. Use DataFrame.map instead.\n",
      "  frame = frame.applymap(lambda x: x.split(' - price: ')[1].strip()\n",
      "c:\\Users\\maxbr\\OneDrive\\Desktop\\CLVSim\\CLVSim\\CLV Sim\\Sim\\features.py:65: FutureWarning: DataFrame.applymap has been deprecated. Use DataFrame.map instead.\n",
      "  frame = frame.applymap(lambda x: x.split(' - price: ')[1].strip()\n"
     ]
    },
    {
     "name": "stdout",
     "output_type": "stream",
     "text": [
      "1/1 [==============================] - 0s 32ms/step\n",
      "6\n",
      "1/1 [==============================] - 0s 98ms/step\n",
      "1/1 [==============================] - 0s 20ms/step\n"
     ]
    },
    {
     "name": "stderr",
     "output_type": "stream",
     "text": [
      "c:\\Users\\maxbr\\OneDrive\\Desktop\\CLVSim\\CLVSim\\CLV Sim\\Sim\\features.py:65: FutureWarning: DataFrame.applymap has been deprecated. Use DataFrame.map instead.\n",
      "  frame = frame.applymap(lambda x: x.split(' - price: ')[1].strip()\n",
      "c:\\Users\\maxbr\\OneDrive\\Desktop\\CLVSim\\CLVSim\\CLV Sim\\Sim\\features.py:65: FutureWarning: DataFrame.applymap has been deprecated. Use DataFrame.map instead.\n",
      "  frame = frame.applymap(lambda x: x.split(' - price: ')[1].strip()\n"
     ]
    },
    {
     "name": "stdout",
     "output_type": "stream",
     "text": [
      "7\n",
      "1/1 [==============================] - 0s 82ms/step\n"
     ]
    },
    {
     "name": "stderr",
     "output_type": "stream",
     "text": [
      "c:\\Users\\maxbr\\OneDrive\\Desktop\\CLVSim\\CLVSim\\CLV Sim\\Sim\\features.py:65: FutureWarning: DataFrame.applymap has been deprecated. Use DataFrame.map instead.\n",
      "  frame = frame.applymap(lambda x: x.split(' - price: ')[1].strip()\n",
      "c:\\Users\\maxbr\\OneDrive\\Desktop\\CLVSim\\CLVSim\\CLV Sim\\Sim\\features.py:65: FutureWarning: DataFrame.applymap has been deprecated. Use DataFrame.map instead.\n",
      "  frame = frame.applymap(lambda x: x.split(' - price: ')[1].strip()\n"
     ]
    },
    {
     "name": "stdout",
     "output_type": "stream",
     "text": [
      "1/1 [==============================] - 0s 32ms/step\n",
      "8\n",
      "1/1 [==============================] - 0s 81ms/step\n",
      "1/1 [==============================] - 0s 17ms/step\n"
     ]
    },
    {
     "name": "stderr",
     "output_type": "stream",
     "text": [
      "c:\\Users\\maxbr\\OneDrive\\Desktop\\CLVSim\\CLVSim\\CLV Sim\\Sim\\features.py:65: FutureWarning: DataFrame.applymap has been deprecated. Use DataFrame.map instead.\n",
      "  frame = frame.applymap(lambda x: x.split(' - price: ')[1].strip()\n",
      "c:\\Users\\maxbr\\OneDrive\\Desktop\\CLVSim\\CLVSim\\CLV Sim\\Sim\\features.py:65: FutureWarning: DataFrame.applymap has been deprecated. Use DataFrame.map instead.\n",
      "  frame = frame.applymap(lambda x: x.split(' - price: ')[1].strip()\n"
     ]
    },
    {
     "name": "stdout",
     "output_type": "stream",
     "text": [
      "9\n",
      "1/1 [==============================] - 0s 90ms/step\n",
      "1/1 [==============================] - ETA: 0s"
     ]
    },
    {
     "name": "stderr",
     "output_type": "stream",
     "text": [
      "c:\\Users\\maxbr\\OneDrive\\Desktop\\CLVSim\\CLVSim\\CLV Sim\\Sim\\features.py:65: FutureWarning: DataFrame.applymap has been deprecated. Use DataFrame.map instead.\n",
      "  frame = frame.applymap(lambda x: x.split(' - price: ')[1].strip()\n",
      "c:\\Users\\maxbr\\OneDrive\\Desktop\\CLVSim\\CLVSim\\CLV Sim\\Sim\\features.py:65: FutureWarning: DataFrame.applymap has been deprecated. Use DataFrame.map instead.\n",
      "  frame = frame.applymap(lambda x: x.split(' - price: ')[1].strip()\n"
     ]
    },
    {
     "name": "stdout",
     "output_type": "stream",
     "text": [
      "1/1 [==============================] - 0s 33ms/step\n",
      "10\n",
      "1/1 [==============================] - 0s 81ms/step\n",
      "1/1 [==============================] - 0s 26ms/step\n"
     ]
    },
    {
     "name": "stderr",
     "output_type": "stream",
     "text": [
      "c:\\Users\\maxbr\\OneDrive\\Desktop\\CLVSim\\CLVSim\\CLV Sim\\Sim\\features.py:65: FutureWarning: DataFrame.applymap has been deprecated. Use DataFrame.map instead.\n",
      "  frame = frame.applymap(lambda x: x.split(' - price: ')[1].strip()\n",
      "c:\\Users\\maxbr\\OneDrive\\Desktop\\CLVSim\\CLVSim\\CLV Sim\\Sim\\features.py:65: FutureWarning: DataFrame.applymap has been deprecated. Use DataFrame.map instead.\n",
      "  frame = frame.applymap(lambda x: x.split(' - price: ')[1].strip()\n"
     ]
    },
    {
     "name": "stdout",
     "output_type": "stream",
     "text": [
      "11\n",
      "1/1 [==============================] - 0s 100ms/step\n",
      "1/1 [==============================] - ETA: 0s"
     ]
    },
    {
     "name": "stderr",
     "output_type": "stream",
     "text": [
      "c:\\Users\\maxbr\\OneDrive\\Desktop\\CLVSim\\CLVSim\\CLV Sim\\Sim\\features.py:65: FutureWarning: DataFrame.applymap has been deprecated. Use DataFrame.map instead.\n",
      "  frame = frame.applymap(lambda x: x.split(' - price: ')[1].strip()\n",
      "c:\\Users\\maxbr\\OneDrive\\Desktop\\CLVSim\\CLVSim\\CLV Sim\\Sim\\features.py:65: FutureWarning: DataFrame.applymap has been deprecated. Use DataFrame.map instead.\n",
      "  frame = frame.applymap(lambda x: x.split(' - price: ')[1].strip()\n"
     ]
    },
    {
     "name": "stdout",
     "output_type": "stream",
     "text": [
      "1/1 [==============================] - 0s 16ms/step\n",
      "12\n",
      "1/1 [==============================] - 0s 80ms/step\n",
      "1/1 [==============================] - ETA: 0s"
     ]
    },
    {
     "name": "stderr",
     "output_type": "stream",
     "text": [
      "c:\\Users\\maxbr\\OneDrive\\Desktop\\CLVSim\\CLVSim\\CLV Sim\\Sim\\features.py:65: FutureWarning: DataFrame.applymap has been deprecated. Use DataFrame.map instead.\n",
      "  frame = frame.applymap(lambda x: x.split(' - price: ')[1].strip()\n",
      "c:\\Users\\maxbr\\OneDrive\\Desktop\\CLVSim\\CLVSim\\CLV Sim\\Sim\\features.py:65: FutureWarning: DataFrame.applymap has been deprecated. Use DataFrame.map instead.\n",
      "  frame = frame.applymap(lambda x: x.split(' - price: ')[1].strip()\n"
     ]
    },
    {
     "name": "stdout",
     "output_type": "stream",
     "text": [
      "1/1 [==============================] - 0s 16ms/step\n",
      "13\n",
      "1/1 [==============================] - 0s 93ms/step\n",
      "1/1 [==============================] - 0s 21ms/step\n"
     ]
    },
    {
     "name": "stderr",
     "output_type": "stream",
     "text": [
      "c:\\Users\\maxbr\\OneDrive\\Desktop\\CLVSim\\CLVSim\\CLV Sim\\Sim\\features.py:65: FutureWarning: DataFrame.applymap has been deprecated. Use DataFrame.map instead.\n",
      "  frame = frame.applymap(lambda x: x.split(' - price: ')[1].strip()\n",
      "c:\\Users\\maxbr\\OneDrive\\Desktop\\CLVSim\\CLVSim\\CLV Sim\\Sim\\features.py:65: FutureWarning: DataFrame.applymap has been deprecated. Use DataFrame.map instead.\n",
      "  frame = frame.applymap(lambda x: x.split(' - price: ')[1].strip()\n"
     ]
    },
    {
     "name": "stdout",
     "output_type": "stream",
     "text": [
      "14\n",
      "1/1 [==============================] - 0s 82ms/step\n",
      "1/1 [==============================] - 0s 16ms/step\n"
     ]
    },
    {
     "name": "stderr",
     "output_type": "stream",
     "text": [
      "c:\\Users\\maxbr\\OneDrive\\Desktop\\CLVSim\\CLVSim\\CLV Sim\\Sim\\features.py:65: FutureWarning: DataFrame.applymap has been deprecated. Use DataFrame.map instead.\n",
      "  frame = frame.applymap(lambda x: x.split(' - price: ')[1].strip()\n",
      "c:\\Users\\maxbr\\OneDrive\\Desktop\\CLVSim\\CLVSim\\CLV Sim\\Sim\\features.py:65: FutureWarning: DataFrame.applymap has been deprecated. Use DataFrame.map instead.\n",
      "  frame = frame.applymap(lambda x: x.split(' - price: ')[1].strip()\n"
     ]
    },
    {
     "name": "stdout",
     "output_type": "stream",
     "text": [
      "15\n",
      "1/1 [==============================] - 0s 86ms/step\n",
      "1/1 [==============================] - 0s 17ms/step\n"
     ]
    },
    {
     "name": "stderr",
     "output_type": "stream",
     "text": [
      "c:\\Users\\maxbr\\OneDrive\\Desktop\\CLVSim\\CLVSim\\CLV Sim\\Sim\\features.py:65: FutureWarning: DataFrame.applymap has been deprecated. Use DataFrame.map instead.\n",
      "  frame = frame.applymap(lambda x: x.split(' - price: ')[1].strip()\n",
      "c:\\Users\\maxbr\\OneDrive\\Desktop\\CLVSim\\CLVSim\\CLV Sim\\Sim\\features.py:65: FutureWarning: DataFrame.applymap has been deprecated. Use DataFrame.map instead.\n",
      "  frame = frame.applymap(lambda x: x.split(' - price: ')[1].strip()\n"
     ]
    },
    {
     "name": "stdout",
     "output_type": "stream",
     "text": [
      "16\n",
      "1/1 [==============================] - 0s 96ms/step\n",
      "1/1 [==============================] - ETA: 0s"
     ]
    },
    {
     "name": "stderr",
     "output_type": "stream",
     "text": [
      "c:\\Users\\maxbr\\OneDrive\\Desktop\\CLVSim\\CLVSim\\CLV Sim\\Sim\\features.py:65: FutureWarning: DataFrame.applymap has been deprecated. Use DataFrame.map instead.\n",
      "  frame = frame.applymap(lambda x: x.split(' - price: ')[1].strip()\n",
      "c:\\Users\\maxbr\\OneDrive\\Desktop\\CLVSim\\CLVSim\\CLV Sim\\Sim\\features.py:65: FutureWarning: DataFrame.applymap has been deprecated. Use DataFrame.map instead.\n",
      "  frame = frame.applymap(lambda x: x.split(' - price: ')[1].strip()\n"
     ]
    },
    {
     "name": "stdout",
     "output_type": "stream",
     "text": [
      "1/1 [==============================] - 0s 19ms/step\n",
      "17\n",
      "1/1 [==============================] - 0s 100ms/step\n",
      "1/1 [==============================] - ETA: 0s"
     ]
    },
    {
     "name": "stderr",
     "output_type": "stream",
     "text": [
      "c:\\Users\\maxbr\\OneDrive\\Desktop\\CLVSim\\CLVSim\\CLV Sim\\Sim\\features.py:65: FutureWarning: DataFrame.applymap has been deprecated. Use DataFrame.map instead.\n",
      "  frame = frame.applymap(lambda x: x.split(' - price: ')[1].strip()\n",
      "c:\\Users\\maxbr\\OneDrive\\Desktop\\CLVSim\\CLVSim\\CLV Sim\\Sim\\features.py:65: FutureWarning: DataFrame.applymap has been deprecated. Use DataFrame.map instead.\n",
      "  frame = frame.applymap(lambda x: x.split(' - price: ')[1].strip()\n"
     ]
    },
    {
     "name": "stdout",
     "output_type": "stream",
     "text": [
      "1/1 [==============================] - 0s 32ms/step\n",
      "18\n",
      "1/1 [==============================] - 0s 86ms/step\n",
      "1/1 [==============================] - ETA: 0s"
     ]
    },
    {
     "name": "stderr",
     "output_type": "stream",
     "text": [
      "c:\\Users\\maxbr\\OneDrive\\Desktop\\CLVSim\\CLVSim\\CLV Sim\\Sim\\features.py:65: FutureWarning: DataFrame.applymap has been deprecated. Use DataFrame.map instead.\n",
      "  frame = frame.applymap(lambda x: x.split(' - price: ')[1].strip()\n",
      "c:\\Users\\maxbr\\OneDrive\\Desktop\\CLVSim\\CLVSim\\CLV Sim\\Sim\\features.py:65: FutureWarning: DataFrame.applymap has been deprecated. Use DataFrame.map instead.\n",
      "  frame = frame.applymap(lambda x: x.split(' - price: ')[1].strip()\n"
     ]
    },
    {
     "name": "stdout",
     "output_type": "stream",
     "text": [
      "1/1 [==============================] - 0s 16ms/step\n",
      "19\n",
      "1/1 [==============================] - 0s 97ms/step\n",
      "1/1 [==============================] - 0s 16ms/step\n"
     ]
    },
    {
     "name": "stderr",
     "output_type": "stream",
     "text": [
      "c:\\Users\\maxbr\\OneDrive\\Desktop\\CLVSim\\CLVSim\\CLV Sim\\Sim\\features.py:65: FutureWarning: DataFrame.applymap has been deprecated. Use DataFrame.map instead.\n",
      "  frame = frame.applymap(lambda x: x.split(' - price: ')[1].strip()\n",
      "c:\\Users\\maxbr\\OneDrive\\Desktop\\CLVSim\\CLVSim\\CLV Sim\\Sim\\features.py:65: FutureWarning: DataFrame.applymap has been deprecated. Use DataFrame.map instead.\n",
      "  frame = frame.applymap(lambda x: x.split(' - price: ')[1].strip()\n"
     ]
    },
    {
     "name": "stdout",
     "output_type": "stream",
     "text": [
      "20\n",
      "1/1 [==============================] - 0s 83ms/step\n",
      "1/1 [==============================] - ETA: 0s"
     ]
    },
    {
     "name": "stderr",
     "output_type": "stream",
     "text": [
      "c:\\Users\\maxbr\\OneDrive\\Desktop\\CLVSim\\CLVSim\\CLV Sim\\Sim\\features.py:65: FutureWarning: DataFrame.applymap has been deprecated. Use DataFrame.map instead.\n",
      "  frame = frame.applymap(lambda x: x.split(' - price: ')[1].strip()\n",
      "c:\\Users\\maxbr\\OneDrive\\Desktop\\CLVSim\\CLVSim\\CLV Sim\\Sim\\features.py:65: FutureWarning: DataFrame.applymap has been deprecated. Use DataFrame.map instead.\n",
      "  frame = frame.applymap(lambda x: x.split(' - price: ')[1].strip()\n"
     ]
    },
    {
     "name": "stdout",
     "output_type": "stream",
     "text": [
      "1/1 [==============================] - 0s 18ms/step\n",
      "21\n",
      "1/1 [==============================] - 0s 84ms/step\n",
      "1/1 [==============================] - ETA: 0s"
     ]
    },
    {
     "name": "stderr",
     "output_type": "stream",
     "text": [
      "c:\\Users\\maxbr\\OneDrive\\Desktop\\CLVSim\\CLVSim\\CLV Sim\\Sim\\features.py:65: FutureWarning: DataFrame.applymap has been deprecated. Use DataFrame.map instead.\n",
      "  frame = frame.applymap(lambda x: x.split(' - price: ')[1].strip()\n",
      "c:\\Users\\maxbr\\OneDrive\\Desktop\\CLVSim\\CLVSim\\CLV Sim\\Sim\\features.py:65: FutureWarning: DataFrame.applymap has been deprecated. Use DataFrame.map instead.\n",
      "  frame = frame.applymap(lambda x: x.split(' - price: ')[1].strip()\n"
     ]
    },
    {
     "name": "stdout",
     "output_type": "stream",
     "text": [
      "1/1 [==============================] - 0s 18ms/step\n",
      "22\n",
      "1/1 [==============================] - 0s 86ms/step\n",
      "1/1 [==============================] - 0s 32ms/step\n"
     ]
    },
    {
     "name": "stderr",
     "output_type": "stream",
     "text": [
      "c:\\Users\\maxbr\\OneDrive\\Desktop\\CLVSim\\CLVSim\\CLV Sim\\Sim\\features.py:65: FutureWarning: DataFrame.applymap has been deprecated. Use DataFrame.map instead.\n",
      "  frame = frame.applymap(lambda x: x.split(' - price: ')[1].strip()\n",
      "c:\\Users\\maxbr\\OneDrive\\Desktop\\CLVSim\\CLVSim\\CLV Sim\\Sim\\features.py:65: FutureWarning: DataFrame.applymap has been deprecated. Use DataFrame.map instead.\n",
      "  frame = frame.applymap(lambda x: x.split(' - price: ')[1].strip()\n"
     ]
    },
    {
     "name": "stdout",
     "output_type": "stream",
     "text": [
      "23\n",
      "1/1 [==============================] - 0s 91ms/step\n",
      "1/1 [==============================] - ETA: 0s"
     ]
    },
    {
     "name": "stderr",
     "output_type": "stream",
     "text": [
      "c:\\Users\\maxbr\\OneDrive\\Desktop\\CLVSim\\CLVSim\\CLV Sim\\Sim\\features.py:65: FutureWarning: DataFrame.applymap has been deprecated. Use DataFrame.map instead.\n",
      "  frame = frame.applymap(lambda x: x.split(' - price: ')[1].strip()\n",
      "c:\\Users\\maxbr\\OneDrive\\Desktop\\CLVSim\\CLVSim\\CLV Sim\\Sim\\features.py:65: FutureWarning: DataFrame.applymap has been deprecated. Use DataFrame.map instead.\n",
      "  frame = frame.applymap(lambda x: x.split(' - price: ')[1].strip()\n"
     ]
    },
    {
     "name": "stdout",
     "output_type": "stream",
     "text": [
      "1/1 [==============================] - 0s 16ms/step\n",
      "24\n",
      "1/1 [==============================] - 0s 83ms/step\n",
      "1/1 [==============================] - 0s 16ms/step\n"
     ]
    },
    {
     "name": "stderr",
     "output_type": "stream",
     "text": [
      "c:\\Users\\maxbr\\OneDrive\\Desktop\\CLVSim\\CLVSim\\CLV Sim\\Sim\\features.py:65: FutureWarning: DataFrame.applymap has been deprecated. Use DataFrame.map instead.\n",
      "  frame = frame.applymap(lambda x: x.split(' - price: ')[1].strip()\n",
      "c:\\Users\\maxbr\\OneDrive\\Desktop\\CLVSim\\CLVSim\\CLV Sim\\Sim\\features.py:65: FutureWarning: DataFrame.applymap has been deprecated. Use DataFrame.map instead.\n",
      "  frame = frame.applymap(lambda x: x.split(' - price: ')[1].strip()\n"
     ]
    },
    {
     "name": "stdout",
     "output_type": "stream",
     "text": [
      "25\n",
      "1/1 [==============================] - 0s 86ms/step\n",
      "1/1 [==============================] - 0s 20ms/step\n"
     ]
    },
    {
     "name": "stderr",
     "output_type": "stream",
     "text": [
      "c:\\Users\\maxbr\\OneDrive\\Desktop\\CLVSim\\CLVSim\\CLV Sim\\Sim\\features.py:65: FutureWarning: DataFrame.applymap has been deprecated. Use DataFrame.map instead.\n",
      "  frame = frame.applymap(lambda x: x.split(' - price: ')[1].strip()\n",
      "c:\\Users\\maxbr\\OneDrive\\Desktop\\CLVSim\\CLVSim\\CLV Sim\\Sim\\features.py:65: FutureWarning: DataFrame.applymap has been deprecated. Use DataFrame.map instead.\n",
      "  frame = frame.applymap(lambda x: x.split(' - price: ')[1].strip()\n"
     ]
    },
    {
     "name": "stdout",
     "output_type": "stream",
     "text": [
      "26\n",
      "1/1 [==============================] - 0s 85ms/step\n",
      "1/1 [==============================] - 0s 16ms/step\n"
     ]
    },
    {
     "name": "stderr",
     "output_type": "stream",
     "text": [
      "c:\\Users\\maxbr\\OneDrive\\Desktop\\CLVSim\\CLVSim\\CLV Sim\\Sim\\features.py:65: FutureWarning: DataFrame.applymap has been deprecated. Use DataFrame.map instead.\n",
      "  frame = frame.applymap(lambda x: x.split(' - price: ')[1].strip()\n",
      "c:\\Users\\maxbr\\OneDrive\\Desktop\\CLVSim\\CLVSim\\CLV Sim\\Sim\\features.py:65: FutureWarning: DataFrame.applymap has been deprecated. Use DataFrame.map instead.\n",
      "  frame = frame.applymap(lambda x: x.split(' - price: ')[1].strip()\n"
     ]
    },
    {
     "name": "stdout",
     "output_type": "stream",
     "text": [
      "27\n",
      "1/1 [==============================] - 0s 82ms/step\n",
      "1/1 [==============================] - ETA: 0s"
     ]
    },
    {
     "name": "stderr",
     "output_type": "stream",
     "text": [
      "c:\\Users\\maxbr\\OneDrive\\Desktop\\CLVSim\\CLVSim\\CLV Sim\\Sim\\features.py:65: FutureWarning: DataFrame.applymap has been deprecated. Use DataFrame.map instead.\n",
      "  frame = frame.applymap(lambda x: x.split(' - price: ')[1].strip()\n",
      "c:\\Users\\maxbr\\OneDrive\\Desktop\\CLVSim\\CLVSim\\CLV Sim\\Sim\\features.py:65: FutureWarning: DataFrame.applymap has been deprecated. Use DataFrame.map instead.\n",
      "  frame = frame.applymap(lambda x: x.split(' - price: ')[1].strip()\n"
     ]
    },
    {
     "name": "stdout",
     "output_type": "stream",
     "text": [
      "1/1 [==============================] - 0s 16ms/step\n",
      "28\n",
      "1/1 [==============================] - 0s 84ms/step\n",
      "1/1 [==============================] - 0s 6ms/step\n"
     ]
    },
    {
     "name": "stderr",
     "output_type": "stream",
     "text": [
      "c:\\Users\\maxbr\\OneDrive\\Desktop\\CLVSim\\CLVSim\\CLV Sim\\Sim\\features.py:65: FutureWarning: DataFrame.applymap has been deprecated. Use DataFrame.map instead.\n",
      "  frame = frame.applymap(lambda x: x.split(' - price: ')[1].strip()\n",
      "c:\\Users\\maxbr\\OneDrive\\Desktop\\CLVSim\\CLVSim\\CLV Sim\\Sim\\features.py:65: FutureWarning: DataFrame.applymap has been deprecated. Use DataFrame.map instead.\n",
      "  frame = frame.applymap(lambda x: x.split(' - price: ')[1].strip()\n"
     ]
    },
    {
     "name": "stdout",
     "output_type": "stream",
     "text": [
      "29\n",
      "1/1 [==============================] - 0s 96ms/step\n",
      "1/1 [==============================] - 0s 16ms/step\n"
     ]
    },
    {
     "name": "stderr",
     "output_type": "stream",
     "text": [
      "c:\\Users\\maxbr\\OneDrive\\Desktop\\CLVSim\\CLVSim\\CLV Sim\\Sim\\features.py:65: FutureWarning: DataFrame.applymap has been deprecated. Use DataFrame.map instead.\n",
      "  frame = frame.applymap(lambda x: x.split(' - price: ')[1].strip()\n",
      "c:\\Users\\maxbr\\OneDrive\\Desktop\\CLVSim\\CLVSim\\CLV Sim\\Sim\\features.py:65: FutureWarning: DataFrame.applymap has been deprecated. Use DataFrame.map instead.\n",
      "  frame = frame.applymap(lambda x: x.split(' - price: ')[1].strip()\n"
     ]
    },
    {
     "name": "stdout",
     "output_type": "stream",
     "text": [
      "30\n",
      "1/1 [==============================] - 0s 99ms/step\n",
      "1/1 [==============================] - ETA: 0s"
     ]
    },
    {
     "name": "stderr",
     "output_type": "stream",
     "text": [
      "c:\\Users\\maxbr\\OneDrive\\Desktop\\CLVSim\\CLVSim\\CLV Sim\\Sim\\features.py:65: FutureWarning: DataFrame.applymap has been deprecated. Use DataFrame.map instead.\n",
      "  frame = frame.applymap(lambda x: x.split(' - price: ')[1].strip()\n",
      "c:\\Users\\maxbr\\OneDrive\\Desktop\\CLVSim\\CLVSim\\CLV Sim\\Sim\\features.py:65: FutureWarning: DataFrame.applymap has been deprecated. Use DataFrame.map instead.\n",
      "  frame = frame.applymap(lambda x: x.split(' - price: ')[1].strip()\n"
     ]
    },
    {
     "name": "stdout",
     "output_type": "stream",
     "text": [
      "1/1 [==============================] - 0s 32ms/step\n",
      "31\n",
      "1/1 [==============================] - 0s 83ms/step\n",
      "1/1 [==============================] - 0s 33ms/step\n"
     ]
    },
    {
     "name": "stderr",
     "output_type": "stream",
     "text": [
      "c:\\Users\\maxbr\\OneDrive\\Desktop\\CLVSim\\CLVSim\\CLV Sim\\Sim\\features.py:65: FutureWarning: DataFrame.applymap has been deprecated. Use DataFrame.map instead.\n",
      "  frame = frame.applymap(lambda x: x.split(' - price: ')[1].strip()\n",
      "c:\\Users\\maxbr\\OneDrive\\Desktop\\CLVSim\\CLVSim\\CLV Sim\\Sim\\features.py:65: FutureWarning: DataFrame.applymap has been deprecated. Use DataFrame.map instead.\n",
      "  frame = frame.applymap(lambda x: x.split(' - price: ')[1].strip()\n"
     ]
    },
    {
     "name": "stdout",
     "output_type": "stream",
     "text": [
      "32\n",
      "1/1 [==============================] - 0s 94ms/step\n",
      "1/1 [==============================] - ETA: 0s"
     ]
    },
    {
     "name": "stderr",
     "output_type": "stream",
     "text": [
      "c:\\Users\\maxbr\\OneDrive\\Desktop\\CLVSim\\CLVSim\\CLV Sim\\Sim\\features.py:65: FutureWarning: DataFrame.applymap has been deprecated. Use DataFrame.map instead.\n",
      "  frame = frame.applymap(lambda x: x.split(' - price: ')[1].strip()\n",
      "c:\\Users\\maxbr\\OneDrive\\Desktop\\CLVSim\\CLVSim\\CLV Sim\\Sim\\features.py:65: FutureWarning: DataFrame.applymap has been deprecated. Use DataFrame.map instead.\n",
      "  frame = frame.applymap(lambda x: x.split(' - price: ')[1].strip()\n"
     ]
    },
    {
     "name": "stdout",
     "output_type": "stream",
     "text": [
      "1/1 [==============================] - 0s 16ms/step\n",
      "33\n",
      "1/1 [==============================] - 0s 100ms/step\n",
      "1/1 [==============================] - ETA: 0s"
     ]
    },
    {
     "name": "stderr",
     "output_type": "stream",
     "text": [
      "c:\\Users\\maxbr\\OneDrive\\Desktop\\CLVSim\\CLVSim\\CLV Sim\\Sim\\features.py:65: FutureWarning: DataFrame.applymap has been deprecated. Use DataFrame.map instead.\n",
      "  frame = frame.applymap(lambda x: x.split(' - price: ')[1].strip()\n",
      "c:\\Users\\maxbr\\OneDrive\\Desktop\\CLVSim\\CLVSim\\CLV Sim\\Sim\\features.py:65: FutureWarning: DataFrame.applymap has been deprecated. Use DataFrame.map instead.\n",
      "  frame = frame.applymap(lambda x: x.split(' - price: ')[1].strip()\n"
     ]
    },
    {
     "name": "stdout",
     "output_type": "stream",
     "text": [
      "1/1 [==============================] - 0s 29ms/step\n",
      "34\n",
      "1/1 [==============================] - 0s 86ms/step\n",
      "1/1 [==============================] - 0s 16ms/step\n"
     ]
    },
    {
     "name": "stderr",
     "output_type": "stream",
     "text": [
      "c:\\Users\\maxbr\\OneDrive\\Desktop\\CLVSim\\CLVSim\\CLV Sim\\Sim\\features.py:65: FutureWarning: DataFrame.applymap has been deprecated. Use DataFrame.map instead.\n",
      "  frame = frame.applymap(lambda x: x.split(' - price: ')[1].strip()\n",
      "c:\\Users\\maxbr\\OneDrive\\Desktop\\CLVSim\\CLVSim\\CLV Sim\\Sim\\features.py:65: FutureWarning: DataFrame.applymap has been deprecated. Use DataFrame.map instead.\n",
      "  frame = frame.applymap(lambda x: x.split(' - price: ')[1].strip()\n"
     ]
    },
    {
     "name": "stdout",
     "output_type": "stream",
     "text": [
      "35\n",
      "1/1 [==============================] - 0s 84ms/step\n",
      "1/1 [==============================] - 0s 16ms/step\n"
     ]
    },
    {
     "name": "stderr",
     "output_type": "stream",
     "text": [
      "c:\\Users\\maxbr\\OneDrive\\Desktop\\CLVSim\\CLVSim\\CLV Sim\\Sim\\features.py:65: FutureWarning: DataFrame.applymap has been deprecated. Use DataFrame.map instead.\n",
      "  frame = frame.applymap(lambda x: x.split(' - price: ')[1].strip()\n",
      "c:\\Users\\maxbr\\OneDrive\\Desktop\\CLVSim\\CLVSim\\CLV Sim\\Sim\\features.py:65: FutureWarning: DataFrame.applymap has been deprecated. Use DataFrame.map instead.\n",
      "  frame = frame.applymap(lambda x: x.split(' - price: ')[1].strip()\n"
     ]
    },
    {
     "name": "stdout",
     "output_type": "stream",
     "text": [
      "36\n",
      "1/1 [==============================] - 0s 84ms/step\n",
      "1/1 [==============================] - ETA: 0s"
     ]
    },
    {
     "name": "stderr",
     "output_type": "stream",
     "text": [
      "c:\\Users\\maxbr\\OneDrive\\Desktop\\CLVSim\\CLVSim\\CLV Sim\\Sim\\features.py:65: FutureWarning: DataFrame.applymap has been deprecated. Use DataFrame.map instead.\n",
      "  frame = frame.applymap(lambda x: x.split(' - price: ')[1].strip()\n",
      "c:\\Users\\maxbr\\OneDrive\\Desktop\\CLVSim\\CLVSim\\CLV Sim\\Sim\\features.py:65: FutureWarning: DataFrame.applymap has been deprecated. Use DataFrame.map instead.\n",
      "  frame = frame.applymap(lambda x: x.split(' - price: ')[1].strip()\n"
     ]
    },
    {
     "name": "stdout",
     "output_type": "stream",
     "text": [
      "1/1 [==============================] - 0s 31ms/step\n",
      "37\n",
      "1/1 [==============================] - 0s 83ms/step\n",
      "1/1 [==============================] - 0s 20ms/step\n"
     ]
    },
    {
     "name": "stderr",
     "output_type": "stream",
     "text": [
      "c:\\Users\\maxbr\\OneDrive\\Desktop\\CLVSim\\CLVSim\\CLV Sim\\Sim\\features.py:65: FutureWarning: DataFrame.applymap has been deprecated. Use DataFrame.map instead.\n",
      "  frame = frame.applymap(lambda x: x.split(' - price: ')[1].strip()\n",
      "c:\\Users\\maxbr\\OneDrive\\Desktop\\CLVSim\\CLVSim\\CLV Sim\\Sim\\features.py:65: FutureWarning: DataFrame.applymap has been deprecated. Use DataFrame.map instead.\n",
      "  frame = frame.applymap(lambda x: x.split(' - price: ')[1].strip()\n"
     ]
    },
    {
     "name": "stdout",
     "output_type": "stream",
     "text": [
      "38\n",
      "1/1 [==============================] - 0s 84ms/step\n",
      "1/1 [==============================] - 0s 16ms/step\n"
     ]
    },
    {
     "name": "stderr",
     "output_type": "stream",
     "text": [
      "c:\\Users\\maxbr\\OneDrive\\Desktop\\CLVSim\\CLVSim\\CLV Sim\\Sim\\features.py:65: FutureWarning: DataFrame.applymap has been deprecated. Use DataFrame.map instead.\n",
      "  frame = frame.applymap(lambda x: x.split(' - price: ')[1].strip()\n",
      "c:\\Users\\maxbr\\OneDrive\\Desktop\\CLVSim\\CLVSim\\CLV Sim\\Sim\\features.py:65: FutureWarning: DataFrame.applymap has been deprecated. Use DataFrame.map instead.\n",
      "  frame = frame.applymap(lambda x: x.split(' - price: ')[1].strip()\n"
     ]
    },
    {
     "name": "stdout",
     "output_type": "stream",
     "text": [
      "39\n",
      "1/1 [==============================] - 0s 81ms/step\n",
      "1/1 [==============================] - 0s 16ms/step\n"
     ]
    },
    {
     "name": "stderr",
     "output_type": "stream",
     "text": [
      "c:\\Users\\maxbr\\OneDrive\\Desktop\\CLVSim\\CLVSim\\CLV Sim\\Sim\\features.py:65: FutureWarning: DataFrame.applymap has been deprecated. Use DataFrame.map instead.\n",
      "  frame = frame.applymap(lambda x: x.split(' - price: ')[1].strip()\n",
      "c:\\Users\\maxbr\\OneDrive\\Desktop\\CLVSim\\CLVSim\\CLV Sim\\Sim\\features.py:65: FutureWarning: DataFrame.applymap has been deprecated. Use DataFrame.map instead.\n",
      "  frame = frame.applymap(lambda x: x.split(' - price: ')[1].strip()\n"
     ]
    },
    {
     "name": "stdout",
     "output_type": "stream",
     "text": [
      "40\n",
      "1/1 [==============================] - 0s 101ms/step\n"
     ]
    },
    {
     "name": "stderr",
     "output_type": "stream",
     "text": [
      "c:\\Users\\maxbr\\OneDrive\\Desktop\\CLVSim\\CLVSim\\CLV Sim\\Sim\\features.py:65: FutureWarning: DataFrame.applymap has been deprecated. Use DataFrame.map instead.\n",
      "  frame = frame.applymap(lambda x: x.split(' - price: ')[1].strip()\n",
      "c:\\Users\\maxbr\\OneDrive\\Desktop\\CLVSim\\CLVSim\\CLV Sim\\Sim\\features.py:65: FutureWarning: DataFrame.applymap has been deprecated. Use DataFrame.map instead.\n",
      "  frame = frame.applymap(lambda x: x.split(' - price: ')[1].strip()\n"
     ]
    },
    {
     "name": "stdout",
     "output_type": "stream",
     "text": [
      "1/1 [==============================] - 0s 16ms/step\n",
      "41\n",
      "1/1 [==============================] - 0s 82ms/step\n",
      "1/1 [==============================] - 0s 16ms/step\n"
     ]
    },
    {
     "name": "stderr",
     "output_type": "stream",
     "text": [
      "c:\\Users\\maxbr\\OneDrive\\Desktop\\CLVSim\\CLVSim\\CLV Sim\\Sim\\features.py:65: FutureWarning: DataFrame.applymap has been deprecated. Use DataFrame.map instead.\n",
      "  frame = frame.applymap(lambda x: x.split(' - price: ')[1].strip()\n",
      "c:\\Users\\maxbr\\OneDrive\\Desktop\\CLVSim\\CLVSim\\CLV Sim\\Sim\\features.py:65: FutureWarning: DataFrame.applymap has been deprecated. Use DataFrame.map instead.\n",
      "  frame = frame.applymap(lambda x: x.split(' - price: ')[1].strip()\n"
     ]
    },
    {
     "name": "stdout",
     "output_type": "stream",
     "text": [
      "42\n",
      "1/1 [==============================] - 0s 78ms/step\n",
      "1/1 [==============================] - ETA: 0s"
     ]
    },
    {
     "name": "stderr",
     "output_type": "stream",
     "text": [
      "c:\\Users\\maxbr\\OneDrive\\Desktop\\CLVSim\\CLVSim\\CLV Sim\\Sim\\features.py:65: FutureWarning: DataFrame.applymap has been deprecated. Use DataFrame.map instead.\n",
      "  frame = frame.applymap(lambda x: x.split(' - price: ')[1].strip()\n",
      "c:\\Users\\maxbr\\OneDrive\\Desktop\\CLVSim\\CLVSim\\CLV Sim\\Sim\\features.py:65: FutureWarning: DataFrame.applymap has been deprecated. Use DataFrame.map instead.\n",
      "  frame = frame.applymap(lambda x: x.split(' - price: ')[1].strip()\n"
     ]
    },
    {
     "name": "stdout",
     "output_type": "stream",
     "text": [
      "1/1 [==============================] - 0s 16ms/step\n",
      "43\n",
      "1/1 [==============================] - 0s 102ms/step\n",
      "1/1 [==============================] - 0s 16ms/step\n"
     ]
    },
    {
     "name": "stderr",
     "output_type": "stream",
     "text": [
      "c:\\Users\\maxbr\\OneDrive\\Desktop\\CLVSim\\CLVSim\\CLV Sim\\Sim\\features.py:65: FutureWarning: DataFrame.applymap has been deprecated. Use DataFrame.map instead.\n",
      "  frame = frame.applymap(lambda x: x.split(' - price: ')[1].strip()\n",
      "c:\\Users\\maxbr\\OneDrive\\Desktop\\CLVSim\\CLVSim\\CLV Sim\\Sim\\features.py:65: FutureWarning: DataFrame.applymap has been deprecated. Use DataFrame.map instead.\n",
      "  frame = frame.applymap(lambda x: x.split(' - price: ')[1].strip()\n"
     ]
    },
    {
     "name": "stdout",
     "output_type": "stream",
     "text": [
      "44\n",
      "1/1 [==============================] - 0s 86ms/step\n",
      "1/1 [==============================] - ETA: 0s"
     ]
    },
    {
     "name": "stderr",
     "output_type": "stream",
     "text": [
      "c:\\Users\\maxbr\\OneDrive\\Desktop\\CLVSim\\CLVSim\\CLV Sim\\Sim\\features.py:65: FutureWarning: DataFrame.applymap has been deprecated. Use DataFrame.map instead.\n",
      "  frame = frame.applymap(lambda x: x.split(' - price: ')[1].strip()\n",
      "c:\\Users\\maxbr\\OneDrive\\Desktop\\CLVSim\\CLVSim\\CLV Sim\\Sim\\features.py:65: FutureWarning: DataFrame.applymap has been deprecated. Use DataFrame.map instead.\n",
      "  frame = frame.applymap(lambda x: x.split(' - price: ')[1].strip()\n"
     ]
    },
    {
     "name": "stdout",
     "output_type": "stream",
     "text": [
      "1/1 [==============================] - 0s 33ms/step\n",
      "45\n",
      "1/1 [==============================] - 0s 82ms/step\n",
      "1/1 [==============================] - 0s 21ms/step\n"
     ]
    },
    {
     "name": "stderr",
     "output_type": "stream",
     "text": [
      "c:\\Users\\maxbr\\OneDrive\\Desktop\\CLVSim\\CLVSim\\CLV Sim\\Sim\\features.py:65: FutureWarning: DataFrame.applymap has been deprecated. Use DataFrame.map instead.\n",
      "  frame = frame.applymap(lambda x: x.split(' - price: ')[1].strip()\n",
      "c:\\Users\\maxbr\\OneDrive\\Desktop\\CLVSim\\CLVSim\\CLV Sim\\Sim\\features.py:65: FutureWarning: DataFrame.applymap has been deprecated. Use DataFrame.map instead.\n",
      "  frame = frame.applymap(lambda x: x.split(' - price: ')[1].strip()\n"
     ]
    },
    {
     "name": "stdout",
     "output_type": "stream",
     "text": [
      "46\n",
      "1/1 [==============================] - 0s 84ms/step\n",
      "1/1 [==============================] - 0s 18ms/step\n"
     ]
    },
    {
     "name": "stderr",
     "output_type": "stream",
     "text": [
      "c:\\Users\\maxbr\\OneDrive\\Desktop\\CLVSim\\CLVSim\\CLV Sim\\Sim\\features.py:65: FutureWarning: DataFrame.applymap has been deprecated. Use DataFrame.map instead.\n",
      "  frame = frame.applymap(lambda x: x.split(' - price: ')[1].strip()\n",
      "c:\\Users\\maxbr\\OneDrive\\Desktop\\CLVSim\\CLVSim\\CLV Sim\\Sim\\features.py:65: FutureWarning: DataFrame.applymap has been deprecated. Use DataFrame.map instead.\n",
      "  frame = frame.applymap(lambda x: x.split(' - price: ')[1].strip()\n"
     ]
    },
    {
     "name": "stdout",
     "output_type": "stream",
     "text": [
      "47\n",
      "1/1 [==============================] - 0s 81ms/step\n",
      "1/1 [==============================] - 0s 16ms/step\n"
     ]
    },
    {
     "name": "stderr",
     "output_type": "stream",
     "text": [
      "c:\\Users\\maxbr\\OneDrive\\Desktop\\CLVSim\\CLVSim\\CLV Sim\\Sim\\features.py:65: FutureWarning: DataFrame.applymap has been deprecated. Use DataFrame.map instead.\n",
      "  frame = frame.applymap(lambda x: x.split(' - price: ')[1].strip()\n",
      "c:\\Users\\maxbr\\OneDrive\\Desktop\\CLVSim\\CLVSim\\CLV Sim\\Sim\\features.py:65: FutureWarning: DataFrame.applymap has been deprecated. Use DataFrame.map instead.\n",
      "  frame = frame.applymap(lambda x: x.split(' - price: ')[1].strip()\n"
     ]
    },
    {
     "name": "stdout",
     "output_type": "stream",
     "text": [
      "48\n",
      "1/1 [==============================] - 0s 83ms/step\n"
     ]
    },
    {
     "name": "stderr",
     "output_type": "stream",
     "text": [
      "c:\\Users\\maxbr\\OneDrive\\Desktop\\CLVSim\\CLVSim\\CLV Sim\\Sim\\features.py:65: FutureWarning: DataFrame.applymap has been deprecated. Use DataFrame.map instead.\n",
      "  frame = frame.applymap(lambda x: x.split(' - price: ')[1].strip()\n",
      "c:\\Users\\maxbr\\OneDrive\\Desktop\\CLVSim\\CLVSim\\CLV Sim\\Sim\\features.py:65: FutureWarning: DataFrame.applymap has been deprecated. Use DataFrame.map instead.\n",
      "  frame = frame.applymap(lambda x: x.split(' - price: ')[1].strip()\n"
     ]
    },
    {
     "name": "stdout",
     "output_type": "stream",
     "text": [
      "1/1 [==============================] - 0s 21ms/step\n",
      "49\n",
      "1/1 [==============================] - 0s 82ms/step\n",
      "1/1 [==============================] - 0s 16ms/step\n"
     ]
    },
    {
     "name": "stderr",
     "output_type": "stream",
     "text": [
      "c:\\Users\\maxbr\\OneDrive\\Desktop\\CLVSim\\CLVSim\\CLV Sim\\Sim\\features.py:65: FutureWarning: DataFrame.applymap has been deprecated. Use DataFrame.map instead.\n",
      "  frame = frame.applymap(lambda x: x.split(' - price: ')[1].strip()\n",
      "c:\\Users\\maxbr\\OneDrive\\Desktop\\CLVSim\\CLVSim\\CLV Sim\\Sim\\features.py:65: FutureWarning: DataFrame.applymap has been deprecated. Use DataFrame.map instead.\n",
      "  frame = frame.applymap(lambda x: x.split(' - price: ')[1].strip()\n"
     ]
    },
    {
     "name": "stdout",
     "output_type": "stream",
     "text": [
      "50\n",
      "1/1 [==============================] - 0s 79ms/step\n",
      "1/1 [==============================] - ETA: 0s"
     ]
    },
    {
     "name": "stderr",
     "output_type": "stream",
     "text": [
      "c:\\Users\\maxbr\\OneDrive\\Desktop\\CLVSim\\CLVSim\\CLV Sim\\Sim\\features.py:65: FutureWarning: DataFrame.applymap has been deprecated. Use DataFrame.map instead.\n",
      "  frame = frame.applymap(lambda x: x.split(' - price: ')[1].strip()\n",
      "c:\\Users\\maxbr\\OneDrive\\Desktop\\CLVSim\\CLVSim\\CLV Sim\\Sim\\features.py:65: FutureWarning: DataFrame.applymap has been deprecated. Use DataFrame.map instead.\n",
      "  frame = frame.applymap(lambda x: x.split(' - price: ')[1].strip()\n"
     ]
    },
    {
     "name": "stdout",
     "output_type": "stream",
     "text": [
      "1/1 [==============================] - 0s 16ms/step\n",
      "51\n",
      "1/1 [==============================] - 0s 85ms/step\n",
      "1/1 [==============================] - 0s 32ms/step\n"
     ]
    },
    {
     "name": "stderr",
     "output_type": "stream",
     "text": [
      "c:\\Users\\maxbr\\OneDrive\\Desktop\\CLVSim\\CLVSim\\CLV Sim\\Sim\\features.py:65: FutureWarning: DataFrame.applymap has been deprecated. Use DataFrame.map instead.\n",
      "  frame = frame.applymap(lambda x: x.split(' - price: ')[1].strip()\n",
      "c:\\Users\\maxbr\\OneDrive\\Desktop\\CLVSim\\CLVSim\\CLV Sim\\Sim\\features.py:65: FutureWarning: DataFrame.applymap has been deprecated. Use DataFrame.map instead.\n",
      "  frame = frame.applymap(lambda x: x.split(' - price: ')[1].strip()\n"
     ]
    },
    {
     "name": "stdout",
     "output_type": "stream",
     "text": [
      "52\n",
      "1/1 [==============================] - 0s 99ms/step\n"
     ]
    },
    {
     "name": "stderr",
     "output_type": "stream",
     "text": [
      "c:\\Users\\maxbr\\OneDrive\\Desktop\\CLVSim\\CLVSim\\CLV Sim\\Sim\\features.py:65: FutureWarning: DataFrame.applymap has been deprecated. Use DataFrame.map instead.\n",
      "  frame = frame.applymap(lambda x: x.split(' - price: ')[1].strip()\n",
      "c:\\Users\\maxbr\\OneDrive\\Desktop\\CLVSim\\CLVSim\\CLV Sim\\Sim\\features.py:65: FutureWarning: DataFrame.applymap has been deprecated. Use DataFrame.map instead.\n",
      "  frame = frame.applymap(lambda x: x.split(' - price: ')[1].strip()\n"
     ]
    },
    {
     "name": "stdout",
     "output_type": "stream",
     "text": [
      "1/1 [==============================] - 0s 32ms/step\n",
      "53\n",
      "1/1 [==============================] - 0s 84ms/step\n",
      "1/1 [==============================] - 0s 17ms/step\n"
     ]
    },
    {
     "name": "stderr",
     "output_type": "stream",
     "text": [
      "c:\\Users\\maxbr\\OneDrive\\Desktop\\CLVSim\\CLVSim\\CLV Sim\\Sim\\features.py:65: FutureWarning: DataFrame.applymap has been deprecated. Use DataFrame.map instead.\n",
      "  frame = frame.applymap(lambda x: x.split(' - price: ')[1].strip()\n",
      "c:\\Users\\maxbr\\OneDrive\\Desktop\\CLVSim\\CLVSim\\CLV Sim\\Sim\\features.py:65: FutureWarning: DataFrame.applymap has been deprecated. Use DataFrame.map instead.\n",
      "  frame = frame.applymap(lambda x: x.split(' - price: ')[1].strip()\n"
     ]
    },
    {
     "name": "stdout",
     "output_type": "stream",
     "text": [
      "54\n",
      "1/1 [==============================] - 0s 80ms/step\n",
      "1/1 [==============================] - ETA: 0s"
     ]
    },
    {
     "name": "stderr",
     "output_type": "stream",
     "text": [
      "c:\\Users\\maxbr\\OneDrive\\Desktop\\CLVSim\\CLVSim\\CLV Sim\\Sim\\features.py:65: FutureWarning: DataFrame.applymap has been deprecated. Use DataFrame.map instead.\n",
      "  frame = frame.applymap(lambda x: x.split(' - price: ')[1].strip()\n",
      "c:\\Users\\maxbr\\OneDrive\\Desktop\\CLVSim\\CLVSim\\CLV Sim\\Sim\\features.py:65: FutureWarning: DataFrame.applymap has been deprecated. Use DataFrame.map instead.\n",
      "  frame = frame.applymap(lambda x: x.split(' - price: ')[1].strip()\n"
     ]
    },
    {
     "name": "stdout",
     "output_type": "stream",
     "text": [
      "1/1 [==============================] - 0s 16ms/step\n",
      "55\n",
      "1/1 [==============================] - 0s 83ms/step\n",
      "1/1 [==============================] - 0s 16ms/step\n"
     ]
    },
    {
     "name": "stderr",
     "output_type": "stream",
     "text": [
      "c:\\Users\\maxbr\\OneDrive\\Desktop\\CLVSim\\CLVSim\\CLV Sim\\Sim\\features.py:65: FutureWarning: DataFrame.applymap has been deprecated. Use DataFrame.map instead.\n",
      "  frame = frame.applymap(lambda x: x.split(' - price: ')[1].strip()\n",
      "c:\\Users\\maxbr\\OneDrive\\Desktop\\CLVSim\\CLVSim\\CLV Sim\\Sim\\features.py:65: FutureWarning: DataFrame.applymap has been deprecated. Use DataFrame.map instead.\n",
      "  frame = frame.applymap(lambda x: x.split(' - price: ')[1].strip()\n"
     ]
    },
    {
     "name": "stdout",
     "output_type": "stream",
     "text": [
      "56\n",
      "1/1 [==============================] - 0s 93ms/step\n",
      "1/1 [==============================] - ETA: 0s"
     ]
    },
    {
     "name": "stderr",
     "output_type": "stream",
     "text": [
      "c:\\Users\\maxbr\\OneDrive\\Desktop\\CLVSim\\CLVSim\\CLV Sim\\Sim\\features.py:65: FutureWarning: DataFrame.applymap has been deprecated. Use DataFrame.map instead.\n",
      "  frame = frame.applymap(lambda x: x.split(' - price: ')[1].strip()\n",
      "c:\\Users\\maxbr\\OneDrive\\Desktop\\CLVSim\\CLVSim\\CLV Sim\\Sim\\features.py:65: FutureWarning: DataFrame.applymap has been deprecated. Use DataFrame.map instead.\n",
      "  frame = frame.applymap(lambda x: x.split(' - price: ')[1].strip()\n"
     ]
    },
    {
     "name": "stdout",
     "output_type": "stream",
     "text": [
      "1/1 [==============================] - 0s 19ms/step\n",
      "57\n",
      "1/1 [==============================] - 0s 84ms/step\n",
      "1/1 [==============================] - 0s 18ms/step\n"
     ]
    },
    {
     "name": "stderr",
     "output_type": "stream",
     "text": [
      "c:\\Users\\maxbr\\OneDrive\\Desktop\\CLVSim\\CLVSim\\CLV Sim\\Sim\\features.py:65: FutureWarning: DataFrame.applymap has been deprecated. Use DataFrame.map instead.\n",
      "  frame = frame.applymap(lambda x: x.split(' - price: ')[1].strip()\n",
      "c:\\Users\\maxbr\\OneDrive\\Desktop\\CLVSim\\CLVSim\\CLV Sim\\Sim\\features.py:65: FutureWarning: DataFrame.applymap has been deprecated. Use DataFrame.map instead.\n",
      "  frame = frame.applymap(lambda x: x.split(' - price: ')[1].strip()\n"
     ]
    },
    {
     "name": "stdout",
     "output_type": "stream",
     "text": [
      "58\n",
      "1/1 [==============================] - 0s 104ms/step\n"
     ]
    },
    {
     "name": "stderr",
     "output_type": "stream",
     "text": [
      "c:\\Users\\maxbr\\OneDrive\\Desktop\\CLVSim\\CLVSim\\CLV Sim\\Sim\\features.py:65: FutureWarning: DataFrame.applymap has been deprecated. Use DataFrame.map instead.\n",
      "  frame = frame.applymap(lambda x: x.split(' - price: ')[1].strip()\n",
      "c:\\Users\\maxbr\\OneDrive\\Desktop\\CLVSim\\CLVSim\\CLV Sim\\Sim\\features.py:65: FutureWarning: DataFrame.applymap has been deprecated. Use DataFrame.map instead.\n",
      "  frame = frame.applymap(lambda x: x.split(' - price: ')[1].strip()\n"
     ]
    },
    {
     "name": "stdout",
     "output_type": "stream",
     "text": [
      "1/1 [==============================] - 0s 29ms/step\n",
      "59\n",
      "1/1 [==============================] - 0s 77ms/step\n",
      "1/1 [==============================] - ETA: 0s"
     ]
    },
    {
     "name": "stderr",
     "output_type": "stream",
     "text": [
      "c:\\Users\\maxbr\\OneDrive\\Desktop\\CLVSim\\CLVSim\\CLV Sim\\Sim\\features.py:65: FutureWarning: DataFrame.applymap has been deprecated. Use DataFrame.map instead.\n",
      "  frame = frame.applymap(lambda x: x.split(' - price: ')[1].strip()\n",
      "c:\\Users\\maxbr\\OneDrive\\Desktop\\CLVSim\\CLVSim\\CLV Sim\\Sim\\features.py:65: FutureWarning: DataFrame.applymap has been deprecated. Use DataFrame.map instead.\n",
      "  frame = frame.applymap(lambda x: x.split(' - price: ')[1].strip()\n"
     ]
    },
    {
     "name": "stdout",
     "output_type": "stream",
     "text": [
      "1/1 [==============================] - 0s 16ms/step\n",
      "60\n",
      "1/1 [==============================] - 0s 90ms/step\n"
     ]
    },
    {
     "name": "stderr",
     "output_type": "stream",
     "text": [
      "c:\\Users\\maxbr\\OneDrive\\Desktop\\CLVSim\\CLVSim\\CLV Sim\\Sim\\features.py:65: FutureWarning: DataFrame.applymap has been deprecated. Use DataFrame.map instead.\n",
      "  frame = frame.applymap(lambda x: x.split(' - price: ')[1].strip()\n",
      "c:\\Users\\maxbr\\OneDrive\\Desktop\\CLVSim\\CLVSim\\CLV Sim\\Sim\\features.py:65: FutureWarning: DataFrame.applymap has been deprecated. Use DataFrame.map instead.\n",
      "  frame = frame.applymap(lambda x: x.split(' - price: ')[1].strip()\n"
     ]
    },
    {
     "name": "stdout",
     "output_type": "stream",
     "text": [
      "1/1 [==============================] - 0s 17ms/step\n",
      "61\n",
      "1/1 [==============================] - 0s 84ms/step\n"
     ]
    },
    {
     "name": "stderr",
     "output_type": "stream",
     "text": [
      "c:\\Users\\maxbr\\OneDrive\\Desktop\\CLVSim\\CLVSim\\CLV Sim\\Sim\\features.py:65: FutureWarning: DataFrame.applymap has been deprecated. Use DataFrame.map instead.\n",
      "  frame = frame.applymap(lambda x: x.split(' - price: ')[1].strip()\n",
      "c:\\Users\\maxbr\\OneDrive\\Desktop\\CLVSim\\CLVSim\\CLV Sim\\Sim\\features.py:65: FutureWarning: DataFrame.applymap has been deprecated. Use DataFrame.map instead.\n",
      "  frame = frame.applymap(lambda x: x.split(' - price: ')[1].strip()\n"
     ]
    },
    {
     "name": "stdout",
     "output_type": "stream",
     "text": [
      "1/1 [==============================] - 0s 16ms/step\n",
      "62\n",
      "1/1 [==============================] - 0s 83ms/step\n",
      "1/1 [==============================] - ETA: 0s"
     ]
    },
    {
     "name": "stderr",
     "output_type": "stream",
     "text": [
      "c:\\Users\\maxbr\\OneDrive\\Desktop\\CLVSim\\CLVSim\\CLV Sim\\Sim\\features.py:65: FutureWarning: DataFrame.applymap has been deprecated. Use DataFrame.map instead.\n",
      "  frame = frame.applymap(lambda x: x.split(' - price: ')[1].strip()\n",
      "c:\\Users\\maxbr\\OneDrive\\Desktop\\CLVSim\\CLVSim\\CLV Sim\\Sim\\features.py:65: FutureWarning: DataFrame.applymap has been deprecated. Use DataFrame.map instead.\n",
      "  frame = frame.applymap(lambda x: x.split(' - price: ')[1].strip()\n"
     ]
    },
    {
     "name": "stdout",
     "output_type": "stream",
     "text": [
      "1/1 [==============================] - 0s 20ms/step\n",
      "63\n",
      "1/1 [==============================] - 0s 83ms/step\n",
      "1/1 [==============================] - ETA: 0s"
     ]
    },
    {
     "name": "stderr",
     "output_type": "stream",
     "text": [
      "c:\\Users\\maxbr\\OneDrive\\Desktop\\CLVSim\\CLVSim\\CLV Sim\\Sim\\features.py:65: FutureWarning: DataFrame.applymap has been deprecated. Use DataFrame.map instead.\n",
      "  frame = frame.applymap(lambda x: x.split(' - price: ')[1].strip()\n",
      "c:\\Users\\maxbr\\OneDrive\\Desktop\\CLVSim\\CLVSim\\CLV Sim\\Sim\\features.py:65: FutureWarning: DataFrame.applymap has been deprecated. Use DataFrame.map instead.\n",
      "  frame = frame.applymap(lambda x: x.split(' - price: ')[1].strip()\n"
     ]
    },
    {
     "name": "stdout",
     "output_type": "stream",
     "text": [
      "1/1 [==============================] - 0s 18ms/step\n",
      "64\n",
      "1/1 [==============================] - 0s 86ms/step\n",
      "1/1 [==============================] - ETA: 0s"
     ]
    },
    {
     "name": "stderr",
     "output_type": "stream",
     "text": [
      "c:\\Users\\maxbr\\OneDrive\\Desktop\\CLVSim\\CLVSim\\CLV Sim\\Sim\\features.py:65: FutureWarning: DataFrame.applymap has been deprecated. Use DataFrame.map instead.\n",
      "  frame = frame.applymap(lambda x: x.split(' - price: ')[1].strip()\n",
      "c:\\Users\\maxbr\\OneDrive\\Desktop\\CLVSim\\CLVSim\\CLV Sim\\Sim\\features.py:65: FutureWarning: DataFrame.applymap has been deprecated. Use DataFrame.map instead.\n",
      "  frame = frame.applymap(lambda x: x.split(' - price: ')[1].strip()\n"
     ]
    },
    {
     "name": "stdout",
     "output_type": "stream",
     "text": [
      "1/1 [==============================] - 0s 19ms/step\n",
      "65\n",
      "1/1 [==============================] - 0s 100ms/step\n",
      "1/1 [==============================] - 0s 16ms/step\n"
     ]
    },
    {
     "name": "stderr",
     "output_type": "stream",
     "text": [
      "c:\\Users\\maxbr\\OneDrive\\Desktop\\CLVSim\\CLVSim\\CLV Sim\\Sim\\features.py:65: FutureWarning: DataFrame.applymap has been deprecated. Use DataFrame.map instead.\n",
      "  frame = frame.applymap(lambda x: x.split(' - price: ')[1].strip()\n",
      "c:\\Users\\maxbr\\OneDrive\\Desktop\\CLVSim\\CLVSim\\CLV Sim\\Sim\\features.py:65: FutureWarning: DataFrame.applymap has been deprecated. Use DataFrame.map instead.\n",
      "  frame = frame.applymap(lambda x: x.split(' - price: ')[1].strip()\n"
     ]
    },
    {
     "name": "stdout",
     "output_type": "stream",
     "text": [
      "66\n",
      "1/1 [==============================] - 0s 101ms/step\n",
      "1/1 [==============================] - 0s 30ms/step\n"
     ]
    },
    {
     "name": "stderr",
     "output_type": "stream",
     "text": [
      "c:\\Users\\maxbr\\OneDrive\\Desktop\\CLVSim\\CLVSim\\CLV Sim\\Sim\\features.py:65: FutureWarning: DataFrame.applymap has been deprecated. Use DataFrame.map instead.\n",
      "  frame = frame.applymap(lambda x: x.split(' - price: ')[1].strip()\n",
      "c:\\Users\\maxbr\\OneDrive\\Desktop\\CLVSim\\CLVSim\\CLV Sim\\Sim\\features.py:65: FutureWarning: DataFrame.applymap has been deprecated. Use DataFrame.map instead.\n",
      "  frame = frame.applymap(lambda x: x.split(' - price: ')[1].strip()\n"
     ]
    },
    {
     "name": "stdout",
     "output_type": "stream",
     "text": [
      "67\n",
      "1/1 [==============================] - 0s 100ms/step\n"
     ]
    },
    {
     "name": "stderr",
     "output_type": "stream",
     "text": [
      "c:\\Users\\maxbr\\OneDrive\\Desktop\\CLVSim\\CLVSim\\CLV Sim\\Sim\\features.py:65: FutureWarning: DataFrame.applymap has been deprecated. Use DataFrame.map instead.\n",
      "  frame = frame.applymap(lambda x: x.split(' - price: ')[1].strip()\n",
      "c:\\Users\\maxbr\\OneDrive\\Desktop\\CLVSim\\CLVSim\\CLV Sim\\Sim\\features.py:65: FutureWarning: DataFrame.applymap has been deprecated. Use DataFrame.map instead.\n",
      "  frame = frame.applymap(lambda x: x.split(' - price: ')[1].strip()\n"
     ]
    },
    {
     "name": "stdout",
     "output_type": "stream",
     "text": [
      "1/1 [==============================] - 0s 16ms/step\n",
      "68\n",
      "1/1 [==============================] - 0s 87ms/step\n",
      "1/1 [==============================] - 0s 17ms/step\n"
     ]
    },
    {
     "name": "stderr",
     "output_type": "stream",
     "text": [
      "c:\\Users\\maxbr\\OneDrive\\Desktop\\CLVSim\\CLVSim\\CLV Sim\\Sim\\features.py:65: FutureWarning: DataFrame.applymap has been deprecated. Use DataFrame.map instead.\n",
      "  frame = frame.applymap(lambda x: x.split(' - price: ')[1].strip()\n",
      "c:\\Users\\maxbr\\OneDrive\\Desktop\\CLVSim\\CLVSim\\CLV Sim\\Sim\\features.py:65: FutureWarning: DataFrame.applymap has been deprecated. Use DataFrame.map instead.\n",
      "  frame = frame.applymap(lambda x: x.split(' - price: ')[1].strip()\n"
     ]
    },
    {
     "name": "stdout",
     "output_type": "stream",
     "text": [
      "69\n",
      "1/1 [==============================] - 0s 93ms/step\n",
      "1/1 [==============================] - ETA: 0s"
     ]
    },
    {
     "name": "stderr",
     "output_type": "stream",
     "text": [
      "c:\\Users\\maxbr\\OneDrive\\Desktop\\CLVSim\\CLVSim\\CLV Sim\\Sim\\features.py:65: FutureWarning: DataFrame.applymap has been deprecated. Use DataFrame.map instead.\n",
      "  frame = frame.applymap(lambda x: x.split(' - price: ')[1].strip()\n",
      "c:\\Users\\maxbr\\OneDrive\\Desktop\\CLVSim\\CLVSim\\CLV Sim\\Sim\\features.py:65: FutureWarning: DataFrame.applymap has been deprecated. Use DataFrame.map instead.\n",
      "  frame = frame.applymap(lambda x: x.split(' - price: ')[1].strip()\n"
     ]
    },
    {
     "name": "stdout",
     "output_type": "stream",
     "text": [
      "1/1 [==============================] - 0s 17ms/step\n",
      "70\n",
      "1/1 [==============================] - 0s 96ms/step\n",
      "1/1 [==============================] - 0s 16ms/step\n"
     ]
    },
    {
     "name": "stderr",
     "output_type": "stream",
     "text": [
      "c:\\Users\\maxbr\\OneDrive\\Desktop\\CLVSim\\CLVSim\\CLV Sim\\Sim\\features.py:65: FutureWarning: DataFrame.applymap has been deprecated. Use DataFrame.map instead.\n",
      "  frame = frame.applymap(lambda x: x.split(' - price: ')[1].strip()\n",
      "c:\\Users\\maxbr\\OneDrive\\Desktop\\CLVSim\\CLVSim\\CLV Sim\\Sim\\features.py:65: FutureWarning: DataFrame.applymap has been deprecated. Use DataFrame.map instead.\n",
      "  frame = frame.applymap(lambda x: x.split(' - price: ')[1].strip()\n"
     ]
    },
    {
     "name": "stdout",
     "output_type": "stream",
     "text": [
      "71\n",
      "1/1 [==============================] - 0s 87ms/step\n",
      "1/1 [==============================] - ETA: 0s"
     ]
    },
    {
     "name": "stderr",
     "output_type": "stream",
     "text": [
      "c:\\Users\\maxbr\\OneDrive\\Desktop\\CLVSim\\CLVSim\\CLV Sim\\Sim\\features.py:65: FutureWarning: DataFrame.applymap has been deprecated. Use DataFrame.map instead.\n",
      "  frame = frame.applymap(lambda x: x.split(' - price: ')[1].strip()\n",
      "c:\\Users\\maxbr\\OneDrive\\Desktop\\CLVSim\\CLVSim\\CLV Sim\\Sim\\features.py:65: FutureWarning: DataFrame.applymap has been deprecated. Use DataFrame.map instead.\n",
      "  frame = frame.applymap(lambda x: x.split(' - price: ')[1].strip()\n"
     ]
    },
    {
     "name": "stdout",
     "output_type": "stream",
     "text": [
      "1/1 [==============================] - 0s 31ms/step\n",
      "72\n",
      "1/1 [==============================] - 0s 84ms/step\n",
      "1/1 [==============================] - 0s 16ms/step\n"
     ]
    },
    {
     "name": "stderr",
     "output_type": "stream",
     "text": [
      "c:\\Users\\maxbr\\OneDrive\\Desktop\\CLVSim\\CLVSim\\CLV Sim\\Sim\\features.py:65: FutureWarning: DataFrame.applymap has been deprecated. Use DataFrame.map instead.\n",
      "  frame = frame.applymap(lambda x: x.split(' - price: ')[1].strip()\n",
      "c:\\Users\\maxbr\\OneDrive\\Desktop\\CLVSim\\CLVSim\\CLV Sim\\Sim\\features.py:65: FutureWarning: DataFrame.applymap has been deprecated. Use DataFrame.map instead.\n",
      "  frame = frame.applymap(lambda x: x.split(' - price: ')[1].strip()\n"
     ]
    },
    {
     "name": "stdout",
     "output_type": "stream",
     "text": [
      "73\n",
      "1/1 [==============================] - 0s 85ms/step\n"
     ]
    },
    {
     "name": "stderr",
     "output_type": "stream",
     "text": [
      "c:\\Users\\maxbr\\OneDrive\\Desktop\\CLVSim\\CLVSim\\CLV Sim\\Sim\\features.py:65: FutureWarning: DataFrame.applymap has been deprecated. Use DataFrame.map instead.\n",
      "  frame = frame.applymap(lambda x: x.split(' - price: ')[1].strip()\n",
      "c:\\Users\\maxbr\\OneDrive\\Desktop\\CLVSim\\CLVSim\\CLV Sim\\Sim\\features.py:65: FutureWarning: DataFrame.applymap has been deprecated. Use DataFrame.map instead.\n",
      "  frame = frame.applymap(lambda x: x.split(' - price: ')[1].strip()\n"
     ]
    },
    {
     "name": "stdout",
     "output_type": "stream",
     "text": [
      "1/1 [==============================] - 0s 32ms/step\n",
      "74\n",
      "1/1 [==============================] - 0s 85ms/step\n",
      "1/1 [==============================] - 0s 33ms/step\n"
     ]
    },
    {
     "name": "stderr",
     "output_type": "stream",
     "text": [
      "c:\\Users\\maxbr\\OneDrive\\Desktop\\CLVSim\\CLVSim\\CLV Sim\\Sim\\features.py:65: FutureWarning: DataFrame.applymap has been deprecated. Use DataFrame.map instead.\n",
      "  frame = frame.applymap(lambda x: x.split(' - price: ')[1].strip()\n",
      "c:\\Users\\maxbr\\OneDrive\\Desktop\\CLVSim\\CLVSim\\CLV Sim\\Sim\\features.py:65: FutureWarning: DataFrame.applymap has been deprecated. Use DataFrame.map instead.\n",
      "  frame = frame.applymap(lambda x: x.split(' - price: ')[1].strip()\n"
     ]
    },
    {
     "name": "stdout",
     "output_type": "stream",
     "text": [
      "75\n",
      "1/1 [==============================] - 0s 83ms/step\n",
      "1/1 [==============================] - 0s 16ms/step\n"
     ]
    },
    {
     "name": "stderr",
     "output_type": "stream",
     "text": [
      "c:\\Users\\maxbr\\OneDrive\\Desktop\\CLVSim\\CLVSim\\CLV Sim\\Sim\\features.py:65: FutureWarning: DataFrame.applymap has been deprecated. Use DataFrame.map instead.\n",
      "  frame = frame.applymap(lambda x: x.split(' - price: ')[1].strip()\n",
      "c:\\Users\\maxbr\\OneDrive\\Desktop\\CLVSim\\CLVSim\\CLV Sim\\Sim\\features.py:65: FutureWarning: DataFrame.applymap has been deprecated. Use DataFrame.map instead.\n",
      "  frame = frame.applymap(lambda x: x.split(' - price: ')[1].strip()\n"
     ]
    },
    {
     "name": "stdout",
     "output_type": "stream",
     "text": [
      "76\n",
      "1/1 [==============================] - 0s 88ms/step\n"
     ]
    },
    {
     "name": "stderr",
     "output_type": "stream",
     "text": [
      "c:\\Users\\maxbr\\OneDrive\\Desktop\\CLVSim\\CLVSim\\CLV Sim\\Sim\\features.py:65: FutureWarning: DataFrame.applymap has been deprecated. Use DataFrame.map instead.\n",
      "  frame = frame.applymap(lambda x: x.split(' - price: ')[1].strip()\n",
      "c:\\Users\\maxbr\\OneDrive\\Desktop\\CLVSim\\CLVSim\\CLV Sim\\Sim\\features.py:65: FutureWarning: DataFrame.applymap has been deprecated. Use DataFrame.map instead.\n",
      "  frame = frame.applymap(lambda x: x.split(' - price: ')[1].strip()\n"
     ]
    },
    {
     "name": "stdout",
     "output_type": "stream",
     "text": [
      "1/1 [==============================] - 0s 16ms/step\n",
      "77\n",
      "1/1 [==============================] - 0s 86ms/step\n",
      "1/1 [==============================] - ETA: 0s"
     ]
    },
    {
     "name": "stderr",
     "output_type": "stream",
     "text": [
      "c:\\Users\\maxbr\\OneDrive\\Desktop\\CLVSim\\CLVSim\\CLV Sim\\Sim\\features.py:65: FutureWarning: DataFrame.applymap has been deprecated. Use DataFrame.map instead.\n",
      "  frame = frame.applymap(lambda x: x.split(' - price: ')[1].strip()\n",
      "c:\\Users\\maxbr\\OneDrive\\Desktop\\CLVSim\\CLVSim\\CLV Sim\\Sim\\features.py:65: FutureWarning: DataFrame.applymap has been deprecated. Use DataFrame.map instead.\n",
      "  frame = frame.applymap(lambda x: x.split(' - price: ')[1].strip()\n"
     ]
    },
    {
     "name": "stdout",
     "output_type": "stream",
     "text": [
      "1/1 [==============================] - 0s 17ms/step\n",
      "78\n",
      "1/1 [==============================] - 0s 83ms/step\n",
      "1/1 [==============================] - 0s 32ms/step\n"
     ]
    },
    {
     "name": "stderr",
     "output_type": "stream",
     "text": [
      "c:\\Users\\maxbr\\OneDrive\\Desktop\\CLVSim\\CLVSim\\CLV Sim\\Sim\\features.py:65: FutureWarning: DataFrame.applymap has been deprecated. Use DataFrame.map instead.\n",
      "  frame = frame.applymap(lambda x: x.split(' - price: ')[1].strip()\n",
      "c:\\Users\\maxbr\\OneDrive\\Desktop\\CLVSim\\CLVSim\\CLV Sim\\Sim\\features.py:65: FutureWarning: DataFrame.applymap has been deprecated. Use DataFrame.map instead.\n",
      "  frame = frame.applymap(lambda x: x.split(' - price: ')[1].strip()\n"
     ]
    },
    {
     "name": "stdout",
     "output_type": "stream",
     "text": [
      "79\n",
      "1/1 [==============================] - 0s 79ms/step\n"
     ]
    },
    {
     "name": "stderr",
     "output_type": "stream",
     "text": [
      "c:\\Users\\maxbr\\OneDrive\\Desktop\\CLVSim\\CLVSim\\CLV Sim\\Sim\\features.py:65: FutureWarning: DataFrame.applymap has been deprecated. Use DataFrame.map instead.\n",
      "  frame = frame.applymap(lambda x: x.split(' - price: ')[1].strip()\n",
      "c:\\Users\\maxbr\\OneDrive\\Desktop\\CLVSim\\CLVSim\\CLV Sim\\Sim\\features.py:65: FutureWarning: DataFrame.applymap has been deprecated. Use DataFrame.map instead.\n",
      "  frame = frame.applymap(lambda x: x.split(' - price: ')[1].strip()\n"
     ]
    },
    {
     "name": "stdout",
     "output_type": "stream",
     "text": [
      "1/1 [==============================] - 0s 21ms/step\n",
      "80\n",
      "1/1 [==============================] - 0s 102ms/step\n",
      "1/1 [==============================] - 0s 31ms/step\n"
     ]
    },
    {
     "name": "stderr",
     "output_type": "stream",
     "text": [
      "c:\\Users\\maxbr\\OneDrive\\Desktop\\CLVSim\\CLVSim\\CLV Sim\\Sim\\features.py:65: FutureWarning: DataFrame.applymap has been deprecated. Use DataFrame.map instead.\n",
      "  frame = frame.applymap(lambda x: x.split(' - price: ')[1].strip()\n",
      "c:\\Users\\maxbr\\OneDrive\\Desktop\\CLVSim\\CLVSim\\CLV Sim\\Sim\\features.py:65: FutureWarning: DataFrame.applymap has been deprecated. Use DataFrame.map instead.\n",
      "  frame = frame.applymap(lambda x: x.split(' - price: ')[1].strip()\n"
     ]
    },
    {
     "name": "stdout",
     "output_type": "stream",
     "text": [
      "81\n",
      "1/1 [==============================] - 0s 99ms/step\n",
      "1/1 [==============================] - ETA: 0s"
     ]
    },
    {
     "name": "stderr",
     "output_type": "stream",
     "text": [
      "c:\\Users\\maxbr\\OneDrive\\Desktop\\CLVSim\\CLVSim\\CLV Sim\\Sim\\features.py:65: FutureWarning: DataFrame.applymap has been deprecated. Use DataFrame.map instead.\n",
      "  frame = frame.applymap(lambda x: x.split(' - price: ')[1].strip()\n",
      "c:\\Users\\maxbr\\OneDrive\\Desktop\\CLVSim\\CLVSim\\CLV Sim\\Sim\\features.py:65: FutureWarning: DataFrame.applymap has been deprecated. Use DataFrame.map instead.\n",
      "  frame = frame.applymap(lambda x: x.split(' - price: ')[1].strip()\n"
     ]
    },
    {
     "name": "stdout",
     "output_type": "stream",
     "text": [
      "1/1 [==============================] - 0s 16ms/step\n",
      "82\n",
      "1/1 [==============================] - 0s 85ms/step\n",
      "1/1 [==============================] - 0s 29ms/step\n"
     ]
    },
    {
     "name": "stderr",
     "output_type": "stream",
     "text": [
      "c:\\Users\\maxbr\\OneDrive\\Desktop\\CLVSim\\CLVSim\\CLV Sim\\Sim\\features.py:65: FutureWarning: DataFrame.applymap has been deprecated. Use DataFrame.map instead.\n",
      "  frame = frame.applymap(lambda x: x.split(' - price: ')[1].strip()\n",
      "c:\\Users\\maxbr\\OneDrive\\Desktop\\CLVSim\\CLVSim\\CLV Sim\\Sim\\features.py:65: FutureWarning: DataFrame.applymap has been deprecated. Use DataFrame.map instead.\n",
      "  frame = frame.applymap(lambda x: x.split(' - price: ')[1].strip()\n"
     ]
    },
    {
     "name": "stdout",
     "output_type": "stream",
     "text": [
      "83\n",
      "1/1 [==============================] - 0s 85ms/step\n",
      "1/1 [==============================] - ETA: 0s"
     ]
    },
    {
     "name": "stderr",
     "output_type": "stream",
     "text": [
      "c:\\Users\\maxbr\\OneDrive\\Desktop\\CLVSim\\CLVSim\\CLV Sim\\Sim\\features.py:65: FutureWarning: DataFrame.applymap has been deprecated. Use DataFrame.map instead.\n",
      "  frame = frame.applymap(lambda x: x.split(' - price: ')[1].strip()\n",
      "c:\\Users\\maxbr\\OneDrive\\Desktop\\CLVSim\\CLVSim\\CLV Sim\\Sim\\features.py:65: FutureWarning: DataFrame.applymap has been deprecated. Use DataFrame.map instead.\n",
      "  frame = frame.applymap(lambda x: x.split(' - price: ')[1].strip()\n"
     ]
    },
    {
     "name": "stdout",
     "output_type": "stream",
     "text": [
      "1/1 [==============================] - 0s 31ms/step\n",
      "84\n",
      "1/1 [==============================] - 0s 82ms/step\n",
      "1/1 [==============================] - 0s 17ms/step\n"
     ]
    },
    {
     "name": "stderr",
     "output_type": "stream",
     "text": [
      "c:\\Users\\maxbr\\OneDrive\\Desktop\\CLVSim\\CLVSim\\CLV Sim\\Sim\\features.py:65: FutureWarning: DataFrame.applymap has been deprecated. Use DataFrame.map instead.\n",
      "  frame = frame.applymap(lambda x: x.split(' - price: ')[1].strip()\n",
      "c:\\Users\\maxbr\\OneDrive\\Desktop\\CLVSim\\CLVSim\\CLV Sim\\Sim\\features.py:65: FutureWarning: DataFrame.applymap has been deprecated. Use DataFrame.map instead.\n",
      "  frame = frame.applymap(lambda x: x.split(' - price: ')[1].strip()\n"
     ]
    },
    {
     "name": "stdout",
     "output_type": "stream",
     "text": [
      "85\n",
      "1/1 [==============================] - 0s 84ms/step\n"
     ]
    },
    {
     "name": "stderr",
     "output_type": "stream",
     "text": [
      "c:\\Users\\maxbr\\OneDrive\\Desktop\\CLVSim\\CLVSim\\CLV Sim\\Sim\\features.py:65: FutureWarning: DataFrame.applymap has been deprecated. Use DataFrame.map instead.\n",
      "  frame = frame.applymap(lambda x: x.split(' - price: ')[1].strip()\n",
      "c:\\Users\\maxbr\\OneDrive\\Desktop\\CLVSim\\CLVSim\\CLV Sim\\Sim\\features.py:65: FutureWarning: DataFrame.applymap has been deprecated. Use DataFrame.map instead.\n",
      "  frame = frame.applymap(lambda x: x.split(' - price: ')[1].strip()\n"
     ]
    },
    {
     "name": "stdout",
     "output_type": "stream",
     "text": [
      "1/1 [==============================] - 0s 16ms/step\n",
      "86\n",
      "1/1 [==============================] - 0s 84ms/step\n",
      "1/1 [==============================] - ETA: 0s"
     ]
    },
    {
     "name": "stderr",
     "output_type": "stream",
     "text": [
      "c:\\Users\\maxbr\\OneDrive\\Desktop\\CLVSim\\CLVSim\\CLV Sim\\Sim\\features.py:65: FutureWarning: DataFrame.applymap has been deprecated. Use DataFrame.map instead.\n",
      "  frame = frame.applymap(lambda x: x.split(' - price: ')[1].strip()\n",
      "c:\\Users\\maxbr\\OneDrive\\Desktop\\CLVSim\\CLVSim\\CLV Sim\\Sim\\features.py:65: FutureWarning: DataFrame.applymap has been deprecated. Use DataFrame.map instead.\n",
      "  frame = frame.applymap(lambda x: x.split(' - price: ')[1].strip()\n"
     ]
    },
    {
     "name": "stdout",
     "output_type": "stream",
     "text": [
      "1/1 [==============================] - 0s 18ms/step\n",
      "87\n",
      "1/1 [==============================] - 0s 86ms/step\n",
      "1/1 [==============================] - ETA: 0s"
     ]
    },
    {
     "name": "stderr",
     "output_type": "stream",
     "text": [
      "c:\\Users\\maxbr\\OneDrive\\Desktop\\CLVSim\\CLVSim\\CLV Sim\\Sim\\features.py:65: FutureWarning: DataFrame.applymap has been deprecated. Use DataFrame.map instead.\n",
      "  frame = frame.applymap(lambda x: x.split(' - price: ')[1].strip()\n",
      "c:\\Users\\maxbr\\OneDrive\\Desktop\\CLVSim\\CLVSim\\CLV Sim\\Sim\\features.py:65: FutureWarning: DataFrame.applymap has been deprecated. Use DataFrame.map instead.\n",
      "  frame = frame.applymap(lambda x: x.split(' - price: ')[1].strip()\n"
     ]
    },
    {
     "name": "stdout",
     "output_type": "stream",
     "text": [
      "1/1 [==============================] - 0s 22ms/step\n",
      "88\n",
      "1/1 [==============================] - 0s 92ms/step\n"
     ]
    },
    {
     "name": "stderr",
     "output_type": "stream",
     "text": [
      "c:\\Users\\maxbr\\OneDrive\\Desktop\\CLVSim\\CLVSim\\CLV Sim\\Sim\\features.py:65: FutureWarning: DataFrame.applymap has been deprecated. Use DataFrame.map instead.\n",
      "  frame = frame.applymap(lambda x: x.split(' - price: ')[1].strip()\n",
      "c:\\Users\\maxbr\\OneDrive\\Desktop\\CLVSim\\CLVSim\\CLV Sim\\Sim\\features.py:65: FutureWarning: DataFrame.applymap has been deprecated. Use DataFrame.map instead.\n",
      "  frame = frame.applymap(lambda x: x.split(' - price: ')[1].strip()\n"
     ]
    },
    {
     "name": "stdout",
     "output_type": "stream",
     "text": [
      "1/1 [==============================] - 0s 17ms/step\n",
      "89\n",
      "1/1 [==============================] - 0s 87ms/step\n",
      "1/1 [==============================] - 0s 16ms/step\n"
     ]
    },
    {
     "name": "stderr",
     "output_type": "stream",
     "text": [
      "c:\\Users\\maxbr\\OneDrive\\Desktop\\CLVSim\\CLVSim\\CLV Sim\\Sim\\features.py:65: FutureWarning: DataFrame.applymap has been deprecated. Use DataFrame.map instead.\n",
      "  frame = frame.applymap(lambda x: x.split(' - price: ')[1].strip()\n",
      "c:\\Users\\maxbr\\OneDrive\\Desktop\\CLVSim\\CLVSim\\CLV Sim\\Sim\\features.py:65: FutureWarning: DataFrame.applymap has been deprecated. Use DataFrame.map instead.\n",
      "  frame = frame.applymap(lambda x: x.split(' - price: ')[1].strip()\n"
     ]
    },
    {
     "name": "stdout",
     "output_type": "stream",
     "text": [
      "90\n",
      "1/1 [==============================] - 0s 94ms/step\n",
      "1/1 [==============================] - ETA: 0s"
     ]
    },
    {
     "name": "stderr",
     "output_type": "stream",
     "text": [
      "c:\\Users\\maxbr\\OneDrive\\Desktop\\CLVSim\\CLVSim\\CLV Sim\\Sim\\features.py:65: FutureWarning: DataFrame.applymap has been deprecated. Use DataFrame.map instead.\n",
      "  frame = frame.applymap(lambda x: x.split(' - price: ')[1].strip()\n",
      "c:\\Users\\maxbr\\OneDrive\\Desktop\\CLVSim\\CLVSim\\CLV Sim\\Sim\\features.py:65: FutureWarning: DataFrame.applymap has been deprecated. Use DataFrame.map instead.\n",
      "  frame = frame.applymap(lambda x: x.split(' - price: ')[1].strip()\n"
     ]
    },
    {
     "name": "stdout",
     "output_type": "stream",
     "text": [
      "1/1 [==============================] - 0s 16ms/step\n",
      "91\n",
      "1/1 [==============================] - 0s 87ms/step\n",
      "1/1 [==============================] - 0s 16ms/step\n"
     ]
    },
    {
     "name": "stderr",
     "output_type": "stream",
     "text": [
      "c:\\Users\\maxbr\\OneDrive\\Desktop\\CLVSim\\CLVSim\\CLV Sim\\Sim\\features.py:65: FutureWarning: DataFrame.applymap has been deprecated. Use DataFrame.map instead.\n",
      "  frame = frame.applymap(lambda x: x.split(' - price: ')[1].strip()\n",
      "c:\\Users\\maxbr\\OneDrive\\Desktop\\CLVSim\\CLVSim\\CLV Sim\\Sim\\features.py:65: FutureWarning: DataFrame.applymap has been deprecated. Use DataFrame.map instead.\n",
      "  frame = frame.applymap(lambda x: x.split(' - price: ')[1].strip()\n"
     ]
    },
    {
     "name": "stdout",
     "output_type": "stream",
     "text": [
      "92\n",
      "1/1 [==============================] - 0s 88ms/step\n",
      "1/1 [==============================] - 0s 32ms/step\n"
     ]
    },
    {
     "name": "stderr",
     "output_type": "stream",
     "text": [
      "c:\\Users\\maxbr\\OneDrive\\Desktop\\CLVSim\\CLVSim\\CLV Sim\\Sim\\features.py:65: FutureWarning: DataFrame.applymap has been deprecated. Use DataFrame.map instead.\n",
      "  frame = frame.applymap(lambda x: x.split(' - price: ')[1].strip()\n",
      "c:\\Users\\maxbr\\OneDrive\\Desktop\\CLVSim\\CLVSim\\CLV Sim\\Sim\\features.py:65: FutureWarning: DataFrame.applymap has been deprecated. Use DataFrame.map instead.\n",
      "  frame = frame.applymap(lambda x: x.split(' - price: ')[1].strip()\n"
     ]
    },
    {
     "name": "stdout",
     "output_type": "stream",
     "text": [
      "93\n",
      "1/1 [==============================] - 0s 96ms/step\n"
     ]
    },
    {
     "name": "stderr",
     "output_type": "stream",
     "text": [
      "c:\\Users\\maxbr\\OneDrive\\Desktop\\CLVSim\\CLVSim\\CLV Sim\\Sim\\features.py:65: FutureWarning: DataFrame.applymap has been deprecated. Use DataFrame.map instead.\n",
      "  frame = frame.applymap(lambda x: x.split(' - price: ')[1].strip()\n",
      "c:\\Users\\maxbr\\OneDrive\\Desktop\\CLVSim\\CLVSim\\CLV Sim\\Sim\\features.py:65: FutureWarning: DataFrame.applymap has been deprecated. Use DataFrame.map instead.\n",
      "  frame = frame.applymap(lambda x: x.split(' - price: ')[1].strip()\n"
     ]
    },
    {
     "name": "stdout",
     "output_type": "stream",
     "text": [
      "1/1 [==============================] - 0s 32ms/step\n",
      "94\n",
      "1/1 [==============================] - 0s 78ms/step\n"
     ]
    },
    {
     "name": "stderr",
     "output_type": "stream",
     "text": [
      "c:\\Users\\maxbr\\OneDrive\\Desktop\\CLVSim\\CLVSim\\CLV Sim\\Sim\\features.py:65: FutureWarning: DataFrame.applymap has been deprecated. Use DataFrame.map instead.\n",
      "  frame = frame.applymap(lambda x: x.split(' - price: ')[1].strip()\n",
      "c:\\Users\\maxbr\\OneDrive\\Desktop\\CLVSim\\CLVSim\\CLV Sim\\Sim\\features.py:65: FutureWarning: DataFrame.applymap has been deprecated. Use DataFrame.map instead.\n",
      "  frame = frame.applymap(lambda x: x.split(' - price: ')[1].strip()\n"
     ]
    },
    {
     "name": "stdout",
     "output_type": "stream",
     "text": [
      "1/1 [==============================] - 0s 16ms/step\n",
      "95\n",
      "1/1 [==============================] - 0s 87ms/step\n",
      "1/1 [==============================] - ETA: 0s"
     ]
    },
    {
     "name": "stderr",
     "output_type": "stream",
     "text": [
      "c:\\Users\\maxbr\\OneDrive\\Desktop\\CLVSim\\CLVSim\\CLV Sim\\Sim\\features.py:65: FutureWarning: DataFrame.applymap has been deprecated. Use DataFrame.map instead.\n",
      "  frame = frame.applymap(lambda x: x.split(' - price: ')[1].strip()\n",
      "c:\\Users\\maxbr\\OneDrive\\Desktop\\CLVSim\\CLVSim\\CLV Sim\\Sim\\features.py:65: FutureWarning: DataFrame.applymap has been deprecated. Use DataFrame.map instead.\n",
      "  frame = frame.applymap(lambda x: x.split(' - price: ')[1].strip()\n"
     ]
    },
    {
     "name": "stdout",
     "output_type": "stream",
     "text": [
      "1/1 [==============================] - 0s 16ms/step\n",
      "96\n",
      "1/1 [==============================] - 0s 81ms/step\n",
      "1/1 [==============================] - 0s 16ms/step\n"
     ]
    },
    {
     "name": "stderr",
     "output_type": "stream",
     "text": [
      "c:\\Users\\maxbr\\OneDrive\\Desktop\\CLVSim\\CLVSim\\CLV Sim\\Sim\\features.py:65: FutureWarning: DataFrame.applymap has been deprecated. Use DataFrame.map instead.\n",
      "  frame = frame.applymap(lambda x: x.split(' - price: ')[1].strip()\n",
      "c:\\Users\\maxbr\\OneDrive\\Desktop\\CLVSim\\CLVSim\\CLV Sim\\Sim\\features.py:65: FutureWarning: DataFrame.applymap has been deprecated. Use DataFrame.map instead.\n",
      "  frame = frame.applymap(lambda x: x.split(' - price: ')[1].strip()\n"
     ]
    },
    {
     "name": "stdout",
     "output_type": "stream",
     "text": [
      "97\n",
      "1/1 [==============================] - 0s 85ms/step\n"
     ]
    },
    {
     "name": "stderr",
     "output_type": "stream",
     "text": [
      "c:\\Users\\maxbr\\OneDrive\\Desktop\\CLVSim\\CLVSim\\CLV Sim\\Sim\\features.py:65: FutureWarning: DataFrame.applymap has been deprecated. Use DataFrame.map instead.\n",
      "  frame = frame.applymap(lambda x: x.split(' - price: ')[1].strip()\n",
      "c:\\Users\\maxbr\\OneDrive\\Desktop\\CLVSim\\CLVSim\\CLV Sim\\Sim\\features.py:65: FutureWarning: DataFrame.applymap has been deprecated. Use DataFrame.map instead.\n",
      "  frame = frame.applymap(lambda x: x.split(' - price: ')[1].strip()\n"
     ]
    },
    {
     "name": "stdout",
     "output_type": "stream",
     "text": [
      "1/1 [==============================] - 0s 31ms/step\n",
      "98\n",
      "1/1 [==============================] - 0s 81ms/step\n"
     ]
    },
    {
     "name": "stderr",
     "output_type": "stream",
     "text": [
      "c:\\Users\\maxbr\\OneDrive\\Desktop\\CLVSim\\CLVSim\\CLV Sim\\Sim\\features.py:65: FutureWarning: DataFrame.applymap has been deprecated. Use DataFrame.map instead.\n",
      "  frame = frame.applymap(lambda x: x.split(' - price: ')[1].strip()\n",
      "c:\\Users\\maxbr\\OneDrive\\Desktop\\CLVSim\\CLVSim\\CLV Sim\\Sim\\features.py:65: FutureWarning: DataFrame.applymap has been deprecated. Use DataFrame.map instead.\n",
      "  frame = frame.applymap(lambda x: x.split(' - price: ')[1].strip()\n"
     ]
    },
    {
     "name": "stdout",
     "output_type": "stream",
     "text": [
      "1/1 [==============================] - 0s 15ms/step\n",
      "99\n",
      "1/1 [==============================] - 0s 84ms/step\n",
      "1/1 [==============================] - 0s 16ms/step\n"
     ]
    },
    {
     "name": "stderr",
     "output_type": "stream",
     "text": [
      "c:\\Users\\maxbr\\OneDrive\\Desktop\\CLVSim\\CLVSim\\CLV Sim\\Sim\\features.py:65: FutureWarning: DataFrame.applymap has been deprecated. Use DataFrame.map instead.\n",
      "  frame = frame.applymap(lambda x: x.split(' - price: ')[1].strip()\n",
      "c:\\Users\\maxbr\\OneDrive\\Desktop\\CLVSim\\CLVSim\\CLV Sim\\Sim\\features.py:65: FutureWarning: DataFrame.applymap has been deprecated. Use DataFrame.map instead.\n",
      "  frame = frame.applymap(lambda x: x.split(' - price: ')[1].strip()\n"
     ]
    },
    {
     "name": "stdout",
     "output_type": "stream",
     "text": [
      "100\n",
      "1/1 [==============================] - 0s 89ms/step\n",
      "1/1 [==============================] - 0s 31ms/step\n"
     ]
    },
    {
     "name": "stderr",
     "output_type": "stream",
     "text": [
      "c:\\Users\\maxbr\\OneDrive\\Desktop\\CLVSim\\CLVSim\\CLV Sim\\Sim\\features.py:65: FutureWarning: DataFrame.applymap has been deprecated. Use DataFrame.map instead.\n",
      "  frame = frame.applymap(lambda x: x.split(' - price: ')[1].strip()\n",
      "c:\\Users\\maxbr\\OneDrive\\Desktop\\CLVSim\\CLVSim\\CLV Sim\\Sim\\features.py:65: FutureWarning: DataFrame.applymap has been deprecated. Use DataFrame.map instead.\n",
      "  frame = frame.applymap(lambda x: x.split(' - price: ')[1].strip()\n"
     ]
    },
    {
     "name": "stdout",
     "output_type": "stream",
     "text": [
      "101\n",
      "1/1 [==============================] - 0s 78ms/step\n"
     ]
    },
    {
     "name": "stderr",
     "output_type": "stream",
     "text": [
      "c:\\Users\\maxbr\\OneDrive\\Desktop\\CLVSim\\CLVSim\\CLV Sim\\Sim\\features.py:65: FutureWarning: DataFrame.applymap has been deprecated. Use DataFrame.map instead.\n",
      "  frame = frame.applymap(lambda x: x.split(' - price: ')[1].strip()\n",
      "c:\\Users\\maxbr\\OneDrive\\Desktop\\CLVSim\\CLVSim\\CLV Sim\\Sim\\features.py:65: FutureWarning: DataFrame.applymap has been deprecated. Use DataFrame.map instead.\n",
      "  frame = frame.applymap(lambda x: x.split(' - price: ')[1].strip()\n"
     ]
    },
    {
     "name": "stdout",
     "output_type": "stream",
     "text": [
      "1/1 [==============================] - 0s 16ms/step\n",
      "102\n",
      "1/1 [==============================] - 0s 82ms/step\n",
      "1/1 [==============================] - ETA: 0s"
     ]
    },
    {
     "name": "stderr",
     "output_type": "stream",
     "text": [
      "c:\\Users\\maxbr\\OneDrive\\Desktop\\CLVSim\\CLVSim\\CLV Sim\\Sim\\features.py:65: FutureWarning: DataFrame.applymap has been deprecated. Use DataFrame.map instead.\n",
      "  frame = frame.applymap(lambda x: x.split(' - price: ')[1].strip()\n",
      "c:\\Users\\maxbr\\OneDrive\\Desktop\\CLVSim\\CLVSim\\CLV Sim\\Sim\\features.py:65: FutureWarning: DataFrame.applymap has been deprecated. Use DataFrame.map instead.\n",
      "  frame = frame.applymap(lambda x: x.split(' - price: ')[1].strip()\n"
     ]
    },
    {
     "name": "stdout",
     "output_type": "stream",
     "text": [
      "1/1 [==============================] - 0s 19ms/step\n",
      "103\n",
      "1/1 [==============================] - 0s 89ms/step\n",
      "1/1 [==============================] - 0s 26ms/step\n"
     ]
    },
    {
     "name": "stderr",
     "output_type": "stream",
     "text": [
      "c:\\Users\\maxbr\\OneDrive\\Desktop\\CLVSim\\CLVSim\\CLV Sim\\Sim\\features.py:65: FutureWarning: DataFrame.applymap has been deprecated. Use DataFrame.map instead.\n",
      "  frame = frame.applymap(lambda x: x.split(' - price: ')[1].strip()\n",
      "c:\\Users\\maxbr\\OneDrive\\Desktop\\CLVSim\\CLVSim\\CLV Sim\\Sim\\features.py:65: FutureWarning: DataFrame.applymap has been deprecated. Use DataFrame.map instead.\n",
      "  frame = frame.applymap(lambda x: x.split(' - price: ')[1].strip()\n"
     ]
    },
    {
     "name": "stdout",
     "output_type": "stream",
     "text": [
      "104\n",
      "1/1 [==============================] - 0s 90ms/step\n",
      "1/1 [==============================] - ETA: 0s"
     ]
    },
    {
     "name": "stderr",
     "output_type": "stream",
     "text": [
      "c:\\Users\\maxbr\\OneDrive\\Desktop\\CLVSim\\CLVSim\\CLV Sim\\Sim\\features.py:65: FutureWarning: DataFrame.applymap has been deprecated. Use DataFrame.map instead.\n",
      "  frame = frame.applymap(lambda x: x.split(' - price: ')[1].strip()\n",
      "c:\\Users\\maxbr\\OneDrive\\Desktop\\CLVSim\\CLVSim\\CLV Sim\\Sim\\features.py:65: FutureWarning: DataFrame.applymap has been deprecated. Use DataFrame.map instead.\n",
      "  frame = frame.applymap(lambda x: x.split(' - price: ')[1].strip()\n"
     ]
    },
    {
     "name": "stdout",
     "output_type": "stream",
     "text": [
      "1/1 [==============================] - 0s 16ms/step\n",
      "105\n",
      "1/1 [==============================] - 0s 84ms/step\n"
     ]
    },
    {
     "name": "stderr",
     "output_type": "stream",
     "text": [
      "c:\\Users\\maxbr\\OneDrive\\Desktop\\CLVSim\\CLVSim\\CLV Sim\\Sim\\features.py:65: FutureWarning: DataFrame.applymap has been deprecated. Use DataFrame.map instead.\n",
      "  frame = frame.applymap(lambda x: x.split(' - price: ')[1].strip()\n",
      "c:\\Users\\maxbr\\OneDrive\\Desktop\\CLVSim\\CLVSim\\CLV Sim\\Sim\\features.py:65: FutureWarning: DataFrame.applymap has been deprecated. Use DataFrame.map instead.\n",
      "  frame = frame.applymap(lambda x: x.split(' - price: ')[1].strip()\n"
     ]
    },
    {
     "name": "stdout",
     "output_type": "stream",
     "text": [
      "1/1 [==============================] - 0s 16ms/step\n",
      "106\n",
      "1/1 [==============================] - 0s 86ms/step\n",
      "1/1 [==============================] - ETA: 0s"
     ]
    },
    {
     "name": "stderr",
     "output_type": "stream",
     "text": [
      "c:\\Users\\maxbr\\OneDrive\\Desktop\\CLVSim\\CLVSim\\CLV Sim\\Sim\\features.py:65: FutureWarning: DataFrame.applymap has been deprecated. Use DataFrame.map instead.\n",
      "  frame = frame.applymap(lambda x: x.split(' - price: ')[1].strip()\n",
      "c:\\Users\\maxbr\\OneDrive\\Desktop\\CLVSim\\CLVSim\\CLV Sim\\Sim\\features.py:65: FutureWarning: DataFrame.applymap has been deprecated. Use DataFrame.map instead.\n",
      "  frame = frame.applymap(lambda x: x.split(' - price: ')[1].strip()\n"
     ]
    },
    {
     "name": "stdout",
     "output_type": "stream",
     "text": [
      "1/1 [==============================] - 0s 32ms/step\n",
      "107\n",
      "1/1 [==============================] - 0s 87ms/step\n",
      "1/1 [==============================] - 0s 16ms/step\n"
     ]
    },
    {
     "name": "stderr",
     "output_type": "stream",
     "text": [
      "c:\\Users\\maxbr\\OneDrive\\Desktop\\CLVSim\\CLVSim\\CLV Sim\\Sim\\features.py:65: FutureWarning: DataFrame.applymap has been deprecated. Use DataFrame.map instead.\n",
      "  frame = frame.applymap(lambda x: x.split(' - price: ')[1].strip()\n",
      "c:\\Users\\maxbr\\OneDrive\\Desktop\\CLVSim\\CLVSim\\CLV Sim\\Sim\\features.py:65: FutureWarning: DataFrame.applymap has been deprecated. Use DataFrame.map instead.\n",
      "  frame = frame.applymap(lambda x: x.split(' - price: ')[1].strip()\n"
     ]
    },
    {
     "name": "stdout",
     "output_type": "stream",
     "text": [
      "108\n",
      "1/1 [==============================] - 0s 83ms/step\n"
     ]
    },
    {
     "name": "stderr",
     "output_type": "stream",
     "text": [
      "c:\\Users\\maxbr\\OneDrive\\Desktop\\CLVSim\\CLVSim\\CLV Sim\\Sim\\features.py:65: FutureWarning: DataFrame.applymap has been deprecated. Use DataFrame.map instead.\n",
      "  frame = frame.applymap(lambda x: x.split(' - price: ')[1].strip()\n",
      "c:\\Users\\maxbr\\OneDrive\\Desktop\\CLVSim\\CLVSim\\CLV Sim\\Sim\\features.py:65: FutureWarning: DataFrame.applymap has been deprecated. Use DataFrame.map instead.\n",
      "  frame = frame.applymap(lambda x: x.split(' - price: ')[1].strip()\n"
     ]
    },
    {
     "name": "stdout",
     "output_type": "stream",
     "text": [
      "1/1 [==============================] - 0s 18ms/step\n",
      "109\n",
      "1/1 [==============================] - 0s 82ms/step\n",
      "1/1 [==============================] - ETA: 0s"
     ]
    },
    {
     "name": "stderr",
     "output_type": "stream",
     "text": [
      "c:\\Users\\maxbr\\OneDrive\\Desktop\\CLVSim\\CLVSim\\CLV Sim\\Sim\\features.py:65: FutureWarning: DataFrame.applymap has been deprecated. Use DataFrame.map instead.\n",
      "  frame = frame.applymap(lambda x: x.split(' - price: ')[1].strip()\n",
      "c:\\Users\\maxbr\\OneDrive\\Desktop\\CLVSim\\CLVSim\\CLV Sim\\Sim\\features.py:65: FutureWarning: DataFrame.applymap has been deprecated. Use DataFrame.map instead.\n",
      "  frame = frame.applymap(lambda x: x.split(' - price: ')[1].strip()\n"
     ]
    },
    {
     "name": "stdout",
     "output_type": "stream",
     "text": [
      "1/1 [==============================] - 0s 20ms/step\n",
      "110\n",
      "1/1 [==============================] - 0s 103ms/step\n",
      "1/1 [==============================] - 0s 16ms/step\n"
     ]
    },
    {
     "name": "stderr",
     "output_type": "stream",
     "text": [
      "c:\\Users\\maxbr\\OneDrive\\Desktop\\CLVSim\\CLVSim\\CLV Sim\\Sim\\features.py:65: FutureWarning: DataFrame.applymap has been deprecated. Use DataFrame.map instead.\n",
      "  frame = frame.applymap(lambda x: x.split(' - price: ')[1].strip()\n",
      "c:\\Users\\maxbr\\OneDrive\\Desktop\\CLVSim\\CLVSim\\CLV Sim\\Sim\\features.py:65: FutureWarning: DataFrame.applymap has been deprecated. Use DataFrame.map instead.\n",
      "  frame = frame.applymap(lambda x: x.split(' - price: ')[1].strip()\n"
     ]
    },
    {
     "name": "stdout",
     "output_type": "stream",
     "text": [
      "111\n",
      "1/1 [==============================] - 0s 79ms/step\n",
      "1/1 [==============================] - 0s 16ms/step\n"
     ]
    },
    {
     "name": "stderr",
     "output_type": "stream",
     "text": [
      "c:\\Users\\maxbr\\OneDrive\\Desktop\\CLVSim\\CLVSim\\CLV Sim\\Sim\\features.py:65: FutureWarning: DataFrame.applymap has been deprecated. Use DataFrame.map instead.\n",
      "  frame = frame.applymap(lambda x: x.split(' - price: ')[1].strip()\n",
      "c:\\Users\\maxbr\\OneDrive\\Desktop\\CLVSim\\CLVSim\\CLV Sim\\Sim\\features.py:65: FutureWarning: DataFrame.applymap has been deprecated. Use DataFrame.map instead.\n",
      "  frame = frame.applymap(lambda x: x.split(' - price: ')[1].strip()\n"
     ]
    },
    {
     "name": "stdout",
     "output_type": "stream",
     "text": [
      "112\n",
      "1/1 [==============================] - 0s 88ms/step\n"
     ]
    },
    {
     "name": "stderr",
     "output_type": "stream",
     "text": [
      "c:\\Users\\maxbr\\OneDrive\\Desktop\\CLVSim\\CLVSim\\CLV Sim\\Sim\\features.py:65: FutureWarning: DataFrame.applymap has been deprecated. Use DataFrame.map instead.\n",
      "  frame = frame.applymap(lambda x: x.split(' - price: ')[1].strip()\n",
      "c:\\Users\\maxbr\\OneDrive\\Desktop\\CLVSim\\CLVSim\\CLV Sim\\Sim\\features.py:65: FutureWarning: DataFrame.applymap has been deprecated. Use DataFrame.map instead.\n",
      "  frame = frame.applymap(lambda x: x.split(' - price: ')[1].strip()\n"
     ]
    },
    {
     "name": "stdout",
     "output_type": "stream",
     "text": [
      "1/1 [==============================] - 0s 16ms/step\n",
      "113\n",
      "1/1 [==============================] - 0s 85ms/step\n",
      "1/1 [==============================] - ETA: 0s"
     ]
    },
    {
     "name": "stderr",
     "output_type": "stream",
     "text": [
      "c:\\Users\\maxbr\\OneDrive\\Desktop\\CLVSim\\CLVSim\\CLV Sim\\Sim\\features.py:65: FutureWarning: DataFrame.applymap has been deprecated. Use DataFrame.map instead.\n",
      "  frame = frame.applymap(lambda x: x.split(' - price: ')[1].strip()\n",
      "c:\\Users\\maxbr\\OneDrive\\Desktop\\CLVSim\\CLVSim\\CLV Sim\\Sim\\features.py:65: FutureWarning: DataFrame.applymap has been deprecated. Use DataFrame.map instead.\n",
      "  frame = frame.applymap(lambda x: x.split(' - price: ')[1].strip()\n"
     ]
    },
    {
     "name": "stdout",
     "output_type": "stream",
     "text": [
      "1/1 [==============================] - 0s 29ms/step\n",
      "114\n",
      "1/1 [==============================] - 0s 92ms/step\n",
      "1/1 [==============================] - 0s 19ms/step\n"
     ]
    },
    {
     "name": "stderr",
     "output_type": "stream",
     "text": [
      "c:\\Users\\maxbr\\OneDrive\\Desktop\\CLVSim\\CLVSim\\CLV Sim\\Sim\\features.py:65: FutureWarning: DataFrame.applymap has been deprecated. Use DataFrame.map instead.\n",
      "  frame = frame.applymap(lambda x: x.split(' - price: ')[1].strip()\n",
      "c:\\Users\\maxbr\\OneDrive\\Desktop\\CLVSim\\CLVSim\\CLV Sim\\Sim\\features.py:65: FutureWarning: DataFrame.applymap has been deprecated. Use DataFrame.map instead.\n",
      "  frame = frame.applymap(lambda x: x.split(' - price: ')[1].strip()\n"
     ]
    },
    {
     "name": "stdout",
     "output_type": "stream",
     "text": [
      "115\n",
      "1/1 [==============================] - 0s 85ms/step\n",
      "1/1 [==============================] - 0s 33ms/step\n"
     ]
    },
    {
     "name": "stderr",
     "output_type": "stream",
     "text": [
      "c:\\Users\\maxbr\\OneDrive\\Desktop\\CLVSim\\CLVSim\\CLV Sim\\Sim\\features.py:65: FutureWarning: DataFrame.applymap has been deprecated. Use DataFrame.map instead.\n",
      "  frame = frame.applymap(lambda x: x.split(' - price: ')[1].strip()\n",
      "c:\\Users\\maxbr\\OneDrive\\Desktop\\CLVSim\\CLVSim\\CLV Sim\\Sim\\features.py:65: FutureWarning: DataFrame.applymap has been deprecated. Use DataFrame.map instead.\n",
      "  frame = frame.applymap(lambda x: x.split(' - price: ')[1].strip()\n"
     ]
    },
    {
     "name": "stdout",
     "output_type": "stream",
     "text": [
      "116\n",
      "1/1 [==============================] - 0s 79ms/step\n",
      "1/1 [==============================] - ETA: 0s"
     ]
    },
    {
     "name": "stderr",
     "output_type": "stream",
     "text": [
      "c:\\Users\\maxbr\\OneDrive\\Desktop\\CLVSim\\CLVSim\\CLV Sim\\Sim\\features.py:65: FutureWarning: DataFrame.applymap has been deprecated. Use DataFrame.map instead.\n",
      "  frame = frame.applymap(lambda x: x.split(' - price: ')[1].strip()\n",
      "c:\\Users\\maxbr\\OneDrive\\Desktop\\CLVSim\\CLVSim\\CLV Sim\\Sim\\features.py:65: FutureWarning: DataFrame.applymap has been deprecated. Use DataFrame.map instead.\n",
      "  frame = frame.applymap(lambda x: x.split(' - price: ')[1].strip()\n"
     ]
    },
    {
     "name": "stdout",
     "output_type": "stream",
     "text": [
      "1/1 [==============================] - 0s 16ms/step\n",
      "117\n",
      "1/1 [==============================] - 0s 78ms/step\n",
      "1/1 [==============================] - 0s 16ms/step\n"
     ]
    },
    {
     "name": "stderr",
     "output_type": "stream",
     "text": [
      "c:\\Users\\maxbr\\OneDrive\\Desktop\\CLVSim\\CLVSim\\CLV Sim\\Sim\\features.py:65: FutureWarning: DataFrame.applymap has been deprecated. Use DataFrame.map instead.\n",
      "  frame = frame.applymap(lambda x: x.split(' - price: ')[1].strip()\n",
      "c:\\Users\\maxbr\\OneDrive\\Desktop\\CLVSim\\CLVSim\\CLV Sim\\Sim\\features.py:65: FutureWarning: DataFrame.applymap has been deprecated. Use DataFrame.map instead.\n",
      "  frame = frame.applymap(lambda x: x.split(' - price: ')[1].strip()\n"
     ]
    },
    {
     "name": "stdout",
     "output_type": "stream",
     "text": [
      "118\n",
      "1/1 [==============================] - 0s 103ms/step\n",
      "1/1 [==============================] - ETA: 0s"
     ]
    },
    {
     "name": "stderr",
     "output_type": "stream",
     "text": [
      "c:\\Users\\maxbr\\OneDrive\\Desktop\\CLVSim\\CLVSim\\CLV Sim\\Sim\\features.py:65: FutureWarning: DataFrame.applymap has been deprecated. Use DataFrame.map instead.\n",
      "  frame = frame.applymap(lambda x: x.split(' - price: ')[1].strip()\n",
      "c:\\Users\\maxbr\\OneDrive\\Desktop\\CLVSim\\CLVSim\\CLV Sim\\Sim\\features.py:65: FutureWarning: DataFrame.applymap has been deprecated. Use DataFrame.map instead.\n",
      "  frame = frame.applymap(lambda x: x.split(' - price: ')[1].strip()\n"
     ]
    },
    {
     "name": "stdout",
     "output_type": "stream",
     "text": [
      "1/1 [==============================] - 0s 31ms/step\n",
      "119\n",
      "1/1 [==============================] - 0s 99ms/step\n"
     ]
    },
    {
     "name": "stderr",
     "output_type": "stream",
     "text": [
      "c:\\Users\\maxbr\\OneDrive\\Desktop\\CLVSim\\CLVSim\\CLV Sim\\Sim\\features.py:65: FutureWarning: DataFrame.applymap has been deprecated. Use DataFrame.map instead.\n",
      "  frame = frame.applymap(lambda x: x.split(' - price: ')[1].strip()\n",
      "c:\\Users\\maxbr\\OneDrive\\Desktop\\CLVSim\\CLVSim\\CLV Sim\\Sim\\features.py:65: FutureWarning: DataFrame.applymap has been deprecated. Use DataFrame.map instead.\n",
      "  frame = frame.applymap(lambda x: x.split(' - price: ')[1].strip()\n"
     ]
    },
    {
     "name": "stdout",
     "output_type": "stream",
     "text": [
      "1/1 [==============================] - 0s 16ms/step\n",
      "120\n",
      "1/1 [==============================] - 0s 84ms/step\n",
      "1/1 [==============================] - ETA: 0s"
     ]
    },
    {
     "name": "stderr",
     "output_type": "stream",
     "text": [
      "c:\\Users\\maxbr\\OneDrive\\Desktop\\CLVSim\\CLVSim\\CLV Sim\\Sim\\features.py:65: FutureWarning: DataFrame.applymap has been deprecated. Use DataFrame.map instead.\n",
      "  frame = frame.applymap(lambda x: x.split(' - price: ')[1].strip()\n",
      "c:\\Users\\maxbr\\OneDrive\\Desktop\\CLVSim\\CLVSim\\CLV Sim\\Sim\\features.py:65: FutureWarning: DataFrame.applymap has been deprecated. Use DataFrame.map instead.\n",
      "  frame = frame.applymap(lambda x: x.split(' - price: ')[1].strip()\n"
     ]
    },
    {
     "name": "stdout",
     "output_type": "stream",
     "text": [
      "1/1 [==============================] - 0s 30ms/step\n",
      "121\n",
      "1/1 [==============================] - 0s 81ms/step\n",
      "1/1 [==============================] - 0s 17ms/step\n"
     ]
    },
    {
     "name": "stderr",
     "output_type": "stream",
     "text": [
      "c:\\Users\\maxbr\\OneDrive\\Desktop\\CLVSim\\CLVSim\\CLV Sim\\Sim\\features.py:65: FutureWarning: DataFrame.applymap has been deprecated. Use DataFrame.map instead.\n",
      "  frame = frame.applymap(lambda x: x.split(' - price: ')[1].strip()\n",
      "c:\\Users\\maxbr\\OneDrive\\Desktop\\CLVSim\\CLVSim\\CLV Sim\\Sim\\features.py:65: FutureWarning: DataFrame.applymap has been deprecated. Use DataFrame.map instead.\n",
      "  frame = frame.applymap(lambda x: x.split(' - price: ')[1].strip()\n"
     ]
    },
    {
     "name": "stdout",
     "output_type": "stream",
     "text": [
      "122\n",
      "1/1 [==============================] - 0s 79ms/step\n",
      "1/1 [==============================] - 0s 16ms/step\n"
     ]
    },
    {
     "name": "stderr",
     "output_type": "stream",
     "text": [
      "c:\\Users\\maxbr\\OneDrive\\Desktop\\CLVSim\\CLVSim\\CLV Sim\\Sim\\features.py:65: FutureWarning: DataFrame.applymap has been deprecated. Use DataFrame.map instead.\n",
      "  frame = frame.applymap(lambda x: x.split(' - price: ')[1].strip()\n",
      "c:\\Users\\maxbr\\OneDrive\\Desktop\\CLVSim\\CLVSim\\CLV Sim\\Sim\\features.py:65: FutureWarning: DataFrame.applymap has been deprecated. Use DataFrame.map instead.\n",
      "  frame = frame.applymap(lambda x: x.split(' - price: ')[1].strip()\n"
     ]
    },
    {
     "name": "stdout",
     "output_type": "stream",
     "text": [
      "123\n",
      "1/1 [==============================] - 0s 102ms/step\n"
     ]
    },
    {
     "name": "stderr",
     "output_type": "stream",
     "text": [
      "c:\\Users\\maxbr\\OneDrive\\Desktop\\CLVSim\\CLVSim\\CLV Sim\\Sim\\features.py:65: FutureWarning: DataFrame.applymap has been deprecated. Use DataFrame.map instead.\n",
      "  frame = frame.applymap(lambda x: x.split(' - price: ')[1].strip()\n",
      "c:\\Users\\maxbr\\OneDrive\\Desktop\\CLVSim\\CLVSim\\CLV Sim\\Sim\\features.py:65: FutureWarning: DataFrame.applymap has been deprecated. Use DataFrame.map instead.\n",
      "  frame = frame.applymap(lambda x: x.split(' - price: ')[1].strip()\n"
     ]
    },
    {
     "name": "stdout",
     "output_type": "stream",
     "text": [
      "1/1 [==============================] - 0s 31ms/step\n",
      "124\n",
      "1/1 [==============================] - 0s 83ms/step\n",
      "1/1 [==============================] - 0s 16ms/step\n"
     ]
    },
    {
     "name": "stderr",
     "output_type": "stream",
     "text": [
      "c:\\Users\\maxbr\\OneDrive\\Desktop\\CLVSim\\CLVSim\\CLV Sim\\Sim\\features.py:65: FutureWarning: DataFrame.applymap has been deprecated. Use DataFrame.map instead.\n",
      "  frame = frame.applymap(lambda x: x.split(' - price: ')[1].strip()\n",
      "c:\\Users\\maxbr\\OneDrive\\Desktop\\CLVSim\\CLVSim\\CLV Sim\\Sim\\features.py:65: FutureWarning: DataFrame.applymap has been deprecated. Use DataFrame.map instead.\n",
      "  frame = frame.applymap(lambda x: x.split(' - price: ')[1].strip()\n"
     ]
    },
    {
     "name": "stdout",
     "output_type": "stream",
     "text": [
      "125\n",
      "1/1 [==============================] - 0s 101ms/step\n",
      "1/1 [==============================] - ETA: 0s"
     ]
    },
    {
     "name": "stderr",
     "output_type": "stream",
     "text": [
      "c:\\Users\\maxbr\\OneDrive\\Desktop\\CLVSim\\CLVSim\\CLV Sim\\Sim\\features.py:65: FutureWarning: DataFrame.applymap has been deprecated. Use DataFrame.map instead.\n",
      "  frame = frame.applymap(lambda x: x.split(' - price: ')[1].strip()\n",
      "c:\\Users\\maxbr\\OneDrive\\Desktop\\CLVSim\\CLVSim\\CLV Sim\\Sim\\features.py:65: FutureWarning: DataFrame.applymap has been deprecated. Use DataFrame.map instead.\n",
      "  frame = frame.applymap(lambda x: x.split(' - price: ')[1].strip()\n"
     ]
    },
    {
     "name": "stdout",
     "output_type": "stream",
     "text": [
      "1/1 [==============================] - 0s 32ms/step\n",
      "126\n",
      "1/1 [==============================] - 0s 81ms/step\n",
      "1/1 [==============================] - 0s 8ms/step\n"
     ]
    },
    {
     "name": "stderr",
     "output_type": "stream",
     "text": [
      "c:\\Users\\maxbr\\OneDrive\\Desktop\\CLVSim\\CLVSim\\CLV Sim\\Sim\\features.py:65: FutureWarning: DataFrame.applymap has been deprecated. Use DataFrame.map instead.\n",
      "  frame = frame.applymap(lambda x: x.split(' - price: ')[1].strip()\n",
      "c:\\Users\\maxbr\\OneDrive\\Desktop\\CLVSim\\CLVSim\\CLV Sim\\Sim\\features.py:65: FutureWarning: DataFrame.applymap has been deprecated. Use DataFrame.map instead.\n",
      "  frame = frame.applymap(lambda x: x.split(' - price: ')[1].strip()\n"
     ]
    },
    {
     "name": "stdout",
     "output_type": "stream",
     "text": [
      "127\n",
      "1/1 [==============================] - 0s 79ms/step\n",
      "1/1 [==============================] - ETA: 0s"
     ]
    },
    {
     "name": "stderr",
     "output_type": "stream",
     "text": [
      "c:\\Users\\maxbr\\OneDrive\\Desktop\\CLVSim\\CLVSim\\CLV Sim\\Sim\\features.py:65: FutureWarning: DataFrame.applymap has been deprecated. Use DataFrame.map instead.\n",
      "  frame = frame.applymap(lambda x: x.split(' - price: ')[1].strip()\n",
      "c:\\Users\\maxbr\\OneDrive\\Desktop\\CLVSim\\CLVSim\\CLV Sim\\Sim\\features.py:65: FutureWarning: DataFrame.applymap has been deprecated. Use DataFrame.map instead.\n",
      "  frame = frame.applymap(lambda x: x.split(' - price: ')[1].strip()\n"
     ]
    },
    {
     "name": "stdout",
     "output_type": "stream",
     "text": [
      "1/1 [==============================] - 0s 16ms/step\n",
      "128\n",
      "1/1 [==============================] - 0s 94ms/step\n",
      "1/1 [==============================] - ETA: 0s"
     ]
    },
    {
     "name": "stderr",
     "output_type": "stream",
     "text": [
      "c:\\Users\\maxbr\\OneDrive\\Desktop\\CLVSim\\CLVSim\\CLV Sim\\Sim\\features.py:65: FutureWarning: DataFrame.applymap has been deprecated. Use DataFrame.map instead.\n",
      "  frame = frame.applymap(lambda x: x.split(' - price: ')[1].strip()\n",
      "c:\\Users\\maxbr\\OneDrive\\Desktop\\CLVSim\\CLVSim\\CLV Sim\\Sim\\features.py:65: FutureWarning: DataFrame.applymap has been deprecated. Use DataFrame.map instead.\n",
      "  frame = frame.applymap(lambda x: x.split(' - price: ')[1].strip()\n"
     ]
    },
    {
     "name": "stdout",
     "output_type": "stream",
     "text": [
      "1/1 [==============================] - 0s 30ms/step\n",
      "129\n",
      "1/1 [==============================] - 0s 87ms/step\n",
      "1/1 [==============================] - ETA: 0s"
     ]
    },
    {
     "name": "stderr",
     "output_type": "stream",
     "text": [
      "c:\\Users\\maxbr\\OneDrive\\Desktop\\CLVSim\\CLVSim\\CLV Sim\\Sim\\features.py:65: FutureWarning: DataFrame.applymap has been deprecated. Use DataFrame.map instead.\n",
      "  frame = frame.applymap(lambda x: x.split(' - price: ')[1].strip()\n",
      "c:\\Users\\maxbr\\OneDrive\\Desktop\\CLVSim\\CLVSim\\CLV Sim\\Sim\\features.py:65: FutureWarning: DataFrame.applymap has been deprecated. Use DataFrame.map instead.\n",
      "  frame = frame.applymap(lambda x: x.split(' - price: ')[1].strip()\n"
     ]
    },
    {
     "name": "stdout",
     "output_type": "stream",
     "text": [
      "1/1 [==============================] - 0s 30ms/step\n",
      "130\n",
      "1/1 [==============================] - 0s 84ms/step\n",
      "1/1 [==============================] - ETA: 0s"
     ]
    },
    {
     "name": "stderr",
     "output_type": "stream",
     "text": [
      "c:\\Users\\maxbr\\OneDrive\\Desktop\\CLVSim\\CLVSim\\CLV Sim\\Sim\\features.py:65: FutureWarning: DataFrame.applymap has been deprecated. Use DataFrame.map instead.\n",
      "  frame = frame.applymap(lambda x: x.split(' - price: ')[1].strip()\n",
      "c:\\Users\\maxbr\\OneDrive\\Desktop\\CLVSim\\CLVSim\\CLV Sim\\Sim\\features.py:65: FutureWarning: DataFrame.applymap has been deprecated. Use DataFrame.map instead.\n",
      "  frame = frame.applymap(lambda x: x.split(' - price: ')[1].strip()\n"
     ]
    },
    {
     "name": "stdout",
     "output_type": "stream",
     "text": [
      "1/1 [==============================] - 0s 33ms/step\n",
      "131\n",
      "1/1 [==============================] - 0s 88ms/step\n",
      "1/1 [==============================] - ETA: 0s"
     ]
    },
    {
     "name": "stderr",
     "output_type": "stream",
     "text": [
      "c:\\Users\\maxbr\\OneDrive\\Desktop\\CLVSim\\CLVSim\\CLV Sim\\Sim\\features.py:65: FutureWarning: DataFrame.applymap has been deprecated. Use DataFrame.map instead.\n",
      "  frame = frame.applymap(lambda x: x.split(' - price: ')[1].strip()\n",
      "c:\\Users\\maxbr\\OneDrive\\Desktop\\CLVSim\\CLVSim\\CLV Sim\\Sim\\features.py:65: FutureWarning: DataFrame.applymap has been deprecated. Use DataFrame.map instead.\n",
      "  frame = frame.applymap(lambda x: x.split(' - price: ')[1].strip()\n"
     ]
    },
    {
     "name": "stdout",
     "output_type": "stream",
     "text": [
      "1/1 [==============================] - 0s 16ms/step\n",
      "132\n",
      "1/1 [==============================] - 0s 89ms/step\n",
      "1/1 [==============================] - 0s 21ms/step\n"
     ]
    },
    {
     "name": "stderr",
     "output_type": "stream",
     "text": [
      "c:\\Users\\maxbr\\OneDrive\\Desktop\\CLVSim\\CLVSim\\CLV Sim\\Sim\\features.py:65: FutureWarning: DataFrame.applymap has been deprecated. Use DataFrame.map instead.\n",
      "  frame = frame.applymap(lambda x: x.split(' - price: ')[1].strip()\n",
      "c:\\Users\\maxbr\\OneDrive\\Desktop\\CLVSim\\CLVSim\\CLV Sim\\Sim\\features.py:65: FutureWarning: DataFrame.applymap has been deprecated. Use DataFrame.map instead.\n",
      "  frame = frame.applymap(lambda x: x.split(' - price: ')[1].strip()\n"
     ]
    },
    {
     "name": "stdout",
     "output_type": "stream",
     "text": [
      "133\n",
      "1/1 [==============================] - 0s 77ms/step\n",
      "1/1 [==============================] - 0s 16ms/step\n"
     ]
    },
    {
     "name": "stderr",
     "output_type": "stream",
     "text": [
      "c:\\Users\\maxbr\\OneDrive\\Desktop\\CLVSim\\CLVSim\\CLV Sim\\Sim\\features.py:65: FutureWarning: DataFrame.applymap has been deprecated. Use DataFrame.map instead.\n",
      "  frame = frame.applymap(lambda x: x.split(' - price: ')[1].strip()\n",
      "c:\\Users\\maxbr\\OneDrive\\Desktop\\CLVSim\\CLVSim\\CLV Sim\\Sim\\features.py:65: FutureWarning: DataFrame.applymap has been deprecated. Use DataFrame.map instead.\n",
      "  frame = frame.applymap(lambda x: x.split(' - price: ')[1].strip()\n"
     ]
    },
    {
     "name": "stdout",
     "output_type": "stream",
     "text": [
      "134\n",
      "1/1 [==============================] - 0s 94ms/step\n",
      "1/1 [==============================] - ETA: 0s"
     ]
    },
    {
     "name": "stderr",
     "output_type": "stream",
     "text": [
      "c:\\Users\\maxbr\\OneDrive\\Desktop\\CLVSim\\CLVSim\\CLV Sim\\Sim\\features.py:65: FutureWarning: DataFrame.applymap has been deprecated. Use DataFrame.map instead.\n",
      "  frame = frame.applymap(lambda x: x.split(' - price: ')[1].strip()\n",
      "c:\\Users\\maxbr\\OneDrive\\Desktop\\CLVSim\\CLVSim\\CLV Sim\\Sim\\features.py:65: FutureWarning: DataFrame.applymap has been deprecated. Use DataFrame.map instead.\n",
      "  frame = frame.applymap(lambda x: x.split(' - price: ')[1].strip()\n"
     ]
    },
    {
     "name": "stdout",
     "output_type": "stream",
     "text": [
      "1/1 [==============================] - 0s 16ms/step\n",
      "135\n",
      "1/1 [==============================] - 0s 79ms/step\n",
      "1/1 [==============================] - ETA: 0s"
     ]
    },
    {
     "name": "stderr",
     "output_type": "stream",
     "text": [
      "c:\\Users\\maxbr\\OneDrive\\Desktop\\CLVSim\\CLVSim\\CLV Sim\\Sim\\features.py:65: FutureWarning: DataFrame.applymap has been deprecated. Use DataFrame.map instead.\n",
      "  frame = frame.applymap(lambda x: x.split(' - price: ')[1].strip()\n",
      "c:\\Users\\maxbr\\OneDrive\\Desktop\\CLVSim\\CLVSim\\CLV Sim\\Sim\\features.py:65: FutureWarning: DataFrame.applymap has been deprecated. Use DataFrame.map instead.\n",
      "  frame = frame.applymap(lambda x: x.split(' - price: ')[1].strip()\n"
     ]
    },
    {
     "name": "stdout",
     "output_type": "stream",
     "text": [
      "1/1 [==============================] - 0s 30ms/step\n",
      "136\n",
      "1/1 [==============================] - 0s 87ms/step\n",
      "1/1 [==============================] - 0s 29ms/step\n"
     ]
    },
    {
     "name": "stderr",
     "output_type": "stream",
     "text": [
      "c:\\Users\\maxbr\\OneDrive\\Desktop\\CLVSim\\CLVSim\\CLV Sim\\Sim\\features.py:65: FutureWarning: DataFrame.applymap has been deprecated. Use DataFrame.map instead.\n",
      "  frame = frame.applymap(lambda x: x.split(' - price: ')[1].strip()\n",
      "c:\\Users\\maxbr\\OneDrive\\Desktop\\CLVSim\\CLVSim\\CLV Sim\\Sim\\features.py:65: FutureWarning: DataFrame.applymap has been deprecated. Use DataFrame.map instead.\n",
      "  frame = frame.applymap(lambda x: x.split(' - price: ')[1].strip()\n"
     ]
    },
    {
     "name": "stdout",
     "output_type": "stream",
     "text": [
      "137\n",
      "1/1 [==============================] - 0s 83ms/step\n",
      "1/1 [==============================] - 0s 16ms/step\n"
     ]
    },
    {
     "name": "stderr",
     "output_type": "stream",
     "text": [
      "c:\\Users\\maxbr\\OneDrive\\Desktop\\CLVSim\\CLVSim\\CLV Sim\\Sim\\features.py:65: FutureWarning: DataFrame.applymap has been deprecated. Use DataFrame.map instead.\n",
      "  frame = frame.applymap(lambda x: x.split(' - price: ')[1].strip()\n",
      "c:\\Users\\maxbr\\OneDrive\\Desktop\\CLVSim\\CLVSim\\CLV Sim\\Sim\\features.py:65: FutureWarning: DataFrame.applymap has been deprecated. Use DataFrame.map instead.\n",
      "  frame = frame.applymap(lambda x: x.split(' - price: ')[1].strip()\n"
     ]
    },
    {
     "name": "stdout",
     "output_type": "stream",
     "text": [
      "138\n",
      "1/1 [==============================] - 0s 84ms/step\n",
      "1/1 [==============================] - 0s 16ms/step\n"
     ]
    },
    {
     "name": "stderr",
     "output_type": "stream",
     "text": [
      "c:\\Users\\maxbr\\OneDrive\\Desktop\\CLVSim\\CLVSim\\CLV Sim\\Sim\\features.py:65: FutureWarning: DataFrame.applymap has been deprecated. Use DataFrame.map instead.\n",
      "  frame = frame.applymap(lambda x: x.split(' - price: ')[1].strip()\n",
      "c:\\Users\\maxbr\\OneDrive\\Desktop\\CLVSim\\CLVSim\\CLV Sim\\Sim\\features.py:65: FutureWarning: DataFrame.applymap has been deprecated. Use DataFrame.map instead.\n",
      "  frame = frame.applymap(lambda x: x.split(' - price: ')[1].strip()\n"
     ]
    },
    {
     "name": "stdout",
     "output_type": "stream",
     "text": [
      "139\n",
      "1/1 [==============================] - 0s 86ms/step\n",
      "1/1 [==============================] - 0s 16ms/step\n"
     ]
    },
    {
     "name": "stderr",
     "output_type": "stream",
     "text": [
      "c:\\Users\\maxbr\\OneDrive\\Desktop\\CLVSim\\CLVSim\\CLV Sim\\Sim\\features.py:65: FutureWarning: DataFrame.applymap has been deprecated. Use DataFrame.map instead.\n",
      "  frame = frame.applymap(lambda x: x.split(' - price: ')[1].strip()\n",
      "c:\\Users\\maxbr\\OneDrive\\Desktop\\CLVSim\\CLVSim\\CLV Sim\\Sim\\features.py:65: FutureWarning: DataFrame.applymap has been deprecated. Use DataFrame.map instead.\n",
      "  frame = frame.applymap(lambda x: x.split(' - price: ')[1].strip()\n"
     ]
    },
    {
     "name": "stdout",
     "output_type": "stream",
     "text": [
      "140\n",
      "1/1 [==============================] - 0s 91ms/step\n",
      "1/1 [==============================] - 0s 8ms/step\n"
     ]
    },
    {
     "name": "stderr",
     "output_type": "stream",
     "text": [
      "c:\\Users\\maxbr\\OneDrive\\Desktop\\CLVSim\\CLVSim\\CLV Sim\\Sim\\features.py:65: FutureWarning: DataFrame.applymap has been deprecated. Use DataFrame.map instead.\n",
      "  frame = frame.applymap(lambda x: x.split(' - price: ')[1].strip()\n",
      "c:\\Users\\maxbr\\OneDrive\\Desktop\\CLVSim\\CLVSim\\CLV Sim\\Sim\\features.py:65: FutureWarning: DataFrame.applymap has been deprecated. Use DataFrame.map instead.\n",
      "  frame = frame.applymap(lambda x: x.split(' - price: ')[1].strip()\n"
     ]
    },
    {
     "name": "stdout",
     "output_type": "stream",
     "text": [
      "141\n",
      "1/1 [==============================] - 0s 86ms/step\n",
      "1/1 [==============================] - 0s 32ms/step\n"
     ]
    },
    {
     "name": "stderr",
     "output_type": "stream",
     "text": [
      "c:\\Users\\maxbr\\OneDrive\\Desktop\\CLVSim\\CLVSim\\CLV Sim\\Sim\\features.py:65: FutureWarning: DataFrame.applymap has been deprecated. Use DataFrame.map instead.\n",
      "  frame = frame.applymap(lambda x: x.split(' - price: ')[1].strip()\n",
      "c:\\Users\\maxbr\\OneDrive\\Desktop\\CLVSim\\CLVSim\\CLV Sim\\Sim\\features.py:65: FutureWarning: DataFrame.applymap has been deprecated. Use DataFrame.map instead.\n",
      "  frame = frame.applymap(lambda x: x.split(' - price: ')[1].strip()\n"
     ]
    },
    {
     "name": "stdout",
     "output_type": "stream",
     "text": [
      "142\n",
      "1/1 [==============================] - 0s 81ms/step\n"
     ]
    },
    {
     "name": "stderr",
     "output_type": "stream",
     "text": [
      "c:\\Users\\maxbr\\OneDrive\\Desktop\\CLVSim\\CLVSim\\CLV Sim\\Sim\\features.py:65: FutureWarning: DataFrame.applymap has been deprecated. Use DataFrame.map instead.\n",
      "  frame = frame.applymap(lambda x: x.split(' - price: ')[1].strip()\n",
      "c:\\Users\\maxbr\\OneDrive\\Desktop\\CLVSim\\CLVSim\\CLV Sim\\Sim\\features.py:65: FutureWarning: DataFrame.applymap has been deprecated. Use DataFrame.map instead.\n",
      "  frame = frame.applymap(lambda x: x.split(' - price: ')[1].strip()\n"
     ]
    },
    {
     "name": "stdout",
     "output_type": "stream",
     "text": [
      "1/1 [==============================] - 0s 16ms/step\n",
      "143\n",
      "1/1 [==============================] - 0s 80ms/step\n",
      "1/1 [==============================] - 0s 20ms/step\n"
     ]
    },
    {
     "name": "stderr",
     "output_type": "stream",
     "text": [
      "c:\\Users\\maxbr\\OneDrive\\Desktop\\CLVSim\\CLVSim\\CLV Sim\\Sim\\features.py:65: FutureWarning: DataFrame.applymap has been deprecated. Use DataFrame.map instead.\n",
      "  frame = frame.applymap(lambda x: x.split(' - price: ')[1].strip()\n",
      "c:\\Users\\maxbr\\OneDrive\\Desktop\\CLVSim\\CLVSim\\CLV Sim\\Sim\\features.py:65: FutureWarning: DataFrame.applymap has been deprecated. Use DataFrame.map instead.\n",
      "  frame = frame.applymap(lambda x: x.split(' - price: ')[1].strip()\n"
     ]
    },
    {
     "name": "stdout",
     "output_type": "stream",
     "text": [
      "144\n",
      "1/1 [==============================] - 0s 86ms/step\n"
     ]
    },
    {
     "name": "stderr",
     "output_type": "stream",
     "text": [
      "c:\\Users\\maxbr\\OneDrive\\Desktop\\CLVSim\\CLVSim\\CLV Sim\\Sim\\features.py:65: FutureWarning: DataFrame.applymap has been deprecated. Use DataFrame.map instead.\n",
      "  frame = frame.applymap(lambda x: x.split(' - price: ')[1].strip()\n",
      "c:\\Users\\maxbr\\OneDrive\\Desktop\\CLVSim\\CLVSim\\CLV Sim\\Sim\\features.py:65: FutureWarning: DataFrame.applymap has been deprecated. Use DataFrame.map instead.\n",
      "  frame = frame.applymap(lambda x: x.split(' - price: ')[1].strip()\n"
     ]
    },
    {
     "name": "stdout",
     "output_type": "stream",
     "text": [
      "1/1 [==============================] - 0s 31ms/step\n",
      "145\n",
      "1/1 [==============================] - 0s 92ms/step\n",
      "1/1 [==============================] - 0s 23ms/step\n"
     ]
    },
    {
     "name": "stderr",
     "output_type": "stream",
     "text": [
      "c:\\Users\\maxbr\\OneDrive\\Desktop\\CLVSim\\CLVSim\\CLV Sim\\Sim\\features.py:65: FutureWarning: DataFrame.applymap has been deprecated. Use DataFrame.map instead.\n",
      "  frame = frame.applymap(lambda x: x.split(' - price: ')[1].strip()\n",
      "c:\\Users\\maxbr\\OneDrive\\Desktop\\CLVSim\\CLVSim\\CLV Sim\\Sim\\features.py:65: FutureWarning: DataFrame.applymap has been deprecated. Use DataFrame.map instead.\n",
      "  frame = frame.applymap(lambda x: x.split(' - price: ')[1].strip()\n"
     ]
    },
    {
     "name": "stdout",
     "output_type": "stream",
     "text": [
      "146\n",
      "1/1 [==============================] - 0s 98ms/step\n",
      "1/1 [==============================] - ETA: 0s"
     ]
    },
    {
     "name": "stderr",
     "output_type": "stream",
     "text": [
      "c:\\Users\\maxbr\\OneDrive\\Desktop\\CLVSim\\CLVSim\\CLV Sim\\Sim\\features.py:65: FutureWarning: DataFrame.applymap has been deprecated. Use DataFrame.map instead.\n",
      "  frame = frame.applymap(lambda x: x.split(' - price: ')[1].strip()\n",
      "c:\\Users\\maxbr\\OneDrive\\Desktop\\CLVSim\\CLVSim\\CLV Sim\\Sim\\features.py:65: FutureWarning: DataFrame.applymap has been deprecated. Use DataFrame.map instead.\n",
      "  frame = frame.applymap(lambda x: x.split(' - price: ')[1].strip()\n"
     ]
    },
    {
     "name": "stdout",
     "output_type": "stream",
     "text": [
      "1/1 [==============================] - 0s 30ms/step\n",
      "147\n",
      "1/1 [==============================] - 0s 100ms/step\n",
      "1/1 [==============================] - 0s 16ms/step\n"
     ]
    },
    {
     "name": "stderr",
     "output_type": "stream",
     "text": [
      "c:\\Users\\maxbr\\OneDrive\\Desktop\\CLVSim\\CLVSim\\CLV Sim\\Sim\\features.py:65: FutureWarning: DataFrame.applymap has been deprecated. Use DataFrame.map instead.\n",
      "  frame = frame.applymap(lambda x: x.split(' - price: ')[1].strip()\n",
      "c:\\Users\\maxbr\\OneDrive\\Desktop\\CLVSim\\CLVSim\\CLV Sim\\Sim\\features.py:65: FutureWarning: DataFrame.applymap has been deprecated. Use DataFrame.map instead.\n",
      "  frame = frame.applymap(lambda x: x.split(' - price: ')[1].strip()\n"
     ]
    },
    {
     "name": "stdout",
     "output_type": "stream",
     "text": [
      "148\n",
      "1/1 [==============================] - 0s 89ms/step\n",
      "1/1 [==============================] - ETA: 0s"
     ]
    },
    {
     "name": "stderr",
     "output_type": "stream",
     "text": [
      "c:\\Users\\maxbr\\OneDrive\\Desktop\\CLVSim\\CLVSim\\CLV Sim\\Sim\\features.py:65: FutureWarning: DataFrame.applymap has been deprecated. Use DataFrame.map instead.\n",
      "  frame = frame.applymap(lambda x: x.split(' - price: ')[1].strip()\n",
      "c:\\Users\\maxbr\\OneDrive\\Desktop\\CLVSim\\CLVSim\\CLV Sim\\Sim\\features.py:65: FutureWarning: DataFrame.applymap has been deprecated. Use DataFrame.map instead.\n",
      "  frame = frame.applymap(lambda x: x.split(' - price: ')[1].strip()\n"
     ]
    },
    {
     "name": "stdout",
     "output_type": "stream",
     "text": [
      "1/1 [==============================] - 0s 19ms/step\n",
      "149\n",
      "1/1 [==============================] - 0s 75ms/step\n",
      "1/1 [==============================] - 0s 16ms/step\n"
     ]
    },
    {
     "name": "stderr",
     "output_type": "stream",
     "text": [
      "c:\\Users\\maxbr\\OneDrive\\Desktop\\CLVSim\\CLVSim\\CLV Sim\\Sim\\features.py:65: FutureWarning: DataFrame.applymap has been deprecated. Use DataFrame.map instead.\n",
      "  frame = frame.applymap(lambda x: x.split(' - price: ')[1].strip()\n",
      "c:\\Users\\maxbr\\OneDrive\\Desktop\\CLVSim\\CLVSim\\CLV Sim\\Sim\\features.py:65: FutureWarning: DataFrame.applymap has been deprecated. Use DataFrame.map instead.\n",
      "  frame = frame.applymap(lambda x: x.split(' - price: ')[1].strip()\n"
     ]
    },
    {
     "name": "stdout",
     "output_type": "stream",
     "text": [
      "150\n",
      "1/1 [==============================] - 0s 100ms/step\n",
      "1/1 [==============================] - 0s 16ms/step\n"
     ]
    },
    {
     "name": "stderr",
     "output_type": "stream",
     "text": [
      "c:\\Users\\maxbr\\OneDrive\\Desktop\\CLVSim\\CLVSim\\CLV Sim\\Sim\\features.py:65: FutureWarning: DataFrame.applymap has been deprecated. Use DataFrame.map instead.\n",
      "  frame = frame.applymap(lambda x: x.split(' - price: ')[1].strip()\n",
      "c:\\Users\\maxbr\\OneDrive\\Desktop\\CLVSim\\CLVSim\\CLV Sim\\Sim\\features.py:65: FutureWarning: DataFrame.applymap has been deprecated. Use DataFrame.map instead.\n",
      "  frame = frame.applymap(lambda x: x.split(' - price: ')[1].strip()\n"
     ]
    },
    {
     "name": "stdout",
     "output_type": "stream",
     "text": [
      "151\n",
      "1/1 [==============================] - 0s 88ms/step\n"
     ]
    },
    {
     "name": "stderr",
     "output_type": "stream",
     "text": [
      "c:\\Users\\maxbr\\OneDrive\\Desktop\\CLVSim\\CLVSim\\CLV Sim\\Sim\\features.py:65: FutureWarning: DataFrame.applymap has been deprecated. Use DataFrame.map instead.\n",
      "  frame = frame.applymap(lambda x: x.split(' - price: ')[1].strip()\n",
      "c:\\Users\\maxbr\\OneDrive\\Desktop\\CLVSim\\CLVSim\\CLV Sim\\Sim\\features.py:65: FutureWarning: DataFrame.applymap has been deprecated. Use DataFrame.map instead.\n",
      "  frame = frame.applymap(lambda x: x.split(' - price: ')[1].strip()\n"
     ]
    },
    {
     "name": "stdout",
     "output_type": "stream",
     "text": [
      "1/1 [==============================] - 0s 31ms/step\n",
      "152\n",
      "1/1 [==============================] - 0s 97ms/step\n",
      "1/1 [==============================] - 0s 16ms/step\n"
     ]
    },
    {
     "name": "stderr",
     "output_type": "stream",
     "text": [
      "c:\\Users\\maxbr\\OneDrive\\Desktop\\CLVSim\\CLVSim\\CLV Sim\\Sim\\features.py:65: FutureWarning: DataFrame.applymap has been deprecated. Use DataFrame.map instead.\n",
      "  frame = frame.applymap(lambda x: x.split(' - price: ')[1].strip()\n",
      "c:\\Users\\maxbr\\OneDrive\\Desktop\\CLVSim\\CLVSim\\CLV Sim\\Sim\\features.py:65: FutureWarning: DataFrame.applymap has been deprecated. Use DataFrame.map instead.\n",
      "  frame = frame.applymap(lambda x: x.split(' - price: ')[1].strip()\n"
     ]
    },
    {
     "name": "stdout",
     "output_type": "stream",
     "text": [
      "153\n",
      "1/1 [==============================] - 0s 84ms/step\n",
      "1/1 [==============================] - 0s 14ms/step\n"
     ]
    },
    {
     "name": "stderr",
     "output_type": "stream",
     "text": [
      "c:\\Users\\maxbr\\OneDrive\\Desktop\\CLVSim\\CLVSim\\CLV Sim\\Sim\\features.py:65: FutureWarning: DataFrame.applymap has been deprecated. Use DataFrame.map instead.\n",
      "  frame = frame.applymap(lambda x: x.split(' - price: ')[1].strip()\n",
      "c:\\Users\\maxbr\\OneDrive\\Desktop\\CLVSim\\CLVSim\\CLV Sim\\Sim\\features.py:65: FutureWarning: DataFrame.applymap has been deprecated. Use DataFrame.map instead.\n",
      "  frame = frame.applymap(lambda x: x.split(' - price: ')[1].strip()\n"
     ]
    },
    {
     "name": "stdout",
     "output_type": "stream",
     "text": [
      "154\n",
      "1/1 [==============================] - 0s 93ms/step\n",
      "1/1 [==============================] - ETA: 0s"
     ]
    },
    {
     "name": "stderr",
     "output_type": "stream",
     "text": [
      "c:\\Users\\maxbr\\OneDrive\\Desktop\\CLVSim\\CLVSim\\CLV Sim\\Sim\\features.py:65: FutureWarning: DataFrame.applymap has been deprecated. Use DataFrame.map instead.\n",
      "  frame = frame.applymap(lambda x: x.split(' - price: ')[1].strip()\n",
      "c:\\Users\\maxbr\\OneDrive\\Desktop\\CLVSim\\CLVSim\\CLV Sim\\Sim\\features.py:65: FutureWarning: DataFrame.applymap has been deprecated. Use DataFrame.map instead.\n",
      "  frame = frame.applymap(lambda x: x.split(' - price: ')[1].strip()\n"
     ]
    },
    {
     "name": "stdout",
     "output_type": "stream",
     "text": [
      "1/1 [==============================] - 0s 26ms/step\n",
      "155\n",
      "1/1 [==============================] - 0s 96ms/step\n",
      "1/1 [==============================] - 0s 16ms/step\n"
     ]
    },
    {
     "name": "stderr",
     "output_type": "stream",
     "text": [
      "c:\\Users\\maxbr\\OneDrive\\Desktop\\CLVSim\\CLVSim\\CLV Sim\\Sim\\features.py:65: FutureWarning: DataFrame.applymap has been deprecated. Use DataFrame.map instead.\n",
      "  frame = frame.applymap(lambda x: x.split(' - price: ')[1].strip()\n",
      "c:\\Users\\maxbr\\OneDrive\\Desktop\\CLVSim\\CLVSim\\CLV Sim\\Sim\\features.py:65: FutureWarning: DataFrame.applymap has been deprecated. Use DataFrame.map instead.\n",
      "  frame = frame.applymap(lambda x: x.split(' - price: ')[1].strip()\n"
     ]
    },
    {
     "name": "stdout",
     "output_type": "stream",
     "text": [
      "156\n",
      "1/1 [==============================] - 0s 88ms/step\n",
      "1/1 [==============================] - 0s 21ms/step\n"
     ]
    },
    {
     "name": "stderr",
     "output_type": "stream",
     "text": [
      "c:\\Users\\maxbr\\OneDrive\\Desktop\\CLVSim\\CLVSim\\CLV Sim\\Sim\\features.py:65: FutureWarning: DataFrame.applymap has been deprecated. Use DataFrame.map instead.\n",
      "  frame = frame.applymap(lambda x: x.split(' - price: ')[1].strip()\n",
      "c:\\Users\\maxbr\\OneDrive\\Desktop\\CLVSim\\CLVSim\\CLV Sim\\Sim\\features.py:65: FutureWarning: DataFrame.applymap has been deprecated. Use DataFrame.map instead.\n",
      "  frame = frame.applymap(lambda x: x.split(' - price: ')[1].strip()\n"
     ]
    },
    {
     "name": "stdout",
     "output_type": "stream",
     "text": [
      "157\n",
      "1/1 [==============================] - 0s 88ms/step\n",
      "1/1 [==============================] - ETA: 0s"
     ]
    },
    {
     "name": "stderr",
     "output_type": "stream",
     "text": [
      "c:\\Users\\maxbr\\OneDrive\\Desktop\\CLVSim\\CLVSim\\CLV Sim\\Sim\\features.py:65: FutureWarning: DataFrame.applymap has been deprecated. Use DataFrame.map instead.\n",
      "  frame = frame.applymap(lambda x: x.split(' - price: ')[1].strip()\n",
      "c:\\Users\\maxbr\\OneDrive\\Desktop\\CLVSim\\CLVSim\\CLV Sim\\Sim\\features.py:65: FutureWarning: DataFrame.applymap has been deprecated. Use DataFrame.map instead.\n",
      "  frame = frame.applymap(lambda x: x.split(' - price: ')[1].strip()\n"
     ]
    },
    {
     "name": "stdout",
     "output_type": "stream",
     "text": [
      "1/1 [==============================] - 0s 29ms/step\n",
      "158\n",
      "1/1 [==============================] - 0s 91ms/step\n",
      "1/1 [==============================] - ETA: 0s"
     ]
    },
    {
     "name": "stderr",
     "output_type": "stream",
     "text": [
      "c:\\Users\\maxbr\\OneDrive\\Desktop\\CLVSim\\CLVSim\\CLV Sim\\Sim\\features.py:65: FutureWarning: DataFrame.applymap has been deprecated. Use DataFrame.map instead.\n",
      "  frame = frame.applymap(lambda x: x.split(' - price: ')[1].strip()\n",
      "c:\\Users\\maxbr\\OneDrive\\Desktop\\CLVSim\\CLVSim\\CLV Sim\\Sim\\features.py:65: FutureWarning: DataFrame.applymap has been deprecated. Use DataFrame.map instead.\n",
      "  frame = frame.applymap(lambda x: x.split(' - price: ')[1].strip()\n"
     ]
    },
    {
     "name": "stdout",
     "output_type": "stream",
     "text": [
      "1/1 [==============================] - 0s 16ms/step\n",
      "159\n",
      "1/1 [==============================] - 0s 95ms/step\n",
      "1/1 [==============================] - 0s 19ms/step\n"
     ]
    },
    {
     "name": "stderr",
     "output_type": "stream",
     "text": [
      "c:\\Users\\maxbr\\OneDrive\\Desktop\\CLVSim\\CLVSim\\CLV Sim\\Sim\\features.py:65: FutureWarning: DataFrame.applymap has been deprecated. Use DataFrame.map instead.\n",
      "  frame = frame.applymap(lambda x: x.split(' - price: ')[1].strip()\n",
      "c:\\Users\\maxbr\\OneDrive\\Desktop\\CLVSim\\CLVSim\\CLV Sim\\Sim\\features.py:65: FutureWarning: DataFrame.applymap has been deprecated. Use DataFrame.map instead.\n",
      "  frame = frame.applymap(lambda x: x.split(' - price: ')[1].strip()\n"
     ]
    },
    {
     "name": "stdout",
     "output_type": "stream",
     "text": [
      "160\n",
      "1/1 [==============================] - 0s 89ms/step\n"
     ]
    },
    {
     "name": "stderr",
     "output_type": "stream",
     "text": [
      "c:\\Users\\maxbr\\OneDrive\\Desktop\\CLVSim\\CLVSim\\CLV Sim\\Sim\\features.py:65: FutureWarning: DataFrame.applymap has been deprecated. Use DataFrame.map instead.\n",
      "  frame = frame.applymap(lambda x: x.split(' - price: ')[1].strip()\n",
      "c:\\Users\\maxbr\\OneDrive\\Desktop\\CLVSim\\CLVSim\\CLV Sim\\Sim\\features.py:65: FutureWarning: DataFrame.applymap has been deprecated. Use DataFrame.map instead.\n",
      "  frame = frame.applymap(lambda x: x.split(' - price: ')[1].strip()\n"
     ]
    },
    {
     "name": "stdout",
     "output_type": "stream",
     "text": [
      "1/1 [==============================] - 0s 18ms/step\n",
      "161\n",
      "1/1 [==============================] - 0s 88ms/step\n",
      "1/1 [==============================] - ETA: 0s"
     ]
    },
    {
     "name": "stderr",
     "output_type": "stream",
     "text": [
      "c:\\Users\\maxbr\\OneDrive\\Desktop\\CLVSim\\CLVSim\\CLV Sim\\Sim\\features.py:65: FutureWarning: DataFrame.applymap has been deprecated. Use DataFrame.map instead.\n",
      "  frame = frame.applymap(lambda x: x.split(' - price: ')[1].strip()\n",
      "c:\\Users\\maxbr\\OneDrive\\Desktop\\CLVSim\\CLVSim\\CLV Sim\\Sim\\features.py:65: FutureWarning: DataFrame.applymap has been deprecated. Use DataFrame.map instead.\n",
      "  frame = frame.applymap(lambda x: x.split(' - price: ')[1].strip()\n"
     ]
    },
    {
     "name": "stdout",
     "output_type": "stream",
     "text": [
      "1/1 [==============================] - 0s 20ms/step\n",
      "162\n",
      "1/1 [==============================] - 0s 96ms/step\n",
      "1/1 [==============================] - 0s 10ms/step\n"
     ]
    },
    {
     "name": "stderr",
     "output_type": "stream",
     "text": [
      "c:\\Users\\maxbr\\OneDrive\\Desktop\\CLVSim\\CLVSim\\CLV Sim\\Sim\\features.py:65: FutureWarning: DataFrame.applymap has been deprecated. Use DataFrame.map instead.\n",
      "  frame = frame.applymap(lambda x: x.split(' - price: ')[1].strip()\n",
      "c:\\Users\\maxbr\\OneDrive\\Desktop\\CLVSim\\CLVSim\\CLV Sim\\Sim\\features.py:65: FutureWarning: DataFrame.applymap has been deprecated. Use DataFrame.map instead.\n",
      "  frame = frame.applymap(lambda x: x.split(' - price: ')[1].strip()\n"
     ]
    },
    {
     "name": "stdout",
     "output_type": "stream",
     "text": [
      "163\n",
      "1/1 [==============================] - 0s 88ms/step\n",
      "1/1 [==============================] - ETA: 0s"
     ]
    },
    {
     "name": "stderr",
     "output_type": "stream",
     "text": [
      "c:\\Users\\maxbr\\OneDrive\\Desktop\\CLVSim\\CLVSim\\CLV Sim\\Sim\\features.py:65: FutureWarning: DataFrame.applymap has been deprecated. Use DataFrame.map instead.\n",
      "  frame = frame.applymap(lambda x: x.split(' - price: ')[1].strip()\n",
      "c:\\Users\\maxbr\\OneDrive\\Desktop\\CLVSim\\CLVSim\\CLV Sim\\Sim\\features.py:65: FutureWarning: DataFrame.applymap has been deprecated. Use DataFrame.map instead.\n",
      "  frame = frame.applymap(lambda x: x.split(' - price: ')[1].strip()\n"
     ]
    },
    {
     "name": "stdout",
     "output_type": "stream",
     "text": [
      "1/1 [==============================] - 0s 16ms/step\n",
      "164\n",
      "1/1 [==============================] - 0s 82ms/step\n",
      "1/1 [==============================] - 0s 21ms/step\n"
     ]
    },
    {
     "name": "stderr",
     "output_type": "stream",
     "text": [
      "c:\\Users\\maxbr\\OneDrive\\Desktop\\CLVSim\\CLVSim\\CLV Sim\\Sim\\features.py:65: FutureWarning: DataFrame.applymap has been deprecated. Use DataFrame.map instead.\n",
      "  frame = frame.applymap(lambda x: x.split(' - price: ')[1].strip()\n",
      "c:\\Users\\maxbr\\OneDrive\\Desktop\\CLVSim\\CLVSim\\CLV Sim\\Sim\\features.py:65: FutureWarning: DataFrame.applymap has been deprecated. Use DataFrame.map instead.\n",
      "  frame = frame.applymap(lambda x: x.split(' - price: ')[1].strip()\n"
     ]
    },
    {
     "name": "stdout",
     "output_type": "stream",
     "text": [
      "165\n",
      "1/1 [==============================] - 0s 103ms/step\n",
      "1/1 [==============================] - ETA: 0s"
     ]
    },
    {
     "name": "stderr",
     "output_type": "stream",
     "text": [
      "c:\\Users\\maxbr\\OneDrive\\Desktop\\CLVSim\\CLVSim\\CLV Sim\\Sim\\features.py:65: FutureWarning: DataFrame.applymap has been deprecated. Use DataFrame.map instead.\n",
      "  frame = frame.applymap(lambda x: x.split(' - price: ')[1].strip()\n",
      "c:\\Users\\maxbr\\OneDrive\\Desktop\\CLVSim\\CLVSim\\CLV Sim\\Sim\\features.py:65: FutureWarning: DataFrame.applymap has been deprecated. Use DataFrame.map instead.\n",
      "  frame = frame.applymap(lambda x: x.split(' - price: ')[1].strip()\n"
     ]
    },
    {
     "name": "stdout",
     "output_type": "stream",
     "text": [
      "1/1 [==============================] - 0s 30ms/step\n",
      "166\n",
      "1/1 [==============================] - 0s 80ms/step\n",
      "1/1 [==============================] - 0s 20ms/step\n"
     ]
    },
    {
     "name": "stderr",
     "output_type": "stream",
     "text": [
      "c:\\Users\\maxbr\\OneDrive\\Desktop\\CLVSim\\CLVSim\\CLV Sim\\Sim\\features.py:65: FutureWarning: DataFrame.applymap has been deprecated. Use DataFrame.map instead.\n",
      "  frame = frame.applymap(lambda x: x.split(' - price: ')[1].strip()\n",
      "c:\\Users\\maxbr\\OneDrive\\Desktop\\CLVSim\\CLVSim\\CLV Sim\\Sim\\features.py:65: FutureWarning: DataFrame.applymap has been deprecated. Use DataFrame.map instead.\n",
      "  frame = frame.applymap(lambda x: x.split(' - price: ')[1].strip()\n"
     ]
    },
    {
     "name": "stdout",
     "output_type": "stream",
     "text": [
      "167\n",
      "1/1 [==============================] - 0s 88ms/step\n",
      "1/1 [==============================] - ETA: 0s"
     ]
    },
    {
     "name": "stderr",
     "output_type": "stream",
     "text": [
      "c:\\Users\\maxbr\\OneDrive\\Desktop\\CLVSim\\CLVSim\\CLV Sim\\Sim\\features.py:65: FutureWarning: DataFrame.applymap has been deprecated. Use DataFrame.map instead.\n",
      "  frame = frame.applymap(lambda x: x.split(' - price: ')[1].strip()\n",
      "c:\\Users\\maxbr\\OneDrive\\Desktop\\CLVSim\\CLVSim\\CLV Sim\\Sim\\features.py:65: FutureWarning: DataFrame.applymap has been deprecated. Use DataFrame.map instead.\n",
      "  frame = frame.applymap(lambda x: x.split(' - price: ')[1].strip()\n"
     ]
    },
    {
     "name": "stdout",
     "output_type": "stream",
     "text": [
      "1/1 [==============================] - 0s 18ms/step\n",
      "168\n",
      "1/1 [==============================] - 0s 79ms/step\n",
      "1/1 [==============================] - 0s 16ms/step\n"
     ]
    },
    {
     "name": "stderr",
     "output_type": "stream",
     "text": [
      "c:\\Users\\maxbr\\OneDrive\\Desktop\\CLVSim\\CLVSim\\CLV Sim\\Sim\\features.py:65: FutureWarning: DataFrame.applymap has been deprecated. Use DataFrame.map instead.\n",
      "  frame = frame.applymap(lambda x: x.split(' - price: ')[1].strip()\n",
      "c:\\Users\\maxbr\\OneDrive\\Desktop\\CLVSim\\CLVSim\\CLV Sim\\Sim\\features.py:65: FutureWarning: DataFrame.applymap has been deprecated. Use DataFrame.map instead.\n",
      "  frame = frame.applymap(lambda x: x.split(' - price: ')[1].strip()\n"
     ]
    },
    {
     "name": "stdout",
     "output_type": "stream",
     "text": [
      "169\n",
      "1/1 [==============================] - 0s 108ms/step\n",
      "1/1 [==============================] - 0s 36ms/step\n"
     ]
    },
    {
     "name": "stderr",
     "output_type": "stream",
     "text": [
      "c:\\Users\\maxbr\\OneDrive\\Desktop\\CLVSim\\CLVSim\\CLV Sim\\Sim\\features.py:65: FutureWarning: DataFrame.applymap has been deprecated. Use DataFrame.map instead.\n",
      "  frame = frame.applymap(lambda x: x.split(' - price: ')[1].strip()\n",
      "c:\\Users\\maxbr\\OneDrive\\Desktop\\CLVSim\\CLVSim\\CLV Sim\\Sim\\features.py:65: FutureWarning: DataFrame.applymap has been deprecated. Use DataFrame.map instead.\n",
      "  frame = frame.applymap(lambda x: x.split(' - price: ')[1].strip()\n"
     ]
    },
    {
     "name": "stdout",
     "output_type": "stream",
     "text": [
      "170\n",
      "1/1 [==============================] - 0s 98ms/step\n",
      "1/1 [==============================] - ETA: 0s"
     ]
    },
    {
     "name": "stderr",
     "output_type": "stream",
     "text": [
      "c:\\Users\\maxbr\\OneDrive\\Desktop\\CLVSim\\CLVSim\\CLV Sim\\Sim\\features.py:65: FutureWarning: DataFrame.applymap has been deprecated. Use DataFrame.map instead.\n",
      "  frame = frame.applymap(lambda x: x.split(' - price: ')[1].strip()\n",
      "c:\\Users\\maxbr\\OneDrive\\Desktop\\CLVSim\\CLVSim\\CLV Sim\\Sim\\features.py:65: FutureWarning: DataFrame.applymap has been deprecated. Use DataFrame.map instead.\n",
      "  frame = frame.applymap(lambda x: x.split(' - price: ')[1].strip()\n"
     ]
    },
    {
     "name": "stdout",
     "output_type": "stream",
     "text": [
      "1/1 [==============================] - 0s 20ms/step\n",
      "171\n",
      "1/1 [==============================] - 0s 80ms/step\n",
      "1/1 [==============================] - 0s 16ms/step\n"
     ]
    },
    {
     "name": "stderr",
     "output_type": "stream",
     "text": [
      "c:\\Users\\maxbr\\OneDrive\\Desktop\\CLVSim\\CLVSim\\CLV Sim\\Sim\\features.py:65: FutureWarning: DataFrame.applymap has been deprecated. Use DataFrame.map instead.\n",
      "  frame = frame.applymap(lambda x: x.split(' - price: ')[1].strip()\n",
      "c:\\Users\\maxbr\\OneDrive\\Desktop\\CLVSim\\CLVSim\\CLV Sim\\Sim\\features.py:65: FutureWarning: DataFrame.applymap has been deprecated. Use DataFrame.map instead.\n",
      "  frame = frame.applymap(lambda x: x.split(' - price: ')[1].strip()\n"
     ]
    },
    {
     "name": "stdout",
     "output_type": "stream",
     "text": [
      "172\n",
      "1/1 [==============================] - 0s 90ms/step\n",
      "1/1 [==============================] - 0s 16ms/step\n"
     ]
    },
    {
     "name": "stderr",
     "output_type": "stream",
     "text": [
      "c:\\Users\\maxbr\\OneDrive\\Desktop\\CLVSim\\CLVSim\\CLV Sim\\Sim\\features.py:65: FutureWarning: DataFrame.applymap has been deprecated. Use DataFrame.map instead.\n",
      "  frame = frame.applymap(lambda x: x.split(' - price: ')[1].strip()\n",
      "c:\\Users\\maxbr\\OneDrive\\Desktop\\CLVSim\\CLVSim\\CLV Sim\\Sim\\features.py:65: FutureWarning: DataFrame.applymap has been deprecated. Use DataFrame.map instead.\n",
      "  frame = frame.applymap(lambda x: x.split(' - price: ')[1].strip()\n"
     ]
    },
    {
     "name": "stdout",
     "output_type": "stream",
     "text": [
      "173\n",
      "1/1 [==============================] - 0s 91ms/step\n",
      "1/1 [==============================] - ETA: 0s"
     ]
    },
    {
     "name": "stderr",
     "output_type": "stream",
     "text": [
      "c:\\Users\\maxbr\\OneDrive\\Desktop\\CLVSim\\CLVSim\\CLV Sim\\Sim\\features.py:65: FutureWarning: DataFrame.applymap has been deprecated. Use DataFrame.map instead.\n",
      "  frame = frame.applymap(lambda x: x.split(' - price: ')[1].strip()\n",
      "c:\\Users\\maxbr\\OneDrive\\Desktop\\CLVSim\\CLVSim\\CLV Sim\\Sim\\features.py:65: FutureWarning: DataFrame.applymap has been deprecated. Use DataFrame.map instead.\n",
      "  frame = frame.applymap(lambda x: x.split(' - price: ')[1].strip()\n"
     ]
    },
    {
     "name": "stdout",
     "output_type": "stream",
     "text": [
      "1/1 [==============================] - 0s 30ms/step\n",
      "174\n",
      "1/1 [==============================] - 0s 92ms/step\n",
      "1/1 [==============================] - ETA: 0s"
     ]
    },
    {
     "name": "stderr",
     "output_type": "stream",
     "text": [
      "c:\\Users\\maxbr\\OneDrive\\Desktop\\CLVSim\\CLVSim\\CLV Sim\\Sim\\features.py:65: FutureWarning: DataFrame.applymap has been deprecated. Use DataFrame.map instead.\n",
      "  frame = frame.applymap(lambda x: x.split(' - price: ')[1].strip()\n",
      "c:\\Users\\maxbr\\OneDrive\\Desktop\\CLVSim\\CLVSim\\CLV Sim\\Sim\\features.py:65: FutureWarning: DataFrame.applymap has been deprecated. Use DataFrame.map instead.\n",
      "  frame = frame.applymap(lambda x: x.split(' - price: ')[1].strip()\n"
     ]
    },
    {
     "name": "stdout",
     "output_type": "stream",
     "text": [
      "1/1 [==============================] - 0s 21ms/step\n",
      "175\n",
      "1/1 [==============================] - 0s 100ms/step\n",
      "1/1 [==============================] - 0s 17ms/step\n"
     ]
    },
    {
     "name": "stderr",
     "output_type": "stream",
     "text": [
      "c:\\Users\\maxbr\\OneDrive\\Desktop\\CLVSim\\CLVSim\\CLV Sim\\Sim\\features.py:65: FutureWarning: DataFrame.applymap has been deprecated. Use DataFrame.map instead.\n",
      "  frame = frame.applymap(lambda x: x.split(' - price: ')[1].strip()\n",
      "c:\\Users\\maxbr\\OneDrive\\Desktop\\CLVSim\\CLVSim\\CLV Sim\\Sim\\features.py:65: FutureWarning: DataFrame.applymap has been deprecated. Use DataFrame.map instead.\n",
      "  frame = frame.applymap(lambda x: x.split(' - price: ')[1].strip()\n"
     ]
    },
    {
     "name": "stdout",
     "output_type": "stream",
     "text": [
      "176\n",
      "1/1 [==============================] - 0s 77ms/step\n",
      "1/1 [==============================] - 0s 16ms/step\n"
     ]
    },
    {
     "name": "stderr",
     "output_type": "stream",
     "text": [
      "c:\\Users\\maxbr\\OneDrive\\Desktop\\CLVSim\\CLVSim\\CLV Sim\\Sim\\features.py:65: FutureWarning: DataFrame.applymap has been deprecated. Use DataFrame.map instead.\n",
      "  frame = frame.applymap(lambda x: x.split(' - price: ')[1].strip()\n",
      "c:\\Users\\maxbr\\OneDrive\\Desktop\\CLVSim\\CLVSim\\CLV Sim\\Sim\\features.py:65: FutureWarning: DataFrame.applymap has been deprecated. Use DataFrame.map instead.\n",
      "  frame = frame.applymap(lambda x: x.split(' - price: ')[1].strip()\n"
     ]
    },
    {
     "name": "stdout",
     "output_type": "stream",
     "text": [
      "177\n",
      "1/1 [==============================] - 0s 100ms/step\n",
      "1/1 [==============================] - ETA: 0s"
     ]
    },
    {
     "name": "stderr",
     "output_type": "stream",
     "text": [
      "c:\\Users\\maxbr\\OneDrive\\Desktop\\CLVSim\\CLVSim\\CLV Sim\\Sim\\features.py:65: FutureWarning: DataFrame.applymap has been deprecated. Use DataFrame.map instead.\n",
      "  frame = frame.applymap(lambda x: x.split(' - price: ')[1].strip()\n",
      "c:\\Users\\maxbr\\OneDrive\\Desktop\\CLVSim\\CLVSim\\CLV Sim\\Sim\\features.py:65: FutureWarning: DataFrame.applymap has been deprecated. Use DataFrame.map instead.\n",
      "  frame = frame.applymap(lambda x: x.split(' - price: ')[1].strip()\n"
     ]
    },
    {
     "name": "stdout",
     "output_type": "stream",
     "text": [
      "1/1 [==============================] - 0s 16ms/step\n",
      "178\n",
      "1/1 [==============================] - 0s 73ms/step\n",
      "1/1 [==============================] - ETA: 0s"
     ]
    },
    {
     "name": "stderr",
     "output_type": "stream",
     "text": [
      "c:\\Users\\maxbr\\OneDrive\\Desktop\\CLVSim\\CLVSim\\CLV Sim\\Sim\\features.py:65: FutureWarning: DataFrame.applymap has been deprecated. Use DataFrame.map instead.\n",
      "  frame = frame.applymap(lambda x: x.split(' - price: ')[1].strip()\n",
      "c:\\Users\\maxbr\\OneDrive\\Desktop\\CLVSim\\CLVSim\\CLV Sim\\Sim\\features.py:65: FutureWarning: DataFrame.applymap has been deprecated. Use DataFrame.map instead.\n",
      "  frame = frame.applymap(lambda x: x.split(' - price: ')[1].strip()\n"
     ]
    },
    {
     "name": "stdout",
     "output_type": "stream",
     "text": [
      "1/1 [==============================] - 0s 17ms/step\n",
      "179\n",
      "1/1 [==============================] - 0s 82ms/step\n",
      "1/1 [==============================] - 0s 8ms/step\n"
     ]
    },
    {
     "name": "stderr",
     "output_type": "stream",
     "text": [
      "c:\\Users\\maxbr\\OneDrive\\Desktop\\CLVSim\\CLVSim\\CLV Sim\\Sim\\features.py:65: FutureWarning: DataFrame.applymap has been deprecated. Use DataFrame.map instead.\n",
      "  frame = frame.applymap(lambda x: x.split(' - price: ')[1].strip()\n",
      "c:\\Users\\maxbr\\OneDrive\\Desktop\\CLVSim\\CLVSim\\CLV Sim\\Sim\\features.py:65: FutureWarning: DataFrame.applymap has been deprecated. Use DataFrame.map instead.\n",
      "  frame = frame.applymap(lambda x: x.split(' - price: ')[1].strip()\n"
     ]
    },
    {
     "name": "stdout",
     "output_type": "stream",
     "text": [
      "180\n",
      "1/1 [==============================] - 0s 88ms/step\n",
      "1/1 [==============================] - ETA: 0s"
     ]
    },
    {
     "name": "stderr",
     "output_type": "stream",
     "text": [
      "c:\\Users\\maxbr\\OneDrive\\Desktop\\CLVSim\\CLVSim\\CLV Sim\\Sim\\features.py:65: FutureWarning: DataFrame.applymap has been deprecated. Use DataFrame.map instead.\n",
      "  frame = frame.applymap(lambda x: x.split(' - price: ')[1].strip()\n",
      "c:\\Users\\maxbr\\OneDrive\\Desktop\\CLVSim\\CLVSim\\CLV Sim\\Sim\\features.py:65: FutureWarning: DataFrame.applymap has been deprecated. Use DataFrame.map instead.\n",
      "  frame = frame.applymap(lambda x: x.split(' - price: ')[1].strip()\n"
     ]
    },
    {
     "name": "stdout",
     "output_type": "stream",
     "text": [
      "1/1 [==============================] - 0s 16ms/step\n",
      "181\n",
      "1/1 [==============================] - 0s 96ms/step\n",
      "1/1 [==============================] - 0s 9ms/step\n"
     ]
    },
    {
     "name": "stderr",
     "output_type": "stream",
     "text": [
      "c:\\Users\\maxbr\\OneDrive\\Desktop\\CLVSim\\CLVSim\\CLV Sim\\Sim\\features.py:65: FutureWarning: DataFrame.applymap has been deprecated. Use DataFrame.map instead.\n",
      "  frame = frame.applymap(lambda x: x.split(' - price: ')[1].strip()\n",
      "c:\\Users\\maxbr\\OneDrive\\Desktop\\CLVSim\\CLVSim\\CLV Sim\\Sim\\features.py:65: FutureWarning: DataFrame.applymap has been deprecated. Use DataFrame.map instead.\n",
      "  frame = frame.applymap(lambda x: x.split(' - price: ')[1].strip()\n"
     ]
    },
    {
     "name": "stdout",
     "output_type": "stream",
     "text": [
      "182\n",
      "1/1 [==============================] - 0s 100ms/step\n"
     ]
    },
    {
     "name": "stderr",
     "output_type": "stream",
     "text": [
      "c:\\Users\\maxbr\\OneDrive\\Desktop\\CLVSim\\CLVSim\\CLV Sim\\Sim\\features.py:65: FutureWarning: DataFrame.applymap has been deprecated. Use DataFrame.map instead.\n",
      "  frame = frame.applymap(lambda x: x.split(' - price: ')[1].strip()\n",
      "c:\\Users\\maxbr\\OneDrive\\Desktop\\CLVSim\\CLVSim\\CLV Sim\\Sim\\features.py:65: FutureWarning: DataFrame.applymap has been deprecated. Use DataFrame.map instead.\n",
      "  frame = frame.applymap(lambda x: x.split(' - price: ')[1].strip()\n"
     ]
    },
    {
     "name": "stdout",
     "output_type": "stream",
     "text": [
      "1/1 [==============================] - 0s 17ms/step\n",
      "183\n",
      "1/1 [==============================] - 0s 100ms/step\n",
      "1/1 [==============================] - 0s 23ms/step\n"
     ]
    },
    {
     "name": "stderr",
     "output_type": "stream",
     "text": [
      "c:\\Users\\maxbr\\OneDrive\\Desktop\\CLVSim\\CLVSim\\CLV Sim\\Sim\\features.py:65: FutureWarning: DataFrame.applymap has been deprecated. Use DataFrame.map instead.\n",
      "  frame = frame.applymap(lambda x: x.split(' - price: ')[1].strip()\n",
      "c:\\Users\\maxbr\\OneDrive\\Desktop\\CLVSim\\CLVSim\\CLV Sim\\Sim\\features.py:65: FutureWarning: DataFrame.applymap has been deprecated. Use DataFrame.map instead.\n",
      "  frame = frame.applymap(lambda x: x.split(' - price: ')[1].strip()\n"
     ]
    },
    {
     "name": "stdout",
     "output_type": "stream",
     "text": [
      "184\n",
      "1/1 [==============================] - 0s 87ms/step\n",
      "1/1 [==============================] - 0s 14ms/step\n"
     ]
    },
    {
     "name": "stderr",
     "output_type": "stream",
     "text": [
      "c:\\Users\\maxbr\\OneDrive\\Desktop\\CLVSim\\CLVSim\\CLV Sim\\Sim\\features.py:65: FutureWarning: DataFrame.applymap has been deprecated. Use DataFrame.map instead.\n",
      "  frame = frame.applymap(lambda x: x.split(' - price: ')[1].strip()\n",
      "c:\\Users\\maxbr\\OneDrive\\Desktop\\CLVSim\\CLVSim\\CLV Sim\\Sim\\features.py:65: FutureWarning: DataFrame.applymap has been deprecated. Use DataFrame.map instead.\n",
      "  frame = frame.applymap(lambda x: x.split(' - price: ')[1].strip()\n"
     ]
    },
    {
     "name": "stdout",
     "output_type": "stream",
     "text": [
      "185\n",
      "1/1 [==============================] - 0s 90ms/step\n",
      "1/1 [==============================] - ETA: 0s"
     ]
    },
    {
     "name": "stderr",
     "output_type": "stream",
     "text": [
      "c:\\Users\\maxbr\\OneDrive\\Desktop\\CLVSim\\CLVSim\\CLV Sim\\Sim\\features.py:65: FutureWarning: DataFrame.applymap has been deprecated. Use DataFrame.map instead.\n",
      "  frame = frame.applymap(lambda x: x.split(' - price: ')[1].strip()\n",
      "c:\\Users\\maxbr\\OneDrive\\Desktop\\CLVSim\\CLVSim\\CLV Sim\\Sim\\features.py:65: FutureWarning: DataFrame.applymap has been deprecated. Use DataFrame.map instead.\n",
      "  frame = frame.applymap(lambda x: x.split(' - price: ')[1].strip()\n"
     ]
    },
    {
     "name": "stdout",
     "output_type": "stream",
     "text": [
      "1/1 [==============================] - 0s 16ms/step\n",
      "186\n",
      "1/1 [==============================] - 0s 78ms/step\n",
      "1/1 [==============================] - 0s 16ms/step\n"
     ]
    },
    {
     "name": "stderr",
     "output_type": "stream",
     "text": [
      "c:\\Users\\maxbr\\OneDrive\\Desktop\\CLVSim\\CLVSim\\CLV Sim\\Sim\\features.py:65: FutureWarning: DataFrame.applymap has been deprecated. Use DataFrame.map instead.\n",
      "  frame = frame.applymap(lambda x: x.split(' - price: ')[1].strip()\n",
      "c:\\Users\\maxbr\\OneDrive\\Desktop\\CLVSim\\CLVSim\\CLV Sim\\Sim\\features.py:65: FutureWarning: DataFrame.applymap has been deprecated. Use DataFrame.map instead.\n",
      "  frame = frame.applymap(lambda x: x.split(' - price: ')[1].strip()\n"
     ]
    },
    {
     "name": "stdout",
     "output_type": "stream",
     "text": [
      "187\n",
      "1/1 [==============================] - 0s 100ms/step\n",
      "1/1 [==============================] - 0s 11ms/step\n"
     ]
    },
    {
     "name": "stderr",
     "output_type": "stream",
     "text": [
      "c:\\Users\\maxbr\\OneDrive\\Desktop\\CLVSim\\CLVSim\\CLV Sim\\Sim\\features.py:65: FutureWarning: DataFrame.applymap has been deprecated. Use DataFrame.map instead.\n",
      "  frame = frame.applymap(lambda x: x.split(' - price: ')[1].strip()\n",
      "c:\\Users\\maxbr\\OneDrive\\Desktop\\CLVSim\\CLVSim\\CLV Sim\\Sim\\features.py:65: FutureWarning: DataFrame.applymap has been deprecated. Use DataFrame.map instead.\n",
      "  frame = frame.applymap(lambda x: x.split(' - price: ')[1].strip()\n"
     ]
    },
    {
     "name": "stdout",
     "output_type": "stream",
     "text": [
      "188\n",
      "1/1 [==============================] - 0s 92ms/step\n",
      "1/1 [==============================] - 0s 16ms/step\n"
     ]
    },
    {
     "name": "stderr",
     "output_type": "stream",
     "text": [
      "c:\\Users\\maxbr\\OneDrive\\Desktop\\CLVSim\\CLVSim\\CLV Sim\\Sim\\features.py:65: FutureWarning: DataFrame.applymap has been deprecated. Use DataFrame.map instead.\n",
      "  frame = frame.applymap(lambda x: x.split(' - price: ')[1].strip()\n",
      "c:\\Users\\maxbr\\OneDrive\\Desktop\\CLVSim\\CLVSim\\CLV Sim\\Sim\\features.py:65: FutureWarning: DataFrame.applymap has been deprecated. Use DataFrame.map instead.\n",
      "  frame = frame.applymap(lambda x: x.split(' - price: ')[1].strip()\n"
     ]
    },
    {
     "name": "stdout",
     "output_type": "stream",
     "text": [
      "189\n",
      "1/1 [==============================] - 0s 88ms/step\n",
      "1/1 [==============================] - ETA: 0s"
     ]
    },
    {
     "name": "stderr",
     "output_type": "stream",
     "text": [
      "c:\\Users\\maxbr\\OneDrive\\Desktop\\CLVSim\\CLVSim\\CLV Sim\\Sim\\features.py:65: FutureWarning: DataFrame.applymap has been deprecated. Use DataFrame.map instead.\n",
      "  frame = frame.applymap(lambda x: x.split(' - price: ')[1].strip()\n",
      "c:\\Users\\maxbr\\OneDrive\\Desktop\\CLVSim\\CLVSim\\CLV Sim\\Sim\\features.py:65: FutureWarning: DataFrame.applymap has been deprecated. Use DataFrame.map instead.\n",
      "  frame = frame.applymap(lambda x: x.split(' - price: ')[1].strip()\n"
     ]
    },
    {
     "name": "stdout",
     "output_type": "stream",
     "text": [
      "1/1 [==============================] - 0s 31ms/step\n",
      "190\n",
      "1/1 [==============================] - 0s 87ms/step\n",
      "1/1 [==============================] - 0s 10ms/step\n"
     ]
    },
    {
     "name": "stderr",
     "output_type": "stream",
     "text": [
      "c:\\Users\\maxbr\\OneDrive\\Desktop\\CLVSim\\CLVSim\\CLV Sim\\Sim\\features.py:65: FutureWarning: DataFrame.applymap has been deprecated. Use DataFrame.map instead.\n",
      "  frame = frame.applymap(lambda x: x.split(' - price: ')[1].strip()\n",
      "c:\\Users\\maxbr\\OneDrive\\Desktop\\CLVSim\\CLVSim\\CLV Sim\\Sim\\features.py:65: FutureWarning: DataFrame.applymap has been deprecated. Use DataFrame.map instead.\n",
      "  frame = frame.applymap(lambda x: x.split(' - price: ')[1].strip()\n"
     ]
    },
    {
     "name": "stdout",
     "output_type": "stream",
     "text": [
      "191\n",
      "1/1 [==============================] - 0s 95ms/step\n",
      "1/1 [==============================] - 0s 16ms/step\n"
     ]
    },
    {
     "name": "stderr",
     "output_type": "stream",
     "text": [
      "c:\\Users\\maxbr\\OneDrive\\Desktop\\CLVSim\\CLVSim\\CLV Sim\\Sim\\features.py:65: FutureWarning: DataFrame.applymap has been deprecated. Use DataFrame.map instead.\n",
      "  frame = frame.applymap(lambda x: x.split(' - price: ')[1].strip()\n",
      "c:\\Users\\maxbr\\OneDrive\\Desktop\\CLVSim\\CLVSim\\CLV Sim\\Sim\\features.py:65: FutureWarning: DataFrame.applymap has been deprecated. Use DataFrame.map instead.\n",
      "  frame = frame.applymap(lambda x: x.split(' - price: ')[1].strip()\n"
     ]
    },
    {
     "name": "stdout",
     "output_type": "stream",
     "text": [
      "192\n",
      "1/1 [==============================] - 0s 84ms/step\n"
     ]
    },
    {
     "name": "stderr",
     "output_type": "stream",
     "text": [
      "c:\\Users\\maxbr\\OneDrive\\Desktop\\CLVSim\\CLVSim\\CLV Sim\\Sim\\features.py:65: FutureWarning: DataFrame.applymap has been deprecated. Use DataFrame.map instead.\n",
      "  frame = frame.applymap(lambda x: x.split(' - price: ')[1].strip()\n",
      "c:\\Users\\maxbr\\OneDrive\\Desktop\\CLVSim\\CLVSim\\CLV Sim\\Sim\\features.py:65: FutureWarning: DataFrame.applymap has been deprecated. Use DataFrame.map instead.\n",
      "  frame = frame.applymap(lambda x: x.split(' - price: ')[1].strip()\n"
     ]
    },
    {
     "name": "stdout",
     "output_type": "stream",
     "text": [
      "1/1 [==============================] - 0s 16ms/step\n",
      "193\n",
      "1/1 [==============================] - 0s 72ms/step\n",
      "1/1 [==============================] - ETA: 0s"
     ]
    },
    {
     "name": "stderr",
     "output_type": "stream",
     "text": [
      "c:\\Users\\maxbr\\OneDrive\\Desktop\\CLVSim\\CLVSim\\CLV Sim\\Sim\\features.py:65: FutureWarning: DataFrame.applymap has been deprecated. Use DataFrame.map instead.\n",
      "  frame = frame.applymap(lambda x: x.split(' - price: ')[1].strip()\n",
      "c:\\Users\\maxbr\\OneDrive\\Desktop\\CLVSim\\CLVSim\\CLV Sim\\Sim\\features.py:65: FutureWarning: DataFrame.applymap has been deprecated. Use DataFrame.map instead.\n",
      "  frame = frame.applymap(lambda x: x.split(' - price: ')[1].strip()\n"
     ]
    },
    {
     "name": "stdout",
     "output_type": "stream",
     "text": [
      "1/1 [==============================] - 0s 16ms/step\n",
      "194\n",
      "1/1 [==============================] - 0s 82ms/step\n",
      "1/1 [==============================] - 0s 16ms/step\n"
     ]
    },
    {
     "name": "stderr",
     "output_type": "stream",
     "text": [
      "c:\\Users\\maxbr\\OneDrive\\Desktop\\CLVSim\\CLVSim\\CLV Sim\\Sim\\features.py:65: FutureWarning: DataFrame.applymap has been deprecated. Use DataFrame.map instead.\n",
      "  frame = frame.applymap(lambda x: x.split(' - price: ')[1].strip()\n",
      "c:\\Users\\maxbr\\OneDrive\\Desktop\\CLVSim\\CLVSim\\CLV Sim\\Sim\\features.py:65: FutureWarning: DataFrame.applymap has been deprecated. Use DataFrame.map instead.\n",
      "  frame = frame.applymap(lambda x: x.split(' - price: ')[1].strip()\n"
     ]
    },
    {
     "name": "stdout",
     "output_type": "stream",
     "text": [
      "195\n",
      "1/1 [==============================] - ETA: 0s"
     ]
    },
    {
     "name": "stderr",
     "output_type": "stream",
     "text": [
      "c:\\Users\\maxbr\\OneDrive\\Desktop\\CLVSim\\CLVSim\\CLV Sim\\Sim\\features.py:65: FutureWarning: DataFrame.applymap has been deprecated. Use DataFrame.map instead.\n",
      "  frame = frame.applymap(lambda x: x.split(' - price: ')[1].strip()\n",
      "c:\\Users\\maxbr\\OneDrive\\Desktop\\CLVSim\\CLVSim\\CLV Sim\\Sim\\features.py:65: FutureWarning: DataFrame.applymap has been deprecated. Use DataFrame.map instead.\n",
      "  frame = frame.applymap(lambda x: x.split(' - price: ')[1].strip()\n"
     ]
    },
    {
     "name": "stdout",
     "output_type": "stream",
     "text": [
      "1/1 [==============================] - 0s 92ms/step\n",
      "1/1 [==============================] - 0s 20ms/step\n",
      "196\n",
      "1/1 [==============================] - 0s 84ms/step\n",
      "1/1 [==============================] - 0s 29ms/step\n"
     ]
    },
    {
     "name": "stderr",
     "output_type": "stream",
     "text": [
      "c:\\Users\\maxbr\\OneDrive\\Desktop\\CLVSim\\CLVSim\\CLV Sim\\Sim\\features.py:65: FutureWarning: DataFrame.applymap has been deprecated. Use DataFrame.map instead.\n",
      "  frame = frame.applymap(lambda x: x.split(' - price: ')[1].strip()\n",
      "c:\\Users\\maxbr\\OneDrive\\Desktop\\CLVSim\\CLVSim\\CLV Sim\\Sim\\features.py:65: FutureWarning: DataFrame.applymap has been deprecated. Use DataFrame.map instead.\n",
      "  frame = frame.applymap(lambda x: x.split(' - price: ')[1].strip()\n"
     ]
    },
    {
     "name": "stdout",
     "output_type": "stream",
     "text": [
      "197\n",
      "1/1 [==============================] - 0s 89ms/step\n",
      "1/1 [==============================] - 0s 22ms/step\n"
     ]
    },
    {
     "name": "stderr",
     "output_type": "stream",
     "text": [
      "c:\\Users\\maxbr\\OneDrive\\Desktop\\CLVSim\\CLVSim\\CLV Sim\\Sim\\features.py:65: FutureWarning: DataFrame.applymap has been deprecated. Use DataFrame.map instead.\n",
      "  frame = frame.applymap(lambda x: x.split(' - price: ')[1].strip()\n",
      "c:\\Users\\maxbr\\OneDrive\\Desktop\\CLVSim\\CLVSim\\CLV Sim\\Sim\\features.py:65: FutureWarning: DataFrame.applymap has been deprecated. Use DataFrame.map instead.\n",
      "  frame = frame.applymap(lambda x: x.split(' - price: ')[1].strip()\n"
     ]
    },
    {
     "name": "stdout",
     "output_type": "stream",
     "text": [
      "198\n",
      "1/1 [==============================] - 0s 85ms/step\n",
      "1/1 [==============================] - 0s 16ms/step\n"
     ]
    },
    {
     "name": "stderr",
     "output_type": "stream",
     "text": [
      "c:\\Users\\maxbr\\OneDrive\\Desktop\\CLVSim\\CLVSim\\CLV Sim\\Sim\\features.py:65: FutureWarning: DataFrame.applymap has been deprecated. Use DataFrame.map instead.\n",
      "  frame = frame.applymap(lambda x: x.split(' - price: ')[1].strip()\n",
      "c:\\Users\\maxbr\\OneDrive\\Desktop\\CLVSim\\CLVSim\\CLV Sim\\Sim\\features.py:65: FutureWarning: DataFrame.applymap has been deprecated. Use DataFrame.map instead.\n",
      "  frame = frame.applymap(lambda x: x.split(' - price: ')[1].strip()\n"
     ]
    },
    {
     "name": "stdout",
     "output_type": "stream",
     "text": [
      "199\n",
      "1/1 [==============================] - 0s 95ms/step\n",
      "1/1 [==============================] - ETA: 0s"
     ]
    },
    {
     "name": "stderr",
     "output_type": "stream",
     "text": [
      "c:\\Users\\maxbr\\OneDrive\\Desktop\\CLVSim\\CLVSim\\CLV Sim\\Sim\\features.py:65: FutureWarning: DataFrame.applymap has been deprecated. Use DataFrame.map instead.\n",
      "  frame = frame.applymap(lambda x: x.split(' - price: ')[1].strip()\n",
      "c:\\Users\\maxbr\\OneDrive\\Desktop\\CLVSim\\CLVSim\\CLV Sim\\Sim\\features.py:65: FutureWarning: DataFrame.applymap has been deprecated. Use DataFrame.map instead.\n",
      "  frame = frame.applymap(lambda x: x.split(' - price: ')[1].strip()\n"
     ]
    },
    {
     "name": "stdout",
     "output_type": "stream",
     "text": [
      "1/1 [==============================] - 0s 13ms/step\n",
      "200\n",
      "1/1 [==============================] - 0s 89ms/step\n",
      "1/1 [==============================] - 0s 22ms/step\n"
     ]
    },
    {
     "name": "stderr",
     "output_type": "stream",
     "text": [
      "c:\\Users\\maxbr\\OneDrive\\Desktop\\CLVSim\\CLVSim\\CLV Sim\\Sim\\features.py:65: FutureWarning: DataFrame.applymap has been deprecated. Use DataFrame.map instead.\n",
      "  frame = frame.applymap(lambda x: x.split(' - price: ')[1].strip()\n",
      "c:\\Users\\maxbr\\OneDrive\\Desktop\\CLVSim\\CLVSim\\CLV Sim\\Sim\\features.py:65: FutureWarning: DataFrame.applymap has been deprecated. Use DataFrame.map instead.\n",
      "  frame = frame.applymap(lambda x: x.split(' - price: ')[1].strip()\n"
     ]
    },
    {
     "name": "stdout",
     "output_type": "stream",
     "text": [
      "201\n",
      "1/1 [==============================] - 0s 88ms/step\n",
      "1/1 [==============================] - ETA: 0s"
     ]
    },
    {
     "name": "stderr",
     "output_type": "stream",
     "text": [
      "c:\\Users\\maxbr\\OneDrive\\Desktop\\CLVSim\\CLVSim\\CLV Sim\\Sim\\features.py:65: FutureWarning: DataFrame.applymap has been deprecated. Use DataFrame.map instead.\n",
      "  frame = frame.applymap(lambda x: x.split(' - price: ')[1].strip()\n",
      "c:\\Users\\maxbr\\OneDrive\\Desktop\\CLVSim\\CLVSim\\CLV Sim\\Sim\\features.py:65: FutureWarning: DataFrame.applymap has been deprecated. Use DataFrame.map instead.\n",
      "  frame = frame.applymap(lambda x: x.split(' - price: ')[1].strip()\n"
     ]
    },
    {
     "name": "stdout",
     "output_type": "stream",
     "text": [
      "1/1 [==============================] - 0s 31ms/step\n",
      "202\n",
      "1/1 [==============================] - 0s 98ms/step\n",
      "1/1 [==============================] - ETA: 0s"
     ]
    },
    {
     "name": "stderr",
     "output_type": "stream",
     "text": [
      "c:\\Users\\maxbr\\OneDrive\\Desktop\\CLVSim\\CLVSim\\CLV Sim\\Sim\\features.py:65: FutureWarning: DataFrame.applymap has been deprecated. Use DataFrame.map instead.\n",
      "  frame = frame.applymap(lambda x: x.split(' - price: ')[1].strip()\n",
      "c:\\Users\\maxbr\\OneDrive\\Desktop\\CLVSim\\CLVSim\\CLV Sim\\Sim\\features.py:65: FutureWarning: DataFrame.applymap has been deprecated. Use DataFrame.map instead.\n",
      "  frame = frame.applymap(lambda x: x.split(' - price: ')[1].strip()\n"
     ]
    },
    {
     "name": "stdout",
     "output_type": "stream",
     "text": [
      "1/1 [==============================] - 0s 20ms/step\n",
      "203\n",
      "1/1 [==============================] - 0s 83ms/step\n",
      "1/1 [==============================] - 0s 33ms/step\n"
     ]
    },
    {
     "name": "stderr",
     "output_type": "stream",
     "text": [
      "c:\\Users\\maxbr\\OneDrive\\Desktop\\CLVSim\\CLVSim\\CLV Sim\\Sim\\features.py:65: FutureWarning: DataFrame.applymap has been deprecated. Use DataFrame.map instead.\n",
      "  frame = frame.applymap(lambda x: x.split(' - price: ')[1].strip()\n",
      "c:\\Users\\maxbr\\OneDrive\\Desktop\\CLVSim\\CLVSim\\CLV Sim\\Sim\\features.py:65: FutureWarning: DataFrame.applymap has been deprecated. Use DataFrame.map instead.\n",
      "  frame = frame.applymap(lambda x: x.split(' - price: ')[1].strip()\n"
     ]
    },
    {
     "name": "stdout",
     "output_type": "stream",
     "text": [
      "204\n",
      "1/1 [==============================] - 0s 73ms/step\n",
      "1/1 [==============================] - 0s 16ms/step\n"
     ]
    },
    {
     "name": "stderr",
     "output_type": "stream",
     "text": [
      "c:\\Users\\maxbr\\OneDrive\\Desktop\\CLVSim\\CLVSim\\CLV Sim\\Sim\\features.py:65: FutureWarning: DataFrame.applymap has been deprecated. Use DataFrame.map instead.\n",
      "  frame = frame.applymap(lambda x: x.split(' - price: ')[1].strip()\n",
      "c:\\Users\\maxbr\\OneDrive\\Desktop\\CLVSim\\CLVSim\\CLV Sim\\Sim\\features.py:65: FutureWarning: DataFrame.applymap has been deprecated. Use DataFrame.map instead.\n",
      "  frame = frame.applymap(lambda x: x.split(' - price: ')[1].strip()\n"
     ]
    },
    {
     "name": "stdout",
     "output_type": "stream",
     "text": [
      "205\n",
      "1/1 [==============================] - 0s 93ms/step\n"
     ]
    },
    {
     "name": "stderr",
     "output_type": "stream",
     "text": [
      "c:\\Users\\maxbr\\OneDrive\\Desktop\\CLVSim\\CLVSim\\CLV Sim\\Sim\\features.py:65: FutureWarning: DataFrame.applymap has been deprecated. Use DataFrame.map instead.\n",
      "  frame = frame.applymap(lambda x: x.split(' - price: ')[1].strip()\n",
      "c:\\Users\\maxbr\\OneDrive\\Desktop\\CLVSim\\CLVSim\\CLV Sim\\Sim\\features.py:65: FutureWarning: DataFrame.applymap has been deprecated. Use DataFrame.map instead.\n",
      "  frame = frame.applymap(lambda x: x.split(' - price: ')[1].strip()\n"
     ]
    },
    {
     "name": "stdout",
     "output_type": "stream",
     "text": [
      "1/1 [==============================] - 0s 31ms/step\n",
      "206\n",
      "1/1 [==============================] - 0s 75ms/step\n",
      "1/1 [==============================] - 0s 19ms/step\n"
     ]
    },
    {
     "name": "stderr",
     "output_type": "stream",
     "text": [
      "c:\\Users\\maxbr\\OneDrive\\Desktop\\CLVSim\\CLVSim\\CLV Sim\\Sim\\features.py:65: FutureWarning: DataFrame.applymap has been deprecated. Use DataFrame.map instead.\n",
      "  frame = frame.applymap(lambda x: x.split(' - price: ')[1].strip()\n",
      "c:\\Users\\maxbr\\OneDrive\\Desktop\\CLVSim\\CLVSim\\CLV Sim\\Sim\\features.py:65: FutureWarning: DataFrame.applymap has been deprecated. Use DataFrame.map instead.\n",
      "  frame = frame.applymap(lambda x: x.split(' - price: ')[1].strip()\n"
     ]
    },
    {
     "name": "stdout",
     "output_type": "stream",
     "text": [
      "207\n",
      "1/1 [==============================] - 0s 99ms/step\n",
      "1/1 [==============================] - ETA: 0s"
     ]
    },
    {
     "name": "stderr",
     "output_type": "stream",
     "text": [
      "c:\\Users\\maxbr\\OneDrive\\Desktop\\CLVSim\\CLVSim\\CLV Sim\\Sim\\features.py:65: FutureWarning: DataFrame.applymap has been deprecated. Use DataFrame.map instead.\n",
      "  frame = frame.applymap(lambda x: x.split(' - price: ')[1].strip()\n",
      "c:\\Users\\maxbr\\OneDrive\\Desktop\\CLVSim\\CLVSim\\CLV Sim\\Sim\\features.py:65: FutureWarning: DataFrame.applymap has been deprecated. Use DataFrame.map instead.\n",
      "  frame = frame.applymap(lambda x: x.split(' - price: ')[1].strip()\n"
     ]
    },
    {
     "name": "stdout",
     "output_type": "stream",
     "text": [
      "1/1 [==============================] - 0s 16ms/step\n",
      "208\n",
      "1/1 [==============================] - 0s 81ms/step\n",
      "1/1 [==============================] - ETA: 0s"
     ]
    },
    {
     "name": "stderr",
     "output_type": "stream",
     "text": [
      "c:\\Users\\maxbr\\OneDrive\\Desktop\\CLVSim\\CLVSim\\CLV Sim\\Sim\\features.py:65: FutureWarning: DataFrame.applymap has been deprecated. Use DataFrame.map instead.\n",
      "  frame = frame.applymap(lambda x: x.split(' - price: ')[1].strip()\n",
      "c:\\Users\\maxbr\\OneDrive\\Desktop\\CLVSim\\CLVSim\\CLV Sim\\Sim\\features.py:65: FutureWarning: DataFrame.applymap has been deprecated. Use DataFrame.map instead.\n",
      "  frame = frame.applymap(lambda x: x.split(' - price: ')[1].strip()\n"
     ]
    },
    {
     "name": "stdout",
     "output_type": "stream",
     "text": [
      "1/1 [==============================] - 0s 12ms/step\n",
      "209\n",
      "1/1 [==============================] - 0s 91ms/step\n",
      "1/1 [==============================] - 0s 18ms/step\n"
     ]
    },
    {
     "name": "stderr",
     "output_type": "stream",
     "text": [
      "c:\\Users\\maxbr\\OneDrive\\Desktop\\CLVSim\\CLVSim\\CLV Sim\\Sim\\features.py:65: FutureWarning: DataFrame.applymap has been deprecated. Use DataFrame.map instead.\n",
      "  frame = frame.applymap(lambda x: x.split(' - price: ')[1].strip()\n",
      "c:\\Users\\maxbr\\OneDrive\\Desktop\\CLVSim\\CLVSim\\CLV Sim\\Sim\\features.py:65: FutureWarning: DataFrame.applymap has been deprecated. Use DataFrame.map instead.\n",
      "  frame = frame.applymap(lambda x: x.split(' - price: ')[1].strip()\n"
     ]
    },
    {
     "name": "stdout",
     "output_type": "stream",
     "text": [
      "210\n",
      "1/1 [==============================] - 0s 95ms/step\n",
      "1/1 [==============================] - ETA: 0s"
     ]
    },
    {
     "name": "stderr",
     "output_type": "stream",
     "text": [
      "c:\\Users\\maxbr\\OneDrive\\Desktop\\CLVSim\\CLVSim\\CLV Sim\\Sim\\features.py:65: FutureWarning: DataFrame.applymap has been deprecated. Use DataFrame.map instead.\n",
      "  frame = frame.applymap(lambda x: x.split(' - price: ')[1].strip()\n",
      "c:\\Users\\maxbr\\OneDrive\\Desktop\\CLVSim\\CLVSim\\CLV Sim\\Sim\\features.py:65: FutureWarning: DataFrame.applymap has been deprecated. Use DataFrame.map instead.\n",
      "  frame = frame.applymap(lambda x: x.split(' - price: ')[1].strip()\n"
     ]
    },
    {
     "name": "stdout",
     "output_type": "stream",
     "text": [
      "1/1 [==============================] - 0s 16ms/step\n",
      "211\n",
      "1/1 [==============================] - 0s 88ms/step\n",
      "1/1 [==============================] - ETA: 0s"
     ]
    },
    {
     "name": "stderr",
     "output_type": "stream",
     "text": [
      "c:\\Users\\maxbr\\OneDrive\\Desktop\\CLVSim\\CLVSim\\CLV Sim\\Sim\\features.py:65: FutureWarning: DataFrame.applymap has been deprecated. Use DataFrame.map instead.\n",
      "  frame = frame.applymap(lambda x: x.split(' - price: ')[1].strip()\n",
      "c:\\Users\\maxbr\\OneDrive\\Desktop\\CLVSim\\CLVSim\\CLV Sim\\Sim\\features.py:65: FutureWarning: DataFrame.applymap has been deprecated. Use DataFrame.map instead.\n",
      "  frame = frame.applymap(lambda x: x.split(' - price: ')[1].strip()\n"
     ]
    },
    {
     "name": "stdout",
     "output_type": "stream",
     "text": [
      "1/1 [==============================] - 0s 26ms/step\n",
      "212\n",
      "1/1 [==============================] - 0s 84ms/step\n",
      "1/1 [==============================] - 0s 7ms/step\n"
     ]
    },
    {
     "name": "stderr",
     "output_type": "stream",
     "text": [
      "c:\\Users\\maxbr\\OneDrive\\Desktop\\CLVSim\\CLVSim\\CLV Sim\\Sim\\features.py:65: FutureWarning: DataFrame.applymap has been deprecated. Use DataFrame.map instead.\n",
      "  frame = frame.applymap(lambda x: x.split(' - price: ')[1].strip()\n",
      "c:\\Users\\maxbr\\OneDrive\\Desktop\\CLVSim\\CLVSim\\CLV Sim\\Sim\\features.py:65: FutureWarning: DataFrame.applymap has been deprecated. Use DataFrame.map instead.\n",
      "  frame = frame.applymap(lambda x: x.split(' - price: ')[1].strip()\n"
     ]
    },
    {
     "name": "stdout",
     "output_type": "stream",
     "text": [
      "213\n",
      "1/1 [==============================] - 0s 73ms/step\n",
      "1/1 [==============================] - ETA: 0s"
     ]
    },
    {
     "name": "stderr",
     "output_type": "stream",
     "text": [
      "c:\\Users\\maxbr\\OneDrive\\Desktop\\CLVSim\\CLVSim\\CLV Sim\\Sim\\features.py:65: FutureWarning: DataFrame.applymap has been deprecated. Use DataFrame.map instead.\n",
      "  frame = frame.applymap(lambda x: x.split(' - price: ')[1].strip()\n",
      "c:\\Users\\maxbr\\OneDrive\\Desktop\\CLVSim\\CLVSim\\CLV Sim\\Sim\\features.py:65: FutureWarning: DataFrame.applymap has been deprecated. Use DataFrame.map instead.\n",
      "  frame = frame.applymap(lambda x: x.split(' - price: ')[1].strip()\n"
     ]
    },
    {
     "name": "stdout",
     "output_type": "stream",
     "text": [
      "1/1 [==============================] - 0s 22ms/step\n",
      "214\n",
      "1/1 [==============================] - 0s 105ms/step\n",
      "1/1 [==============================] - ETA: 0s"
     ]
    },
    {
     "name": "stderr",
     "output_type": "stream",
     "text": [
      "c:\\Users\\maxbr\\OneDrive\\Desktop\\CLVSim\\CLVSim\\CLV Sim\\Sim\\features.py:65: FutureWarning: DataFrame.applymap has been deprecated. Use DataFrame.map instead.\n",
      "  frame = frame.applymap(lambda x: x.split(' - price: ')[1].strip()\n",
      "c:\\Users\\maxbr\\OneDrive\\Desktop\\CLVSim\\CLVSim\\CLV Sim\\Sim\\features.py:65: FutureWarning: DataFrame.applymap has been deprecated. Use DataFrame.map instead.\n",
      "  frame = frame.applymap(lambda x: x.split(' - price: ')[1].strip()\n"
     ]
    },
    {
     "name": "stdout",
     "output_type": "stream",
     "text": [
      "1/1 [==============================] - 0s 35ms/step\n",
      "215\n",
      "1/1 [==============================] - 0s 97ms/step\n",
      "1/1 [==============================] - ETA: 0s"
     ]
    },
    {
     "name": "stderr",
     "output_type": "stream",
     "text": [
      "c:\\Users\\maxbr\\OneDrive\\Desktop\\CLVSim\\CLVSim\\CLV Sim\\Sim\\features.py:65: FutureWarning: DataFrame.applymap has been deprecated. Use DataFrame.map instead.\n",
      "  frame = frame.applymap(lambda x: x.split(' - price: ')[1].strip()\n",
      "c:\\Users\\maxbr\\OneDrive\\Desktop\\CLVSim\\CLVSim\\CLV Sim\\Sim\\features.py:65: FutureWarning: DataFrame.applymap has been deprecated. Use DataFrame.map instead.\n",
      "  frame = frame.applymap(lambda x: x.split(' - price: ')[1].strip()\n"
     ]
    },
    {
     "name": "stdout",
     "output_type": "stream",
     "text": [
      "1/1 [==============================] - 0s 30ms/step\n",
      "216\n",
      "1/1 [==============================] - 0s 83ms/step\n"
     ]
    },
    {
     "name": "stderr",
     "output_type": "stream",
     "text": [
      "c:\\Users\\maxbr\\OneDrive\\Desktop\\CLVSim\\CLVSim\\CLV Sim\\Sim\\features.py:65: FutureWarning: DataFrame.applymap has been deprecated. Use DataFrame.map instead.\n",
      "  frame = frame.applymap(lambda x: x.split(' - price: ')[1].strip()\n",
      "c:\\Users\\maxbr\\OneDrive\\Desktop\\CLVSim\\CLVSim\\CLV Sim\\Sim\\features.py:65: FutureWarning: DataFrame.applymap has been deprecated. Use DataFrame.map instead.\n",
      "  frame = frame.applymap(lambda x: x.split(' - price: ')[1].strip()\n"
     ]
    },
    {
     "name": "stdout",
     "output_type": "stream",
     "text": [
      "1/1 [==============================] - 0s 21ms/step\n",
      "217\n",
      "1/1 [==============================] - 0s 89ms/step\n",
      "1/1 [==============================] - ETA: 0s"
     ]
    },
    {
     "name": "stderr",
     "output_type": "stream",
     "text": [
      "c:\\Users\\maxbr\\OneDrive\\Desktop\\CLVSim\\CLVSim\\CLV Sim\\Sim\\features.py:65: FutureWarning: DataFrame.applymap has been deprecated. Use DataFrame.map instead.\n",
      "  frame = frame.applymap(lambda x: x.split(' - price: ')[1].strip()\n",
      "c:\\Users\\maxbr\\OneDrive\\Desktop\\CLVSim\\CLVSim\\CLV Sim\\Sim\\features.py:65: FutureWarning: DataFrame.applymap has been deprecated. Use DataFrame.map instead.\n",
      "  frame = frame.applymap(lambda x: x.split(' - price: ')[1].strip()\n"
     ]
    },
    {
     "name": "stdout",
     "output_type": "stream",
     "text": [
      "1/1 [==============================] - 0s 28ms/step\n",
      "218\n",
      "1/1 [==============================] - 0s 88ms/step\n"
     ]
    },
    {
     "name": "stderr",
     "output_type": "stream",
     "text": [
      "c:\\Users\\maxbr\\OneDrive\\Desktop\\CLVSim\\CLVSim\\CLV Sim\\Sim\\features.py:65: FutureWarning: DataFrame.applymap has been deprecated. Use DataFrame.map instead.\n",
      "  frame = frame.applymap(lambda x: x.split(' - price: ')[1].strip()\n",
      "c:\\Users\\maxbr\\OneDrive\\Desktop\\CLVSim\\CLVSim\\CLV Sim\\Sim\\features.py:65: FutureWarning: DataFrame.applymap has been deprecated. Use DataFrame.map instead.\n",
      "  frame = frame.applymap(lambda x: x.split(' - price: ')[1].strip()\n"
     ]
    },
    {
     "name": "stdout",
     "output_type": "stream",
     "text": [
      "1/1 [==============================] - 0s 16ms/step\n",
      "219\n",
      "1/1 [==============================] - 0s 102ms/step\n"
     ]
    },
    {
     "name": "stderr",
     "output_type": "stream",
     "text": [
      "c:\\Users\\maxbr\\OneDrive\\Desktop\\CLVSim\\CLVSim\\CLV Sim\\Sim\\features.py:65: FutureWarning: DataFrame.applymap has been deprecated. Use DataFrame.map instead.\n",
      "  frame = frame.applymap(lambda x: x.split(' - price: ')[1].strip()\n",
      "c:\\Users\\maxbr\\OneDrive\\Desktop\\CLVSim\\CLVSim\\CLV Sim\\Sim\\features.py:65: FutureWarning: DataFrame.applymap has been deprecated. Use DataFrame.map instead.\n",
      "  frame = frame.applymap(lambda x: x.split(' - price: ')[1].strip()\n"
     ]
    },
    {
     "name": "stdout",
     "output_type": "stream",
     "text": [
      "1/1 [==============================] - 0s 23ms/step\n",
      "220\n",
      "1/1 [==============================] - 0s 89ms/step\n",
      "1/1 [==============================] - 0s 16ms/step\n"
     ]
    },
    {
     "name": "stderr",
     "output_type": "stream",
     "text": [
      "c:\\Users\\maxbr\\OneDrive\\Desktop\\CLVSim\\CLVSim\\CLV Sim\\Sim\\features.py:65: FutureWarning: DataFrame.applymap has been deprecated. Use DataFrame.map instead.\n",
      "  frame = frame.applymap(lambda x: x.split(' - price: ')[1].strip()\n",
      "c:\\Users\\maxbr\\OneDrive\\Desktop\\CLVSim\\CLVSim\\CLV Sim\\Sim\\features.py:65: FutureWarning: DataFrame.applymap has been deprecated. Use DataFrame.map instead.\n",
      "  frame = frame.applymap(lambda x: x.split(' - price: ')[1].strip()\n"
     ]
    },
    {
     "name": "stdout",
     "output_type": "stream",
     "text": [
      "221\n",
      "1/1 [==============================] - 0s 108ms/step\n"
     ]
    },
    {
     "name": "stderr",
     "output_type": "stream",
     "text": [
      "c:\\Users\\maxbr\\OneDrive\\Desktop\\CLVSim\\CLVSim\\CLV Sim\\Sim\\features.py:65: FutureWarning: DataFrame.applymap has been deprecated. Use DataFrame.map instead.\n",
      "  frame = frame.applymap(lambda x: x.split(' - price: ')[1].strip()\n",
      "c:\\Users\\maxbr\\OneDrive\\Desktop\\CLVSim\\CLVSim\\CLV Sim\\Sim\\features.py:65: FutureWarning: DataFrame.applymap has been deprecated. Use DataFrame.map instead.\n",
      "  frame = frame.applymap(lambda x: x.split(' - price: ')[1].strip()\n"
     ]
    },
    {
     "name": "stdout",
     "output_type": "stream",
     "text": [
      "1/1 [==============================] - 0s 21ms/step\n",
      "222\n",
      "1/1 [==============================] - 0s 94ms/step\n",
      "1/1 [==============================] - 0s 11ms/step\n"
     ]
    },
    {
     "name": "stderr",
     "output_type": "stream",
     "text": [
      "c:\\Users\\maxbr\\OneDrive\\Desktop\\CLVSim\\CLVSim\\CLV Sim\\Sim\\features.py:65: FutureWarning: DataFrame.applymap has been deprecated. Use DataFrame.map instead.\n",
      "  frame = frame.applymap(lambda x: x.split(' - price: ')[1].strip()\n",
      "c:\\Users\\maxbr\\OneDrive\\Desktop\\CLVSim\\CLVSim\\CLV Sim\\Sim\\features.py:65: FutureWarning: DataFrame.applymap has been deprecated. Use DataFrame.map instead.\n",
      "  frame = frame.applymap(lambda x: x.split(' - price: ')[1].strip()\n"
     ]
    },
    {
     "name": "stdout",
     "output_type": "stream",
     "text": [
      "223\n",
      "1/1 [==============================] - 0s 96ms/step\n"
     ]
    },
    {
     "name": "stderr",
     "output_type": "stream",
     "text": [
      "c:\\Users\\maxbr\\OneDrive\\Desktop\\CLVSim\\CLVSim\\CLV Sim\\Sim\\features.py:65: FutureWarning: DataFrame.applymap has been deprecated. Use DataFrame.map instead.\n",
      "  frame = frame.applymap(lambda x: x.split(' - price: ')[1].strip()\n",
      "c:\\Users\\maxbr\\OneDrive\\Desktop\\CLVSim\\CLVSim\\CLV Sim\\Sim\\features.py:65: FutureWarning: DataFrame.applymap has been deprecated. Use DataFrame.map instead.\n",
      "  frame = frame.applymap(lambda x: x.split(' - price: ')[1].strip()\n"
     ]
    },
    {
     "name": "stdout",
     "output_type": "stream",
     "text": [
      "1/1 [==============================] - 0s 20ms/step\n",
      "224\n",
      "1/1 [==============================] - 0s 90ms/step\n",
      "1/1 [==============================] - ETA: 0s"
     ]
    },
    {
     "name": "stderr",
     "output_type": "stream",
     "text": [
      "c:\\Users\\maxbr\\OneDrive\\Desktop\\CLVSim\\CLVSim\\CLV Sim\\Sim\\features.py:65: FutureWarning: DataFrame.applymap has been deprecated. Use DataFrame.map instead.\n",
      "  frame = frame.applymap(lambda x: x.split(' - price: ')[1].strip()\n",
      "c:\\Users\\maxbr\\OneDrive\\Desktop\\CLVSim\\CLVSim\\CLV Sim\\Sim\\features.py:65: FutureWarning: DataFrame.applymap has been deprecated. Use DataFrame.map instead.\n",
      "  frame = frame.applymap(lambda x: x.split(' - price: ')[1].strip()\n"
     ]
    },
    {
     "name": "stdout",
     "output_type": "stream",
     "text": [
      "1/1 [==============================] - 0s 20ms/step\n",
      "225\n",
      "1/1 [==============================] - 0s 89ms/step\n",
      "1/1 [==============================] - ETA: 0s"
     ]
    },
    {
     "name": "stderr",
     "output_type": "stream",
     "text": [
      "c:\\Users\\maxbr\\OneDrive\\Desktop\\CLVSim\\CLVSim\\CLV Sim\\Sim\\features.py:65: FutureWarning: DataFrame.applymap has been deprecated. Use DataFrame.map instead.\n",
      "  frame = frame.applymap(lambda x: x.split(' - price: ')[1].strip()\n",
      "c:\\Users\\maxbr\\OneDrive\\Desktop\\CLVSim\\CLVSim\\CLV Sim\\Sim\\features.py:65: FutureWarning: DataFrame.applymap has been deprecated. Use DataFrame.map instead.\n",
      "  frame = frame.applymap(lambda x: x.split(' - price: ')[1].strip()\n"
     ]
    },
    {
     "name": "stdout",
     "output_type": "stream",
     "text": [
      "1/1 [==============================] - 0s 35ms/step\n",
      "226\n",
      "1/1 [==============================] - 0s 101ms/step\n",
      "1/1 [==============================] - 0s 16ms/step\n"
     ]
    },
    {
     "name": "stderr",
     "output_type": "stream",
     "text": [
      "c:\\Users\\maxbr\\OneDrive\\Desktop\\CLVSim\\CLVSim\\CLV Sim\\Sim\\features.py:65: FutureWarning: DataFrame.applymap has been deprecated. Use DataFrame.map instead.\n",
      "  frame = frame.applymap(lambda x: x.split(' - price: ')[1].strip()\n",
      "c:\\Users\\maxbr\\OneDrive\\Desktop\\CLVSim\\CLVSim\\CLV Sim\\Sim\\features.py:65: FutureWarning: DataFrame.applymap has been deprecated. Use DataFrame.map instead.\n",
      "  frame = frame.applymap(lambda x: x.split(' - price: ')[1].strip()\n"
     ]
    },
    {
     "name": "stdout",
     "output_type": "stream",
     "text": [
      "227\n",
      "1/1 [==============================] - 0s 89ms/step\n",
      "1/1 [==============================] - ETA: 0s"
     ]
    },
    {
     "name": "stderr",
     "output_type": "stream",
     "text": [
      "c:\\Users\\maxbr\\OneDrive\\Desktop\\CLVSim\\CLVSim\\CLV Sim\\Sim\\features.py:65: FutureWarning: DataFrame.applymap has been deprecated. Use DataFrame.map instead.\n",
      "  frame = frame.applymap(lambda x: x.split(' - price: ')[1].strip()\n",
      "c:\\Users\\maxbr\\OneDrive\\Desktop\\CLVSim\\CLVSim\\CLV Sim\\Sim\\features.py:65: FutureWarning: DataFrame.applymap has been deprecated. Use DataFrame.map instead.\n",
      "  frame = frame.applymap(lambda x: x.split(' - price: ')[1].strip()\n"
     ]
    },
    {
     "name": "stdout",
     "output_type": "stream",
     "text": [
      "1/1 [==============================] - 0s 26ms/step\n",
      "228\n",
      "1/1 [==============================] - 0s 87ms/step\n",
      "1/1 [==============================] - 0s 9ms/step\n"
     ]
    },
    {
     "name": "stderr",
     "output_type": "stream",
     "text": [
      "c:\\Users\\maxbr\\OneDrive\\Desktop\\CLVSim\\CLVSim\\CLV Sim\\Sim\\features.py:65: FutureWarning: DataFrame.applymap has been deprecated. Use DataFrame.map instead.\n",
      "  frame = frame.applymap(lambda x: x.split(' - price: ')[1].strip()\n",
      "c:\\Users\\maxbr\\OneDrive\\Desktop\\CLVSim\\CLVSim\\CLV Sim\\Sim\\features.py:65: FutureWarning: DataFrame.applymap has been deprecated. Use DataFrame.map instead.\n",
      "  frame = frame.applymap(lambda x: x.split(' - price: ')[1].strip()\n"
     ]
    },
    {
     "name": "stdout",
     "output_type": "stream",
     "text": [
      "229\n",
      "1/1 [==============================] - 0s 89ms/step\n",
      "1/1 [==============================] - ETA: 0s"
     ]
    },
    {
     "name": "stderr",
     "output_type": "stream",
     "text": [
      "c:\\Users\\maxbr\\OneDrive\\Desktop\\CLVSim\\CLVSim\\CLV Sim\\Sim\\features.py:65: FutureWarning: DataFrame.applymap has been deprecated. Use DataFrame.map instead.\n",
      "  frame = frame.applymap(lambda x: x.split(' - price: ')[1].strip()\n",
      "c:\\Users\\maxbr\\OneDrive\\Desktop\\CLVSim\\CLVSim\\CLV Sim\\Sim\\features.py:65: FutureWarning: DataFrame.applymap has been deprecated. Use DataFrame.map instead.\n",
      "  frame = frame.applymap(lambda x: x.split(' - price: ')[1].strip()\n"
     ]
    },
    {
     "name": "stdout",
     "output_type": "stream",
     "text": [
      "1/1 [==============================] - 0s 22ms/step\n",
      "230\n",
      "1/1 [==============================] - 0s 77ms/step\n",
      "1/1 [==============================] - ETA: 0s"
     ]
    },
    {
     "name": "stderr",
     "output_type": "stream",
     "text": [
      "c:\\Users\\maxbr\\OneDrive\\Desktop\\CLVSim\\CLVSim\\CLV Sim\\Sim\\features.py:65: FutureWarning: DataFrame.applymap has been deprecated. Use DataFrame.map instead.\n",
      "  frame = frame.applymap(lambda x: x.split(' - price: ')[1].strip()\n",
      "c:\\Users\\maxbr\\OneDrive\\Desktop\\CLVSim\\CLVSim\\CLV Sim\\Sim\\features.py:65: FutureWarning: DataFrame.applymap has been deprecated. Use DataFrame.map instead.\n",
      "  frame = frame.applymap(lambda x: x.split(' - price: ')[1].strip()\n"
     ]
    },
    {
     "name": "stdout",
     "output_type": "stream",
     "text": [
      "1/1 [==============================] - 0s 9ms/step\n",
      "231\n",
      "1/1 [==============================] - 0s 89ms/step\n",
      "1/1 [==============================] - ETA: 0s"
     ]
    },
    {
     "name": "stderr",
     "output_type": "stream",
     "text": [
      "c:\\Users\\maxbr\\OneDrive\\Desktop\\CLVSim\\CLVSim\\CLV Sim\\Sim\\features.py:65: FutureWarning: DataFrame.applymap has been deprecated. Use DataFrame.map instead.\n",
      "  frame = frame.applymap(lambda x: x.split(' - price: ')[1].strip()\n",
      "c:\\Users\\maxbr\\OneDrive\\Desktop\\CLVSim\\CLVSim\\CLV Sim\\Sim\\features.py:65: FutureWarning: DataFrame.applymap has been deprecated. Use DataFrame.map instead.\n",
      "  frame = frame.applymap(lambda x: x.split(' - price: ')[1].strip()\n"
     ]
    },
    {
     "name": "stdout",
     "output_type": "stream",
     "text": [
      "1/1 [==============================] - 0s 22ms/step\n",
      "232\n",
      "1/1 [==============================] - 0s 86ms/step\n",
      "1/1 [==============================] - 0s 16ms/step\n"
     ]
    },
    {
     "name": "stderr",
     "output_type": "stream",
     "text": [
      "c:\\Users\\maxbr\\OneDrive\\Desktop\\CLVSim\\CLVSim\\CLV Sim\\Sim\\features.py:65: FutureWarning: DataFrame.applymap has been deprecated. Use DataFrame.map instead.\n",
      "  frame = frame.applymap(lambda x: x.split(' - price: ')[1].strip()\n",
      "c:\\Users\\maxbr\\OneDrive\\Desktop\\CLVSim\\CLVSim\\CLV Sim\\Sim\\features.py:65: FutureWarning: DataFrame.applymap has been deprecated. Use DataFrame.map instead.\n",
      "  frame = frame.applymap(lambda x: x.split(' - price: ')[1].strip()\n"
     ]
    },
    {
     "name": "stdout",
     "output_type": "stream",
     "text": [
      "233\n",
      "1/1 [==============================] - 0s 89ms/step\n",
      "1/1 [==============================] - 0s 16ms/step\n"
     ]
    },
    {
     "name": "stderr",
     "output_type": "stream",
     "text": [
      "c:\\Users\\maxbr\\OneDrive\\Desktop\\CLVSim\\CLVSim\\CLV Sim\\Sim\\features.py:65: FutureWarning: DataFrame.applymap has been deprecated. Use DataFrame.map instead.\n",
      "  frame = frame.applymap(lambda x: x.split(' - price: ')[1].strip()\n",
      "c:\\Users\\maxbr\\OneDrive\\Desktop\\CLVSim\\CLVSim\\CLV Sim\\Sim\\features.py:65: FutureWarning: DataFrame.applymap has been deprecated. Use DataFrame.map instead.\n",
      "  frame = frame.applymap(lambda x: x.split(' - price: ')[1].strip()\n"
     ]
    },
    {
     "name": "stdout",
     "output_type": "stream",
     "text": [
      "234\n",
      "1/1 [==============================] - 0s 88ms/step\n",
      "1/1 [==============================] - 0s 16ms/step\n"
     ]
    },
    {
     "name": "stderr",
     "output_type": "stream",
     "text": [
      "c:\\Users\\maxbr\\OneDrive\\Desktop\\CLVSim\\CLVSim\\CLV Sim\\Sim\\features.py:65: FutureWarning: DataFrame.applymap has been deprecated. Use DataFrame.map instead.\n",
      "  frame = frame.applymap(lambda x: x.split(' - price: ')[1].strip()\n",
      "c:\\Users\\maxbr\\OneDrive\\Desktop\\CLVSim\\CLVSim\\CLV Sim\\Sim\\features.py:65: FutureWarning: DataFrame.applymap has been deprecated. Use DataFrame.map instead.\n",
      "  frame = frame.applymap(lambda x: x.split(' - price: ')[1].strip()\n"
     ]
    },
    {
     "name": "stdout",
     "output_type": "stream",
     "text": [
      "235\n",
      "1/1 [==============================] - 0s 105ms/step\n",
      "1/1 [==============================] - ETA: 0s"
     ]
    },
    {
     "name": "stderr",
     "output_type": "stream",
     "text": [
      "c:\\Users\\maxbr\\OneDrive\\Desktop\\CLVSim\\CLVSim\\CLV Sim\\Sim\\features.py:65: FutureWarning: DataFrame.applymap has been deprecated. Use DataFrame.map instead.\n",
      "  frame = frame.applymap(lambda x: x.split(' - price: ')[1].strip()\n",
      "c:\\Users\\maxbr\\OneDrive\\Desktop\\CLVSim\\CLVSim\\CLV Sim\\Sim\\features.py:65: FutureWarning: DataFrame.applymap has been deprecated. Use DataFrame.map instead.\n",
      "  frame = frame.applymap(lambda x: x.split(' - price: ')[1].strip()\n"
     ]
    },
    {
     "name": "stdout",
     "output_type": "stream",
     "text": [
      "1/1 [==============================] - 0s 34ms/step\n",
      "236\n",
      "1/1 [==============================] - 0s 88ms/step\n",
      "1/1 [==============================] - ETA: 0s"
     ]
    },
    {
     "name": "stderr",
     "output_type": "stream",
     "text": [
      "c:\\Users\\maxbr\\OneDrive\\Desktop\\CLVSim\\CLVSim\\CLV Sim\\Sim\\features.py:65: FutureWarning: DataFrame.applymap has been deprecated. Use DataFrame.map instead.\n",
      "  frame = frame.applymap(lambda x: x.split(' - price: ')[1].strip()\n",
      "c:\\Users\\maxbr\\OneDrive\\Desktop\\CLVSim\\CLVSim\\CLV Sim\\Sim\\features.py:65: FutureWarning: DataFrame.applymap has been deprecated. Use DataFrame.map instead.\n",
      "  frame = frame.applymap(lambda x: x.split(' - price: ')[1].strip()\n"
     ]
    },
    {
     "name": "stdout",
     "output_type": "stream",
     "text": [
      "1/1 [==============================] - 0s 20ms/step\n",
      "237\n",
      "1/1 [==============================] - 0s 92ms/step\n"
     ]
    },
    {
     "name": "stderr",
     "output_type": "stream",
     "text": [
      "c:\\Users\\maxbr\\OneDrive\\Desktop\\CLVSim\\CLVSim\\CLV Sim\\Sim\\features.py:65: FutureWarning: DataFrame.applymap has been deprecated. Use DataFrame.map instead.\n",
      "  frame = frame.applymap(lambda x: x.split(' - price: ')[1].strip()\n",
      "c:\\Users\\maxbr\\OneDrive\\Desktop\\CLVSim\\CLVSim\\CLV Sim\\Sim\\features.py:65: FutureWarning: DataFrame.applymap has been deprecated. Use DataFrame.map instead.\n",
      "  frame = frame.applymap(lambda x: x.split(' - price: ')[1].strip()\n"
     ]
    },
    {
     "name": "stdout",
     "output_type": "stream",
     "text": [
      "1/1 [==============================] - 0s 31ms/step\n",
      "238\n",
      "1/1 [==============================] - 0s 97ms/step\n",
      "1/1 [==============================] - 0s 28ms/step\n"
     ]
    },
    {
     "name": "stderr",
     "output_type": "stream",
     "text": [
      "c:\\Users\\maxbr\\OneDrive\\Desktop\\CLVSim\\CLVSim\\CLV Sim\\Sim\\features.py:65: FutureWarning: DataFrame.applymap has been deprecated. Use DataFrame.map instead.\n",
      "  frame = frame.applymap(lambda x: x.split(' - price: ')[1].strip()\n",
      "c:\\Users\\maxbr\\OneDrive\\Desktop\\CLVSim\\CLVSim\\CLV Sim\\Sim\\features.py:65: FutureWarning: DataFrame.applymap has been deprecated. Use DataFrame.map instead.\n",
      "  frame = frame.applymap(lambda x: x.split(' - price: ')[1].strip()\n"
     ]
    },
    {
     "name": "stdout",
     "output_type": "stream",
     "text": [
      "239\n",
      "1/1 [==============================] - 0s 97ms/step\n"
     ]
    },
    {
     "name": "stderr",
     "output_type": "stream",
     "text": [
      "c:\\Users\\maxbr\\OneDrive\\Desktop\\CLVSim\\CLVSim\\CLV Sim\\Sim\\features.py:65: FutureWarning: DataFrame.applymap has been deprecated. Use DataFrame.map instead.\n",
      "  frame = frame.applymap(lambda x: x.split(' - price: ')[1].strip()\n",
      "c:\\Users\\maxbr\\OneDrive\\Desktop\\CLVSim\\CLVSim\\CLV Sim\\Sim\\features.py:65: FutureWarning: DataFrame.applymap has been deprecated. Use DataFrame.map instead.\n",
      "  frame = frame.applymap(lambda x: x.split(' - price: ')[1].strip()\n"
     ]
    },
    {
     "name": "stdout",
     "output_type": "stream",
     "text": [
      "1/1 [==============================] - 0s 21ms/step\n",
      "240\n",
      "1/1 [==============================] - 0s 82ms/step\n",
      "1/1 [==============================] - ETA: 0s"
     ]
    },
    {
     "name": "stderr",
     "output_type": "stream",
     "text": [
      "c:\\Users\\maxbr\\OneDrive\\Desktop\\CLVSim\\CLVSim\\CLV Sim\\Sim\\features.py:65: FutureWarning: DataFrame.applymap has been deprecated. Use DataFrame.map instead.\n",
      "  frame = frame.applymap(lambda x: x.split(' - price: ')[1].strip()\n",
      "c:\\Users\\maxbr\\OneDrive\\Desktop\\CLVSim\\CLVSim\\CLV Sim\\Sim\\features.py:65: FutureWarning: DataFrame.applymap has been deprecated. Use DataFrame.map instead.\n",
      "  frame = frame.applymap(lambda x: x.split(' - price: ')[1].strip()\n"
     ]
    },
    {
     "name": "stdout",
     "output_type": "stream",
     "text": [
      "1/1 [==============================] - 0s 23ms/step\n",
      "241\n",
      "1/1 [==============================] - 0s 91ms/step\n",
      "1/1 [==============================] - ETA: 0s"
     ]
    },
    {
     "name": "stderr",
     "output_type": "stream",
     "text": [
      "c:\\Users\\maxbr\\OneDrive\\Desktop\\CLVSim\\CLVSim\\CLV Sim\\Sim\\features.py:65: FutureWarning: DataFrame.applymap has been deprecated. Use DataFrame.map instead.\n",
      "  frame = frame.applymap(lambda x: x.split(' - price: ')[1].strip()\n",
      "c:\\Users\\maxbr\\OneDrive\\Desktop\\CLVSim\\CLVSim\\CLV Sim\\Sim\\features.py:65: FutureWarning: DataFrame.applymap has been deprecated. Use DataFrame.map instead.\n",
      "  frame = frame.applymap(lambda x: x.split(' - price: ')[1].strip()\n"
     ]
    },
    {
     "name": "stdout",
     "output_type": "stream",
     "text": [
      "1/1 [==============================] - 0s 17ms/step\n",
      "242\n",
      "1/1 [==============================] - 0s 96ms/step\n",
      "1/1 [==============================] - ETA: 0s"
     ]
    },
    {
     "name": "stderr",
     "output_type": "stream",
     "text": [
      "c:\\Users\\maxbr\\OneDrive\\Desktop\\CLVSim\\CLVSim\\CLV Sim\\Sim\\features.py:65: FutureWarning: DataFrame.applymap has been deprecated. Use DataFrame.map instead.\n",
      "  frame = frame.applymap(lambda x: x.split(' - price: ')[1].strip()\n",
      "c:\\Users\\maxbr\\OneDrive\\Desktop\\CLVSim\\CLVSim\\CLV Sim\\Sim\\features.py:65: FutureWarning: DataFrame.applymap has been deprecated. Use DataFrame.map instead.\n",
      "  frame = frame.applymap(lambda x: x.split(' - price: ')[1].strip()\n"
     ]
    },
    {
     "name": "stdout",
     "output_type": "stream",
     "text": [
      "1/1 [==============================] - 0s 22ms/step\n",
      "243\n",
      "1/1 [==============================] - 0s 89ms/step\n"
     ]
    },
    {
     "name": "stderr",
     "output_type": "stream",
     "text": [
      "c:\\Users\\maxbr\\OneDrive\\Desktop\\CLVSim\\CLVSim\\CLV Sim\\Sim\\features.py:65: FutureWarning: DataFrame.applymap has been deprecated. Use DataFrame.map instead.\n",
      "  frame = frame.applymap(lambda x: x.split(' - price: ')[1].strip()\n",
      "c:\\Users\\maxbr\\OneDrive\\Desktop\\CLVSim\\CLVSim\\CLV Sim\\Sim\\features.py:65: FutureWarning: DataFrame.applymap has been deprecated. Use DataFrame.map instead.\n",
      "  frame = frame.applymap(lambda x: x.split(' - price: ')[1].strip()\n"
     ]
    },
    {
     "name": "stdout",
     "output_type": "stream",
     "text": [
      "1/1 [==============================] - 0s 21ms/step\n",
      "244\n",
      "1/1 [==============================] - 0s 88ms/step\n",
      "1/1 [==============================] - ETA: 0s"
     ]
    },
    {
     "name": "stderr",
     "output_type": "stream",
     "text": [
      "c:\\Users\\maxbr\\OneDrive\\Desktop\\CLVSim\\CLVSim\\CLV Sim\\Sim\\features.py:65: FutureWarning: DataFrame.applymap has been deprecated. Use DataFrame.map instead.\n",
      "  frame = frame.applymap(lambda x: x.split(' - price: ')[1].strip()\n",
      "c:\\Users\\maxbr\\OneDrive\\Desktop\\CLVSim\\CLVSim\\CLV Sim\\Sim\\features.py:65: FutureWarning: DataFrame.applymap has been deprecated. Use DataFrame.map instead.\n",
      "  frame = frame.applymap(lambda x: x.split(' - price: ')[1].strip()\n"
     ]
    },
    {
     "name": "stdout",
     "output_type": "stream",
     "text": [
      "1/1 [==============================] - 0s 22ms/step\n",
      "245\n",
      "1/1 [==============================] - 0s 89ms/step\n",
      "1/1 [==============================] - 0s 16ms/step\n"
     ]
    },
    {
     "name": "stderr",
     "output_type": "stream",
     "text": [
      "c:\\Users\\maxbr\\OneDrive\\Desktop\\CLVSim\\CLVSim\\CLV Sim\\Sim\\features.py:65: FutureWarning: DataFrame.applymap has been deprecated. Use DataFrame.map instead.\n",
      "  frame = frame.applymap(lambda x: x.split(' - price: ')[1].strip()\n",
      "c:\\Users\\maxbr\\OneDrive\\Desktop\\CLVSim\\CLVSim\\CLV Sim\\Sim\\features.py:65: FutureWarning: DataFrame.applymap has been deprecated. Use DataFrame.map instead.\n",
      "  frame = frame.applymap(lambda x: x.split(' - price: ')[1].strip()\n"
     ]
    },
    {
     "name": "stdout",
     "output_type": "stream",
     "text": [
      "246\n",
      "1/1 [==============================] - 0s 87ms/step\n",
      "1/1 [==============================] - ETA: 0s"
     ]
    },
    {
     "name": "stderr",
     "output_type": "stream",
     "text": [
      "c:\\Users\\maxbr\\OneDrive\\Desktop\\CLVSim\\CLVSim\\CLV Sim\\Sim\\features.py:65: FutureWarning: DataFrame.applymap has been deprecated. Use DataFrame.map instead.\n",
      "  frame = frame.applymap(lambda x: x.split(' - price: ')[1].strip()\n",
      "c:\\Users\\maxbr\\OneDrive\\Desktop\\CLVSim\\CLVSim\\CLV Sim\\Sim\\features.py:65: FutureWarning: DataFrame.applymap has been deprecated. Use DataFrame.map instead.\n",
      "  frame = frame.applymap(lambda x: x.split(' - price: ')[1].strip()\n"
     ]
    },
    {
     "name": "stdout",
     "output_type": "stream",
     "text": [
      "1/1 [==============================] - 0s 17ms/step\n",
      "247\n",
      "1/1 [==============================] - 0s 87ms/step\n",
      "1/1 [==============================] - 0s 25ms/step\n"
     ]
    },
    {
     "name": "stderr",
     "output_type": "stream",
     "text": [
      "c:\\Users\\maxbr\\OneDrive\\Desktop\\CLVSim\\CLVSim\\CLV Sim\\Sim\\features.py:65: FutureWarning: DataFrame.applymap has been deprecated. Use DataFrame.map instead.\n",
      "  frame = frame.applymap(lambda x: x.split(' - price: ')[1].strip()\n",
      "c:\\Users\\maxbr\\OneDrive\\Desktop\\CLVSim\\CLVSim\\CLV Sim\\Sim\\features.py:65: FutureWarning: DataFrame.applymap has been deprecated. Use DataFrame.map instead.\n",
      "  frame = frame.applymap(lambda x: x.split(' - price: ')[1].strip()\n"
     ]
    },
    {
     "name": "stdout",
     "output_type": "stream",
     "text": [
      "248\n",
      "1/1 [==============================] - 0s 82ms/step\n"
     ]
    },
    {
     "name": "stderr",
     "output_type": "stream",
     "text": [
      "c:\\Users\\maxbr\\OneDrive\\Desktop\\CLVSim\\CLVSim\\CLV Sim\\Sim\\features.py:65: FutureWarning: DataFrame.applymap has been deprecated. Use DataFrame.map instead.\n",
      "  frame = frame.applymap(lambda x: x.split(' - price: ')[1].strip()\n",
      "c:\\Users\\maxbr\\OneDrive\\Desktop\\CLVSim\\CLVSim\\CLV Sim\\Sim\\features.py:65: FutureWarning: DataFrame.applymap has been deprecated. Use DataFrame.map instead.\n",
      "  frame = frame.applymap(lambda x: x.split(' - price: ')[1].strip()\n"
     ]
    },
    {
     "name": "stdout",
     "output_type": "stream",
     "text": [
      "1/1 [==============================] - 0s 25ms/step\n",
      "249\n",
      "1/1 [==============================] - 0s 89ms/step\n",
      "1/1 [==============================] - ETA: 0s"
     ]
    },
    {
     "name": "stderr",
     "output_type": "stream",
     "text": [
      "c:\\Users\\maxbr\\OneDrive\\Desktop\\CLVSim\\CLVSim\\CLV Sim\\Sim\\features.py:65: FutureWarning: DataFrame.applymap has been deprecated. Use DataFrame.map instead.\n",
      "  frame = frame.applymap(lambda x: x.split(' - price: ')[1].strip()\n",
      "c:\\Users\\maxbr\\OneDrive\\Desktop\\CLVSim\\CLVSim\\CLV Sim\\Sim\\features.py:65: FutureWarning: DataFrame.applymap has been deprecated. Use DataFrame.map instead.\n",
      "  frame = frame.applymap(lambda x: x.split(' - price: ')[1].strip()\n"
     ]
    },
    {
     "name": "stdout",
     "output_type": "stream",
     "text": [
      "1/1 [==============================] - 0s 23ms/step\n",
      "250\n",
      "1/1 [==============================] - 0s 80ms/step\n",
      "1/1 [==============================] - 0s 28ms/step\n"
     ]
    },
    {
     "name": "stderr",
     "output_type": "stream",
     "text": [
      "c:\\Users\\maxbr\\OneDrive\\Desktop\\CLVSim\\CLVSim\\CLV Sim\\Sim\\features.py:65: FutureWarning: DataFrame.applymap has been deprecated. Use DataFrame.map instead.\n",
      "  frame = frame.applymap(lambda x: x.split(' - price: ')[1].strip()\n",
      "c:\\Users\\maxbr\\OneDrive\\Desktop\\CLVSim\\CLVSim\\CLV Sim\\Sim\\features.py:65: FutureWarning: DataFrame.applymap has been deprecated. Use DataFrame.map instead.\n",
      "  frame = frame.applymap(lambda x: x.split(' - price: ')[1].strip()\n"
     ]
    },
    {
     "name": "stdout",
     "output_type": "stream",
     "text": [
      "251\n",
      "1/1 [==============================] - 0s 78ms/step\n",
      "1/1 [==============================] - 0s 16ms/step\n"
     ]
    },
    {
     "name": "stderr",
     "output_type": "stream",
     "text": [
      "c:\\Users\\maxbr\\OneDrive\\Desktop\\CLVSim\\CLVSim\\CLV Sim\\Sim\\features.py:65: FutureWarning: DataFrame.applymap has been deprecated. Use DataFrame.map instead.\n",
      "  frame = frame.applymap(lambda x: x.split(' - price: ')[1].strip()\n",
      "c:\\Users\\maxbr\\OneDrive\\Desktop\\CLVSim\\CLVSim\\CLV Sim\\Sim\\features.py:65: FutureWarning: DataFrame.applymap has been deprecated. Use DataFrame.map instead.\n",
      "  frame = frame.applymap(lambda x: x.split(' - price: ')[1].strip()\n"
     ]
    },
    {
     "name": "stdout",
     "output_type": "stream",
     "text": [
      "252\n",
      "1/1 [==============================] - 0s 91ms/step\n",
      "1/1 [==============================] - 0s 16ms/step\n"
     ]
    },
    {
     "name": "stderr",
     "output_type": "stream",
     "text": [
      "c:\\Users\\maxbr\\OneDrive\\Desktop\\CLVSim\\CLVSim\\CLV Sim\\Sim\\features.py:65: FutureWarning: DataFrame.applymap has been deprecated. Use DataFrame.map instead.\n",
      "  frame = frame.applymap(lambda x: x.split(' - price: ')[1].strip()\n",
      "c:\\Users\\maxbr\\OneDrive\\Desktop\\CLVSim\\CLVSim\\CLV Sim\\Sim\\features.py:65: FutureWarning: DataFrame.applymap has been deprecated. Use DataFrame.map instead.\n",
      "  frame = frame.applymap(lambda x: x.split(' - price: ')[1].strip()\n"
     ]
    },
    {
     "name": "stdout",
     "output_type": "stream",
     "text": [
      "253\n",
      "1/1 [==============================] - 0s 83ms/step\n"
     ]
    },
    {
     "name": "stderr",
     "output_type": "stream",
     "text": [
      "c:\\Users\\maxbr\\OneDrive\\Desktop\\CLVSim\\CLVSim\\CLV Sim\\Sim\\features.py:65: FutureWarning: DataFrame.applymap has been deprecated. Use DataFrame.map instead.\n",
      "  frame = frame.applymap(lambda x: x.split(' - price: ')[1].strip()\n",
      "c:\\Users\\maxbr\\OneDrive\\Desktop\\CLVSim\\CLVSim\\CLV Sim\\Sim\\features.py:65: FutureWarning: DataFrame.applymap has been deprecated. Use DataFrame.map instead.\n",
      "  frame = frame.applymap(lambda x: x.split(' - price: ')[1].strip()\n"
     ]
    },
    {
     "name": "stdout",
     "output_type": "stream",
     "text": [
      "1/1 [==============================] - 0s 16ms/step\n",
      "254\n",
      "1/1 [==============================] - 0s 78ms/step\n"
     ]
    },
    {
     "name": "stderr",
     "output_type": "stream",
     "text": [
      "c:\\Users\\maxbr\\OneDrive\\Desktop\\CLVSim\\CLVSim\\CLV Sim\\Sim\\features.py:65: FutureWarning: DataFrame.applymap has been deprecated. Use DataFrame.map instead.\n",
      "  frame = frame.applymap(lambda x: x.split(' - price: ')[1].strip()\n",
      "c:\\Users\\maxbr\\OneDrive\\Desktop\\CLVSim\\CLVSim\\CLV Sim\\Sim\\features.py:65: FutureWarning: DataFrame.applymap has been deprecated. Use DataFrame.map instead.\n",
      "  frame = frame.applymap(lambda x: x.split(' - price: ')[1].strip()\n"
     ]
    },
    {
     "name": "stdout",
     "output_type": "stream",
     "text": [
      "1/1 [==============================] - 0s 31ms/step\n",
      "255\n",
      "1/1 [==============================] - 0s 80ms/step\n",
      "1/1 [==============================] - 0s 16ms/step\n"
     ]
    },
    {
     "name": "stderr",
     "output_type": "stream",
     "text": [
      "c:\\Users\\maxbr\\OneDrive\\Desktop\\CLVSim\\CLVSim\\CLV Sim\\Sim\\features.py:65: FutureWarning: DataFrame.applymap has been deprecated. Use DataFrame.map instead.\n",
      "  frame = frame.applymap(lambda x: x.split(' - price: ')[1].strip()\n",
      "c:\\Users\\maxbr\\OneDrive\\Desktop\\CLVSim\\CLVSim\\CLV Sim\\Sim\\features.py:65: FutureWarning: DataFrame.applymap has been deprecated. Use DataFrame.map instead.\n",
      "  frame = frame.applymap(lambda x: x.split(' - price: ')[1].strip()\n"
     ]
    },
    {
     "name": "stdout",
     "output_type": "stream",
     "text": [
      "256\n",
      "1/1 [==============================] - 0s 80ms/step\n"
     ]
    },
    {
     "name": "stderr",
     "output_type": "stream",
     "text": [
      "c:\\Users\\maxbr\\OneDrive\\Desktop\\CLVSim\\CLVSim\\CLV Sim\\Sim\\features.py:65: FutureWarning: DataFrame.applymap has been deprecated. Use DataFrame.map instead.\n",
      "  frame = frame.applymap(lambda x: x.split(' - price: ')[1].strip()\n",
      "c:\\Users\\maxbr\\OneDrive\\Desktop\\CLVSim\\CLVSim\\CLV Sim\\Sim\\features.py:65: FutureWarning: DataFrame.applymap has been deprecated. Use DataFrame.map instead.\n",
      "  frame = frame.applymap(lambda x: x.split(' - price: ')[1].strip()\n"
     ]
    },
    {
     "name": "stdout",
     "output_type": "stream",
     "text": [
      "1/1 [==============================] - 0s 16ms/step\n",
      "257\n",
      "1/1 [==============================] - 0s 85ms/step\n",
      "1/1 [==============================] - ETA: 0s"
     ]
    },
    {
     "name": "stderr",
     "output_type": "stream",
     "text": [
      "c:\\Users\\maxbr\\OneDrive\\Desktop\\CLVSim\\CLVSim\\CLV Sim\\Sim\\features.py:65: FutureWarning: DataFrame.applymap has been deprecated. Use DataFrame.map instead.\n",
      "  frame = frame.applymap(lambda x: x.split(' - price: ')[1].strip()\n",
      "c:\\Users\\maxbr\\OneDrive\\Desktop\\CLVSim\\CLVSim\\CLV Sim\\Sim\\features.py:65: FutureWarning: DataFrame.applymap has been deprecated. Use DataFrame.map instead.\n",
      "  frame = frame.applymap(lambda x: x.split(' - price: ')[1].strip()\n"
     ]
    },
    {
     "name": "stdout",
     "output_type": "stream",
     "text": [
      "1/1 [==============================] - 0s 16ms/step\n",
      "258\n",
      "1/1 [==============================] - 0s 71ms/step\n",
      "1/1 [==============================] - 0s 31ms/step\n"
     ]
    },
    {
     "name": "stderr",
     "output_type": "stream",
     "text": [
      "c:\\Users\\maxbr\\OneDrive\\Desktop\\CLVSim\\CLVSim\\CLV Sim\\Sim\\features.py:65: FutureWarning: DataFrame.applymap has been deprecated. Use DataFrame.map instead.\n",
      "  frame = frame.applymap(lambda x: x.split(' - price: ')[1].strip()\n",
      "c:\\Users\\maxbr\\OneDrive\\Desktop\\CLVSim\\CLVSim\\CLV Sim\\Sim\\features.py:65: FutureWarning: DataFrame.applymap has been deprecated. Use DataFrame.map instead.\n",
      "  frame = frame.applymap(lambda x: x.split(' - price: ')[1].strip()\n"
     ]
    },
    {
     "name": "stdout",
     "output_type": "stream",
     "text": [
      "259\n",
      "1/1 [==============================] - 0s 94ms/step\n",
      "1/1 [==============================] - ETA: 0s"
     ]
    },
    {
     "name": "stderr",
     "output_type": "stream",
     "text": [
      "c:\\Users\\maxbr\\OneDrive\\Desktop\\CLVSim\\CLVSim\\CLV Sim\\Sim\\features.py:65: FutureWarning: DataFrame.applymap has been deprecated. Use DataFrame.map instead.\n",
      "  frame = frame.applymap(lambda x: x.split(' - price: ')[1].strip()\n",
      "c:\\Users\\maxbr\\OneDrive\\Desktop\\CLVSim\\CLVSim\\CLV Sim\\Sim\\features.py:65: FutureWarning: DataFrame.applymap has been deprecated. Use DataFrame.map instead.\n",
      "  frame = frame.applymap(lambda x: x.split(' - price: ')[1].strip()\n"
     ]
    },
    {
     "name": "stdout",
     "output_type": "stream",
     "text": [
      "1/1 [==============================] - 0s 16ms/step\n",
      "260\n",
      "1/1 [==============================] - 0s 84ms/step\n",
      "1/1 [==============================] - 0s 16ms/step\n"
     ]
    },
    {
     "name": "stderr",
     "output_type": "stream",
     "text": [
      "c:\\Users\\maxbr\\OneDrive\\Desktop\\CLVSim\\CLVSim\\CLV Sim\\Sim\\features.py:65: FutureWarning: DataFrame.applymap has been deprecated. Use DataFrame.map instead.\n",
      "  frame = frame.applymap(lambda x: x.split(' - price: ')[1].strip()\n",
      "c:\\Users\\maxbr\\OneDrive\\Desktop\\CLVSim\\CLVSim\\CLV Sim\\Sim\\features.py:65: FutureWarning: DataFrame.applymap has been deprecated. Use DataFrame.map instead.\n",
      "  frame = frame.applymap(lambda x: x.split(' - price: ')[1].strip()\n"
     ]
    },
    {
     "name": "stdout",
     "output_type": "stream",
     "text": [
      "261\n",
      "1/1 [==============================] - 0s 85ms/step\n",
      "1/1 [==============================] - ETA: 0s"
     ]
    },
    {
     "name": "stderr",
     "output_type": "stream",
     "text": [
      "c:\\Users\\maxbr\\OneDrive\\Desktop\\CLVSim\\CLVSim\\CLV Sim\\Sim\\features.py:65: FutureWarning: DataFrame.applymap has been deprecated. Use DataFrame.map instead.\n",
      "  frame = frame.applymap(lambda x: x.split(' - price: ')[1].strip()\n",
      "c:\\Users\\maxbr\\OneDrive\\Desktop\\CLVSim\\CLVSim\\CLV Sim\\Sim\\features.py:65: FutureWarning: DataFrame.applymap has been deprecated. Use DataFrame.map instead.\n",
      "  frame = frame.applymap(lambda x: x.split(' - price: ')[1].strip()\n"
     ]
    },
    {
     "name": "stdout",
     "output_type": "stream",
     "text": [
      "1/1 [==============================] - 0s 16ms/step\n",
      "262\n",
      "1/1 [==============================] - 0s 86ms/step\n",
      "1/1 [==============================] - 0s 22ms/step\n"
     ]
    },
    {
     "name": "stderr",
     "output_type": "stream",
     "text": [
      "c:\\Users\\maxbr\\OneDrive\\Desktop\\CLVSim\\CLVSim\\CLV Sim\\Sim\\features.py:65: FutureWarning: DataFrame.applymap has been deprecated. Use DataFrame.map instead.\n",
      "  frame = frame.applymap(lambda x: x.split(' - price: ')[1].strip()\n",
      "c:\\Users\\maxbr\\OneDrive\\Desktop\\CLVSim\\CLVSim\\CLV Sim\\Sim\\features.py:65: FutureWarning: DataFrame.applymap has been deprecated. Use DataFrame.map instead.\n",
      "  frame = frame.applymap(lambda x: x.split(' - price: ')[1].strip()\n"
     ]
    },
    {
     "name": "stdout",
     "output_type": "stream",
     "text": [
      "263\n",
      "1/1 [==============================] - 0s 81ms/step\n",
      "1/1 [==============================] - ETA: 0s"
     ]
    },
    {
     "name": "stderr",
     "output_type": "stream",
     "text": [
      "c:\\Users\\maxbr\\OneDrive\\Desktop\\CLVSim\\CLVSim\\CLV Sim\\Sim\\features.py:65: FutureWarning: DataFrame.applymap has been deprecated. Use DataFrame.map instead.\n",
      "  frame = frame.applymap(lambda x: x.split(' - price: ')[1].strip()\n",
      "c:\\Users\\maxbr\\OneDrive\\Desktop\\CLVSim\\CLVSim\\CLV Sim\\Sim\\features.py:65: FutureWarning: DataFrame.applymap has been deprecated. Use DataFrame.map instead.\n",
      "  frame = frame.applymap(lambda x: x.split(' - price: ')[1].strip()\n"
     ]
    },
    {
     "name": "stdout",
     "output_type": "stream",
     "text": [
      "1/1 [==============================] - 0s 16ms/step\n",
      "264\n",
      "1/1 [==============================] - 0s 85ms/step\n",
      "1/1 [==============================] - 0s 22ms/step\n"
     ]
    },
    {
     "name": "stderr",
     "output_type": "stream",
     "text": [
      "c:\\Users\\maxbr\\OneDrive\\Desktop\\CLVSim\\CLVSim\\CLV Sim\\Sim\\features.py:65: FutureWarning: DataFrame.applymap has been deprecated. Use DataFrame.map instead.\n",
      "  frame = frame.applymap(lambda x: x.split(' - price: ')[1].strip()\n",
      "c:\\Users\\maxbr\\OneDrive\\Desktop\\CLVSim\\CLVSim\\CLV Sim\\Sim\\features.py:65: FutureWarning: DataFrame.applymap has been deprecated. Use DataFrame.map instead.\n",
      "  frame = frame.applymap(lambda x: x.split(' - price: ')[1].strip()\n"
     ]
    },
    {
     "name": "stdout",
     "output_type": "stream",
     "text": [
      "265\n",
      "1/1 [==============================] - 0s 96ms/step\n",
      "1/1 [==============================] - ETA: 0s"
     ]
    },
    {
     "name": "stderr",
     "output_type": "stream",
     "text": [
      "c:\\Users\\maxbr\\OneDrive\\Desktop\\CLVSim\\CLVSim\\CLV Sim\\Sim\\features.py:65: FutureWarning: DataFrame.applymap has been deprecated. Use DataFrame.map instead.\n",
      "  frame = frame.applymap(lambda x: x.split(' - price: ')[1].strip()\n",
      "c:\\Users\\maxbr\\OneDrive\\Desktop\\CLVSim\\CLVSim\\CLV Sim\\Sim\\features.py:65: FutureWarning: DataFrame.applymap has been deprecated. Use DataFrame.map instead.\n",
      "  frame = frame.applymap(lambda x: x.split(' - price: ')[1].strip()\n"
     ]
    },
    {
     "name": "stdout",
     "output_type": "stream",
     "text": [
      "1/1 [==============================] - 0s 16ms/step\n",
      "266\n",
      "1/1 [==============================] - 0s 86ms/step\n",
      "1/1 [==============================] - 0s 20ms/step\n"
     ]
    },
    {
     "name": "stderr",
     "output_type": "stream",
     "text": [
      "c:\\Users\\maxbr\\OneDrive\\Desktop\\CLVSim\\CLVSim\\CLV Sim\\Sim\\features.py:65: FutureWarning: DataFrame.applymap has been deprecated. Use DataFrame.map instead.\n",
      "  frame = frame.applymap(lambda x: x.split(' - price: ')[1].strip()\n",
      "c:\\Users\\maxbr\\OneDrive\\Desktop\\CLVSim\\CLVSim\\CLV Sim\\Sim\\features.py:65: FutureWarning: DataFrame.applymap has been deprecated. Use DataFrame.map instead.\n",
      "  frame = frame.applymap(lambda x: x.split(' - price: ')[1].strip()\n"
     ]
    },
    {
     "name": "stdout",
     "output_type": "stream",
     "text": [
      "267\n",
      "1/1 [==============================] - 0s 83ms/step\n"
     ]
    },
    {
     "name": "stderr",
     "output_type": "stream",
     "text": [
      "c:\\Users\\maxbr\\OneDrive\\Desktop\\CLVSim\\CLVSim\\CLV Sim\\Sim\\features.py:65: FutureWarning: DataFrame.applymap has been deprecated. Use DataFrame.map instead.\n",
      "  frame = frame.applymap(lambda x: x.split(' - price: ')[1].strip()\n",
      "c:\\Users\\maxbr\\OneDrive\\Desktop\\CLVSim\\CLVSim\\CLV Sim\\Sim\\features.py:65: FutureWarning: DataFrame.applymap has been deprecated. Use DataFrame.map instead.\n",
      "  frame = frame.applymap(lambda x: x.split(' - price: ')[1].strip()\n"
     ]
    },
    {
     "name": "stdout",
     "output_type": "stream",
     "text": [
      "1/1 [==============================] - 0s 16ms/step\n",
      "268\n",
      "1/1 [==============================] - 0s 101ms/step\n",
      "1/1 [==============================] - ETA: 0s"
     ]
    },
    {
     "name": "stderr",
     "output_type": "stream",
     "text": [
      "c:\\Users\\maxbr\\OneDrive\\Desktop\\CLVSim\\CLVSim\\CLV Sim\\Sim\\features.py:65: FutureWarning: DataFrame.applymap has been deprecated. Use DataFrame.map instead.\n",
      "  frame = frame.applymap(lambda x: x.split(' - price: ')[1].strip()\n",
      "c:\\Users\\maxbr\\OneDrive\\Desktop\\CLVSim\\CLVSim\\CLV Sim\\Sim\\features.py:65: FutureWarning: DataFrame.applymap has been deprecated. Use DataFrame.map instead.\n",
      "  frame = frame.applymap(lambda x: x.split(' - price: ')[1].strip()\n"
     ]
    },
    {
     "name": "stdout",
     "output_type": "stream",
     "text": [
      "1/1 [==============================] - 0s 22ms/step\n",
      "269\n",
      "1/1 [==============================] - 0s 100ms/step\n"
     ]
    },
    {
     "name": "stderr",
     "output_type": "stream",
     "text": [
      "c:\\Users\\maxbr\\OneDrive\\Desktop\\CLVSim\\CLVSim\\CLV Sim\\Sim\\features.py:65: FutureWarning: DataFrame.applymap has been deprecated. Use DataFrame.map instead.\n",
      "  frame = frame.applymap(lambda x: x.split(' - price: ')[1].strip()\n",
      "c:\\Users\\maxbr\\OneDrive\\Desktop\\CLVSim\\CLVSim\\CLV Sim\\Sim\\features.py:65: FutureWarning: DataFrame.applymap has been deprecated. Use DataFrame.map instead.\n",
      "  frame = frame.applymap(lambda x: x.split(' - price: ')[1].strip()\n"
     ]
    },
    {
     "name": "stdout",
     "output_type": "stream",
     "text": [
      "1/1 [==============================] - 0s 31ms/step\n",
      "270\n",
      "1/1 [==============================] - 0s 87ms/step\n",
      "1/1 [==============================] - 0s 16ms/step\n"
     ]
    },
    {
     "name": "stderr",
     "output_type": "stream",
     "text": [
      "c:\\Users\\maxbr\\OneDrive\\Desktop\\CLVSim\\CLVSim\\CLV Sim\\Sim\\features.py:65: FutureWarning: DataFrame.applymap has been deprecated. Use DataFrame.map instead.\n",
      "  frame = frame.applymap(lambda x: x.split(' - price: ')[1].strip()\n",
      "c:\\Users\\maxbr\\OneDrive\\Desktop\\CLVSim\\CLVSim\\CLV Sim\\Sim\\features.py:65: FutureWarning: DataFrame.applymap has been deprecated. Use DataFrame.map instead.\n",
      "  frame = frame.applymap(lambda x: x.split(' - price: ')[1].strip()\n"
     ]
    },
    {
     "name": "stdout",
     "output_type": "stream",
     "text": [
      "271\n",
      "1/1 [==============================] - 0s 98ms/step\n",
      "1/1 [==============================] - ETA: 0s"
     ]
    },
    {
     "name": "stderr",
     "output_type": "stream",
     "text": [
      "c:\\Users\\maxbr\\OneDrive\\Desktop\\CLVSim\\CLVSim\\CLV Sim\\Sim\\features.py:65: FutureWarning: DataFrame.applymap has been deprecated. Use DataFrame.map instead.\n",
      "  frame = frame.applymap(lambda x: x.split(' - price: ')[1].strip()\n",
      "c:\\Users\\maxbr\\OneDrive\\Desktop\\CLVSim\\CLVSim\\CLV Sim\\Sim\\features.py:65: FutureWarning: DataFrame.applymap has been deprecated. Use DataFrame.map instead.\n",
      "  frame = frame.applymap(lambda x: x.split(' - price: ')[1].strip()\n"
     ]
    },
    {
     "name": "stdout",
     "output_type": "stream",
     "text": [
      "1/1 [==============================] - 0s 31ms/step\n",
      "272\n",
      "1/1 [==============================] - 0s 84ms/step\n",
      "1/1 [==============================] - ETA: 0s"
     ]
    },
    {
     "name": "stderr",
     "output_type": "stream",
     "text": [
      "c:\\Users\\maxbr\\OneDrive\\Desktop\\CLVSim\\CLVSim\\CLV Sim\\Sim\\features.py:65: FutureWarning: DataFrame.applymap has been deprecated. Use DataFrame.map instead.\n",
      "  frame = frame.applymap(lambda x: x.split(' - price: ')[1].strip()\n",
      "c:\\Users\\maxbr\\OneDrive\\Desktop\\CLVSim\\CLVSim\\CLV Sim\\Sim\\features.py:65: FutureWarning: DataFrame.applymap has been deprecated. Use DataFrame.map instead.\n",
      "  frame = frame.applymap(lambda x: x.split(' - price: ')[1].strip()\n"
     ]
    },
    {
     "name": "stdout",
     "output_type": "stream",
     "text": [
      "1/1 [==============================] - 0s 16ms/step\n",
      "273\n",
      "1/1 [==============================] - 0s 86ms/step\n",
      "1/1 [==============================] - 0s 16ms/step\n"
     ]
    },
    {
     "name": "stderr",
     "output_type": "stream",
     "text": [
      "c:\\Users\\maxbr\\OneDrive\\Desktop\\CLVSim\\CLVSim\\CLV Sim\\Sim\\features.py:65: FutureWarning: DataFrame.applymap has been deprecated. Use DataFrame.map instead.\n",
      "  frame = frame.applymap(lambda x: x.split(' - price: ')[1].strip()\n",
      "c:\\Users\\maxbr\\OneDrive\\Desktop\\CLVSim\\CLVSim\\CLV Sim\\Sim\\features.py:65: FutureWarning: DataFrame.applymap has been deprecated. Use DataFrame.map instead.\n",
      "  frame = frame.applymap(lambda x: x.split(' - price: ')[1].strip()\n"
     ]
    },
    {
     "name": "stdout",
     "output_type": "stream",
     "text": [
      "274\n",
      "1/1 [==============================] - 0s 96ms/step\n",
      "1/1 [==============================] - ETA: 0s"
     ]
    },
    {
     "name": "stderr",
     "output_type": "stream",
     "text": [
      "c:\\Users\\maxbr\\OneDrive\\Desktop\\CLVSim\\CLVSim\\CLV Sim\\Sim\\features.py:65: FutureWarning: DataFrame.applymap has been deprecated. Use DataFrame.map instead.\n",
      "  frame = frame.applymap(lambda x: x.split(' - price: ')[1].strip()\n",
      "c:\\Users\\maxbr\\OneDrive\\Desktop\\CLVSim\\CLVSim\\CLV Sim\\Sim\\features.py:65: FutureWarning: DataFrame.applymap has been deprecated. Use DataFrame.map instead.\n",
      "  frame = frame.applymap(lambda x: x.split(' - price: ')[1].strip()\n"
     ]
    },
    {
     "name": "stdout",
     "output_type": "stream",
     "text": [
      "1/1 [==============================] - 0s 16ms/step\n",
      "275\n",
      "1/1 [==============================] - 0s 100ms/step\n",
      "1/1 [==============================] - 0s 16ms/step\n"
     ]
    },
    {
     "name": "stderr",
     "output_type": "stream",
     "text": [
      "c:\\Users\\maxbr\\OneDrive\\Desktop\\CLVSim\\CLVSim\\CLV Sim\\Sim\\features.py:65: FutureWarning: DataFrame.applymap has been deprecated. Use DataFrame.map instead.\n",
      "  frame = frame.applymap(lambda x: x.split(' - price: ')[1].strip()\n",
      "c:\\Users\\maxbr\\OneDrive\\Desktop\\CLVSim\\CLVSim\\CLV Sim\\Sim\\features.py:65: FutureWarning: DataFrame.applymap has been deprecated. Use DataFrame.map instead.\n",
      "  frame = frame.applymap(lambda x: x.split(' - price: ')[1].strip()\n"
     ]
    },
    {
     "name": "stdout",
     "output_type": "stream",
     "text": [
      "276\n",
      "1/1 [==============================] - 0s 86ms/step\n",
      "1/1 [==============================] - 0s 16ms/step\n"
     ]
    },
    {
     "name": "stderr",
     "output_type": "stream",
     "text": [
      "c:\\Users\\maxbr\\OneDrive\\Desktop\\CLVSim\\CLVSim\\CLV Sim\\Sim\\features.py:65: FutureWarning: DataFrame.applymap has been deprecated. Use DataFrame.map instead.\n",
      "  frame = frame.applymap(lambda x: x.split(' - price: ')[1].strip()\n",
      "c:\\Users\\maxbr\\OneDrive\\Desktop\\CLVSim\\CLVSim\\CLV Sim\\Sim\\features.py:65: FutureWarning: DataFrame.applymap has been deprecated. Use DataFrame.map instead.\n",
      "  frame = frame.applymap(lambda x: x.split(' - price: ')[1].strip()\n"
     ]
    },
    {
     "name": "stdout",
     "output_type": "stream",
     "text": [
      "277\n",
      "1/1 [==============================] - 0s 99ms/step\n",
      "1/1 [==============================] - 0s 16ms/step\n"
     ]
    },
    {
     "name": "stderr",
     "output_type": "stream",
     "text": [
      "c:\\Users\\maxbr\\OneDrive\\Desktop\\CLVSim\\CLVSim\\CLV Sim\\Sim\\features.py:65: FutureWarning: DataFrame.applymap has been deprecated. Use DataFrame.map instead.\n",
      "  frame = frame.applymap(lambda x: x.split(' - price: ')[1].strip()\n",
      "c:\\Users\\maxbr\\OneDrive\\Desktop\\CLVSim\\CLVSim\\CLV Sim\\Sim\\features.py:65: FutureWarning: DataFrame.applymap has been deprecated. Use DataFrame.map instead.\n",
      "  frame = frame.applymap(lambda x: x.split(' - price: ')[1].strip()\n"
     ]
    },
    {
     "name": "stdout",
     "output_type": "stream",
     "text": [
      "278\n",
      "1/1 [==============================] - 0s 84ms/step\n",
      "1/1 [==============================] - ETA: 0s"
     ]
    },
    {
     "name": "stderr",
     "output_type": "stream",
     "text": [
      "c:\\Users\\maxbr\\OneDrive\\Desktop\\CLVSim\\CLVSim\\CLV Sim\\Sim\\features.py:65: FutureWarning: DataFrame.applymap has been deprecated. Use DataFrame.map instead.\n",
      "  frame = frame.applymap(lambda x: x.split(' - price: ')[1].strip()\n",
      "c:\\Users\\maxbr\\OneDrive\\Desktop\\CLVSim\\CLVSim\\CLV Sim\\Sim\\features.py:65: FutureWarning: DataFrame.applymap has been deprecated. Use DataFrame.map instead.\n",
      "  frame = frame.applymap(lambda x: x.split(' - price: ')[1].strip()\n"
     ]
    },
    {
     "name": "stdout",
     "output_type": "stream",
     "text": [
      "1/1 [==============================] - 0s 16ms/step\n",
      "279\n",
      "1/1 [==============================] - 0s 94ms/step\n",
      "1/1 [==============================] - ETA: 0s"
     ]
    },
    {
     "name": "stderr",
     "output_type": "stream",
     "text": [
      "c:\\Users\\maxbr\\OneDrive\\Desktop\\CLVSim\\CLVSim\\CLV Sim\\Sim\\features.py:65: FutureWarning: DataFrame.applymap has been deprecated. Use DataFrame.map instead.\n",
      "  frame = frame.applymap(lambda x: x.split(' - price: ')[1].strip()\n",
      "c:\\Users\\maxbr\\OneDrive\\Desktop\\CLVSim\\CLVSim\\CLV Sim\\Sim\\features.py:65: FutureWarning: DataFrame.applymap has been deprecated. Use DataFrame.map instead.\n",
      "  frame = frame.applymap(lambda x: x.split(' - price: ')[1].strip()\n"
     ]
    },
    {
     "name": "stdout",
     "output_type": "stream",
     "text": [
      "1/1 [==============================] - 0s 16ms/step\n",
      "280\n",
      "1/1 [==============================] - 0s 99ms/step\n",
      "1/1 [==============================] - 0s 16ms/step\n"
     ]
    },
    {
     "name": "stderr",
     "output_type": "stream",
     "text": [
      "c:\\Users\\maxbr\\OneDrive\\Desktop\\CLVSim\\CLVSim\\CLV Sim\\Sim\\features.py:65: FutureWarning: DataFrame.applymap has been deprecated. Use DataFrame.map instead.\n",
      "  frame = frame.applymap(lambda x: x.split(' - price: ')[1].strip()\n",
      "c:\\Users\\maxbr\\OneDrive\\Desktop\\CLVSim\\CLVSim\\CLV Sim\\Sim\\features.py:65: FutureWarning: DataFrame.applymap has been deprecated. Use DataFrame.map instead.\n",
      "  frame = frame.applymap(lambda x: x.split(' - price: ')[1].strip()\n"
     ]
    },
    {
     "name": "stdout",
     "output_type": "stream",
     "text": [
      "281\n",
      "1/1 [==============================] - 0s 99ms/step\n",
      "1/1 [==============================] - 0s 16ms/step\n"
     ]
    },
    {
     "name": "stderr",
     "output_type": "stream",
     "text": [
      "c:\\Users\\maxbr\\OneDrive\\Desktop\\CLVSim\\CLVSim\\CLV Sim\\Sim\\features.py:65: FutureWarning: DataFrame.applymap has been deprecated. Use DataFrame.map instead.\n",
      "  frame = frame.applymap(lambda x: x.split(' - price: ')[1].strip()\n",
      "c:\\Users\\maxbr\\OneDrive\\Desktop\\CLVSim\\CLVSim\\CLV Sim\\Sim\\features.py:65: FutureWarning: DataFrame.applymap has been deprecated. Use DataFrame.map instead.\n",
      "  frame = frame.applymap(lambda x: x.split(' - price: ')[1].strip()\n"
     ]
    },
    {
     "name": "stdout",
     "output_type": "stream",
     "text": [
      "282\n",
      "1/1 [==============================] - 0s 100ms/step\n",
      "1/1 [==============================] - ETA: 0s"
     ]
    },
    {
     "name": "stderr",
     "output_type": "stream",
     "text": [
      "c:\\Users\\maxbr\\OneDrive\\Desktop\\CLVSim\\CLVSim\\CLV Sim\\Sim\\features.py:65: FutureWarning: DataFrame.applymap has been deprecated. Use DataFrame.map instead.\n",
      "  frame = frame.applymap(lambda x: x.split(' - price: ')[1].strip()\n",
      "c:\\Users\\maxbr\\OneDrive\\Desktop\\CLVSim\\CLVSim\\CLV Sim\\Sim\\features.py:65: FutureWarning: DataFrame.applymap has been deprecated. Use DataFrame.map instead.\n",
      "  frame = frame.applymap(lambda x: x.split(' - price: ')[1].strip()\n"
     ]
    },
    {
     "name": "stdout",
     "output_type": "stream",
     "text": [
      "1/1 [==============================] - 0s 16ms/step\n",
      "283\n",
      "1/1 [==============================] - 0s 85ms/step\n",
      "1/1 [==============================] - 0s 16ms/step\n"
     ]
    },
    {
     "name": "stderr",
     "output_type": "stream",
     "text": [
      "c:\\Users\\maxbr\\OneDrive\\Desktop\\CLVSim\\CLVSim\\CLV Sim\\Sim\\features.py:65: FutureWarning: DataFrame.applymap has been deprecated. Use DataFrame.map instead.\n",
      "  frame = frame.applymap(lambda x: x.split(' - price: ')[1].strip()\n",
      "c:\\Users\\maxbr\\OneDrive\\Desktop\\CLVSim\\CLVSim\\CLV Sim\\Sim\\features.py:65: FutureWarning: DataFrame.applymap has been deprecated. Use DataFrame.map instead.\n",
      "  frame = frame.applymap(lambda x: x.split(' - price: ')[1].strip()\n"
     ]
    },
    {
     "name": "stdout",
     "output_type": "stream",
     "text": [
      "284\n",
      "1/1 [==============================] - 0s 83ms/step\n",
      "1/1 [==============================] - ETA: 0s"
     ]
    },
    {
     "name": "stderr",
     "output_type": "stream",
     "text": [
      "c:\\Users\\maxbr\\OneDrive\\Desktop\\CLVSim\\CLVSim\\CLV Sim\\Sim\\features.py:65: FutureWarning: DataFrame.applymap has been deprecated. Use DataFrame.map instead.\n",
      "  frame = frame.applymap(lambda x: x.split(' - price: ')[1].strip()\n",
      "c:\\Users\\maxbr\\OneDrive\\Desktop\\CLVSim\\CLVSim\\CLV Sim\\Sim\\features.py:65: FutureWarning: DataFrame.applymap has been deprecated. Use DataFrame.map instead.\n",
      "  frame = frame.applymap(lambda x: x.split(' - price: ')[1].strip()\n"
     ]
    },
    {
     "name": "stdout",
     "output_type": "stream",
     "text": [
      "1/1 [==============================] - 0s 26ms/step\n",
      "285\n",
      "1/1 [==============================] - 0s 86ms/step\n",
      "1/1 [==============================] - 0s 16ms/step\n"
     ]
    },
    {
     "name": "stderr",
     "output_type": "stream",
     "text": [
      "c:\\Users\\maxbr\\OneDrive\\Desktop\\CLVSim\\CLVSim\\CLV Sim\\Sim\\features.py:65: FutureWarning: DataFrame.applymap has been deprecated. Use DataFrame.map instead.\n",
      "  frame = frame.applymap(lambda x: x.split(' - price: ')[1].strip()\n",
      "c:\\Users\\maxbr\\OneDrive\\Desktop\\CLVSim\\CLVSim\\CLV Sim\\Sim\\features.py:65: FutureWarning: DataFrame.applymap has been deprecated. Use DataFrame.map instead.\n",
      "  frame = frame.applymap(lambda x: x.split(' - price: ')[1].strip()\n"
     ]
    },
    {
     "name": "stdout",
     "output_type": "stream",
     "text": [
      "286\n",
      "1/1 [==============================] - 0s 101ms/step\n"
     ]
    },
    {
     "name": "stderr",
     "output_type": "stream",
     "text": [
      "c:\\Users\\maxbr\\OneDrive\\Desktop\\CLVSim\\CLVSim\\CLV Sim\\Sim\\features.py:65: FutureWarning: DataFrame.applymap has been deprecated. Use DataFrame.map instead.\n",
      "  frame = frame.applymap(lambda x: x.split(' - price: ')[1].strip()\n",
      "c:\\Users\\maxbr\\OneDrive\\Desktop\\CLVSim\\CLVSim\\CLV Sim\\Sim\\features.py:65: FutureWarning: DataFrame.applymap has been deprecated. Use DataFrame.map instead.\n",
      "  frame = frame.applymap(lambda x: x.split(' - price: ')[1].strip()\n"
     ]
    },
    {
     "name": "stdout",
     "output_type": "stream",
     "text": [
      "1/1 [==============================] - 0s 16ms/step\n",
      "287\n",
      "1/1 [==============================] - 0s 78ms/step\n",
      "1/1 [==============================] - 0s 24ms/step\n"
     ]
    },
    {
     "name": "stderr",
     "output_type": "stream",
     "text": [
      "c:\\Users\\maxbr\\OneDrive\\Desktop\\CLVSim\\CLVSim\\CLV Sim\\Sim\\features.py:65: FutureWarning: DataFrame.applymap has been deprecated. Use DataFrame.map instead.\n",
      "  frame = frame.applymap(lambda x: x.split(' - price: ')[1].strip()\n",
      "c:\\Users\\maxbr\\OneDrive\\Desktop\\CLVSim\\CLVSim\\CLV Sim\\Sim\\features.py:65: FutureWarning: DataFrame.applymap has been deprecated. Use DataFrame.map instead.\n",
      "  frame = frame.applymap(lambda x: x.split(' - price: ')[1].strip()\n"
     ]
    },
    {
     "name": "stdout",
     "output_type": "stream",
     "text": [
      "288\n",
      "1/1 [==============================] - 0s 87ms/step\n",
      "1/1 [==============================] - ETA: 0s"
     ]
    },
    {
     "name": "stderr",
     "output_type": "stream",
     "text": [
      "c:\\Users\\maxbr\\OneDrive\\Desktop\\CLVSim\\CLVSim\\CLV Sim\\Sim\\features.py:65: FutureWarning: DataFrame.applymap has been deprecated. Use DataFrame.map instead.\n",
      "  frame = frame.applymap(lambda x: x.split(' - price: ')[1].strip()\n",
      "c:\\Users\\maxbr\\OneDrive\\Desktop\\CLVSim\\CLVSim\\CLV Sim\\Sim\\features.py:65: FutureWarning: DataFrame.applymap has been deprecated. Use DataFrame.map instead.\n",
      "  frame = frame.applymap(lambda x: x.split(' - price: ')[1].strip()\n"
     ]
    },
    {
     "name": "stdout",
     "output_type": "stream",
     "text": [
      "1/1 [==============================] - 0s 16ms/step\n",
      "289\n",
      "1/1 [==============================] - 0s 84ms/step\n",
      "1/1 [==============================] - 0s 16ms/step\n"
     ]
    },
    {
     "name": "stderr",
     "output_type": "stream",
     "text": [
      "c:\\Users\\maxbr\\OneDrive\\Desktop\\CLVSim\\CLVSim\\CLV Sim\\Sim\\features.py:65: FutureWarning: DataFrame.applymap has been deprecated. Use DataFrame.map instead.\n",
      "  frame = frame.applymap(lambda x: x.split(' - price: ')[1].strip()\n",
      "c:\\Users\\maxbr\\OneDrive\\Desktop\\CLVSim\\CLVSim\\CLV Sim\\Sim\\features.py:65: FutureWarning: DataFrame.applymap has been deprecated. Use DataFrame.map instead.\n",
      "  frame = frame.applymap(lambda x: x.split(' - price: ')[1].strip()\n"
     ]
    },
    {
     "name": "stdout",
     "output_type": "stream",
     "text": [
      "290\n",
      "1/1 [==============================] - 0s 96ms/step\n",
      "1/1 [==============================] - ETA: 0s"
     ]
    },
    {
     "name": "stderr",
     "output_type": "stream",
     "text": [
      "c:\\Users\\maxbr\\OneDrive\\Desktop\\CLVSim\\CLVSim\\CLV Sim\\Sim\\features.py:65: FutureWarning: DataFrame.applymap has been deprecated. Use DataFrame.map instead.\n",
      "  frame = frame.applymap(lambda x: x.split(' - price: ')[1].strip()\n",
      "c:\\Users\\maxbr\\OneDrive\\Desktop\\CLVSim\\CLVSim\\CLV Sim\\Sim\\features.py:65: FutureWarning: DataFrame.applymap has been deprecated. Use DataFrame.map instead.\n",
      "  frame = frame.applymap(lambda x: x.split(' - price: ')[1].strip()\n"
     ]
    },
    {
     "name": "stdout",
     "output_type": "stream",
     "text": [
      "1/1 [==============================] - 0s 16ms/step\n",
      "291\n",
      "1/1 [==============================] - 0s 84ms/step\n",
      "1/1 [==============================] - 0s 16ms/step\n"
     ]
    },
    {
     "name": "stderr",
     "output_type": "stream",
     "text": [
      "c:\\Users\\maxbr\\OneDrive\\Desktop\\CLVSim\\CLVSim\\CLV Sim\\Sim\\features.py:65: FutureWarning: DataFrame.applymap has been deprecated. Use DataFrame.map instead.\n",
      "  frame = frame.applymap(lambda x: x.split(' - price: ')[1].strip()\n",
      "c:\\Users\\maxbr\\OneDrive\\Desktop\\CLVSim\\CLVSim\\CLV Sim\\Sim\\features.py:65: FutureWarning: DataFrame.applymap has been deprecated. Use DataFrame.map instead.\n",
      "  frame = frame.applymap(lambda x: x.split(' - price: ')[1].strip()\n"
     ]
    },
    {
     "name": "stdout",
     "output_type": "stream",
     "text": [
      "292\n",
      "1/1 [==============================] - 0s 83ms/step\n",
      "1/1 [==============================] - ETA: 0s"
     ]
    },
    {
     "name": "stderr",
     "output_type": "stream",
     "text": [
      "c:\\Users\\maxbr\\OneDrive\\Desktop\\CLVSim\\CLVSim\\CLV Sim\\Sim\\features.py:65: FutureWarning: DataFrame.applymap has been deprecated. Use DataFrame.map instead.\n",
      "  frame = frame.applymap(lambda x: x.split(' - price: ')[1].strip()\n",
      "c:\\Users\\maxbr\\OneDrive\\Desktop\\CLVSim\\CLVSim\\CLV Sim\\Sim\\features.py:65: FutureWarning: DataFrame.applymap has been deprecated. Use DataFrame.map instead.\n",
      "  frame = frame.applymap(lambda x: x.split(' - price: ')[1].strip()\n"
     ]
    },
    {
     "name": "stdout",
     "output_type": "stream",
     "text": [
      "1/1 [==============================] - 0s 22ms/step\n",
      "293\n",
      "1/1 [==============================] - 0s 85ms/step\n",
      "1/1 [==============================] - ETA: 0s"
     ]
    },
    {
     "name": "stderr",
     "output_type": "stream",
     "text": [
      "c:\\Users\\maxbr\\OneDrive\\Desktop\\CLVSim\\CLVSim\\CLV Sim\\Sim\\features.py:65: FutureWarning: DataFrame.applymap has been deprecated. Use DataFrame.map instead.\n",
      "  frame = frame.applymap(lambda x: x.split(' - price: ')[1].strip()\n",
      "c:\\Users\\maxbr\\OneDrive\\Desktop\\CLVSim\\CLVSim\\CLV Sim\\Sim\\features.py:65: FutureWarning: DataFrame.applymap has been deprecated. Use DataFrame.map instead.\n",
      "  frame = frame.applymap(lambda x: x.split(' - price: ')[1].strip()\n"
     ]
    },
    {
     "name": "stdout",
     "output_type": "stream",
     "text": [
      "1/1 [==============================] - 0s 16ms/step\n",
      "294\n",
      "1/1 [==============================] - 0s 86ms/step\n",
      "1/1 [==============================] - 0s 31ms/step\n"
     ]
    },
    {
     "name": "stderr",
     "output_type": "stream",
     "text": [
      "c:\\Users\\maxbr\\OneDrive\\Desktop\\CLVSim\\CLVSim\\CLV Sim\\Sim\\features.py:65: FutureWarning: DataFrame.applymap has been deprecated. Use DataFrame.map instead.\n",
      "  frame = frame.applymap(lambda x: x.split(' - price: ')[1].strip()\n",
      "c:\\Users\\maxbr\\OneDrive\\Desktop\\CLVSim\\CLVSim\\CLV Sim\\Sim\\features.py:65: FutureWarning: DataFrame.applymap has been deprecated. Use DataFrame.map instead.\n",
      "  frame = frame.applymap(lambda x: x.split(' - price: ')[1].strip()\n"
     ]
    },
    {
     "name": "stdout",
     "output_type": "stream",
     "text": [
      "295\n",
      "1/1 [==============================] - 0s 85ms/step\n",
      "1/1 [==============================] - 0s 16ms/step\n"
     ]
    },
    {
     "name": "stderr",
     "output_type": "stream",
     "text": [
      "c:\\Users\\maxbr\\OneDrive\\Desktop\\CLVSim\\CLVSim\\CLV Sim\\Sim\\features.py:65: FutureWarning: DataFrame.applymap has been deprecated. Use DataFrame.map instead.\n",
      "  frame = frame.applymap(lambda x: x.split(' - price: ')[1].strip()\n",
      "c:\\Users\\maxbr\\OneDrive\\Desktop\\CLVSim\\CLVSim\\CLV Sim\\Sim\\features.py:65: FutureWarning: DataFrame.applymap has been deprecated. Use DataFrame.map instead.\n",
      "  frame = frame.applymap(lambda x: x.split(' - price: ')[1].strip()\n"
     ]
    },
    {
     "name": "stdout",
     "output_type": "stream",
     "text": [
      "296\n",
      "1/1 [==============================] - 0s 80ms/step\n",
      "1/1 [==============================] - 0s 16ms/step\n"
     ]
    },
    {
     "name": "stderr",
     "output_type": "stream",
     "text": [
      "c:\\Users\\maxbr\\OneDrive\\Desktop\\CLVSim\\CLVSim\\CLV Sim\\Sim\\features.py:65: FutureWarning: DataFrame.applymap has been deprecated. Use DataFrame.map instead.\n",
      "  frame = frame.applymap(lambda x: x.split(' - price: ')[1].strip()\n",
      "c:\\Users\\maxbr\\OneDrive\\Desktop\\CLVSim\\CLVSim\\CLV Sim\\Sim\\features.py:65: FutureWarning: DataFrame.applymap has been deprecated. Use DataFrame.map instead.\n",
      "  frame = frame.applymap(lambda x: x.split(' - price: ')[1].strip()\n"
     ]
    },
    {
     "name": "stdout",
     "output_type": "stream",
     "text": [
      "297\n",
      "1/1 [==============================] - 0s 85ms/step\n",
      "1/1 [==============================] - ETA: 0s"
     ]
    },
    {
     "name": "stderr",
     "output_type": "stream",
     "text": [
      "c:\\Users\\maxbr\\OneDrive\\Desktop\\CLVSim\\CLVSim\\CLV Sim\\Sim\\features.py:65: FutureWarning: DataFrame.applymap has been deprecated. Use DataFrame.map instead.\n",
      "  frame = frame.applymap(lambda x: x.split(' - price: ')[1].strip()\n",
      "c:\\Users\\maxbr\\OneDrive\\Desktop\\CLVSim\\CLVSim\\CLV Sim\\Sim\\features.py:65: FutureWarning: DataFrame.applymap has been deprecated. Use DataFrame.map instead.\n",
      "  frame = frame.applymap(lambda x: x.split(' - price: ')[1].strip()\n"
     ]
    },
    {
     "name": "stdout",
     "output_type": "stream",
     "text": [
      "1/1 [==============================] - 0s 31ms/step\n",
      "298\n",
      "1/1 [==============================] - 0s 87ms/step\n"
     ]
    },
    {
     "name": "stderr",
     "output_type": "stream",
     "text": [
      "c:\\Users\\maxbr\\OneDrive\\Desktop\\CLVSim\\CLVSim\\CLV Sim\\Sim\\features.py:65: FutureWarning: DataFrame.applymap has been deprecated. Use DataFrame.map instead.\n",
      "  frame = frame.applymap(lambda x: x.split(' - price: ')[1].strip()\n",
      "c:\\Users\\maxbr\\OneDrive\\Desktop\\CLVSim\\CLVSim\\CLV Sim\\Sim\\features.py:65: FutureWarning: DataFrame.applymap has been deprecated. Use DataFrame.map instead.\n",
      "  frame = frame.applymap(lambda x: x.split(' - price: ')[1].strip()\n"
     ]
    },
    {
     "name": "stdout",
     "output_type": "stream",
     "text": [
      "1/1 [==============================] - 0s 16ms/step\n",
      "299\n",
      "1/1 [==============================] - 0s 94ms/step\n",
      "1/1 [==============================] - 0s 16ms/step\n"
     ]
    },
    {
     "name": "stderr",
     "output_type": "stream",
     "text": [
      "c:\\Users\\maxbr\\OneDrive\\Desktop\\CLVSim\\CLVSim\\CLV Sim\\Sim\\features.py:65: FutureWarning: DataFrame.applymap has been deprecated. Use DataFrame.map instead.\n",
      "  frame = frame.applymap(lambda x: x.split(' - price: ')[1].strip()\n",
      "c:\\Users\\maxbr\\OneDrive\\Desktop\\CLVSim\\CLVSim\\CLV Sim\\Sim\\features.py:65: FutureWarning: DataFrame.applymap has been deprecated. Use DataFrame.map instead.\n",
      "  frame = frame.applymap(lambda x: x.split(' - price: ')[1].strip()\n"
     ]
    },
    {
     "name": "stdout",
     "output_type": "stream",
     "text": [
      "300\n",
      "1/1 [==============================] - 0s 78ms/step\n"
     ]
    },
    {
     "name": "stderr",
     "output_type": "stream",
     "text": [
      "c:\\Users\\maxbr\\OneDrive\\Desktop\\CLVSim\\CLVSim\\CLV Sim\\Sim\\features.py:65: FutureWarning: DataFrame.applymap has been deprecated. Use DataFrame.map instead.\n",
      "  frame = frame.applymap(lambda x: x.split(' - price: ')[1].strip()\n",
      "c:\\Users\\maxbr\\OneDrive\\Desktop\\CLVSim\\CLVSim\\CLV Sim\\Sim\\features.py:65: FutureWarning: DataFrame.applymap has been deprecated. Use DataFrame.map instead.\n",
      "  frame = frame.applymap(lambda x: x.split(' - price: ')[1].strip()\n"
     ]
    },
    {
     "name": "stdout",
     "output_type": "stream",
     "text": [
      "1/1 [==============================] - 0s 23ms/step\n",
      "301\n",
      "1/1 [==============================] - 0s 84ms/step\n",
      "1/1 [==============================] - 0s 16ms/step\n"
     ]
    },
    {
     "name": "stderr",
     "output_type": "stream",
     "text": [
      "c:\\Users\\maxbr\\OneDrive\\Desktop\\CLVSim\\CLVSim\\CLV Sim\\Sim\\features.py:65: FutureWarning: DataFrame.applymap has been deprecated. Use DataFrame.map instead.\n",
      "  frame = frame.applymap(lambda x: x.split(' - price: ')[1].strip()\n",
      "c:\\Users\\maxbr\\OneDrive\\Desktop\\CLVSim\\CLVSim\\CLV Sim\\Sim\\features.py:65: FutureWarning: DataFrame.applymap has been deprecated. Use DataFrame.map instead.\n",
      "  frame = frame.applymap(lambda x: x.split(' - price: ')[1].strip()\n"
     ]
    },
    {
     "name": "stdout",
     "output_type": "stream",
     "text": [
      "302\n",
      "1/1 [==============================] - 0s 80ms/step\n",
      "1/1 [==============================] - 0s 22ms/step\n"
     ]
    },
    {
     "name": "stderr",
     "output_type": "stream",
     "text": [
      "c:\\Users\\maxbr\\OneDrive\\Desktop\\CLVSim\\CLVSim\\CLV Sim\\Sim\\features.py:65: FutureWarning: DataFrame.applymap has been deprecated. Use DataFrame.map instead.\n",
      "  frame = frame.applymap(lambda x: x.split(' - price: ')[1].strip()\n",
      "c:\\Users\\maxbr\\OneDrive\\Desktop\\CLVSim\\CLVSim\\CLV Sim\\Sim\\features.py:65: FutureWarning: DataFrame.applymap has been deprecated. Use DataFrame.map instead.\n",
      "  frame = frame.applymap(lambda x: x.split(' - price: ')[1].strip()\n"
     ]
    },
    {
     "name": "stdout",
     "output_type": "stream",
     "text": [
      "303\n",
      "1/1 [==============================] - 0s 92ms/step\n",
      "1/1 [==============================] - 0s 16ms/step\n"
     ]
    },
    {
     "name": "stderr",
     "output_type": "stream",
     "text": [
      "c:\\Users\\maxbr\\OneDrive\\Desktop\\CLVSim\\CLVSim\\CLV Sim\\Sim\\features.py:65: FutureWarning: DataFrame.applymap has been deprecated. Use DataFrame.map instead.\n",
      "  frame = frame.applymap(lambda x: x.split(' - price: ')[1].strip()\n",
      "c:\\Users\\maxbr\\OneDrive\\Desktop\\CLVSim\\CLVSim\\CLV Sim\\Sim\\features.py:65: FutureWarning: DataFrame.applymap has been deprecated. Use DataFrame.map instead.\n",
      "  frame = frame.applymap(lambda x: x.split(' - price: ')[1].strip()\n"
     ]
    },
    {
     "name": "stdout",
     "output_type": "stream",
     "text": [
      "304\n",
      "1/1 [==============================] - 0s 85ms/step\n",
      "1/1 [==============================] - ETA: 0s"
     ]
    },
    {
     "name": "stderr",
     "output_type": "stream",
     "text": [
      "c:\\Users\\maxbr\\OneDrive\\Desktop\\CLVSim\\CLVSim\\CLV Sim\\Sim\\features.py:65: FutureWarning: DataFrame.applymap has been deprecated. Use DataFrame.map instead.\n",
      "  frame = frame.applymap(lambda x: x.split(' - price: ')[1].strip()\n",
      "c:\\Users\\maxbr\\OneDrive\\Desktop\\CLVSim\\CLVSim\\CLV Sim\\Sim\\features.py:65: FutureWarning: DataFrame.applymap has been deprecated. Use DataFrame.map instead.\n",
      "  frame = frame.applymap(lambda x: x.split(' - price: ')[1].strip()\n"
     ]
    },
    {
     "name": "stdout",
     "output_type": "stream",
     "text": [
      "1/1 [==============================] - 0s 21ms/step\n",
      "305\n",
      "1/1 [==============================] - 0s 78ms/step\n",
      "1/1 [==============================] - 0s 31ms/step\n"
     ]
    },
    {
     "name": "stderr",
     "output_type": "stream",
     "text": [
      "c:\\Users\\maxbr\\OneDrive\\Desktop\\CLVSim\\CLVSim\\CLV Sim\\Sim\\features.py:65: FutureWarning: DataFrame.applymap has been deprecated. Use DataFrame.map instead.\n",
      "  frame = frame.applymap(lambda x: x.split(' - price: ')[1].strip()\n",
      "c:\\Users\\maxbr\\OneDrive\\Desktop\\CLVSim\\CLVSim\\CLV Sim\\Sim\\features.py:65: FutureWarning: DataFrame.applymap has been deprecated. Use DataFrame.map instead.\n",
      "  frame = frame.applymap(lambda x: x.split(' - price: ')[1].strip()\n"
     ]
    },
    {
     "name": "stdout",
     "output_type": "stream",
     "text": [
      "306\n",
      "1/1 [==============================] - 0s 88ms/step\n",
      "1/1 [==============================] - 0s 16ms/step\n"
     ]
    },
    {
     "name": "stderr",
     "output_type": "stream",
     "text": [
      "c:\\Users\\maxbr\\OneDrive\\Desktop\\CLVSim\\CLVSim\\CLV Sim\\Sim\\features.py:65: FutureWarning: DataFrame.applymap has been deprecated. Use DataFrame.map instead.\n",
      "  frame = frame.applymap(lambda x: x.split(' - price: ')[1].strip()\n",
      "c:\\Users\\maxbr\\OneDrive\\Desktop\\CLVSim\\CLVSim\\CLV Sim\\Sim\\features.py:65: FutureWarning: DataFrame.applymap has been deprecated. Use DataFrame.map instead.\n",
      "  frame = frame.applymap(lambda x: x.split(' - price: ')[1].strip()\n"
     ]
    },
    {
     "name": "stdout",
     "output_type": "stream",
     "text": [
      "307\n",
      "1/1 [==============================] - 0s 100ms/step\n"
     ]
    },
    {
     "name": "stderr",
     "output_type": "stream",
     "text": [
      "c:\\Users\\maxbr\\OneDrive\\Desktop\\CLVSim\\CLVSim\\CLV Sim\\Sim\\features.py:65: FutureWarning: DataFrame.applymap has been deprecated. Use DataFrame.map instead.\n",
      "  frame = frame.applymap(lambda x: x.split(' - price: ')[1].strip()\n",
      "c:\\Users\\maxbr\\OneDrive\\Desktop\\CLVSim\\CLVSim\\CLV Sim\\Sim\\features.py:65: FutureWarning: DataFrame.applymap has been deprecated. Use DataFrame.map instead.\n",
      "  frame = frame.applymap(lambda x: x.split(' - price: ')[1].strip()\n"
     ]
    },
    {
     "name": "stdout",
     "output_type": "stream",
     "text": [
      "1/1 [==============================] - 0s 16ms/step\n",
      "308\n",
      "1/1 [==============================] - 0s 86ms/step\n",
      "1/1 [==============================] - 0s 16ms/step\n"
     ]
    },
    {
     "name": "stderr",
     "output_type": "stream",
     "text": [
      "c:\\Users\\maxbr\\OneDrive\\Desktop\\CLVSim\\CLVSim\\CLV Sim\\Sim\\features.py:65: FutureWarning: DataFrame.applymap has been deprecated. Use DataFrame.map instead.\n",
      "  frame = frame.applymap(lambda x: x.split(' - price: ')[1].strip()\n",
      "c:\\Users\\maxbr\\OneDrive\\Desktop\\CLVSim\\CLVSim\\CLV Sim\\Sim\\features.py:65: FutureWarning: DataFrame.applymap has been deprecated. Use DataFrame.map instead.\n",
      "  frame = frame.applymap(lambda x: x.split(' - price: ')[1].strip()\n"
     ]
    },
    {
     "name": "stdout",
     "output_type": "stream",
     "text": [
      "309\n",
      "1/1 [==============================] - 0s 85ms/step\n"
     ]
    },
    {
     "name": "stderr",
     "output_type": "stream",
     "text": [
      "c:\\Users\\maxbr\\OneDrive\\Desktop\\CLVSim\\CLVSim\\CLV Sim\\Sim\\features.py:65: FutureWarning: DataFrame.applymap has been deprecated. Use DataFrame.map instead.\n",
      "  frame = frame.applymap(lambda x: x.split(' - price: ')[1].strip()\n",
      "c:\\Users\\maxbr\\OneDrive\\Desktop\\CLVSim\\CLVSim\\CLV Sim\\Sim\\features.py:65: FutureWarning: DataFrame.applymap has been deprecated. Use DataFrame.map instead.\n",
      "  frame = frame.applymap(lambda x: x.split(' - price: ')[1].strip()\n"
     ]
    },
    {
     "name": "stdout",
     "output_type": "stream",
     "text": [
      "1/1 [==============================] - 0s 22ms/step\n",
      "310\n",
      "1/1 [==============================] - 0s 81ms/step\n",
      "1/1 [==============================] - 0s 16ms/step\n"
     ]
    },
    {
     "name": "stderr",
     "output_type": "stream",
     "text": [
      "c:\\Users\\maxbr\\OneDrive\\Desktop\\CLVSim\\CLVSim\\CLV Sim\\Sim\\features.py:65: FutureWarning: DataFrame.applymap has been deprecated. Use DataFrame.map instead.\n",
      "  frame = frame.applymap(lambda x: x.split(' - price: ')[1].strip()\n",
      "c:\\Users\\maxbr\\OneDrive\\Desktop\\CLVSim\\CLVSim\\CLV Sim\\Sim\\features.py:65: FutureWarning: DataFrame.applymap has been deprecated. Use DataFrame.map instead.\n",
      "  frame = frame.applymap(lambda x: x.split(' - price: ')[1].strip()\n"
     ]
    },
    {
     "name": "stdout",
     "output_type": "stream",
     "text": [
      "311\n",
      "1/1 [==============================] - 0s 97ms/step\n",
      "1/1 [==============================] - ETA: 0s"
     ]
    },
    {
     "name": "stderr",
     "output_type": "stream",
     "text": [
      "c:\\Users\\maxbr\\OneDrive\\Desktop\\CLVSim\\CLVSim\\CLV Sim\\Sim\\features.py:65: FutureWarning: DataFrame.applymap has been deprecated. Use DataFrame.map instead.\n",
      "  frame = frame.applymap(lambda x: x.split(' - price: ')[1].strip()\n",
      "c:\\Users\\maxbr\\OneDrive\\Desktop\\CLVSim\\CLVSim\\CLV Sim\\Sim\\features.py:65: FutureWarning: DataFrame.applymap has been deprecated. Use DataFrame.map instead.\n",
      "  frame = frame.applymap(lambda x: x.split(' - price: ')[1].strip()\n"
     ]
    },
    {
     "name": "stdout",
     "output_type": "stream",
     "text": [
      "1/1 [==============================] - 0s 16ms/step\n",
      "312\n",
      "1/1 [==============================] - 0s 87ms/step\n",
      "1/1 [==============================] - ETA: 0s"
     ]
    },
    {
     "name": "stderr",
     "output_type": "stream",
     "text": [
      "c:\\Users\\maxbr\\OneDrive\\Desktop\\CLVSim\\CLVSim\\CLV Sim\\Sim\\features.py:65: FutureWarning: DataFrame.applymap has been deprecated. Use DataFrame.map instead.\n",
      "  frame = frame.applymap(lambda x: x.split(' - price: ')[1].strip()\n",
      "c:\\Users\\maxbr\\OneDrive\\Desktop\\CLVSim\\CLVSim\\CLV Sim\\Sim\\features.py:65: FutureWarning: DataFrame.applymap has been deprecated. Use DataFrame.map instead.\n",
      "  frame = frame.applymap(lambda x: x.split(' - price: ')[1].strip()\n"
     ]
    },
    {
     "name": "stdout",
     "output_type": "stream",
     "text": [
      "1/1 [==============================] - 0s 16ms/step\n",
      "313\n",
      "1/1 [==============================] - 0s 78ms/step\n",
      "1/1 [==============================] - 0s 31ms/step\n"
     ]
    },
    {
     "name": "stderr",
     "output_type": "stream",
     "text": [
      "c:\\Users\\maxbr\\OneDrive\\Desktop\\CLVSim\\CLVSim\\CLV Sim\\Sim\\features.py:65: FutureWarning: DataFrame.applymap has been deprecated. Use DataFrame.map instead.\n",
      "  frame = frame.applymap(lambda x: x.split(' - price: ')[1].strip()\n",
      "c:\\Users\\maxbr\\OneDrive\\Desktop\\CLVSim\\CLVSim\\CLV Sim\\Sim\\features.py:65: FutureWarning: DataFrame.applymap has been deprecated. Use DataFrame.map instead.\n",
      "  frame = frame.applymap(lambda x: x.split(' - price: ')[1].strip()\n"
     ]
    },
    {
     "name": "stdout",
     "output_type": "stream",
     "text": [
      "314\n",
      "1/1 [==============================] - 0s 78ms/step\n",
      "1/1 [==============================] - ETA: 0s"
     ]
    },
    {
     "name": "stderr",
     "output_type": "stream",
     "text": [
      "c:\\Users\\maxbr\\OneDrive\\Desktop\\CLVSim\\CLVSim\\CLV Sim\\Sim\\features.py:65: FutureWarning: DataFrame.applymap has been deprecated. Use DataFrame.map instead.\n",
      "  frame = frame.applymap(lambda x: x.split(' - price: ')[1].strip()\n",
      "c:\\Users\\maxbr\\OneDrive\\Desktop\\CLVSim\\CLVSim\\CLV Sim\\Sim\\features.py:65: FutureWarning: DataFrame.applymap has been deprecated. Use DataFrame.map instead.\n",
      "  frame = frame.applymap(lambda x: x.split(' - price: ')[1].strip()\n"
     ]
    },
    {
     "name": "stdout",
     "output_type": "stream",
     "text": [
      "1/1 [==============================] - 0s 31ms/step\n",
      "315\n",
      "1/1 [==============================] - 0s 84ms/step\n",
      "1/1 [==============================] - 0s 16ms/step\n"
     ]
    },
    {
     "name": "stderr",
     "output_type": "stream",
     "text": [
      "c:\\Users\\maxbr\\OneDrive\\Desktop\\CLVSim\\CLVSim\\CLV Sim\\Sim\\features.py:65: FutureWarning: DataFrame.applymap has been deprecated. Use DataFrame.map instead.\n",
      "  frame = frame.applymap(lambda x: x.split(' - price: ')[1].strip()\n",
      "c:\\Users\\maxbr\\OneDrive\\Desktop\\CLVSim\\CLVSim\\CLV Sim\\Sim\\features.py:65: FutureWarning: DataFrame.applymap has been deprecated. Use DataFrame.map instead.\n",
      "  frame = frame.applymap(lambda x: x.split(' - price: ')[1].strip()\n"
     ]
    },
    {
     "name": "stdout",
     "output_type": "stream",
     "text": [
      "316\n",
      "1/1 [==============================] - 0s 87ms/step\n",
      "1/1 [==============================] - ETA: 0s"
     ]
    },
    {
     "name": "stderr",
     "output_type": "stream",
     "text": [
      "c:\\Users\\maxbr\\OneDrive\\Desktop\\CLVSim\\CLVSim\\CLV Sim\\Sim\\features.py:65: FutureWarning: DataFrame.applymap has been deprecated. Use DataFrame.map instead.\n",
      "  frame = frame.applymap(lambda x: x.split(' - price: ')[1].strip()\n",
      "c:\\Users\\maxbr\\OneDrive\\Desktop\\CLVSim\\CLVSim\\CLV Sim\\Sim\\features.py:65: FutureWarning: DataFrame.applymap has been deprecated. Use DataFrame.map instead.\n",
      "  frame = frame.applymap(lambda x: x.split(' - price: ')[1].strip()\n"
     ]
    },
    {
     "name": "stdout",
     "output_type": "stream",
     "text": [
      "1/1 [==============================] - 0s 16ms/step\n",
      "317\n",
      "1/1 [==============================] - 0s 83ms/step\n",
      "1/1 [==============================] - 0s 16ms/step\n"
     ]
    },
    {
     "name": "stderr",
     "output_type": "stream",
     "text": [
      "c:\\Users\\maxbr\\OneDrive\\Desktop\\CLVSim\\CLVSim\\CLV Sim\\Sim\\features.py:65: FutureWarning: DataFrame.applymap has been deprecated. Use DataFrame.map instead.\n",
      "  frame = frame.applymap(lambda x: x.split(' - price: ')[1].strip()\n",
      "c:\\Users\\maxbr\\OneDrive\\Desktop\\CLVSim\\CLVSim\\CLV Sim\\Sim\\features.py:65: FutureWarning: DataFrame.applymap has been deprecated. Use DataFrame.map instead.\n",
      "  frame = frame.applymap(lambda x: x.split(' - price: ')[1].strip()\n"
     ]
    },
    {
     "name": "stdout",
     "output_type": "stream",
     "text": [
      "318\n",
      "1/1 [==============================] - 0s 87ms/step\n"
     ]
    },
    {
     "name": "stderr",
     "output_type": "stream",
     "text": [
      "c:\\Users\\maxbr\\OneDrive\\Desktop\\CLVSim\\CLVSim\\CLV Sim\\Sim\\features.py:65: FutureWarning: DataFrame.applymap has been deprecated. Use DataFrame.map instead.\n",
      "  frame = frame.applymap(lambda x: x.split(' - price: ')[1].strip()\n",
      "c:\\Users\\maxbr\\OneDrive\\Desktop\\CLVSim\\CLVSim\\CLV Sim\\Sim\\features.py:65: FutureWarning: DataFrame.applymap has been deprecated. Use DataFrame.map instead.\n",
      "  frame = frame.applymap(lambda x: x.split(' - price: ')[1].strip()\n"
     ]
    },
    {
     "name": "stdout",
     "output_type": "stream",
     "text": [
      "1/1 [==============================] - 0s 16ms/step\n",
      "319\n",
      "1/1 [==============================] - 0s 96ms/step\n",
      "1/1 [==============================] - 0s 16ms/step\n"
     ]
    },
    {
     "name": "stderr",
     "output_type": "stream",
     "text": [
      "c:\\Users\\maxbr\\OneDrive\\Desktop\\CLVSim\\CLVSim\\CLV Sim\\Sim\\features.py:65: FutureWarning: DataFrame.applymap has been deprecated. Use DataFrame.map instead.\n",
      "  frame = frame.applymap(lambda x: x.split(' - price: ')[1].strip()\n",
      "c:\\Users\\maxbr\\OneDrive\\Desktop\\CLVSim\\CLVSim\\CLV Sim\\Sim\\features.py:65: FutureWarning: DataFrame.applymap has been deprecated. Use DataFrame.map instead.\n",
      "  frame = frame.applymap(lambda x: x.split(' - price: ')[1].strip()\n"
     ]
    },
    {
     "name": "stdout",
     "output_type": "stream",
     "text": [
      "320\n",
      "1/1 [==============================] - 0s 85ms/step\n"
     ]
    },
    {
     "name": "stderr",
     "output_type": "stream",
     "text": [
      "c:\\Users\\maxbr\\OneDrive\\Desktop\\CLVSim\\CLVSim\\CLV Sim\\Sim\\features.py:65: FutureWarning: DataFrame.applymap has been deprecated. Use DataFrame.map instead.\n",
      "  frame = frame.applymap(lambda x: x.split(' - price: ')[1].strip()\n",
      "c:\\Users\\maxbr\\OneDrive\\Desktop\\CLVSim\\CLVSim\\CLV Sim\\Sim\\features.py:65: FutureWarning: DataFrame.applymap has been deprecated. Use DataFrame.map instead.\n",
      "  frame = frame.applymap(lambda x: x.split(' - price: ')[1].strip()\n"
     ]
    },
    {
     "name": "stdout",
     "output_type": "stream",
     "text": [
      "1/1 [==============================] - 0s 16ms/step\n",
      "321\n",
      "1/1 [==============================] - 0s 94ms/step\n",
      "1/1 [==============================] - 0s 31ms/step\n"
     ]
    },
    {
     "name": "stderr",
     "output_type": "stream",
     "text": [
      "c:\\Users\\maxbr\\OneDrive\\Desktop\\CLVSim\\CLVSim\\CLV Sim\\Sim\\features.py:65: FutureWarning: DataFrame.applymap has been deprecated. Use DataFrame.map instead.\n",
      "  frame = frame.applymap(lambda x: x.split(' - price: ')[1].strip()\n",
      "c:\\Users\\maxbr\\OneDrive\\Desktop\\CLVSim\\CLVSim\\CLV Sim\\Sim\\features.py:65: FutureWarning: DataFrame.applymap has been deprecated. Use DataFrame.map instead.\n",
      "  frame = frame.applymap(lambda x: x.split(' - price: ')[1].strip()\n"
     ]
    },
    {
     "name": "stdout",
     "output_type": "stream",
     "text": [
      "322\n",
      "1/1 [==============================] - 0s 100ms/step\n",
      "1/1 [==============================] - ETA: 0s"
     ]
    },
    {
     "name": "stderr",
     "output_type": "stream",
     "text": [
      "c:\\Users\\maxbr\\OneDrive\\Desktop\\CLVSim\\CLVSim\\CLV Sim\\Sim\\features.py:65: FutureWarning: DataFrame.applymap has been deprecated. Use DataFrame.map instead.\n",
      "  frame = frame.applymap(lambda x: x.split(' - price: ')[1].strip()\n",
      "c:\\Users\\maxbr\\OneDrive\\Desktop\\CLVSim\\CLVSim\\CLV Sim\\Sim\\features.py:65: FutureWarning: DataFrame.applymap has been deprecated. Use DataFrame.map instead.\n",
      "  frame = frame.applymap(lambda x: x.split(' - price: ')[1].strip()\n"
     ]
    },
    {
     "name": "stdout",
     "output_type": "stream",
     "text": [
      "1/1 [==============================] - 0s 16ms/step\n",
      "323\n",
      "1/1 [==============================] - 0s 78ms/step\n",
      "1/1 [==============================] - ETA: 0s"
     ]
    },
    {
     "name": "stderr",
     "output_type": "stream",
     "text": [
      "c:\\Users\\maxbr\\OneDrive\\Desktop\\CLVSim\\CLVSim\\CLV Sim\\Sim\\features.py:65: FutureWarning: DataFrame.applymap has been deprecated. Use DataFrame.map instead.\n",
      "  frame = frame.applymap(lambda x: x.split(' - price: ')[1].strip()\n",
      "c:\\Users\\maxbr\\OneDrive\\Desktop\\CLVSim\\CLVSim\\CLV Sim\\Sim\\features.py:65: FutureWarning: DataFrame.applymap has been deprecated. Use DataFrame.map instead.\n",
      "  frame = frame.applymap(lambda x: x.split(' - price: ')[1].strip()\n"
     ]
    },
    {
     "name": "stdout",
     "output_type": "stream",
     "text": [
      "1/1 [==============================] - 0s 16ms/step\n",
      "324\n",
      "1/1 [==============================] - 0s 84ms/step\n"
     ]
    },
    {
     "name": "stderr",
     "output_type": "stream",
     "text": [
      "c:\\Users\\maxbr\\OneDrive\\Desktop\\CLVSim\\CLVSim\\CLV Sim\\Sim\\features.py:65: FutureWarning: DataFrame.applymap has been deprecated. Use DataFrame.map instead.\n",
      "  frame = frame.applymap(lambda x: x.split(' - price: ')[1].strip()\n",
      "c:\\Users\\maxbr\\OneDrive\\Desktop\\CLVSim\\CLVSim\\CLV Sim\\Sim\\features.py:65: FutureWarning: DataFrame.applymap has been deprecated. Use DataFrame.map instead.\n",
      "  frame = frame.applymap(lambda x: x.split(' - price: ')[1].strip()\n"
     ]
    },
    {
     "name": "stdout",
     "output_type": "stream",
     "text": [
      "1/1 [==============================] - 0s 16ms/step\n",
      "325\n",
      "1/1 [==============================] - 0s 86ms/step\n",
      "1/1 [==============================] - 0s 16ms/step\n"
     ]
    },
    {
     "name": "stderr",
     "output_type": "stream",
     "text": [
      "c:\\Users\\maxbr\\OneDrive\\Desktop\\CLVSim\\CLVSim\\CLV Sim\\Sim\\features.py:65: FutureWarning: DataFrame.applymap has been deprecated. Use DataFrame.map instead.\n",
      "  frame = frame.applymap(lambda x: x.split(' - price: ')[1].strip()\n",
      "c:\\Users\\maxbr\\OneDrive\\Desktop\\CLVSim\\CLVSim\\CLV Sim\\Sim\\features.py:65: FutureWarning: DataFrame.applymap has been deprecated. Use DataFrame.map instead.\n",
      "  frame = frame.applymap(lambda x: x.split(' - price: ')[1].strip()\n"
     ]
    },
    {
     "name": "stdout",
     "output_type": "stream",
     "text": [
      "326\n",
      "1/1 [==============================] - 0s 94ms/step\n",
      "1/1 [==============================] - ETA: 0s"
     ]
    },
    {
     "name": "stderr",
     "output_type": "stream",
     "text": [
      "c:\\Users\\maxbr\\OneDrive\\Desktop\\CLVSim\\CLVSim\\CLV Sim\\Sim\\features.py:65: FutureWarning: DataFrame.applymap has been deprecated. Use DataFrame.map instead.\n",
      "  frame = frame.applymap(lambda x: x.split(' - price: ')[1].strip()\n",
      "c:\\Users\\maxbr\\OneDrive\\Desktop\\CLVSim\\CLVSim\\CLV Sim\\Sim\\features.py:65: FutureWarning: DataFrame.applymap has been deprecated. Use DataFrame.map instead.\n",
      "  frame = frame.applymap(lambda x: x.split(' - price: ')[1].strip()\n"
     ]
    },
    {
     "name": "stdout",
     "output_type": "stream",
     "text": [
      "1/1 [==============================] - 0s 16ms/step\n",
      "327\n",
      "1/1 [==============================] - 0s 84ms/step\n",
      "1/1 [==============================] - ETA: 0s"
     ]
    },
    {
     "name": "stderr",
     "output_type": "stream",
     "text": [
      "c:\\Users\\maxbr\\OneDrive\\Desktop\\CLVSim\\CLVSim\\CLV Sim\\Sim\\features.py:65: FutureWarning: DataFrame.applymap has been deprecated. Use DataFrame.map instead.\n",
      "  frame = frame.applymap(lambda x: x.split(' - price: ')[1].strip()\n",
      "c:\\Users\\maxbr\\OneDrive\\Desktop\\CLVSim\\CLVSim\\CLV Sim\\Sim\\features.py:65: FutureWarning: DataFrame.applymap has been deprecated. Use DataFrame.map instead.\n",
      "  frame = frame.applymap(lambda x: x.split(' - price: ')[1].strip()\n"
     ]
    },
    {
     "name": "stdout",
     "output_type": "stream",
     "text": [
      "1/1 [==============================] - 0s 16ms/step\n",
      "328\n",
      "1/1 [==============================] - 0s 85ms/step\n",
      "1/1 [==============================] - 0s 16ms/step\n"
     ]
    },
    {
     "name": "stderr",
     "output_type": "stream",
     "text": [
      "c:\\Users\\maxbr\\OneDrive\\Desktop\\CLVSim\\CLVSim\\CLV Sim\\Sim\\features.py:65: FutureWarning: DataFrame.applymap has been deprecated. Use DataFrame.map instead.\n",
      "  frame = frame.applymap(lambda x: x.split(' - price: ')[1].strip()\n",
      "c:\\Users\\maxbr\\OneDrive\\Desktop\\CLVSim\\CLVSim\\CLV Sim\\Sim\\features.py:65: FutureWarning: DataFrame.applymap has been deprecated. Use DataFrame.map instead.\n",
      "  frame = frame.applymap(lambda x: x.split(' - price: ')[1].strip()\n"
     ]
    },
    {
     "name": "stdout",
     "output_type": "stream",
     "text": [
      "329\n",
      "1/1 [==============================] - 0s 101ms/step\n",
      "1/1 [==============================] - 0s 31ms/step\n"
     ]
    },
    {
     "name": "stderr",
     "output_type": "stream",
     "text": [
      "c:\\Users\\maxbr\\OneDrive\\Desktop\\CLVSim\\CLVSim\\CLV Sim\\Sim\\features.py:65: FutureWarning: DataFrame.applymap has been deprecated. Use DataFrame.map instead.\n",
      "  frame = frame.applymap(lambda x: x.split(' - price: ')[1].strip()\n",
      "c:\\Users\\maxbr\\OneDrive\\Desktop\\CLVSim\\CLVSim\\CLV Sim\\Sim\\features.py:65: FutureWarning: DataFrame.applymap has been deprecated. Use DataFrame.map instead.\n",
      "  frame = frame.applymap(lambda x: x.split(' - price: ')[1].strip()\n"
     ]
    },
    {
     "name": "stdout",
     "output_type": "stream",
     "text": [
      "330\n",
      "1/1 [==============================] - 0s 85ms/step\n",
      "1/1 [==============================] - 0s 16ms/step\n"
     ]
    },
    {
     "name": "stderr",
     "output_type": "stream",
     "text": [
      "c:\\Users\\maxbr\\OneDrive\\Desktop\\CLVSim\\CLVSim\\CLV Sim\\Sim\\features.py:65: FutureWarning: DataFrame.applymap has been deprecated. Use DataFrame.map instead.\n",
      "  frame = frame.applymap(lambda x: x.split(' - price: ')[1].strip()\n",
      "c:\\Users\\maxbr\\OneDrive\\Desktop\\CLVSim\\CLVSim\\CLV Sim\\Sim\\features.py:65: FutureWarning: DataFrame.applymap has been deprecated. Use DataFrame.map instead.\n",
      "  frame = frame.applymap(lambda x: x.split(' - price: ')[1].strip()\n"
     ]
    },
    {
     "name": "stdout",
     "output_type": "stream",
     "text": [
      "331\n",
      "1/1 [==============================] - 0s 78ms/step\n",
      "1/1 [==============================] - 0s 31ms/step\n"
     ]
    },
    {
     "name": "stderr",
     "output_type": "stream",
     "text": [
      "c:\\Users\\maxbr\\OneDrive\\Desktop\\CLVSim\\CLVSim\\CLV Sim\\Sim\\features.py:65: FutureWarning: DataFrame.applymap has been deprecated. Use DataFrame.map instead.\n",
      "  frame = frame.applymap(lambda x: x.split(' - price: ')[1].strip()\n",
      "c:\\Users\\maxbr\\OneDrive\\Desktop\\CLVSim\\CLVSim\\CLV Sim\\Sim\\features.py:65: FutureWarning: DataFrame.applymap has been deprecated. Use DataFrame.map instead.\n",
      "  frame = frame.applymap(lambda x: x.split(' - price: ')[1].strip()\n"
     ]
    },
    {
     "name": "stdout",
     "output_type": "stream",
     "text": [
      "332\n",
      "1/1 [==============================] - 0s 99ms/step\n",
      "1/1 [==============================] - 0s 16ms/step\n"
     ]
    },
    {
     "name": "stderr",
     "output_type": "stream",
     "text": [
      "c:\\Users\\maxbr\\OneDrive\\Desktop\\CLVSim\\CLVSim\\CLV Sim\\Sim\\features.py:65: FutureWarning: DataFrame.applymap has been deprecated. Use DataFrame.map instead.\n",
      "  frame = frame.applymap(lambda x: x.split(' - price: ')[1].strip()\n",
      "c:\\Users\\maxbr\\OneDrive\\Desktop\\CLVSim\\CLVSim\\CLV Sim\\Sim\\features.py:65: FutureWarning: DataFrame.applymap has been deprecated. Use DataFrame.map instead.\n",
      "  frame = frame.applymap(lambda x: x.split(' - price: ')[1].strip()\n"
     ]
    },
    {
     "name": "stdout",
     "output_type": "stream",
     "text": [
      "333\n",
      "1/1 [==============================] - 0s 84ms/step\n",
      "1/1 [==============================] - ETA: 0s"
     ]
    },
    {
     "name": "stderr",
     "output_type": "stream",
     "text": [
      "c:\\Users\\maxbr\\OneDrive\\Desktop\\CLVSim\\CLVSim\\CLV Sim\\Sim\\features.py:65: FutureWarning: DataFrame.applymap has been deprecated. Use DataFrame.map instead.\n",
      "  frame = frame.applymap(lambda x: x.split(' - price: ')[1].strip()\n",
      "c:\\Users\\maxbr\\OneDrive\\Desktop\\CLVSim\\CLVSim\\CLV Sim\\Sim\\features.py:65: FutureWarning: DataFrame.applymap has been deprecated. Use DataFrame.map instead.\n",
      "  frame = frame.applymap(lambda x: x.split(' - price: ')[1].strip()\n"
     ]
    },
    {
     "name": "stdout",
     "output_type": "stream",
     "text": [
      "1/1 [==============================] - 0s 16ms/step\n",
      "334\n",
      "1/1 [==============================] - 0s 100ms/step\n",
      "1/1 [==============================] - ETA: 0s"
     ]
    },
    {
     "name": "stderr",
     "output_type": "stream",
     "text": [
      "c:\\Users\\maxbr\\OneDrive\\Desktop\\CLVSim\\CLVSim\\CLV Sim\\Sim\\features.py:65: FutureWarning: DataFrame.applymap has been deprecated. Use DataFrame.map instead.\n",
      "  frame = frame.applymap(lambda x: x.split(' - price: ')[1].strip()\n",
      "c:\\Users\\maxbr\\OneDrive\\Desktop\\CLVSim\\CLVSim\\CLV Sim\\Sim\\features.py:65: FutureWarning: DataFrame.applymap has been deprecated. Use DataFrame.map instead.\n",
      "  frame = frame.applymap(lambda x: x.split(' - price: ')[1].strip()\n"
     ]
    },
    {
     "name": "stdout",
     "output_type": "stream",
     "text": [
      "1/1 [==============================] - 0s 16ms/step\n",
      "335\n",
      "1/1 [==============================] - 0s 84ms/step\n",
      "1/1 [==============================] - 0s 16ms/step\n"
     ]
    },
    {
     "name": "stderr",
     "output_type": "stream",
     "text": [
      "c:\\Users\\maxbr\\OneDrive\\Desktop\\CLVSim\\CLVSim\\CLV Sim\\Sim\\features.py:65: FutureWarning: DataFrame.applymap has been deprecated. Use DataFrame.map instead.\n",
      "  frame = frame.applymap(lambda x: x.split(' - price: ')[1].strip()\n",
      "c:\\Users\\maxbr\\OneDrive\\Desktop\\CLVSim\\CLVSim\\CLV Sim\\Sim\\features.py:65: FutureWarning: DataFrame.applymap has been deprecated. Use DataFrame.map instead.\n",
      "  frame = frame.applymap(lambda x: x.split(' - price: ')[1].strip()\n"
     ]
    },
    {
     "name": "stdout",
     "output_type": "stream",
     "text": [
      "336\n",
      "1/1 [==============================] - 0s 84ms/step\n"
     ]
    },
    {
     "name": "stderr",
     "output_type": "stream",
     "text": [
      "c:\\Users\\maxbr\\OneDrive\\Desktop\\CLVSim\\CLVSim\\CLV Sim\\Sim\\features.py:65: FutureWarning: DataFrame.applymap has been deprecated. Use DataFrame.map instead.\n",
      "  frame = frame.applymap(lambda x: x.split(' - price: ')[1].strip()\n",
      "c:\\Users\\maxbr\\OneDrive\\Desktop\\CLVSim\\CLVSim\\CLV Sim\\Sim\\features.py:65: FutureWarning: DataFrame.applymap has been deprecated. Use DataFrame.map instead.\n",
      "  frame = frame.applymap(lambda x: x.split(' - price: ')[1].strip()\n"
     ]
    },
    {
     "name": "stdout",
     "output_type": "stream",
     "text": [
      "1/1 [==============================] - 0s 16ms/step\n",
      "337\n",
      "1/1 [==============================] - 0s 85ms/step\n"
     ]
    },
    {
     "name": "stderr",
     "output_type": "stream",
     "text": [
      "c:\\Users\\maxbr\\OneDrive\\Desktop\\CLVSim\\CLVSim\\CLV Sim\\Sim\\features.py:65: FutureWarning: DataFrame.applymap has been deprecated. Use DataFrame.map instead.\n",
      "  frame = frame.applymap(lambda x: x.split(' - price: ')[1].strip()\n",
      "c:\\Users\\maxbr\\OneDrive\\Desktop\\CLVSim\\CLVSim\\CLV Sim\\Sim\\features.py:65: FutureWarning: DataFrame.applymap has been deprecated. Use DataFrame.map instead.\n",
      "  frame = frame.applymap(lambda x: x.split(' - price: ')[1].strip()\n"
     ]
    },
    {
     "name": "stdout",
     "output_type": "stream",
     "text": [
      "1/1 [==============================] - 0s 31ms/step\n",
      "338\n",
      "1/1 [==============================] - 0s 100ms/step\n",
      "1/1 [==============================] - ETA: 0s"
     ]
    },
    {
     "name": "stderr",
     "output_type": "stream",
     "text": [
      "c:\\Users\\maxbr\\OneDrive\\Desktop\\CLVSim\\CLVSim\\CLV Sim\\Sim\\features.py:65: FutureWarning: DataFrame.applymap has been deprecated. Use DataFrame.map instead.\n",
      "  frame = frame.applymap(lambda x: x.split(' - price: ')[1].strip()\n",
      "c:\\Users\\maxbr\\OneDrive\\Desktop\\CLVSim\\CLVSim\\CLV Sim\\Sim\\features.py:65: FutureWarning: DataFrame.applymap has been deprecated. Use DataFrame.map instead.\n",
      "  frame = frame.applymap(lambda x: x.split(' - price: ')[1].strip()\n"
     ]
    },
    {
     "name": "stdout",
     "output_type": "stream",
     "text": [
      "1/1 [==============================] - 0s 31ms/step\n",
      "339\n",
      "1/1 [==============================] - 0s 84ms/step\n",
      "1/1 [==============================] - 0s 16ms/step\n"
     ]
    },
    {
     "name": "stderr",
     "output_type": "stream",
     "text": [
      "c:\\Users\\maxbr\\OneDrive\\Desktop\\CLVSim\\CLVSim\\CLV Sim\\Sim\\features.py:65: FutureWarning: DataFrame.applymap has been deprecated. Use DataFrame.map instead.\n",
      "  frame = frame.applymap(lambda x: x.split(' - price: ')[1].strip()\n",
      "c:\\Users\\maxbr\\OneDrive\\Desktop\\CLVSim\\CLVSim\\CLV Sim\\Sim\\features.py:65: FutureWarning: DataFrame.applymap has been deprecated. Use DataFrame.map instead.\n",
      "  frame = frame.applymap(lambda x: x.split(' - price: ')[1].strip()\n"
     ]
    },
    {
     "name": "stdout",
     "output_type": "stream",
     "text": [
      "340\n",
      "1/1 [==============================] - 0s 78ms/step\n",
      "1/1 [==============================] - 0s 16ms/step\n"
     ]
    },
    {
     "name": "stderr",
     "output_type": "stream",
     "text": [
      "c:\\Users\\maxbr\\OneDrive\\Desktop\\CLVSim\\CLVSim\\CLV Sim\\Sim\\features.py:65: FutureWarning: DataFrame.applymap has been deprecated. Use DataFrame.map instead.\n",
      "  frame = frame.applymap(lambda x: x.split(' - price: ')[1].strip()\n",
      "c:\\Users\\maxbr\\OneDrive\\Desktop\\CLVSim\\CLVSim\\CLV Sim\\Sim\\features.py:65: FutureWarning: DataFrame.applymap has been deprecated. Use DataFrame.map instead.\n",
      "  frame = frame.applymap(lambda x: x.split(' - price: ')[1].strip()\n"
     ]
    },
    {
     "name": "stdout",
     "output_type": "stream",
     "text": [
      "341\n",
      "1/1 [==============================] - 0s 84ms/step\n",
      "1/1 [==============================] - 0s 16ms/step\n"
     ]
    },
    {
     "name": "stderr",
     "output_type": "stream",
     "text": [
      "c:\\Users\\maxbr\\OneDrive\\Desktop\\CLVSim\\CLVSim\\CLV Sim\\Sim\\features.py:65: FutureWarning: DataFrame.applymap has been deprecated. Use DataFrame.map instead.\n",
      "  frame = frame.applymap(lambda x: x.split(' - price: ')[1].strip()\n",
      "c:\\Users\\maxbr\\OneDrive\\Desktop\\CLVSim\\CLVSim\\CLV Sim\\Sim\\features.py:65: FutureWarning: DataFrame.applymap has been deprecated. Use DataFrame.map instead.\n",
      "  frame = frame.applymap(lambda x: x.split(' - price: ')[1].strip()\n"
     ]
    },
    {
     "name": "stdout",
     "output_type": "stream",
     "text": [
      "342\n",
      "1/1 [==============================] - 0s 94ms/step\n",
      "1/1 [==============================] - ETA: 0s"
     ]
    },
    {
     "name": "stderr",
     "output_type": "stream",
     "text": [
      "c:\\Users\\maxbr\\OneDrive\\Desktop\\CLVSim\\CLVSim\\CLV Sim\\Sim\\features.py:65: FutureWarning: DataFrame.applymap has been deprecated. Use DataFrame.map instead.\n",
      "  frame = frame.applymap(lambda x: x.split(' - price: ')[1].strip()\n",
      "c:\\Users\\maxbr\\OneDrive\\Desktop\\CLVSim\\CLVSim\\CLV Sim\\Sim\\features.py:65: FutureWarning: DataFrame.applymap has been deprecated. Use DataFrame.map instead.\n",
      "  frame = frame.applymap(lambda x: x.split(' - price: ')[1].strip()\n"
     ]
    },
    {
     "name": "stdout",
     "output_type": "stream",
     "text": [
      "1/1 [==============================] - 0s 16ms/step\n",
      "343\n",
      "1/1 [==============================] - 0s 84ms/step\n",
      "1/1 [==============================] - 0s 16ms/step\n"
     ]
    },
    {
     "name": "stderr",
     "output_type": "stream",
     "text": [
      "c:\\Users\\maxbr\\OneDrive\\Desktop\\CLVSim\\CLVSim\\CLV Sim\\Sim\\features.py:65: FutureWarning: DataFrame.applymap has been deprecated. Use DataFrame.map instead.\n",
      "  frame = frame.applymap(lambda x: x.split(' - price: ')[1].strip()\n",
      "c:\\Users\\maxbr\\OneDrive\\Desktop\\CLVSim\\CLVSim\\CLV Sim\\Sim\\features.py:65: FutureWarning: DataFrame.applymap has been deprecated. Use DataFrame.map instead.\n",
      "  frame = frame.applymap(lambda x: x.split(' - price: ')[1].strip()\n"
     ]
    },
    {
     "name": "stdout",
     "output_type": "stream",
     "text": [
      "344\n",
      "1/1 [==============================] - 0s 84ms/step\n"
     ]
    },
    {
     "name": "stderr",
     "output_type": "stream",
     "text": [
      "c:\\Users\\maxbr\\OneDrive\\Desktop\\CLVSim\\CLVSim\\CLV Sim\\Sim\\features.py:65: FutureWarning: DataFrame.applymap has been deprecated. Use DataFrame.map instead.\n",
      "  frame = frame.applymap(lambda x: x.split(' - price: ')[1].strip()\n",
      "c:\\Users\\maxbr\\OneDrive\\Desktop\\CLVSim\\CLVSim\\CLV Sim\\Sim\\features.py:65: FutureWarning: DataFrame.applymap has been deprecated. Use DataFrame.map instead.\n",
      "  frame = frame.applymap(lambda x: x.split(' - price: ')[1].strip()\n"
     ]
    },
    {
     "name": "stdout",
     "output_type": "stream",
     "text": [
      "1/1 [==============================] - 0s 16ms/step\n",
      "345\n",
      "1/1 [==============================] - 0s 100ms/step\n",
      "1/1 [==============================] - ETA: 0s"
     ]
    },
    {
     "name": "stderr",
     "output_type": "stream",
     "text": [
      "c:\\Users\\maxbr\\OneDrive\\Desktop\\CLVSim\\CLVSim\\CLV Sim\\Sim\\features.py:65: FutureWarning: DataFrame.applymap has been deprecated. Use DataFrame.map instead.\n",
      "  frame = frame.applymap(lambda x: x.split(' - price: ')[1].strip()\n",
      "c:\\Users\\maxbr\\OneDrive\\Desktop\\CLVSim\\CLVSim\\CLV Sim\\Sim\\features.py:65: FutureWarning: DataFrame.applymap has been deprecated. Use DataFrame.map instead.\n",
      "  frame = frame.applymap(lambda x: x.split(' - price: ')[1].strip()\n"
     ]
    },
    {
     "name": "stdout",
     "output_type": "stream",
     "text": [
      "1/1 [==============================] - 0s 21ms/step\n",
      "346\n",
      "1/1 [==============================] - 0s 89ms/step\n",
      "1/1 [==============================] - ETA: 0s"
     ]
    },
    {
     "name": "stderr",
     "output_type": "stream",
     "text": [
      "c:\\Users\\maxbr\\OneDrive\\Desktop\\CLVSim\\CLVSim\\CLV Sim\\Sim\\features.py:65: FutureWarning: DataFrame.applymap has been deprecated. Use DataFrame.map instead.\n",
      "  frame = frame.applymap(lambda x: x.split(' - price: ')[1].strip()\n",
      "c:\\Users\\maxbr\\OneDrive\\Desktop\\CLVSim\\CLVSim\\CLV Sim\\Sim\\features.py:65: FutureWarning: DataFrame.applymap has been deprecated. Use DataFrame.map instead.\n",
      "  frame = frame.applymap(lambda x: x.split(' - price: ')[1].strip()\n"
     ]
    },
    {
     "name": "stdout",
     "output_type": "stream",
     "text": [
      "1/1 [==============================] - 0s 19ms/step\n",
      "347\n",
      "1/1 [==============================] - 0s 88ms/step\n",
      "1/1 [==============================] - ETA: 0s"
     ]
    },
    {
     "name": "stderr",
     "output_type": "stream",
     "text": [
      "c:\\Users\\maxbr\\OneDrive\\Desktop\\CLVSim\\CLVSim\\CLV Sim\\Sim\\features.py:65: FutureWarning: DataFrame.applymap has been deprecated. Use DataFrame.map instead.\n",
      "  frame = frame.applymap(lambda x: x.split(' - price: ')[1].strip()\n",
      "c:\\Users\\maxbr\\OneDrive\\Desktop\\CLVSim\\CLVSim\\CLV Sim\\Sim\\features.py:65: FutureWarning: DataFrame.applymap has been deprecated. Use DataFrame.map instead.\n",
      "  frame = frame.applymap(lambda x: x.split(' - price: ')[1].strip()\n"
     ]
    },
    {
     "name": "stdout",
     "output_type": "stream",
     "text": [
      "1/1 [==============================] - 0s 31ms/step\n",
      "348\n",
      "1/1 [==============================] - 0s 90ms/step\n",
      "1/1 [==============================] - 0s 20ms/step\n"
     ]
    },
    {
     "name": "stderr",
     "output_type": "stream",
     "text": [
      "c:\\Users\\maxbr\\OneDrive\\Desktop\\CLVSim\\CLVSim\\CLV Sim\\Sim\\features.py:65: FutureWarning: DataFrame.applymap has been deprecated. Use DataFrame.map instead.\n",
      "  frame = frame.applymap(lambda x: x.split(' - price: ')[1].strip()\n",
      "c:\\Users\\maxbr\\OneDrive\\Desktop\\CLVSim\\CLVSim\\CLV Sim\\Sim\\features.py:65: FutureWarning: DataFrame.applymap has been deprecated. Use DataFrame.map instead.\n",
      "  frame = frame.applymap(lambda x: x.split(' - price: ')[1].strip()\n"
     ]
    },
    {
     "name": "stdout",
     "output_type": "stream",
     "text": [
      "349\n",
      "1/1 [==============================] - 0s 89ms/step\n",
      "1/1 [==============================] - ETA: 0s"
     ]
    },
    {
     "name": "stderr",
     "output_type": "stream",
     "text": [
      "c:\\Users\\maxbr\\OneDrive\\Desktop\\CLVSim\\CLVSim\\CLV Sim\\Sim\\features.py:65: FutureWarning: DataFrame.applymap has been deprecated. Use DataFrame.map instead.\n",
      "  frame = frame.applymap(lambda x: x.split(' - price: ')[1].strip()\n",
      "c:\\Users\\maxbr\\OneDrive\\Desktop\\CLVSim\\CLVSim\\CLV Sim\\Sim\\features.py:65: FutureWarning: DataFrame.applymap has been deprecated. Use DataFrame.map instead.\n",
      "  frame = frame.applymap(lambda x: x.split(' - price: ')[1].strip()\n"
     ]
    },
    {
     "name": "stdout",
     "output_type": "stream",
     "text": [
      "1/1 [==============================] - 0s 23ms/step\n",
      "350\n",
      "1/1 [==============================] - 0s 91ms/step\n"
     ]
    },
    {
     "name": "stderr",
     "output_type": "stream",
     "text": [
      "c:\\Users\\maxbr\\OneDrive\\Desktop\\CLVSim\\CLVSim\\CLV Sim\\Sim\\features.py:65: FutureWarning: DataFrame.applymap has been deprecated. Use DataFrame.map instead.\n",
      "  frame = frame.applymap(lambda x: x.split(' - price: ')[1].strip()\n",
      "c:\\Users\\maxbr\\OneDrive\\Desktop\\CLVSim\\CLVSim\\CLV Sim\\Sim\\features.py:65: FutureWarning: DataFrame.applymap has been deprecated. Use DataFrame.map instead.\n",
      "  frame = frame.applymap(lambda x: x.split(' - price: ')[1].strip()\n"
     ]
    },
    {
     "name": "stdout",
     "output_type": "stream",
     "text": [
      "1/1 [==============================] - 0s 20ms/step\n",
      "351\n",
      "1/1 [==============================] - 0s 76ms/step\n"
     ]
    },
    {
     "name": "stderr",
     "output_type": "stream",
     "text": [
      "c:\\Users\\maxbr\\OneDrive\\Desktop\\CLVSim\\CLVSim\\CLV Sim\\Sim\\features.py:65: FutureWarning: DataFrame.applymap has been deprecated. Use DataFrame.map instead.\n",
      "  frame = frame.applymap(lambda x: x.split(' - price: ')[1].strip()\n",
      "c:\\Users\\maxbr\\OneDrive\\Desktop\\CLVSim\\CLVSim\\CLV Sim\\Sim\\features.py:65: FutureWarning: DataFrame.applymap has been deprecated. Use DataFrame.map instead.\n",
      "  frame = frame.applymap(lambda x: x.split(' - price: ')[1].strip()\n"
     ]
    },
    {
     "name": "stdout",
     "output_type": "stream",
     "text": [
      "1/1 [==============================] - 0s 26ms/step\n",
      "352\n",
      "1/1 [==============================] - 0s 95ms/step\n",
      "1/1 [==============================] - 0s 16ms/step\n"
     ]
    },
    {
     "name": "stderr",
     "output_type": "stream",
     "text": [
      "c:\\Users\\maxbr\\OneDrive\\Desktop\\CLVSim\\CLVSim\\CLV Sim\\Sim\\features.py:65: FutureWarning: DataFrame.applymap has been deprecated. Use DataFrame.map instead.\n",
      "  frame = frame.applymap(lambda x: x.split(' - price: ')[1].strip()\n",
      "c:\\Users\\maxbr\\OneDrive\\Desktop\\CLVSim\\CLVSim\\CLV Sim\\Sim\\features.py:65: FutureWarning: DataFrame.applymap has been deprecated. Use DataFrame.map instead.\n",
      "  frame = frame.applymap(lambda x: x.split(' - price: ')[1].strip()\n"
     ]
    },
    {
     "name": "stdout",
     "output_type": "stream",
     "text": [
      "353\n",
      "1/1 [==============================] - 0s 85ms/step\n",
      "1/1 [==============================] - ETA: 0s"
     ]
    },
    {
     "name": "stderr",
     "output_type": "stream",
     "text": [
      "c:\\Users\\maxbr\\OneDrive\\Desktop\\CLVSim\\CLVSim\\CLV Sim\\Sim\\features.py:65: FutureWarning: DataFrame.applymap has been deprecated. Use DataFrame.map instead.\n",
      "  frame = frame.applymap(lambda x: x.split(' - price: ')[1].strip()\n",
      "c:\\Users\\maxbr\\OneDrive\\Desktop\\CLVSim\\CLVSim\\CLV Sim\\Sim\\features.py:65: FutureWarning: DataFrame.applymap has been deprecated. Use DataFrame.map instead.\n",
      "  frame = frame.applymap(lambda x: x.split(' - price: ')[1].strip()\n"
     ]
    },
    {
     "name": "stdout",
     "output_type": "stream",
     "text": [
      "1/1 [==============================] - 0s 19ms/step\n",
      "354\n",
      "1/1 [==============================] - 0s 86ms/step\n"
     ]
    },
    {
     "name": "stderr",
     "output_type": "stream",
     "text": [
      "c:\\Users\\maxbr\\OneDrive\\Desktop\\CLVSim\\CLVSim\\CLV Sim\\Sim\\features.py:65: FutureWarning: DataFrame.applymap has been deprecated. Use DataFrame.map instead.\n",
      "  frame = frame.applymap(lambda x: x.split(' - price: ')[1].strip()\n",
      "c:\\Users\\maxbr\\OneDrive\\Desktop\\CLVSim\\CLVSim\\CLV Sim\\Sim\\features.py:65: FutureWarning: DataFrame.applymap has been deprecated. Use DataFrame.map instead.\n",
      "  frame = frame.applymap(lambda x: x.split(' - price: ')[1].strip()\n"
     ]
    },
    {
     "name": "stdout",
     "output_type": "stream",
     "text": [
      "1/1 [==============================] - 0s 21ms/step\n",
      "355\n",
      "1/1 [==============================] - 0s 87ms/step\n"
     ]
    },
    {
     "name": "stderr",
     "output_type": "stream",
     "text": [
      "c:\\Users\\maxbr\\OneDrive\\Desktop\\CLVSim\\CLVSim\\CLV Sim\\Sim\\features.py:65: FutureWarning: DataFrame.applymap has been deprecated. Use DataFrame.map instead.\n",
      "  frame = frame.applymap(lambda x: x.split(' - price: ')[1].strip()\n",
      "c:\\Users\\maxbr\\OneDrive\\Desktop\\CLVSim\\CLVSim\\CLV Sim\\Sim\\features.py:65: FutureWarning: DataFrame.applymap has been deprecated. Use DataFrame.map instead.\n",
      "  frame = frame.applymap(lambda x: x.split(' - price: ')[1].strip()\n"
     ]
    },
    {
     "name": "stdout",
     "output_type": "stream",
     "text": [
      "1/1 [==============================] - 0s 22ms/step\n",
      "356\n",
      "1/1 [==============================] - 0s 87ms/step\n",
      "1/1 [==============================] - ETA: 0s"
     ]
    },
    {
     "name": "stderr",
     "output_type": "stream",
     "text": [
      "c:\\Users\\maxbr\\OneDrive\\Desktop\\CLVSim\\CLVSim\\CLV Sim\\Sim\\features.py:65: FutureWarning: DataFrame.applymap has been deprecated. Use DataFrame.map instead.\n",
      "  frame = frame.applymap(lambda x: x.split(' - price: ')[1].strip()\n",
      "c:\\Users\\maxbr\\OneDrive\\Desktop\\CLVSim\\CLVSim\\CLV Sim\\Sim\\features.py:65: FutureWarning: DataFrame.applymap has been deprecated. Use DataFrame.map instead.\n",
      "  frame = frame.applymap(lambda x: x.split(' - price: ')[1].strip()\n"
     ]
    },
    {
     "name": "stdout",
     "output_type": "stream",
     "text": [
      "1/1 [==============================] - 0s 20ms/step\n",
      "357\n",
      "1/1 [==============================] - 0s 85ms/step\n",
      "1/1 [==============================] - 0s 6ms/step\n"
     ]
    },
    {
     "name": "stderr",
     "output_type": "stream",
     "text": [
      "c:\\Users\\maxbr\\OneDrive\\Desktop\\CLVSim\\CLVSim\\CLV Sim\\Sim\\features.py:65: FutureWarning: DataFrame.applymap has been deprecated. Use DataFrame.map instead.\n",
      "  frame = frame.applymap(lambda x: x.split(' - price: ')[1].strip()\n",
      "c:\\Users\\maxbr\\OneDrive\\Desktop\\CLVSim\\CLVSim\\CLV Sim\\Sim\\features.py:65: FutureWarning: DataFrame.applymap has been deprecated. Use DataFrame.map instead.\n",
      "  frame = frame.applymap(lambda x: x.split(' - price: ')[1].strip()\n"
     ]
    },
    {
     "name": "stdout",
     "output_type": "stream",
     "text": [
      "358\n",
      "1/1 [==============================] - 0s 86ms/step\n",
      "1/1 [==============================] - 0s 31ms/step\n"
     ]
    },
    {
     "name": "stderr",
     "output_type": "stream",
     "text": [
      "c:\\Users\\maxbr\\OneDrive\\Desktop\\CLVSim\\CLVSim\\CLV Sim\\Sim\\features.py:65: FutureWarning: DataFrame.applymap has been deprecated. Use DataFrame.map instead.\n",
      "  frame = frame.applymap(lambda x: x.split(' - price: ')[1].strip()\n",
      "c:\\Users\\maxbr\\OneDrive\\Desktop\\CLVSim\\CLVSim\\CLV Sim\\Sim\\features.py:65: FutureWarning: DataFrame.applymap has been deprecated. Use DataFrame.map instead.\n",
      "  frame = frame.applymap(lambda x: x.split(' - price: ')[1].strip()\n"
     ]
    },
    {
     "name": "stdout",
     "output_type": "stream",
     "text": [
      "359\n",
      "1/1 [==============================] - 0s 83ms/step\n"
     ]
    },
    {
     "name": "stderr",
     "output_type": "stream",
     "text": [
      "c:\\Users\\maxbr\\OneDrive\\Desktop\\CLVSim\\CLVSim\\CLV Sim\\Sim\\features.py:65: FutureWarning: DataFrame.applymap has been deprecated. Use DataFrame.map instead.\n",
      "  frame = frame.applymap(lambda x: x.split(' - price: ')[1].strip()\n",
      "c:\\Users\\maxbr\\OneDrive\\Desktop\\CLVSim\\CLVSim\\CLV Sim\\Sim\\features.py:65: FutureWarning: DataFrame.applymap has been deprecated. Use DataFrame.map instead.\n",
      "  frame = frame.applymap(lambda x: x.split(' - price: ')[1].strip()\n"
     ]
    },
    {
     "name": "stdout",
     "output_type": "stream",
     "text": [
      "1/1 [==============================] - 0s 22ms/step\n",
      "360\n",
      "1/1 [==============================] - 0s 93ms/step\n",
      "1/1 [==============================] - ETA: 0s"
     ]
    },
    {
     "name": "stderr",
     "output_type": "stream",
     "text": [
      "c:\\Users\\maxbr\\OneDrive\\Desktop\\CLVSim\\CLVSim\\CLV Sim\\Sim\\features.py:65: FutureWarning: DataFrame.applymap has been deprecated. Use DataFrame.map instead.\n",
      "  frame = frame.applymap(lambda x: x.split(' - price: ')[1].strip()\n",
      "c:\\Users\\maxbr\\OneDrive\\Desktop\\CLVSim\\CLVSim\\CLV Sim\\Sim\\features.py:65: FutureWarning: DataFrame.applymap has been deprecated. Use DataFrame.map instead.\n",
      "  frame = frame.applymap(lambda x: x.split(' - price: ')[1].strip()\n"
     ]
    },
    {
     "name": "stdout",
     "output_type": "stream",
     "text": [
      "1/1 [==============================] - 0s 18ms/step\n",
      "361\n",
      "1/1 [==============================] - 0s 73ms/step\n",
      "1/1 [==============================] - 0s 17ms/step\n"
     ]
    },
    {
     "name": "stderr",
     "output_type": "stream",
     "text": [
      "c:\\Users\\maxbr\\OneDrive\\Desktop\\CLVSim\\CLVSim\\CLV Sim\\Sim\\features.py:65: FutureWarning: DataFrame.applymap has been deprecated. Use DataFrame.map instead.\n",
      "  frame = frame.applymap(lambda x: x.split(' - price: ')[1].strip()\n",
      "c:\\Users\\maxbr\\OneDrive\\Desktop\\CLVSim\\CLVSim\\CLV Sim\\Sim\\features.py:65: FutureWarning: DataFrame.applymap has been deprecated. Use DataFrame.map instead.\n",
      "  frame = frame.applymap(lambda x: x.split(' - price: ')[1].strip()\n"
     ]
    },
    {
     "name": "stdout",
     "output_type": "stream",
     "text": [
      "362\n",
      "1/1 [==============================] - 0s 92ms/step\n"
     ]
    },
    {
     "name": "stderr",
     "output_type": "stream",
     "text": [
      "c:\\Users\\maxbr\\OneDrive\\Desktop\\CLVSim\\CLVSim\\CLV Sim\\Sim\\features.py:65: FutureWarning: DataFrame.applymap has been deprecated. Use DataFrame.map instead.\n",
      "  frame = frame.applymap(lambda x: x.split(' - price: ')[1].strip()\n",
      "c:\\Users\\maxbr\\OneDrive\\Desktop\\CLVSim\\CLVSim\\CLV Sim\\Sim\\features.py:65: FutureWarning: DataFrame.applymap has been deprecated. Use DataFrame.map instead.\n",
      "  frame = frame.applymap(lambda x: x.split(' - price: ')[1].strip()\n"
     ]
    },
    {
     "name": "stdout",
     "output_type": "stream",
     "text": [
      "1/1 [==============================] - 0s 16ms/step\n",
      "363\n",
      "1/1 [==============================] - 0s 99ms/step\n",
      "1/1 [==============================] - ETA: 0s"
     ]
    },
    {
     "name": "stderr",
     "output_type": "stream",
     "text": [
      "c:\\Users\\maxbr\\OneDrive\\Desktop\\CLVSim\\CLVSim\\CLV Sim\\Sim\\features.py:65: FutureWarning: DataFrame.applymap has been deprecated. Use DataFrame.map instead.\n",
      "  frame = frame.applymap(lambda x: x.split(' - price: ')[1].strip()\n",
      "c:\\Users\\maxbr\\OneDrive\\Desktop\\CLVSim\\CLVSim\\CLV Sim\\Sim\\features.py:65: FutureWarning: DataFrame.applymap has been deprecated. Use DataFrame.map instead.\n",
      "  frame = frame.applymap(lambda x: x.split(' - price: ')[1].strip()\n"
     ]
    },
    {
     "name": "stdout",
     "output_type": "stream",
     "text": [
      "1/1 [==============================] - 0s 5ms/step\n",
      "364\n",
      "1/1 [==============================] - 0s 77ms/step\n",
      "1/1 [==============================] - 0s 25ms/step\n"
     ]
    },
    {
     "name": "stderr",
     "output_type": "stream",
     "text": [
      "c:\\Users\\maxbr\\OneDrive\\Desktop\\CLVSim\\CLVSim\\CLV Sim\\Sim\\features.py:65: FutureWarning: DataFrame.applymap has been deprecated. Use DataFrame.map instead.\n",
      "  frame = frame.applymap(lambda x: x.split(' - price: ')[1].strip()\n",
      "c:\\Users\\maxbr\\OneDrive\\Desktop\\CLVSim\\CLVSim\\CLV Sim\\Sim\\features.py:65: FutureWarning: DataFrame.applymap has been deprecated. Use DataFrame.map instead.\n",
      "  frame = frame.applymap(lambda x: x.split(' - price: ')[1].strip()\n"
     ]
    },
    {
     "name": "stdout",
     "output_type": "stream",
     "text": [
      "365\n",
      "1/1 [==============================] - 0s 88ms/step\n",
      "1/1 [==============================] - ETA: 0s"
     ]
    },
    {
     "name": "stderr",
     "output_type": "stream",
     "text": [
      "c:\\Users\\maxbr\\OneDrive\\Desktop\\CLVSim\\CLVSim\\CLV Sim\\Sim\\features.py:65: FutureWarning: DataFrame.applymap has been deprecated. Use DataFrame.map instead.\n",
      "  frame = frame.applymap(lambda x: x.split(' - price: ')[1].strip()\n",
      "c:\\Users\\maxbr\\OneDrive\\Desktop\\CLVSim\\CLVSim\\CLV Sim\\Sim\\features.py:65: FutureWarning: DataFrame.applymap has been deprecated. Use DataFrame.map instead.\n",
      "  frame = frame.applymap(lambda x: x.split(' - price: ')[1].strip()\n"
     ]
    },
    {
     "name": "stdout",
     "output_type": "stream",
     "text": [
      "1/1 [==============================] - 0s 21ms/step\n",
      "366\n",
      "1/1 [==============================] - 0s 100ms/step\n",
      "1/1 [==============================] - 0s 20ms/step\n"
     ]
    },
    {
     "name": "stderr",
     "output_type": "stream",
     "text": [
      "c:\\Users\\maxbr\\OneDrive\\Desktop\\CLVSim\\CLVSim\\CLV Sim\\Sim\\features.py:65: FutureWarning: DataFrame.applymap has been deprecated. Use DataFrame.map instead.\n",
      "  frame = frame.applymap(lambda x: x.split(' - price: ')[1].strip()\n",
      "c:\\Users\\maxbr\\OneDrive\\Desktop\\CLVSim\\CLVSim\\CLV Sim\\Sim\\features.py:65: FutureWarning: DataFrame.applymap has been deprecated. Use DataFrame.map instead.\n",
      "  frame = frame.applymap(lambda x: x.split(' - price: ')[1].strip()\n"
     ]
    },
    {
     "name": "stdout",
     "output_type": "stream",
     "text": [
      "367\n",
      "1/1 [==============================] - 0s 84ms/step\n",
      "1/1 [==============================] - ETA: 0s"
     ]
    },
    {
     "name": "stderr",
     "output_type": "stream",
     "text": [
      "c:\\Users\\maxbr\\OneDrive\\Desktop\\CLVSim\\CLVSim\\CLV Sim\\Sim\\features.py:65: FutureWarning: DataFrame.applymap has been deprecated. Use DataFrame.map instead.\n",
      "  frame = frame.applymap(lambda x: x.split(' - price: ')[1].strip()\n",
      "c:\\Users\\maxbr\\OneDrive\\Desktop\\CLVSim\\CLVSim\\CLV Sim\\Sim\\features.py:65: FutureWarning: DataFrame.applymap has been deprecated. Use DataFrame.map instead.\n",
      "  frame = frame.applymap(lambda x: x.split(' - price: ')[1].strip()\n"
     ]
    },
    {
     "name": "stdout",
     "output_type": "stream",
     "text": [
      "1/1 [==============================] - 0s 20ms/step\n",
      "368\n",
      "1/1 [==============================] - 0s 94ms/step\n",
      "1/1 [==============================] - 0s 19ms/step\n"
     ]
    },
    {
     "name": "stderr",
     "output_type": "stream",
     "text": [
      "c:\\Users\\maxbr\\OneDrive\\Desktop\\CLVSim\\CLVSim\\CLV Sim\\Sim\\features.py:65: FutureWarning: DataFrame.applymap has been deprecated. Use DataFrame.map instead.\n",
      "  frame = frame.applymap(lambda x: x.split(' - price: ')[1].strip()\n",
      "c:\\Users\\maxbr\\OneDrive\\Desktop\\CLVSim\\CLVSim\\CLV Sim\\Sim\\features.py:65: FutureWarning: DataFrame.applymap has been deprecated. Use DataFrame.map instead.\n",
      "  frame = frame.applymap(lambda x: x.split(' - price: ')[1].strip()\n"
     ]
    },
    {
     "name": "stdout",
     "output_type": "stream",
     "text": [
      "369\n",
      "1/1 [==============================] - 0s 73ms/step\n",
      "1/1 [==============================] - 0s 16ms/step\n"
     ]
    },
    {
     "name": "stderr",
     "output_type": "stream",
     "text": [
      "c:\\Users\\maxbr\\OneDrive\\Desktop\\CLVSim\\CLVSim\\CLV Sim\\Sim\\features.py:65: FutureWarning: DataFrame.applymap has been deprecated. Use DataFrame.map instead.\n",
      "  frame = frame.applymap(lambda x: x.split(' - price: ')[1].strip()\n",
      "c:\\Users\\maxbr\\OneDrive\\Desktop\\CLVSim\\CLVSim\\CLV Sim\\Sim\\features.py:65: FutureWarning: DataFrame.applymap has been deprecated. Use DataFrame.map instead.\n",
      "  frame = frame.applymap(lambda x: x.split(' - price: ')[1].strip()\n"
     ]
    },
    {
     "name": "stdout",
     "output_type": "stream",
     "text": [
      "370\n",
      "1/1 [==============================] - 0s 87ms/step\n",
      "1/1 [==============================] - 0s 18ms/step\n"
     ]
    },
    {
     "name": "stderr",
     "output_type": "stream",
     "text": [
      "c:\\Users\\maxbr\\OneDrive\\Desktop\\CLVSim\\CLVSim\\CLV Sim\\Sim\\features.py:65: FutureWarning: DataFrame.applymap has been deprecated. Use DataFrame.map instead.\n",
      "  frame = frame.applymap(lambda x: x.split(' - price: ')[1].strip()\n",
      "c:\\Users\\maxbr\\OneDrive\\Desktop\\CLVSim\\CLVSim\\CLV Sim\\Sim\\features.py:65: FutureWarning: DataFrame.applymap has been deprecated. Use DataFrame.map instead.\n",
      "  frame = frame.applymap(lambda x: x.split(' - price: ')[1].strip()\n"
     ]
    },
    {
     "name": "stdout",
     "output_type": "stream",
     "text": [
      "371\n",
      "1/1 [==============================] - 0s 78ms/step\n",
      "1/1 [==============================] - 0s 13ms/step\n"
     ]
    },
    {
     "name": "stderr",
     "output_type": "stream",
     "text": [
      "c:\\Users\\maxbr\\OneDrive\\Desktop\\CLVSim\\CLVSim\\CLV Sim\\Sim\\features.py:65: FutureWarning: DataFrame.applymap has been deprecated. Use DataFrame.map instead.\n",
      "  frame = frame.applymap(lambda x: x.split(' - price: ')[1].strip()\n",
      "c:\\Users\\maxbr\\OneDrive\\Desktop\\CLVSim\\CLVSim\\CLV Sim\\Sim\\features.py:65: FutureWarning: DataFrame.applymap has been deprecated. Use DataFrame.map instead.\n",
      "  frame = frame.applymap(lambda x: x.split(' - price: ')[1].strip()\n"
     ]
    },
    {
     "name": "stdout",
     "output_type": "stream",
     "text": [
      "372\n",
      "1/1 [==============================] - ETA: 0s"
     ]
    },
    {
     "name": "stderr",
     "output_type": "stream",
     "text": [
      "c:\\Users\\maxbr\\OneDrive\\Desktop\\CLVSim\\CLVSim\\CLV Sim\\Sim\\features.py:65: FutureWarning: DataFrame.applymap has been deprecated. Use DataFrame.map instead.\n",
      "  frame = frame.applymap(lambda x: x.split(' - price: ')[1].strip()\n",
      "c:\\Users\\maxbr\\OneDrive\\Desktop\\CLVSim\\CLVSim\\CLV Sim\\Sim\\features.py:65: FutureWarning: DataFrame.applymap has been deprecated. Use DataFrame.map instead.\n",
      "  frame = frame.applymap(lambda x: x.split(' - price: ')[1].strip()\n"
     ]
    },
    {
     "name": "stdout",
     "output_type": "stream",
     "text": [
      "1/1 [==============================] - 0s 82ms/step\n",
      "1/1 [==============================] - 0s 32ms/step\n",
      "373\n",
      "1/1 [==============================] - 0s 82ms/step\n",
      "1/1 [==============================] - 0s 19ms/step\n"
     ]
    },
    {
     "name": "stderr",
     "output_type": "stream",
     "text": [
      "c:\\Users\\maxbr\\OneDrive\\Desktop\\CLVSim\\CLVSim\\CLV Sim\\Sim\\features.py:65: FutureWarning: DataFrame.applymap has been deprecated. Use DataFrame.map instead.\n",
      "  frame = frame.applymap(lambda x: x.split(' - price: ')[1].strip()\n",
      "c:\\Users\\maxbr\\OneDrive\\Desktop\\CLVSim\\CLVSim\\CLV Sim\\Sim\\features.py:65: FutureWarning: DataFrame.applymap has been deprecated. Use DataFrame.map instead.\n",
      "  frame = frame.applymap(lambda x: x.split(' - price: ')[1].strip()\n"
     ]
    },
    {
     "name": "stdout",
     "output_type": "stream",
     "text": [
      "374\n",
      "1/1 [==============================] - 0s 84ms/step\n"
     ]
    },
    {
     "name": "stderr",
     "output_type": "stream",
     "text": [
      "c:\\Users\\maxbr\\OneDrive\\Desktop\\CLVSim\\CLVSim\\CLV Sim\\Sim\\features.py:65: FutureWarning: DataFrame.applymap has been deprecated. Use DataFrame.map instead.\n",
      "  frame = frame.applymap(lambda x: x.split(' - price: ')[1].strip()\n",
      "c:\\Users\\maxbr\\OneDrive\\Desktop\\CLVSim\\CLVSim\\CLV Sim\\Sim\\features.py:65: FutureWarning: DataFrame.applymap has been deprecated. Use DataFrame.map instead.\n",
      "  frame = frame.applymap(lambda x: x.split(' - price: ')[1].strip()\n"
     ]
    },
    {
     "name": "stdout",
     "output_type": "stream",
     "text": [
      "1/1 [==============================] - 0s 16ms/step\n",
      "375\n",
      "1/1 [==============================] - 0s 86ms/step\n"
     ]
    },
    {
     "name": "stderr",
     "output_type": "stream",
     "text": [
      "c:\\Users\\maxbr\\OneDrive\\Desktop\\CLVSim\\CLVSim\\CLV Sim\\Sim\\features.py:65: FutureWarning: DataFrame.applymap has been deprecated. Use DataFrame.map instead.\n",
      "  frame = frame.applymap(lambda x: x.split(' - price: ')[1].strip()\n",
      "c:\\Users\\maxbr\\OneDrive\\Desktop\\CLVSim\\CLVSim\\CLV Sim\\Sim\\features.py:65: FutureWarning: DataFrame.applymap has been deprecated. Use DataFrame.map instead.\n",
      "  frame = frame.applymap(lambda x: x.split(' - price: ')[1].strip()\n"
     ]
    },
    {
     "name": "stdout",
     "output_type": "stream",
     "text": [
      "1/1 [==============================] - 0s 31ms/step\n",
      "376\n",
      "1/1 [==============================] - 0s 91ms/step\n",
      "1/1 [==============================] - 0s 29ms/step\n"
     ]
    },
    {
     "name": "stderr",
     "output_type": "stream",
     "text": [
      "c:\\Users\\maxbr\\OneDrive\\Desktop\\CLVSim\\CLVSim\\CLV Sim\\Sim\\features.py:65: FutureWarning: DataFrame.applymap has been deprecated. Use DataFrame.map instead.\n",
      "  frame = frame.applymap(lambda x: x.split(' - price: ')[1].strip()\n",
      "c:\\Users\\maxbr\\OneDrive\\Desktop\\CLVSim\\CLVSim\\CLV Sim\\Sim\\features.py:65: FutureWarning: DataFrame.applymap has been deprecated. Use DataFrame.map instead.\n",
      "  frame = frame.applymap(lambda x: x.split(' - price: ')[1].strip()\n"
     ]
    },
    {
     "name": "stdout",
     "output_type": "stream",
     "text": [
      "377\n",
      "1/1 [==============================] - 0s 80ms/step\n",
      "1/1 [==============================] - 0s 16ms/step\n"
     ]
    },
    {
     "name": "stderr",
     "output_type": "stream",
     "text": [
      "c:\\Users\\maxbr\\OneDrive\\Desktop\\CLVSim\\CLVSim\\CLV Sim\\Sim\\features.py:65: FutureWarning: DataFrame.applymap has been deprecated. Use DataFrame.map instead.\n",
      "  frame = frame.applymap(lambda x: x.split(' - price: ')[1].strip()\n",
      "c:\\Users\\maxbr\\OneDrive\\Desktop\\CLVSim\\CLVSim\\CLV Sim\\Sim\\features.py:65: FutureWarning: DataFrame.applymap has been deprecated. Use DataFrame.map instead.\n",
      "  frame = frame.applymap(lambda x: x.split(' - price: ')[1].strip()\n"
     ]
    },
    {
     "name": "stdout",
     "output_type": "stream",
     "text": [
      "378\n",
      "1/1 [==============================] - 0s 85ms/step\n",
      "1/1 [==============================] - ETA: 0s"
     ]
    },
    {
     "name": "stderr",
     "output_type": "stream",
     "text": [
      "c:\\Users\\maxbr\\OneDrive\\Desktop\\CLVSim\\CLVSim\\CLV Sim\\Sim\\features.py:65: FutureWarning: DataFrame.applymap has been deprecated. Use DataFrame.map instead.\n",
      "  frame = frame.applymap(lambda x: x.split(' - price: ')[1].strip()\n",
      "c:\\Users\\maxbr\\OneDrive\\Desktop\\CLVSim\\CLVSim\\CLV Sim\\Sim\\features.py:65: FutureWarning: DataFrame.applymap has been deprecated. Use DataFrame.map instead.\n",
      "  frame = frame.applymap(lambda x: x.split(' - price: ')[1].strip()\n"
     ]
    },
    {
     "name": "stdout",
     "output_type": "stream",
     "text": [
      "1/1 [==============================] - 0s 16ms/step\n",
      "379\n",
      "1/1 [==============================] - 0s 94ms/step\n",
      "1/1 [==============================] - 0s 31ms/step\n"
     ]
    },
    {
     "name": "stderr",
     "output_type": "stream",
     "text": [
      "c:\\Users\\maxbr\\OneDrive\\Desktop\\CLVSim\\CLVSim\\CLV Sim\\Sim\\features.py:65: FutureWarning: DataFrame.applymap has been deprecated. Use DataFrame.map instead.\n",
      "  frame = frame.applymap(lambda x: x.split(' - price: ')[1].strip()\n",
      "c:\\Users\\maxbr\\OneDrive\\Desktop\\CLVSim\\CLVSim\\CLV Sim\\Sim\\features.py:65: FutureWarning: DataFrame.applymap has been deprecated. Use DataFrame.map instead.\n",
      "  frame = frame.applymap(lambda x: x.split(' - price: ')[1].strip()\n"
     ]
    },
    {
     "name": "stdout",
     "output_type": "stream",
     "text": [
      "380\n",
      "1/1 [==============================] - 0s 98ms/step\n"
     ]
    },
    {
     "name": "stderr",
     "output_type": "stream",
     "text": [
      "c:\\Users\\maxbr\\OneDrive\\Desktop\\CLVSim\\CLVSim\\CLV Sim\\Sim\\features.py:65: FutureWarning: DataFrame.applymap has been deprecated. Use DataFrame.map instead.\n",
      "  frame = frame.applymap(lambda x: x.split(' - price: ')[1].strip()\n",
      "c:\\Users\\maxbr\\OneDrive\\Desktop\\CLVSim\\CLVSim\\CLV Sim\\Sim\\features.py:65: FutureWarning: DataFrame.applymap has been deprecated. Use DataFrame.map instead.\n",
      "  frame = frame.applymap(lambda x: x.split(' - price: ')[1].strip()\n"
     ]
    },
    {
     "name": "stdout",
     "output_type": "stream",
     "text": [
      "1/1 [==============================] - 0s 31ms/step\n",
      "381\n",
      "1/1 [==============================] - 0s 74ms/step\n",
      "1/1 [==============================] - ETA: 0s"
     ]
    },
    {
     "name": "stderr",
     "output_type": "stream",
     "text": [
      "c:\\Users\\maxbr\\OneDrive\\Desktop\\CLVSim\\CLVSim\\CLV Sim\\Sim\\features.py:65: FutureWarning: DataFrame.applymap has been deprecated. Use DataFrame.map instead.\n",
      "  frame = frame.applymap(lambda x: x.split(' - price: ')[1].strip()\n",
      "c:\\Users\\maxbr\\OneDrive\\Desktop\\CLVSim\\CLVSim\\CLV Sim\\Sim\\features.py:65: FutureWarning: DataFrame.applymap has been deprecated. Use DataFrame.map instead.\n",
      "  frame = frame.applymap(lambda x: x.split(' - price: ')[1].strip()\n"
     ]
    },
    {
     "name": "stdout",
     "output_type": "stream",
     "text": [
      "1/1 [==============================] - 0s 16ms/step\n",
      "382\n",
      "1/1 [==============================] - 0s 78ms/step\n",
      "1/1 [==============================] - 0s 16ms/step\n"
     ]
    },
    {
     "name": "stderr",
     "output_type": "stream",
     "text": [
      "c:\\Users\\maxbr\\OneDrive\\Desktop\\CLVSim\\CLVSim\\CLV Sim\\Sim\\features.py:65: FutureWarning: DataFrame.applymap has been deprecated. Use DataFrame.map instead.\n",
      "  frame = frame.applymap(lambda x: x.split(' - price: ')[1].strip()\n",
      "c:\\Users\\maxbr\\OneDrive\\Desktop\\CLVSim\\CLVSim\\CLV Sim\\Sim\\features.py:65: FutureWarning: DataFrame.applymap has been deprecated. Use DataFrame.map instead.\n",
      "  frame = frame.applymap(lambda x: x.split(' - price: ')[1].strip()\n"
     ]
    },
    {
     "name": "stdout",
     "output_type": "stream",
     "text": [
      "383\n",
      "1/1 [==============================] - 0s 100ms/step\n",
      "1/1 [==============================] - ETA: 0s"
     ]
    },
    {
     "name": "stderr",
     "output_type": "stream",
     "text": [
      "c:\\Users\\maxbr\\OneDrive\\Desktop\\CLVSim\\CLVSim\\CLV Sim\\Sim\\features.py:65: FutureWarning: DataFrame.applymap has been deprecated. Use DataFrame.map instead.\n",
      "  frame = frame.applymap(lambda x: x.split(' - price: ')[1].strip()\n",
      "c:\\Users\\maxbr\\OneDrive\\Desktop\\CLVSim\\CLVSim\\CLV Sim\\Sim\\features.py:65: FutureWarning: DataFrame.applymap has been deprecated. Use DataFrame.map instead.\n",
      "  frame = frame.applymap(lambda x: x.split(' - price: ')[1].strip()\n"
     ]
    },
    {
     "name": "stdout",
     "output_type": "stream",
     "text": [
      "1/1 [==============================] - 0s 31ms/step\n",
      "384\n",
      "1/1 [==============================] - 0s 92ms/step\n",
      "1/1 [==============================] - ETA: 0s"
     ]
    },
    {
     "name": "stderr",
     "output_type": "stream",
     "text": [
      "c:\\Users\\maxbr\\OneDrive\\Desktop\\CLVSim\\CLVSim\\CLV Sim\\Sim\\features.py:65: FutureWarning: DataFrame.applymap has been deprecated. Use DataFrame.map instead.\n",
      "  frame = frame.applymap(lambda x: x.split(' - price: ')[1].strip()\n",
      "c:\\Users\\maxbr\\OneDrive\\Desktop\\CLVSim\\CLVSim\\CLV Sim\\Sim\\features.py:65: FutureWarning: DataFrame.applymap has been deprecated. Use DataFrame.map instead.\n",
      "  frame = frame.applymap(lambda x: x.split(' - price: ')[1].strip()\n"
     ]
    },
    {
     "name": "stdout",
     "output_type": "stream",
     "text": [
      "1/1 [==============================] - 0s 21ms/step\n",
      "385\n",
      "1/1 [==============================] - 0s 88ms/step\n",
      "1/1 [==============================] - ETA: 0s"
     ]
    },
    {
     "name": "stderr",
     "output_type": "stream",
     "text": [
      "c:\\Users\\maxbr\\OneDrive\\Desktop\\CLVSim\\CLVSim\\CLV Sim\\Sim\\features.py:65: FutureWarning: DataFrame.applymap has been deprecated. Use DataFrame.map instead.\n",
      "  frame = frame.applymap(lambda x: x.split(' - price: ')[1].strip()\n",
      "c:\\Users\\maxbr\\OneDrive\\Desktop\\CLVSim\\CLVSim\\CLV Sim\\Sim\\features.py:65: FutureWarning: DataFrame.applymap has been deprecated. Use DataFrame.map instead.\n",
      "  frame = frame.applymap(lambda x: x.split(' - price: ')[1].strip()\n"
     ]
    },
    {
     "name": "stdout",
     "output_type": "stream",
     "text": [
      "1/1 [==============================] - 0s 21ms/step\n",
      "386\n",
      "1/1 [==============================] - 0s 90ms/step\n"
     ]
    },
    {
     "name": "stderr",
     "output_type": "stream",
     "text": [
      "c:\\Users\\maxbr\\OneDrive\\Desktop\\CLVSim\\CLVSim\\CLV Sim\\Sim\\features.py:65: FutureWarning: DataFrame.applymap has been deprecated. Use DataFrame.map instead.\n",
      "  frame = frame.applymap(lambda x: x.split(' - price: ')[1].strip()\n",
      "c:\\Users\\maxbr\\OneDrive\\Desktop\\CLVSim\\CLVSim\\CLV Sim\\Sim\\features.py:65: FutureWarning: DataFrame.applymap has been deprecated. Use DataFrame.map instead.\n",
      "  frame = frame.applymap(lambda x: x.split(' - price: ')[1].strip()\n"
     ]
    },
    {
     "name": "stdout",
     "output_type": "stream",
     "text": [
      "1/1 [==============================] - 0s 21ms/step\n",
      "387\n",
      "1/1 [==============================] - 0s 87ms/step\n",
      "1/1 [==============================] - ETA: 0s"
     ]
    },
    {
     "name": "stderr",
     "output_type": "stream",
     "text": [
      "c:\\Users\\maxbr\\OneDrive\\Desktop\\CLVSim\\CLVSim\\CLV Sim\\Sim\\features.py:65: FutureWarning: DataFrame.applymap has been deprecated. Use DataFrame.map instead.\n",
      "  frame = frame.applymap(lambda x: x.split(' - price: ')[1].strip()\n",
      "c:\\Users\\maxbr\\OneDrive\\Desktop\\CLVSim\\CLVSim\\CLV Sim\\Sim\\features.py:65: FutureWarning: DataFrame.applymap has been deprecated. Use DataFrame.map instead.\n",
      "  frame = frame.applymap(lambda x: x.split(' - price: ')[1].strip()\n"
     ]
    },
    {
     "name": "stdout",
     "output_type": "stream",
     "text": [
      "1/1 [==============================] - 0s 16ms/step\n",
      "388\n",
      "1/1 [==============================] - 0s 78ms/step\n",
      "1/1 [==============================] - 0s 16ms/step\n"
     ]
    },
    {
     "name": "stderr",
     "output_type": "stream",
     "text": [
      "c:\\Users\\maxbr\\OneDrive\\Desktop\\CLVSim\\CLVSim\\CLV Sim\\Sim\\features.py:65: FutureWarning: DataFrame.applymap has been deprecated. Use DataFrame.map instead.\n",
      "  frame = frame.applymap(lambda x: x.split(' - price: ')[1].strip()\n",
      "c:\\Users\\maxbr\\OneDrive\\Desktop\\CLVSim\\CLVSim\\CLV Sim\\Sim\\features.py:65: FutureWarning: DataFrame.applymap has been deprecated. Use DataFrame.map instead.\n",
      "  frame = frame.applymap(lambda x: x.split(' - price: ')[1].strip()\n"
     ]
    },
    {
     "name": "stdout",
     "output_type": "stream",
     "text": [
      "389\n",
      "1/1 [==============================] - 0s 91ms/step\n",
      "1/1 [==============================] - ETA: 0s"
     ]
    },
    {
     "name": "stderr",
     "output_type": "stream",
     "text": [
      "c:\\Users\\maxbr\\OneDrive\\Desktop\\CLVSim\\CLVSim\\CLV Sim\\Sim\\features.py:65: FutureWarning: DataFrame.applymap has been deprecated. Use DataFrame.map instead.\n",
      "  frame = frame.applymap(lambda x: x.split(' - price: ')[1].strip()\n",
      "c:\\Users\\maxbr\\OneDrive\\Desktop\\CLVSim\\CLVSim\\CLV Sim\\Sim\\features.py:65: FutureWarning: DataFrame.applymap has been deprecated. Use DataFrame.map instead.\n",
      "  frame = frame.applymap(lambda x: x.split(' - price: ')[1].strip()\n"
     ]
    },
    {
     "name": "stdout",
     "output_type": "stream",
     "text": [
      "1/1 [==============================] - 0s 21ms/step\n",
      "390\n",
      "1/1 [==============================] - 0s 88ms/step\n",
      "1/1 [==============================] - ETA: 0s"
     ]
    },
    {
     "name": "stderr",
     "output_type": "stream",
     "text": [
      "c:\\Users\\maxbr\\OneDrive\\Desktop\\CLVSim\\CLVSim\\CLV Sim\\Sim\\features.py:65: FutureWarning: DataFrame.applymap has been deprecated. Use DataFrame.map instead.\n",
      "  frame = frame.applymap(lambda x: x.split(' - price: ')[1].strip()\n",
      "c:\\Users\\maxbr\\OneDrive\\Desktop\\CLVSim\\CLVSim\\CLV Sim\\Sim\\features.py:65: FutureWarning: DataFrame.applymap has been deprecated. Use DataFrame.map instead.\n",
      "  frame = frame.applymap(lambda x: x.split(' - price: ')[1].strip()\n"
     ]
    },
    {
     "name": "stdout",
     "output_type": "stream",
     "text": [
      "1/1 [==============================] - 0s 19ms/step\n",
      "391\n",
      "1/1 [==============================] - 0s 88ms/step\n",
      "1/1 [==============================] - ETA: 0s"
     ]
    },
    {
     "name": "stderr",
     "output_type": "stream",
     "text": [
      "c:\\Users\\maxbr\\OneDrive\\Desktop\\CLVSim\\CLVSim\\CLV Sim\\Sim\\features.py:65: FutureWarning: DataFrame.applymap has been deprecated. Use DataFrame.map instead.\n",
      "  frame = frame.applymap(lambda x: x.split(' - price: ')[1].strip()\n",
      "c:\\Users\\maxbr\\OneDrive\\Desktop\\CLVSim\\CLVSim\\CLV Sim\\Sim\\features.py:65: FutureWarning: DataFrame.applymap has been deprecated. Use DataFrame.map instead.\n",
      "  frame = frame.applymap(lambda x: x.split(' - price: ')[1].strip()\n"
     ]
    },
    {
     "name": "stdout",
     "output_type": "stream",
     "text": [
      "1/1 [==============================] - 0s 19ms/step\n",
      "392\n",
      "1/1 [==============================] - 0s 87ms/step\n",
      "1/1 [==============================] - ETA: 0s"
     ]
    },
    {
     "name": "stderr",
     "output_type": "stream",
     "text": [
      "c:\\Users\\maxbr\\OneDrive\\Desktop\\CLVSim\\CLVSim\\CLV Sim\\Sim\\features.py:65: FutureWarning: DataFrame.applymap has been deprecated. Use DataFrame.map instead.\n",
      "  frame = frame.applymap(lambda x: x.split(' - price: ')[1].strip()\n",
      "c:\\Users\\maxbr\\OneDrive\\Desktop\\CLVSim\\CLVSim\\CLV Sim\\Sim\\features.py:65: FutureWarning: DataFrame.applymap has been deprecated. Use DataFrame.map instead.\n",
      "  frame = frame.applymap(lambda x: x.split(' - price: ')[1].strip()\n"
     ]
    },
    {
     "name": "stdout",
     "output_type": "stream",
     "text": [
      "1/1 [==============================] - 0s 16ms/step\n",
      "393\n",
      "1/1 [==============================] - 0s 96ms/step\n",
      "1/1 [==============================] - 0s 16ms/step\n"
     ]
    },
    {
     "name": "stderr",
     "output_type": "stream",
     "text": [
      "c:\\Users\\maxbr\\OneDrive\\Desktop\\CLVSim\\CLVSim\\CLV Sim\\Sim\\features.py:65: FutureWarning: DataFrame.applymap has been deprecated. Use DataFrame.map instead.\n",
      "  frame = frame.applymap(lambda x: x.split(' - price: ')[1].strip()\n",
      "c:\\Users\\maxbr\\OneDrive\\Desktop\\CLVSim\\CLVSim\\CLV Sim\\Sim\\features.py:65: FutureWarning: DataFrame.applymap has been deprecated. Use DataFrame.map instead.\n",
      "  frame = frame.applymap(lambda x: x.split(' - price: ')[1].strip()\n"
     ]
    },
    {
     "name": "stdout",
     "output_type": "stream",
     "text": [
      "394\n",
      "1/1 [==============================] - 0s 94ms/step\n",
      "1/1 [==============================] - 0s 16ms/step\n"
     ]
    },
    {
     "name": "stderr",
     "output_type": "stream",
     "text": [
      "c:\\Users\\maxbr\\OneDrive\\Desktop\\CLVSim\\CLVSim\\CLV Sim\\Sim\\features.py:65: FutureWarning: DataFrame.applymap has been deprecated. Use DataFrame.map instead.\n",
      "  frame = frame.applymap(lambda x: x.split(' - price: ')[1].strip()\n",
      "c:\\Users\\maxbr\\OneDrive\\Desktop\\CLVSim\\CLVSim\\CLV Sim\\Sim\\features.py:65: FutureWarning: DataFrame.applymap has been deprecated. Use DataFrame.map instead.\n",
      "  frame = frame.applymap(lambda x: x.split(' - price: ')[1].strip()\n"
     ]
    },
    {
     "name": "stdout",
     "output_type": "stream",
     "text": [
      "395\n",
      "1/1 [==============================] - 0s 102ms/step\n"
     ]
    },
    {
     "name": "stderr",
     "output_type": "stream",
     "text": [
      "c:\\Users\\maxbr\\OneDrive\\Desktop\\CLVSim\\CLVSim\\CLV Sim\\Sim\\features.py:65: FutureWarning: DataFrame.applymap has been deprecated. Use DataFrame.map instead.\n",
      "  frame = frame.applymap(lambda x: x.split(' - price: ')[1].strip()\n",
      "c:\\Users\\maxbr\\OneDrive\\Desktop\\CLVSim\\CLVSim\\CLV Sim\\Sim\\features.py:65: FutureWarning: DataFrame.applymap has been deprecated. Use DataFrame.map instead.\n",
      "  frame = frame.applymap(lambda x: x.split(' - price: ')[1].strip()\n"
     ]
    },
    {
     "name": "stdout",
     "output_type": "stream",
     "text": [
      "1/1 [==============================] - 0s 16ms/step\n",
      "396\n",
      "1/1 [==============================] - 0s 94ms/step\n",
      "1/1 [==============================] - 0s 31ms/step\n"
     ]
    },
    {
     "name": "stderr",
     "output_type": "stream",
     "text": [
      "c:\\Users\\maxbr\\OneDrive\\Desktop\\CLVSim\\CLVSim\\CLV Sim\\Sim\\features.py:65: FutureWarning: DataFrame.applymap has been deprecated. Use DataFrame.map instead.\n",
      "  frame = frame.applymap(lambda x: x.split(' - price: ')[1].strip()\n",
      "c:\\Users\\maxbr\\OneDrive\\Desktop\\CLVSim\\CLVSim\\CLV Sim\\Sim\\features.py:65: FutureWarning: DataFrame.applymap has been deprecated. Use DataFrame.map instead.\n",
      "  frame = frame.applymap(lambda x: x.split(' - price: ')[1].strip()\n"
     ]
    },
    {
     "name": "stdout",
     "output_type": "stream",
     "text": [
      "397\n",
      "1/1 [==============================] - 0s 97ms/step\n",
      "1/1 [==============================] - ETA: 0s"
     ]
    },
    {
     "name": "stderr",
     "output_type": "stream",
     "text": [
      "c:\\Users\\maxbr\\OneDrive\\Desktop\\CLVSim\\CLVSim\\CLV Sim\\Sim\\features.py:65: FutureWarning: DataFrame.applymap has been deprecated. Use DataFrame.map instead.\n",
      "  frame = frame.applymap(lambda x: x.split(' - price: ')[1].strip()\n",
      "c:\\Users\\maxbr\\OneDrive\\Desktop\\CLVSim\\CLVSim\\CLV Sim\\Sim\\features.py:65: FutureWarning: DataFrame.applymap has been deprecated. Use DataFrame.map instead.\n",
      "  frame = frame.applymap(lambda x: x.split(' - price: ')[1].strip()\n"
     ]
    },
    {
     "name": "stdout",
     "output_type": "stream",
     "text": [
      "1/1 [==============================] - 0s 22ms/step\n",
      "398\n",
      "1/1 [==============================] - 0s 84ms/step\n",
      "1/1 [==============================] - ETA: 0s"
     ]
    },
    {
     "name": "stderr",
     "output_type": "stream",
     "text": [
      "c:\\Users\\maxbr\\OneDrive\\Desktop\\CLVSim\\CLVSim\\CLV Sim\\Sim\\features.py:65: FutureWarning: DataFrame.applymap has been deprecated. Use DataFrame.map instead.\n",
      "  frame = frame.applymap(lambda x: x.split(' - price: ')[1].strip()\n",
      "c:\\Users\\maxbr\\OneDrive\\Desktop\\CLVSim\\CLVSim\\CLV Sim\\Sim\\features.py:65: FutureWarning: DataFrame.applymap has been deprecated. Use DataFrame.map instead.\n",
      "  frame = frame.applymap(lambda x: x.split(' - price: ')[1].strip()\n"
     ]
    },
    {
     "name": "stdout",
     "output_type": "stream",
     "text": [
      "1/1 [==============================] - 0s 16ms/step\n",
      "399\n",
      "1/1 [==============================] - 0s 84ms/step\n",
      "1/1 [==============================] - 0s 22ms/step\n"
     ]
    },
    {
     "name": "stderr",
     "output_type": "stream",
     "text": [
      "c:\\Users\\maxbr\\OneDrive\\Desktop\\CLVSim\\CLVSim\\CLV Sim\\Sim\\features.py:65: FutureWarning: DataFrame.applymap has been deprecated. Use DataFrame.map instead.\n",
      "  frame = frame.applymap(lambda x: x.split(' - price: ')[1].strip()\n",
      "c:\\Users\\maxbr\\OneDrive\\Desktop\\CLVSim\\CLVSim\\CLV Sim\\Sim\\features.py:65: FutureWarning: DataFrame.applymap has been deprecated. Use DataFrame.map instead.\n",
      "  frame = frame.applymap(lambda x: x.split(' - price: ')[1].strip()\n"
     ]
    },
    {
     "name": "stdout",
     "output_type": "stream",
     "text": [
      "400\n",
      "1/1 [==============================] - 0s 82ms/step\n",
      "1/1 [==============================] - 0s 31ms/step\n"
     ]
    },
    {
     "name": "stderr",
     "output_type": "stream",
     "text": [
      "c:\\Users\\maxbr\\OneDrive\\Desktop\\CLVSim\\CLVSim\\CLV Sim\\Sim\\features.py:65: FutureWarning: DataFrame.applymap has been deprecated. Use DataFrame.map instead.\n",
      "  frame = frame.applymap(lambda x: x.split(' - price: ')[1].strip()\n",
      "c:\\Users\\maxbr\\OneDrive\\Desktop\\CLVSim\\CLVSim\\CLV Sim\\Sim\\features.py:65: FutureWarning: DataFrame.applymap has been deprecated. Use DataFrame.map instead.\n",
      "  frame = frame.applymap(lambda x: x.split(' - price: ')[1].strip()\n"
     ]
    },
    {
     "name": "stdout",
     "output_type": "stream",
     "text": [
      "401\n",
      "1/1 [==============================] - 0s 94ms/step\n",
      "1/1 [==============================] - 0s 16ms/step\n"
     ]
    },
    {
     "name": "stderr",
     "output_type": "stream",
     "text": [
      "c:\\Users\\maxbr\\OneDrive\\Desktop\\CLVSim\\CLVSim\\CLV Sim\\Sim\\features.py:65: FutureWarning: DataFrame.applymap has been deprecated. Use DataFrame.map instead.\n",
      "  frame = frame.applymap(lambda x: x.split(' - price: ')[1].strip()\n",
      "c:\\Users\\maxbr\\OneDrive\\Desktop\\CLVSim\\CLVSim\\CLV Sim\\Sim\\features.py:65: FutureWarning: DataFrame.applymap has been deprecated. Use DataFrame.map instead.\n",
      "  frame = frame.applymap(lambda x: x.split(' - price: ')[1].strip()\n"
     ]
    },
    {
     "name": "stdout",
     "output_type": "stream",
     "text": [
      "402\n",
      "1/1 [==============================] - 0s 85ms/step\n"
     ]
    },
    {
     "name": "stderr",
     "output_type": "stream",
     "text": [
      "c:\\Users\\maxbr\\OneDrive\\Desktop\\CLVSim\\CLVSim\\CLV Sim\\Sim\\features.py:65: FutureWarning: DataFrame.applymap has been deprecated. Use DataFrame.map instead.\n",
      "  frame = frame.applymap(lambda x: x.split(' - price: ')[1].strip()\n",
      "c:\\Users\\maxbr\\OneDrive\\Desktop\\CLVSim\\CLVSim\\CLV Sim\\Sim\\features.py:65: FutureWarning: DataFrame.applymap has been deprecated. Use DataFrame.map instead.\n",
      "  frame = frame.applymap(lambda x: x.split(' - price: ')[1].strip()\n"
     ]
    },
    {
     "name": "stdout",
     "output_type": "stream",
     "text": [
      "1/1 [==============================] - 0s 16ms/step\n",
      "403\n",
      "1/1 [==============================] - 0s 85ms/step\n",
      "1/1 [==============================] - 0s 16ms/step\n"
     ]
    },
    {
     "name": "stderr",
     "output_type": "stream",
     "text": [
      "c:\\Users\\maxbr\\OneDrive\\Desktop\\CLVSim\\CLVSim\\CLV Sim\\Sim\\features.py:65: FutureWarning: DataFrame.applymap has been deprecated. Use DataFrame.map instead.\n",
      "  frame = frame.applymap(lambda x: x.split(' - price: ')[1].strip()\n",
      "c:\\Users\\maxbr\\OneDrive\\Desktop\\CLVSim\\CLVSim\\CLV Sim\\Sim\\features.py:65: FutureWarning: DataFrame.applymap has been deprecated. Use DataFrame.map instead.\n",
      "  frame = frame.applymap(lambda x: x.split(' - price: ')[1].strip()\n"
     ]
    },
    {
     "name": "stdout",
     "output_type": "stream",
     "text": [
      "404\n",
      "1/1 [==============================] - 0s 96ms/step\n",
      "1/1 [==============================] - ETA: 0s"
     ]
    },
    {
     "name": "stderr",
     "output_type": "stream",
     "text": [
      "c:\\Users\\maxbr\\OneDrive\\Desktop\\CLVSim\\CLVSim\\CLV Sim\\Sim\\features.py:65: FutureWarning: DataFrame.applymap has been deprecated. Use DataFrame.map instead.\n",
      "  frame = frame.applymap(lambda x: x.split(' - price: ')[1].strip()\n",
      "c:\\Users\\maxbr\\OneDrive\\Desktop\\CLVSim\\CLVSim\\CLV Sim\\Sim\\features.py:65: FutureWarning: DataFrame.applymap has been deprecated. Use DataFrame.map instead.\n",
      "  frame = frame.applymap(lambda x: x.split(' - price: ')[1].strip()\n"
     ]
    },
    {
     "name": "stdout",
     "output_type": "stream",
     "text": [
      "1/1 [==============================] - 0s 16ms/step\n",
      "405\n",
      "1/1 [==============================] - 0s 90ms/step\n",
      "1/1 [==============================] - 0s 16ms/step\n"
     ]
    },
    {
     "name": "stderr",
     "output_type": "stream",
     "text": [
      "c:\\Users\\maxbr\\OneDrive\\Desktop\\CLVSim\\CLVSim\\CLV Sim\\Sim\\features.py:65: FutureWarning: DataFrame.applymap has been deprecated. Use DataFrame.map instead.\n",
      "  frame = frame.applymap(lambda x: x.split(' - price: ')[1].strip()\n",
      "c:\\Users\\maxbr\\OneDrive\\Desktop\\CLVSim\\CLVSim\\CLV Sim\\Sim\\features.py:65: FutureWarning: DataFrame.applymap has been deprecated. Use DataFrame.map instead.\n",
      "  frame = frame.applymap(lambda x: x.split(' - price: ')[1].strip()\n"
     ]
    },
    {
     "name": "stdout",
     "output_type": "stream",
     "text": [
      "406\n",
      "1/1 [==============================] - 0s 99ms/step\n",
      "1/1 [==============================] - 0s 16ms/step\n"
     ]
    },
    {
     "name": "stderr",
     "output_type": "stream",
     "text": [
      "c:\\Users\\maxbr\\OneDrive\\Desktop\\CLVSim\\CLVSim\\CLV Sim\\Sim\\features.py:65: FutureWarning: DataFrame.applymap has been deprecated. Use DataFrame.map instead.\n",
      "  frame = frame.applymap(lambda x: x.split(' - price: ')[1].strip()\n",
      "c:\\Users\\maxbr\\OneDrive\\Desktop\\CLVSim\\CLVSim\\CLV Sim\\Sim\\features.py:65: FutureWarning: DataFrame.applymap has been deprecated. Use DataFrame.map instead.\n",
      "  frame = frame.applymap(lambda x: x.split(' - price: ')[1].strip()\n"
     ]
    },
    {
     "name": "stdout",
     "output_type": "stream",
     "text": [
      "407\n",
      "1/1 [==============================] - 0s 84ms/step\n"
     ]
    },
    {
     "name": "stderr",
     "output_type": "stream",
     "text": [
      "c:\\Users\\maxbr\\OneDrive\\Desktop\\CLVSim\\CLVSim\\CLV Sim\\Sim\\features.py:65: FutureWarning: DataFrame.applymap has been deprecated. Use DataFrame.map instead.\n",
      "  frame = frame.applymap(lambda x: x.split(' - price: ')[1].strip()\n",
      "c:\\Users\\maxbr\\OneDrive\\Desktop\\CLVSim\\CLVSim\\CLV Sim\\Sim\\features.py:65: FutureWarning: DataFrame.applymap has been deprecated. Use DataFrame.map instead.\n",
      "  frame = frame.applymap(lambda x: x.split(' - price: ')[1].strip()\n"
     ]
    },
    {
     "name": "stdout",
     "output_type": "stream",
     "text": [
      "1/1 [==============================] - 0s 16ms/step\n",
      "408\n",
      "1/1 [==============================] - 0s 84ms/step\n",
      "1/1 [==============================] - 0s 16ms/step\n"
     ]
    },
    {
     "name": "stderr",
     "output_type": "stream",
     "text": [
      "c:\\Users\\maxbr\\OneDrive\\Desktop\\CLVSim\\CLVSim\\CLV Sim\\Sim\\features.py:65: FutureWarning: DataFrame.applymap has been deprecated. Use DataFrame.map instead.\n",
      "  frame = frame.applymap(lambda x: x.split(' - price: ')[1].strip()\n",
      "c:\\Users\\maxbr\\OneDrive\\Desktop\\CLVSim\\CLVSim\\CLV Sim\\Sim\\features.py:65: FutureWarning: DataFrame.applymap has been deprecated. Use DataFrame.map instead.\n",
      "  frame = frame.applymap(lambda x: x.split(' - price: ')[1].strip()\n"
     ]
    },
    {
     "name": "stdout",
     "output_type": "stream",
     "text": [
      "409\n",
      "1/1 [==============================] - 0s 100ms/step\n",
      "1/1 [==============================] - ETA: 0s"
     ]
    },
    {
     "name": "stderr",
     "output_type": "stream",
     "text": [
      "c:\\Users\\maxbr\\OneDrive\\Desktop\\CLVSim\\CLVSim\\CLV Sim\\Sim\\features.py:65: FutureWarning: DataFrame.applymap has been deprecated. Use DataFrame.map instead.\n",
      "  frame = frame.applymap(lambda x: x.split(' - price: ')[1].strip()\n",
      "c:\\Users\\maxbr\\OneDrive\\Desktop\\CLVSim\\CLVSim\\CLV Sim\\Sim\\features.py:65: FutureWarning: DataFrame.applymap has been deprecated. Use DataFrame.map instead.\n",
      "  frame = frame.applymap(lambda x: x.split(' - price: ')[1].strip()\n"
     ]
    },
    {
     "name": "stdout",
     "output_type": "stream",
     "text": [
      "1/1 [==============================] - 0s 4ms/step\n",
      "410\n",
      "1/1 [==============================] - 0s 87ms/step\n",
      "1/1 [==============================] - 0s 24ms/step\n"
     ]
    },
    {
     "name": "stderr",
     "output_type": "stream",
     "text": [
      "c:\\Users\\maxbr\\OneDrive\\Desktop\\CLVSim\\CLVSim\\CLV Sim\\Sim\\features.py:65: FutureWarning: DataFrame.applymap has been deprecated. Use DataFrame.map instead.\n",
      "  frame = frame.applymap(lambda x: x.split(' - price: ')[1].strip()\n",
      "c:\\Users\\maxbr\\OneDrive\\Desktop\\CLVSim\\CLVSim\\CLV Sim\\Sim\\features.py:65: FutureWarning: DataFrame.applymap has been deprecated. Use DataFrame.map instead.\n",
      "  frame = frame.applymap(lambda x: x.split(' - price: ')[1].strip()\n"
     ]
    },
    {
     "name": "stdout",
     "output_type": "stream",
     "text": [
      "411\n",
      "1/1 [==============================] - 0s 78ms/step\n",
      "1/1 [==============================] - ETA: 0s"
     ]
    },
    {
     "name": "stderr",
     "output_type": "stream",
     "text": [
      "c:\\Users\\maxbr\\OneDrive\\Desktop\\CLVSim\\CLVSim\\CLV Sim\\Sim\\features.py:65: FutureWarning: DataFrame.applymap has been deprecated. Use DataFrame.map instead.\n",
      "  frame = frame.applymap(lambda x: x.split(' - price: ')[1].strip()\n",
      "c:\\Users\\maxbr\\OneDrive\\Desktop\\CLVSim\\CLVSim\\CLV Sim\\Sim\\features.py:65: FutureWarning: DataFrame.applymap has been deprecated. Use DataFrame.map instead.\n",
      "  frame = frame.applymap(lambda x: x.split(' - price: ')[1].strip()\n"
     ]
    },
    {
     "name": "stdout",
     "output_type": "stream",
     "text": [
      "1/1 [==============================] - 0s 18ms/step\n",
      "412\n",
      "1/1 [==============================] - 0s 89ms/step\n",
      "1/1 [==============================] - ETA: 0s"
     ]
    },
    {
     "name": "stderr",
     "output_type": "stream",
     "text": [
      "c:\\Users\\maxbr\\OneDrive\\Desktop\\CLVSim\\CLVSim\\CLV Sim\\Sim\\features.py:65: FutureWarning: DataFrame.applymap has been deprecated. Use DataFrame.map instead.\n",
      "  frame = frame.applymap(lambda x: x.split(' - price: ')[1].strip()\n",
      "c:\\Users\\maxbr\\OneDrive\\Desktop\\CLVSim\\CLVSim\\CLV Sim\\Sim\\features.py:65: FutureWarning: DataFrame.applymap has been deprecated. Use DataFrame.map instead.\n",
      "  frame = frame.applymap(lambda x: x.split(' - price: ')[1].strip()\n"
     ]
    },
    {
     "name": "stdout",
     "output_type": "stream",
     "text": [
      "1/1 [==============================] - 0s 20ms/step\n",
      "413\n",
      "1/1 [==============================] - 0s 85ms/step\n",
      "1/1 [==============================] - 0s 18ms/step\n"
     ]
    },
    {
     "name": "stderr",
     "output_type": "stream",
     "text": [
      "c:\\Users\\maxbr\\OneDrive\\Desktop\\CLVSim\\CLVSim\\CLV Sim\\Sim\\features.py:65: FutureWarning: DataFrame.applymap has been deprecated. Use DataFrame.map instead.\n",
      "  frame = frame.applymap(lambda x: x.split(' - price: ')[1].strip()\n",
      "c:\\Users\\maxbr\\OneDrive\\Desktop\\CLVSim\\CLVSim\\CLV Sim\\Sim\\features.py:65: FutureWarning: DataFrame.applymap has been deprecated. Use DataFrame.map instead.\n",
      "  frame = frame.applymap(lambda x: x.split(' - price: ')[1].strip()\n"
     ]
    },
    {
     "name": "stdout",
     "output_type": "stream",
     "text": [
      "414\n",
      "1/1 [==============================] - 0s 99ms/step\n",
      "1/1 [==============================] - ETA: 0s"
     ]
    },
    {
     "name": "stderr",
     "output_type": "stream",
     "text": [
      "c:\\Users\\maxbr\\OneDrive\\Desktop\\CLVSim\\CLVSim\\CLV Sim\\Sim\\features.py:65: FutureWarning: DataFrame.applymap has been deprecated. Use DataFrame.map instead.\n",
      "  frame = frame.applymap(lambda x: x.split(' - price: ')[1].strip()\n",
      "c:\\Users\\maxbr\\OneDrive\\Desktop\\CLVSim\\CLVSim\\CLV Sim\\Sim\\features.py:65: FutureWarning: DataFrame.applymap has been deprecated. Use DataFrame.map instead.\n",
      "  frame = frame.applymap(lambda x: x.split(' - price: ')[1].strip()\n"
     ]
    },
    {
     "name": "stdout",
     "output_type": "stream",
     "text": [
      "1/1 [==============================] - 0s 18ms/step\n",
      "415\n",
      "1/1 [==============================] - 0s 82ms/step\n",
      "1/1 [==============================] - ETA: 0s"
     ]
    },
    {
     "name": "stderr",
     "output_type": "stream",
     "text": [
      "c:\\Users\\maxbr\\OneDrive\\Desktop\\CLVSim\\CLVSim\\CLV Sim\\Sim\\features.py:65: FutureWarning: DataFrame.applymap has been deprecated. Use DataFrame.map instead.\n",
      "  frame = frame.applymap(lambda x: x.split(' - price: ')[1].strip()\n",
      "c:\\Users\\maxbr\\OneDrive\\Desktop\\CLVSim\\CLVSim\\CLV Sim\\Sim\\features.py:65: FutureWarning: DataFrame.applymap has been deprecated. Use DataFrame.map instead.\n",
      "  frame = frame.applymap(lambda x: x.split(' - price: ')[1].strip()\n"
     ]
    },
    {
     "name": "stdout",
     "output_type": "stream",
     "text": [
      "1/1 [==============================] - 0s 20ms/step\n",
      "416\n",
      "1/1 [==============================] - 0s 98ms/step\n",
      "1/1 [==============================] - 0s 21ms/step\n"
     ]
    },
    {
     "name": "stderr",
     "output_type": "stream",
     "text": [
      "c:\\Users\\maxbr\\OneDrive\\Desktop\\CLVSim\\CLVSim\\CLV Sim\\Sim\\features.py:65: FutureWarning: DataFrame.applymap has been deprecated. Use DataFrame.map instead.\n",
      "  frame = frame.applymap(lambda x: x.split(' - price: ')[1].strip()\n",
      "c:\\Users\\maxbr\\OneDrive\\Desktop\\CLVSim\\CLVSim\\CLV Sim\\Sim\\features.py:65: FutureWarning: DataFrame.applymap has been deprecated. Use DataFrame.map instead.\n",
      "  frame = frame.applymap(lambda x: x.split(' - price: ')[1].strip()\n"
     ]
    },
    {
     "name": "stdout",
     "output_type": "stream",
     "text": [
      "417\n",
      "1/1 [==============================] - 0s 91ms/step\n",
      "1/1 [==============================] - 0s 22ms/step\n"
     ]
    },
    {
     "name": "stderr",
     "output_type": "stream",
     "text": [
      "c:\\Users\\maxbr\\OneDrive\\Desktop\\CLVSim\\CLVSim\\CLV Sim\\Sim\\features.py:65: FutureWarning: DataFrame.applymap has been deprecated. Use DataFrame.map instead.\n",
      "  frame = frame.applymap(lambda x: x.split(' - price: ')[1].strip()\n",
      "c:\\Users\\maxbr\\OneDrive\\Desktop\\CLVSim\\CLVSim\\CLV Sim\\Sim\\features.py:65: FutureWarning: DataFrame.applymap has been deprecated. Use DataFrame.map instead.\n",
      "  frame = frame.applymap(lambda x: x.split(' - price: ')[1].strip()\n"
     ]
    },
    {
     "name": "stdout",
     "output_type": "stream",
     "text": [
      "418\n",
      "1/1 [==============================] - 0s 76ms/step\n",
      "1/1 [==============================] - 0s 21ms/step\n"
     ]
    },
    {
     "name": "stderr",
     "output_type": "stream",
     "text": [
      "c:\\Users\\maxbr\\OneDrive\\Desktop\\CLVSim\\CLVSim\\CLV Sim\\Sim\\features.py:65: FutureWarning: DataFrame.applymap has been deprecated. Use DataFrame.map instead.\n",
      "  frame = frame.applymap(lambda x: x.split(' - price: ')[1].strip()\n",
      "c:\\Users\\maxbr\\OneDrive\\Desktop\\CLVSim\\CLVSim\\CLV Sim\\Sim\\features.py:65: FutureWarning: DataFrame.applymap has been deprecated. Use DataFrame.map instead.\n",
      "  frame = frame.applymap(lambda x: x.split(' - price: ')[1].strip()\n"
     ]
    },
    {
     "name": "stdout",
     "output_type": "stream",
     "text": [
      "419\n",
      "1/1 [==============================] - 0s 89ms/step\n"
     ]
    },
    {
     "name": "stderr",
     "output_type": "stream",
     "text": [
      "c:\\Users\\maxbr\\OneDrive\\Desktop\\CLVSim\\CLVSim\\CLV Sim\\Sim\\features.py:65: FutureWarning: DataFrame.applymap has been deprecated. Use DataFrame.map instead.\n",
      "  frame = frame.applymap(lambda x: x.split(' - price: ')[1].strip()\n",
      "c:\\Users\\maxbr\\OneDrive\\Desktop\\CLVSim\\CLVSim\\CLV Sim\\Sim\\features.py:65: FutureWarning: DataFrame.applymap has been deprecated. Use DataFrame.map instead.\n",
      "  frame = frame.applymap(lambda x: x.split(' - price: ')[1].strip()\n"
     ]
    },
    {
     "name": "stdout",
     "output_type": "stream",
     "text": [
      "1/1 [==============================] - 0s 20ms/step\n",
      "420\n",
      "1/1 [==============================] - 0s 86ms/step\n",
      "1/1 [==============================] - 0s 20ms/step\n"
     ]
    },
    {
     "name": "stderr",
     "output_type": "stream",
     "text": [
      "c:\\Users\\maxbr\\OneDrive\\Desktop\\CLVSim\\CLVSim\\CLV Sim\\Sim\\features.py:65: FutureWarning: DataFrame.applymap has been deprecated. Use DataFrame.map instead.\n",
      "  frame = frame.applymap(lambda x: x.split(' - price: ')[1].strip()\n",
      "c:\\Users\\maxbr\\OneDrive\\Desktop\\CLVSim\\CLVSim\\CLV Sim\\Sim\\features.py:65: FutureWarning: DataFrame.applymap has been deprecated. Use DataFrame.map instead.\n",
      "  frame = frame.applymap(lambda x: x.split(' - price: ')[1].strip()\n"
     ]
    },
    {
     "name": "stdout",
     "output_type": "stream",
     "text": [
      "421\n",
      "1/1 [==============================] - 0s 86ms/step\n",
      "1/1 [==============================] - 0s 22ms/step\n"
     ]
    },
    {
     "name": "stderr",
     "output_type": "stream",
     "text": [
      "c:\\Users\\maxbr\\OneDrive\\Desktop\\CLVSim\\CLVSim\\CLV Sim\\Sim\\features.py:65: FutureWarning: DataFrame.applymap has been deprecated. Use DataFrame.map instead.\n",
      "  frame = frame.applymap(lambda x: x.split(' - price: ')[1].strip()\n",
      "c:\\Users\\maxbr\\OneDrive\\Desktop\\CLVSim\\CLVSim\\CLV Sim\\Sim\\features.py:65: FutureWarning: DataFrame.applymap has been deprecated. Use DataFrame.map instead.\n",
      "  frame = frame.applymap(lambda x: x.split(' - price: ')[1].strip()\n"
     ]
    },
    {
     "name": "stdout",
     "output_type": "stream",
     "text": [
      "422\n",
      "1/1 [==============================] - 0s 98ms/step\n",
      "1/1 [==============================] - 0s 16ms/step\n"
     ]
    },
    {
     "name": "stderr",
     "output_type": "stream",
     "text": [
      "c:\\Users\\maxbr\\OneDrive\\Desktop\\CLVSim\\CLVSim\\CLV Sim\\Sim\\features.py:65: FutureWarning: DataFrame.applymap has been deprecated. Use DataFrame.map instead.\n",
      "  frame = frame.applymap(lambda x: x.split(' - price: ')[1].strip()\n",
      "c:\\Users\\maxbr\\OneDrive\\Desktop\\CLVSim\\CLVSim\\CLV Sim\\Sim\\features.py:65: FutureWarning: DataFrame.applymap has been deprecated. Use DataFrame.map instead.\n",
      "  frame = frame.applymap(lambda x: x.split(' - price: ')[1].strip()\n"
     ]
    },
    {
     "name": "stdout",
     "output_type": "stream",
     "text": [
      "423\n",
      "1/1 [==============================] - 0s 85ms/step\n",
      "1/1 [==============================] - ETA: 0s"
     ]
    },
    {
     "name": "stderr",
     "output_type": "stream",
     "text": [
      "c:\\Users\\maxbr\\OneDrive\\Desktop\\CLVSim\\CLVSim\\CLV Sim\\Sim\\features.py:65: FutureWarning: DataFrame.applymap has been deprecated. Use DataFrame.map instead.\n",
      "  frame = frame.applymap(lambda x: x.split(' - price: ')[1].strip()\n",
      "c:\\Users\\maxbr\\OneDrive\\Desktop\\CLVSim\\CLVSim\\CLV Sim\\Sim\\features.py:65: FutureWarning: DataFrame.applymap has been deprecated. Use DataFrame.map instead.\n",
      "  frame = frame.applymap(lambda x: x.split(' - price: ')[1].strip()\n"
     ]
    },
    {
     "name": "stdout",
     "output_type": "stream",
     "text": [
      "1/1 [==============================] - 0s 21ms/step\n",
      "424\n",
      "1/1 [==============================] - 0s 73ms/step\n",
      "1/1 [==============================] - ETA: 0s"
     ]
    },
    {
     "name": "stderr",
     "output_type": "stream",
     "text": [
      "c:\\Users\\maxbr\\OneDrive\\Desktop\\CLVSim\\CLVSim\\CLV Sim\\Sim\\features.py:65: FutureWarning: DataFrame.applymap has been deprecated. Use DataFrame.map instead.\n",
      "  frame = frame.applymap(lambda x: x.split(' - price: ')[1].strip()\n",
      "c:\\Users\\maxbr\\OneDrive\\Desktop\\CLVSim\\CLVSim\\CLV Sim\\Sim\\features.py:65: FutureWarning: DataFrame.applymap has been deprecated. Use DataFrame.map instead.\n",
      "  frame = frame.applymap(lambda x: x.split(' - price: ')[1].strip()\n"
     ]
    },
    {
     "name": "stdout",
     "output_type": "stream",
     "text": [
      "1/1 [==============================] - 0s 21ms/step\n",
      "425\n",
      "1/1 [==============================] - 0s 85ms/step\n",
      "1/1 [==============================] - 0s 22ms/step\n"
     ]
    },
    {
     "name": "stderr",
     "output_type": "stream",
     "text": [
      "c:\\Users\\maxbr\\OneDrive\\Desktop\\CLVSim\\CLVSim\\CLV Sim\\Sim\\features.py:65: FutureWarning: DataFrame.applymap has been deprecated. Use DataFrame.map instead.\n",
      "  frame = frame.applymap(lambda x: x.split(' - price: ')[1].strip()\n",
      "c:\\Users\\maxbr\\OneDrive\\Desktop\\CLVSim\\CLVSim\\CLV Sim\\Sim\\features.py:65: FutureWarning: DataFrame.applymap has been deprecated. Use DataFrame.map instead.\n",
      "  frame = frame.applymap(lambda x: x.split(' - price: ')[1].strip()\n"
     ]
    },
    {
     "name": "stdout",
     "output_type": "stream",
     "text": [
      "426\n",
      "1/1 [==============================] - 0s 82ms/step\n"
     ]
    },
    {
     "name": "stderr",
     "output_type": "stream",
     "text": [
      "c:\\Users\\maxbr\\OneDrive\\Desktop\\CLVSim\\CLVSim\\CLV Sim\\Sim\\features.py:65: FutureWarning: DataFrame.applymap has been deprecated. Use DataFrame.map instead.\n",
      "  frame = frame.applymap(lambda x: x.split(' - price: ')[1].strip()\n",
      "c:\\Users\\maxbr\\OneDrive\\Desktop\\CLVSim\\CLVSim\\CLV Sim\\Sim\\features.py:65: FutureWarning: DataFrame.applymap has been deprecated. Use DataFrame.map instead.\n",
      "  frame = frame.applymap(lambda x: x.split(' - price: ')[1].strip()\n"
     ]
    },
    {
     "name": "stdout",
     "output_type": "stream",
     "text": [
      "1/1 [==============================] - 0s 16ms/step\n",
      "427\n",
      "1/1 [==============================] - 0s 88ms/step\n",
      "1/1 [==============================] - ETA: 0s"
     ]
    },
    {
     "name": "stderr",
     "output_type": "stream",
     "text": [
      "c:\\Users\\maxbr\\OneDrive\\Desktop\\CLVSim\\CLVSim\\CLV Sim\\Sim\\features.py:65: FutureWarning: DataFrame.applymap has been deprecated. Use DataFrame.map instead.\n",
      "  frame = frame.applymap(lambda x: x.split(' - price: ')[1].strip()\n",
      "c:\\Users\\maxbr\\OneDrive\\Desktop\\CLVSim\\CLVSim\\CLV Sim\\Sim\\features.py:65: FutureWarning: DataFrame.applymap has been deprecated. Use DataFrame.map instead.\n",
      "  frame = frame.applymap(lambda x: x.split(' - price: ')[1].strip()\n"
     ]
    },
    {
     "name": "stdout",
     "output_type": "stream",
     "text": [
      "1/1 [==============================] - 0s 21ms/step\n",
      "428\n",
      "1/1 [==============================] - 0s 91ms/step\n",
      "1/1 [==============================] - ETA: 0s"
     ]
    },
    {
     "name": "stderr",
     "output_type": "stream",
     "text": [
      "c:\\Users\\maxbr\\OneDrive\\Desktop\\CLVSim\\CLVSim\\CLV Sim\\Sim\\features.py:65: FutureWarning: DataFrame.applymap has been deprecated. Use DataFrame.map instead.\n",
      "  frame = frame.applymap(lambda x: x.split(' - price: ')[1].strip()\n",
      "c:\\Users\\maxbr\\OneDrive\\Desktop\\CLVSim\\CLVSim\\CLV Sim\\Sim\\features.py:65: FutureWarning: DataFrame.applymap has been deprecated. Use DataFrame.map instead.\n",
      "  frame = frame.applymap(lambda x: x.split(' - price: ')[1].strip()\n"
     ]
    },
    {
     "name": "stdout",
     "output_type": "stream",
     "text": [
      "1/1 [==============================] - 0s 20ms/step\n",
      "429\n",
      "1/1 [==============================] - 0s 86ms/step\n",
      "1/1 [==============================] - 0s 16ms/step\n"
     ]
    },
    {
     "name": "stderr",
     "output_type": "stream",
     "text": [
      "c:\\Users\\maxbr\\OneDrive\\Desktop\\CLVSim\\CLVSim\\CLV Sim\\Sim\\features.py:65: FutureWarning: DataFrame.applymap has been deprecated. Use DataFrame.map instead.\n",
      "  frame = frame.applymap(lambda x: x.split(' - price: ')[1].strip()\n",
      "c:\\Users\\maxbr\\OneDrive\\Desktop\\CLVSim\\CLVSim\\CLV Sim\\Sim\\features.py:65: FutureWarning: DataFrame.applymap has been deprecated. Use DataFrame.map instead.\n",
      "  frame = frame.applymap(lambda x: x.split(' - price: ')[1].strip()\n"
     ]
    },
    {
     "name": "stdout",
     "output_type": "stream",
     "text": [
      "430\n",
      "1/1 [==============================] - 0s 100ms/step\n"
     ]
    },
    {
     "name": "stderr",
     "output_type": "stream",
     "text": [
      "c:\\Users\\maxbr\\OneDrive\\Desktop\\CLVSim\\CLVSim\\CLV Sim\\Sim\\features.py:65: FutureWarning: DataFrame.applymap has been deprecated. Use DataFrame.map instead.\n",
      "  frame = frame.applymap(lambda x: x.split(' - price: ')[1].strip()\n",
      "c:\\Users\\maxbr\\OneDrive\\Desktop\\CLVSim\\CLVSim\\CLV Sim\\Sim\\features.py:65: FutureWarning: DataFrame.applymap has been deprecated. Use DataFrame.map instead.\n",
      "  frame = frame.applymap(lambda x: x.split(' - price: ')[1].strip()\n"
     ]
    },
    {
     "name": "stdout",
     "output_type": "stream",
     "text": [
      "1/1 [==============================] - 0s 16ms/step\n",
      "431\n",
      "1/1 [==============================] - 0s 84ms/step\n",
      "1/1 [==============================] - ETA: 0s"
     ]
    },
    {
     "name": "stderr",
     "output_type": "stream",
     "text": [
      "c:\\Users\\maxbr\\OneDrive\\Desktop\\CLVSim\\CLVSim\\CLV Sim\\Sim\\features.py:65: FutureWarning: DataFrame.applymap has been deprecated. Use DataFrame.map instead.\n",
      "  frame = frame.applymap(lambda x: x.split(' - price: ')[1].strip()\n",
      "c:\\Users\\maxbr\\OneDrive\\Desktop\\CLVSim\\CLVSim\\CLV Sim\\Sim\\features.py:65: FutureWarning: DataFrame.applymap has been deprecated. Use DataFrame.map instead.\n",
      "  frame = frame.applymap(lambda x: x.split(' - price: ')[1].strip()\n"
     ]
    },
    {
     "name": "stdout",
     "output_type": "stream",
     "text": [
      "1/1 [==============================] - 0s 25ms/step\n",
      "432\n",
      "1/1 [==============================] - 0s 89ms/step\n",
      "1/1 [==============================] - 0s 19ms/step\n"
     ]
    },
    {
     "name": "stderr",
     "output_type": "stream",
     "text": [
      "c:\\Users\\maxbr\\OneDrive\\Desktop\\CLVSim\\CLVSim\\CLV Sim\\Sim\\features.py:65: FutureWarning: DataFrame.applymap has been deprecated. Use DataFrame.map instead.\n",
      "  frame = frame.applymap(lambda x: x.split(' - price: ')[1].strip()\n",
      "c:\\Users\\maxbr\\OneDrive\\Desktop\\CLVSim\\CLVSim\\CLV Sim\\Sim\\features.py:65: FutureWarning: DataFrame.applymap has been deprecated. Use DataFrame.map instead.\n",
      "  frame = frame.applymap(lambda x: x.split(' - price: ')[1].strip()\n"
     ]
    },
    {
     "name": "stdout",
     "output_type": "stream",
     "text": [
      "433\n",
      "1/1 [==============================] - 0s 74ms/step\n",
      "1/1 [==============================] - 0s 16ms/step\n"
     ]
    },
    {
     "name": "stderr",
     "output_type": "stream",
     "text": [
      "c:\\Users\\maxbr\\OneDrive\\Desktop\\CLVSim\\CLVSim\\CLV Sim\\Sim\\features.py:65: FutureWarning: DataFrame.applymap has been deprecated. Use DataFrame.map instead.\n",
      "  frame = frame.applymap(lambda x: x.split(' - price: ')[1].strip()\n",
      "c:\\Users\\maxbr\\OneDrive\\Desktop\\CLVSim\\CLVSim\\CLV Sim\\Sim\\features.py:65: FutureWarning: DataFrame.applymap has been deprecated. Use DataFrame.map instead.\n",
      "  frame = frame.applymap(lambda x: x.split(' - price: ')[1].strip()\n"
     ]
    },
    {
     "name": "stdout",
     "output_type": "stream",
     "text": [
      "434\n",
      "1/1 [==============================] - 0s 85ms/step\n"
     ]
    },
    {
     "name": "stderr",
     "output_type": "stream",
     "text": [
      "c:\\Users\\maxbr\\OneDrive\\Desktop\\CLVSim\\CLVSim\\CLV Sim\\Sim\\features.py:65: FutureWarning: DataFrame.applymap has been deprecated. Use DataFrame.map instead.\n",
      "  frame = frame.applymap(lambda x: x.split(' - price: ')[1].strip()\n",
      "c:\\Users\\maxbr\\OneDrive\\Desktop\\CLVSim\\CLVSim\\CLV Sim\\Sim\\features.py:65: FutureWarning: DataFrame.applymap has been deprecated. Use DataFrame.map instead.\n",
      "  frame = frame.applymap(lambda x: x.split(' - price: ')[1].strip()\n"
     ]
    },
    {
     "name": "stdout",
     "output_type": "stream",
     "text": [
      "1/1 [==============================] - 0s 21ms/step\n",
      "435\n",
      "1/1 [==============================] - 0s 97ms/step\n",
      "1/1 [==============================] - ETA: 0s"
     ]
    },
    {
     "name": "stderr",
     "output_type": "stream",
     "text": [
      "c:\\Users\\maxbr\\OneDrive\\Desktop\\CLVSim\\CLVSim\\CLV Sim\\Sim\\features.py:65: FutureWarning: DataFrame.applymap has been deprecated. Use DataFrame.map instead.\n",
      "  frame = frame.applymap(lambda x: x.split(' - price: ')[1].strip()\n",
      "c:\\Users\\maxbr\\OneDrive\\Desktop\\CLVSim\\CLVSim\\CLV Sim\\Sim\\features.py:65: FutureWarning: DataFrame.applymap has been deprecated. Use DataFrame.map instead.\n",
      "  frame = frame.applymap(lambda x: x.split(' - price: ')[1].strip()\n"
     ]
    },
    {
     "name": "stdout",
     "output_type": "stream",
     "text": [
      "1/1 [==============================] - 0s 16ms/step\n",
      "436\n",
      "1/1 [==============================] - 0s 87ms/step\n",
      "1/1 [==============================] - 0s 16ms/step\n"
     ]
    },
    {
     "name": "stderr",
     "output_type": "stream",
     "text": [
      "c:\\Users\\maxbr\\OneDrive\\Desktop\\CLVSim\\CLVSim\\CLV Sim\\Sim\\features.py:65: FutureWarning: DataFrame.applymap has been deprecated. Use DataFrame.map instead.\n",
      "  frame = frame.applymap(lambda x: x.split(' - price: ')[1].strip()\n",
      "c:\\Users\\maxbr\\OneDrive\\Desktop\\CLVSim\\CLVSim\\CLV Sim\\Sim\\features.py:65: FutureWarning: DataFrame.applymap has been deprecated. Use DataFrame.map instead.\n",
      "  frame = frame.applymap(lambda x: x.split(' - price: ')[1].strip()\n"
     ]
    },
    {
     "name": "stdout",
     "output_type": "stream",
     "text": [
      "437\n",
      "1/1 [==============================] - 0s 94ms/step\n",
      "1/1 [==============================] - ETA: 0s"
     ]
    },
    {
     "name": "stderr",
     "output_type": "stream",
     "text": [
      "c:\\Users\\maxbr\\OneDrive\\Desktop\\CLVSim\\CLVSim\\CLV Sim\\Sim\\features.py:65: FutureWarning: DataFrame.applymap has been deprecated. Use DataFrame.map instead.\n",
      "  frame = frame.applymap(lambda x: x.split(' - price: ')[1].strip()\n",
      "c:\\Users\\maxbr\\OneDrive\\Desktop\\CLVSim\\CLVSim\\CLV Sim\\Sim\\features.py:65: FutureWarning: DataFrame.applymap has been deprecated. Use DataFrame.map instead.\n",
      "  frame = frame.applymap(lambda x: x.split(' - price: ')[1].strip()\n"
     ]
    },
    {
     "name": "stdout",
     "output_type": "stream",
     "text": [
      "1/1 [==============================] - 0s 21ms/step\n",
      "438\n",
      "1/1 [==============================] - 0s 89ms/step\n"
     ]
    },
    {
     "name": "stderr",
     "output_type": "stream",
     "text": [
      "c:\\Users\\maxbr\\OneDrive\\Desktop\\CLVSim\\CLVSim\\CLV Sim\\Sim\\features.py:65: FutureWarning: DataFrame.applymap has been deprecated. Use DataFrame.map instead.\n",
      "  frame = frame.applymap(lambda x: x.split(' - price: ')[1].strip()\n",
      "c:\\Users\\maxbr\\OneDrive\\Desktop\\CLVSim\\CLVSim\\CLV Sim\\Sim\\features.py:65: FutureWarning: DataFrame.applymap has been deprecated. Use DataFrame.map instead.\n",
      "  frame = frame.applymap(lambda x: x.split(' - price: ')[1].strip()\n"
     ]
    },
    {
     "name": "stdout",
     "output_type": "stream",
     "text": [
      "1/1 [==============================] - 0s 22ms/step\n",
      "439\n",
      "1/1 [==============================] - 0s 86ms/step\n"
     ]
    },
    {
     "name": "stderr",
     "output_type": "stream",
     "text": [
      "c:\\Users\\maxbr\\OneDrive\\Desktop\\CLVSim\\CLVSim\\CLV Sim\\Sim\\features.py:65: FutureWarning: DataFrame.applymap has been deprecated. Use DataFrame.map instead.\n",
      "  frame = frame.applymap(lambda x: x.split(' - price: ')[1].strip()\n",
      "c:\\Users\\maxbr\\OneDrive\\Desktop\\CLVSim\\CLVSim\\CLV Sim\\Sim\\features.py:65: FutureWarning: DataFrame.applymap has been deprecated. Use DataFrame.map instead.\n",
      "  frame = frame.applymap(lambda x: x.split(' - price: ')[1].strip()\n"
     ]
    },
    {
     "name": "stdout",
     "output_type": "stream",
     "text": [
      "1/1 [==============================] - 0s 15ms/step\n",
      "440\n",
      "1/1 [==============================] - 0s 80ms/step\n"
     ]
    },
    {
     "name": "stderr",
     "output_type": "stream",
     "text": [
      "c:\\Users\\maxbr\\OneDrive\\Desktop\\CLVSim\\CLVSim\\CLV Sim\\Sim\\features.py:65: FutureWarning: DataFrame.applymap has been deprecated. Use DataFrame.map instead.\n",
      "  frame = frame.applymap(lambda x: x.split(' - price: ')[1].strip()\n",
      "c:\\Users\\maxbr\\OneDrive\\Desktop\\CLVSim\\CLVSim\\CLV Sim\\Sim\\features.py:65: FutureWarning: DataFrame.applymap has been deprecated. Use DataFrame.map instead.\n",
      "  frame = frame.applymap(lambda x: x.split(' - price: ')[1].strip()\n"
     ]
    },
    {
     "name": "stdout",
     "output_type": "stream",
     "text": [
      "1/1 [==============================] - 0s 21ms/step\n",
      "441\n",
      "1/1 [==============================] - 0s 100ms/step\n",
      "1/1 [==============================] - ETA: 0s"
     ]
    },
    {
     "name": "stderr",
     "output_type": "stream",
     "text": [
      "c:\\Users\\maxbr\\OneDrive\\Desktop\\CLVSim\\CLVSim\\CLV Sim\\Sim\\features.py:65: FutureWarning: DataFrame.applymap has been deprecated. Use DataFrame.map instead.\n",
      "  frame = frame.applymap(lambda x: x.split(' - price: ')[1].strip()\n",
      "c:\\Users\\maxbr\\OneDrive\\Desktop\\CLVSim\\CLVSim\\CLV Sim\\Sim\\features.py:65: FutureWarning: DataFrame.applymap has been deprecated. Use DataFrame.map instead.\n",
      "  frame = frame.applymap(lambda x: x.split(' - price: ')[1].strip()\n"
     ]
    },
    {
     "name": "stdout",
     "output_type": "stream",
     "text": [
      "1/1 [==============================] - 0s 20ms/step\n",
      "442\n",
      "1/1 [==============================] - 0s 91ms/step\n",
      "1/1 [==============================] - 0s 12ms/step\n"
     ]
    },
    {
     "name": "stderr",
     "output_type": "stream",
     "text": [
      "c:\\Users\\maxbr\\OneDrive\\Desktop\\CLVSim\\CLVSim\\CLV Sim\\Sim\\features.py:65: FutureWarning: DataFrame.applymap has been deprecated. Use DataFrame.map instead.\n",
      "  frame = frame.applymap(lambda x: x.split(' - price: ')[1].strip()\n",
      "c:\\Users\\maxbr\\OneDrive\\Desktop\\CLVSim\\CLVSim\\CLV Sim\\Sim\\features.py:65: FutureWarning: DataFrame.applymap has been deprecated. Use DataFrame.map instead.\n",
      "  frame = frame.applymap(lambda x: x.split(' - price: ')[1].strip()\n"
     ]
    },
    {
     "name": "stdout",
     "output_type": "stream",
     "text": [
      "443\n",
      "1/1 [==============================] - 0s 82ms/step\n",
      "1/1 [==============================] - 0s 31ms/step\n"
     ]
    },
    {
     "name": "stderr",
     "output_type": "stream",
     "text": [
      "c:\\Users\\maxbr\\OneDrive\\Desktop\\CLVSim\\CLVSim\\CLV Sim\\Sim\\features.py:65: FutureWarning: DataFrame.applymap has been deprecated. Use DataFrame.map instead.\n",
      "  frame = frame.applymap(lambda x: x.split(' - price: ')[1].strip()\n",
      "c:\\Users\\maxbr\\OneDrive\\Desktop\\CLVSim\\CLVSim\\CLV Sim\\Sim\\features.py:65: FutureWarning: DataFrame.applymap has been deprecated. Use DataFrame.map instead.\n",
      "  frame = frame.applymap(lambda x: x.split(' - price: ')[1].strip()\n"
     ]
    },
    {
     "name": "stdout",
     "output_type": "stream",
     "text": [
      "444\n",
      "1/1 [==============================] - 0s 90ms/step\n",
      "1/1 [==============================] - 0s 16ms/step\n"
     ]
    },
    {
     "name": "stderr",
     "output_type": "stream",
     "text": [
      "c:\\Users\\maxbr\\OneDrive\\Desktop\\CLVSim\\CLVSim\\CLV Sim\\Sim\\features.py:65: FutureWarning: DataFrame.applymap has been deprecated. Use DataFrame.map instead.\n",
      "  frame = frame.applymap(lambda x: x.split(' - price: ')[1].strip()\n",
      "c:\\Users\\maxbr\\OneDrive\\Desktop\\CLVSim\\CLVSim\\CLV Sim\\Sim\\features.py:65: FutureWarning: DataFrame.applymap has been deprecated. Use DataFrame.map instead.\n",
      "  frame = frame.applymap(lambda x: x.split(' - price: ')[1].strip()\n"
     ]
    },
    {
     "name": "stdout",
     "output_type": "stream",
     "text": [
      "445\n",
      "1/1 [==============================] - 0s 112ms/step\n",
      "1/1 [==============================] - 0s 16ms/step\n"
     ]
    },
    {
     "name": "stderr",
     "output_type": "stream",
     "text": [
      "c:\\Users\\maxbr\\OneDrive\\Desktop\\CLVSim\\CLVSim\\CLV Sim\\Sim\\features.py:65: FutureWarning: DataFrame.applymap has been deprecated. Use DataFrame.map instead.\n",
      "  frame = frame.applymap(lambda x: x.split(' - price: ')[1].strip()\n",
      "c:\\Users\\maxbr\\OneDrive\\Desktop\\CLVSim\\CLVSim\\CLV Sim\\Sim\\features.py:65: FutureWarning: DataFrame.applymap has been deprecated. Use DataFrame.map instead.\n",
      "  frame = frame.applymap(lambda x: x.split(' - price: ')[1].strip()\n"
     ]
    },
    {
     "name": "stdout",
     "output_type": "stream",
     "text": [
      "446\n",
      "1/1 [==============================] - 0s 88ms/step\n",
      "1/1 [==============================] - ETA: 0s"
     ]
    },
    {
     "name": "stderr",
     "output_type": "stream",
     "text": [
      "c:\\Users\\maxbr\\OneDrive\\Desktop\\CLVSim\\CLVSim\\CLV Sim\\Sim\\features.py:65: FutureWarning: DataFrame.applymap has been deprecated. Use DataFrame.map instead.\n",
      "  frame = frame.applymap(lambda x: x.split(' - price: ')[1].strip()\n",
      "c:\\Users\\maxbr\\OneDrive\\Desktop\\CLVSim\\CLVSim\\CLV Sim\\Sim\\features.py:65: FutureWarning: DataFrame.applymap has been deprecated. Use DataFrame.map instead.\n",
      "  frame = frame.applymap(lambda x: x.split(' - price: ')[1].strip()\n"
     ]
    },
    {
     "name": "stdout",
     "output_type": "stream",
     "text": [
      "1/1 [==============================] - 0s 22ms/step\n",
      "447\n",
      "1/1 [==============================] - 0s 88ms/step\n",
      "1/1 [==============================] - 0s 16ms/step\n"
     ]
    },
    {
     "name": "stderr",
     "output_type": "stream",
     "text": [
      "c:\\Users\\maxbr\\OneDrive\\Desktop\\CLVSim\\CLVSim\\CLV Sim\\Sim\\features.py:65: FutureWarning: DataFrame.applymap has been deprecated. Use DataFrame.map instead.\n",
      "  frame = frame.applymap(lambda x: x.split(' - price: ')[1].strip()\n",
      "c:\\Users\\maxbr\\OneDrive\\Desktop\\CLVSim\\CLVSim\\CLV Sim\\Sim\\features.py:65: FutureWarning: DataFrame.applymap has been deprecated. Use DataFrame.map instead.\n",
      "  frame = frame.applymap(lambda x: x.split(' - price: ')[1].strip()\n"
     ]
    },
    {
     "name": "stdout",
     "output_type": "stream",
     "text": [
      "448\n",
      "1/1 [==============================] - 0s 100ms/step\n"
     ]
    },
    {
     "name": "stderr",
     "output_type": "stream",
     "text": [
      "c:\\Users\\maxbr\\OneDrive\\Desktop\\CLVSim\\CLVSim\\CLV Sim\\Sim\\features.py:65: FutureWarning: DataFrame.applymap has been deprecated. Use DataFrame.map instead.\n",
      "  frame = frame.applymap(lambda x: x.split(' - price: ')[1].strip()\n",
      "c:\\Users\\maxbr\\OneDrive\\Desktop\\CLVSim\\CLVSim\\CLV Sim\\Sim\\features.py:65: FutureWarning: DataFrame.applymap has been deprecated. Use DataFrame.map instead.\n",
      "  frame = frame.applymap(lambda x: x.split(' - price: ')[1].strip()\n"
     ]
    },
    {
     "name": "stdout",
     "output_type": "stream",
     "text": [
      "1/1 [==============================] - 0s 16ms/step\n",
      "449\n",
      "1/1 [==============================] - 0s 88ms/step\n",
      "1/1 [==============================] - 0s 20ms/step\n"
     ]
    },
    {
     "name": "stderr",
     "output_type": "stream",
     "text": [
      "c:\\Users\\maxbr\\OneDrive\\Desktop\\CLVSim\\CLVSim\\CLV Sim\\Sim\\features.py:65: FutureWarning: DataFrame.applymap has been deprecated. Use DataFrame.map instead.\n",
      "  frame = frame.applymap(lambda x: x.split(' - price: ')[1].strip()\n",
      "c:\\Users\\maxbr\\OneDrive\\Desktop\\CLVSim\\CLVSim\\CLV Sim\\Sim\\features.py:65: FutureWarning: DataFrame.applymap has been deprecated. Use DataFrame.map instead.\n",
      "  frame = frame.applymap(lambda x: x.split(' - price: ')[1].strip()\n"
     ]
    },
    {
     "name": "stdout",
     "output_type": "stream",
     "text": [
      "450\n",
      "1/1 [==============================] - 0s 91ms/step\n",
      "1/1 [==============================] - ETA: 0s"
     ]
    },
    {
     "name": "stderr",
     "output_type": "stream",
     "text": [
      "c:\\Users\\maxbr\\OneDrive\\Desktop\\CLVSim\\CLVSim\\CLV Sim\\Sim\\features.py:65: FutureWarning: DataFrame.applymap has been deprecated. Use DataFrame.map instead.\n",
      "  frame = frame.applymap(lambda x: x.split(' - price: ')[1].strip()\n",
      "c:\\Users\\maxbr\\OneDrive\\Desktop\\CLVSim\\CLVSim\\CLV Sim\\Sim\\features.py:65: FutureWarning: DataFrame.applymap has been deprecated. Use DataFrame.map instead.\n",
      "  frame = frame.applymap(lambda x: x.split(' - price: ')[1].strip()\n"
     ]
    },
    {
     "name": "stdout",
     "output_type": "stream",
     "text": [
      "1/1 [==============================] - 0s 22ms/step\n",
      "451\n",
      "1/1 [==============================] - 0s 94ms/step\n"
     ]
    },
    {
     "name": "stderr",
     "output_type": "stream",
     "text": [
      "c:\\Users\\maxbr\\OneDrive\\Desktop\\CLVSim\\CLVSim\\CLV Sim\\Sim\\features.py:65: FutureWarning: DataFrame.applymap has been deprecated. Use DataFrame.map instead.\n",
      "  frame = frame.applymap(lambda x: x.split(' - price: ')[1].strip()\n",
      "c:\\Users\\maxbr\\OneDrive\\Desktop\\CLVSim\\CLVSim\\CLV Sim\\Sim\\features.py:65: FutureWarning: DataFrame.applymap has been deprecated. Use DataFrame.map instead.\n",
      "  frame = frame.applymap(lambda x: x.split(' - price: ')[1].strip()\n"
     ]
    },
    {
     "name": "stdout",
     "output_type": "stream",
     "text": [
      "1/1 [==============================] - 0s 22ms/step\n",
      "452\n",
      "1/1 [==============================] - 0s 88ms/step\n",
      "1/1 [==============================] - 0s 19ms/step\n"
     ]
    },
    {
     "name": "stderr",
     "output_type": "stream",
     "text": [
      "c:\\Users\\maxbr\\OneDrive\\Desktop\\CLVSim\\CLVSim\\CLV Sim\\Sim\\features.py:65: FutureWarning: DataFrame.applymap has been deprecated. Use DataFrame.map instead.\n",
      "  frame = frame.applymap(lambda x: x.split(' - price: ')[1].strip()\n",
      "c:\\Users\\maxbr\\OneDrive\\Desktop\\CLVSim\\CLVSim\\CLV Sim\\Sim\\features.py:65: FutureWarning: DataFrame.applymap has been deprecated. Use DataFrame.map instead.\n",
      "  frame = frame.applymap(lambda x: x.split(' - price: ')[1].strip()\n"
     ]
    },
    {
     "name": "stdout",
     "output_type": "stream",
     "text": [
      "453\n",
      "1/1 [==============================] - 0s 89ms/step\n",
      "1/1 [==============================] - 0s 21ms/step\n"
     ]
    },
    {
     "name": "stderr",
     "output_type": "stream",
     "text": [
      "c:\\Users\\maxbr\\OneDrive\\Desktop\\CLVSim\\CLVSim\\CLV Sim\\Sim\\features.py:65: FutureWarning: DataFrame.applymap has been deprecated. Use DataFrame.map instead.\n",
      "  frame = frame.applymap(lambda x: x.split(' - price: ')[1].strip()\n",
      "c:\\Users\\maxbr\\OneDrive\\Desktop\\CLVSim\\CLVSim\\CLV Sim\\Sim\\features.py:65: FutureWarning: DataFrame.applymap has been deprecated. Use DataFrame.map instead.\n",
      "  frame = frame.applymap(lambda x: x.split(' - price: ')[1].strip()\n"
     ]
    },
    {
     "name": "stdout",
     "output_type": "stream",
     "text": [
      "454\n",
      "1/1 [==============================] - 0s 100ms/step\n"
     ]
    },
    {
     "name": "stderr",
     "output_type": "stream",
     "text": [
      "c:\\Users\\maxbr\\OneDrive\\Desktop\\CLVSim\\CLVSim\\CLV Sim\\Sim\\features.py:65: FutureWarning: DataFrame.applymap has been deprecated. Use DataFrame.map instead.\n",
      "  frame = frame.applymap(lambda x: x.split(' - price: ')[1].strip()\n",
      "c:\\Users\\maxbr\\OneDrive\\Desktop\\CLVSim\\CLVSim\\CLV Sim\\Sim\\features.py:65: FutureWarning: DataFrame.applymap has been deprecated. Use DataFrame.map instead.\n",
      "  frame = frame.applymap(lambda x: x.split(' - price: ')[1].strip()\n"
     ]
    },
    {
     "name": "stdout",
     "output_type": "stream",
     "text": [
      "1/1 [==============================] - 0s 18ms/step\n",
      "455\n",
      "1/1 [==============================] - 0s 89ms/step\n",
      "1/1 [==============================] - ETA: 0s"
     ]
    },
    {
     "name": "stderr",
     "output_type": "stream",
     "text": [
      "c:\\Users\\maxbr\\OneDrive\\Desktop\\CLVSim\\CLVSim\\CLV Sim\\Sim\\features.py:65: FutureWarning: DataFrame.applymap has been deprecated. Use DataFrame.map instead.\n",
      "  frame = frame.applymap(lambda x: x.split(' - price: ')[1].strip()\n",
      "c:\\Users\\maxbr\\OneDrive\\Desktop\\CLVSim\\CLVSim\\CLV Sim\\Sim\\features.py:65: FutureWarning: DataFrame.applymap has been deprecated. Use DataFrame.map instead.\n",
      "  frame = frame.applymap(lambda x: x.split(' - price: ')[1].strip()\n"
     ]
    },
    {
     "name": "stdout",
     "output_type": "stream",
     "text": [
      "1/1 [==============================] - 0s 22ms/step\n",
      "456\n",
      "1/1 [==============================] - 0s 89ms/step\n"
     ]
    },
    {
     "name": "stderr",
     "output_type": "stream",
     "text": [
      "c:\\Users\\maxbr\\OneDrive\\Desktop\\CLVSim\\CLVSim\\CLV Sim\\Sim\\features.py:65: FutureWarning: DataFrame.applymap has been deprecated. Use DataFrame.map instead.\n",
      "  frame = frame.applymap(lambda x: x.split(' - price: ')[1].strip()\n",
      "c:\\Users\\maxbr\\OneDrive\\Desktop\\CLVSim\\CLVSim\\CLV Sim\\Sim\\features.py:65: FutureWarning: DataFrame.applymap has been deprecated. Use DataFrame.map instead.\n",
      "  frame = frame.applymap(lambda x: x.split(' - price: ')[1].strip()\n"
     ]
    },
    {
     "name": "stdout",
     "output_type": "stream",
     "text": [
      "1/1 [==============================] - 0s 31ms/step\n",
      "457\n",
      "1/1 [==============================] - 0s 77ms/step\n",
      "1/1 [==============================] - 0s 25ms/step\n"
     ]
    },
    {
     "name": "stderr",
     "output_type": "stream",
     "text": [
      "c:\\Users\\maxbr\\OneDrive\\Desktop\\CLVSim\\CLVSim\\CLV Sim\\Sim\\features.py:65: FutureWarning: DataFrame.applymap has been deprecated. Use DataFrame.map instead.\n",
      "  frame = frame.applymap(lambda x: x.split(' - price: ')[1].strip()\n",
      "c:\\Users\\maxbr\\OneDrive\\Desktop\\CLVSim\\CLVSim\\CLV Sim\\Sim\\features.py:65: FutureWarning: DataFrame.applymap has been deprecated. Use DataFrame.map instead.\n",
      "  frame = frame.applymap(lambda x: x.split(' - price: ')[1].strip()\n"
     ]
    },
    {
     "name": "stdout",
     "output_type": "stream",
     "text": [
      "458\n",
      "1/1 [==============================] - 0s 87ms/step\n",
      "1/1 [==============================] - ETA: 0s"
     ]
    },
    {
     "name": "stderr",
     "output_type": "stream",
     "text": [
      "c:\\Users\\maxbr\\OneDrive\\Desktop\\CLVSim\\CLVSim\\CLV Sim\\Sim\\features.py:65: FutureWarning: DataFrame.applymap has been deprecated. Use DataFrame.map instead.\n",
      "  frame = frame.applymap(lambda x: x.split(' - price: ')[1].strip()\n",
      "c:\\Users\\maxbr\\OneDrive\\Desktop\\CLVSim\\CLVSim\\CLV Sim\\Sim\\features.py:65: FutureWarning: DataFrame.applymap has been deprecated. Use DataFrame.map instead.\n",
      "  frame = frame.applymap(lambda x: x.split(' - price: ')[1].strip()\n"
     ]
    },
    {
     "name": "stdout",
     "output_type": "stream",
     "text": [
      "1/1 [==============================] - 0s 19ms/step\n",
      "459\n",
      "1/1 [==============================] - 0s 85ms/step\n",
      "1/1 [==============================] - 0s 23ms/step\n"
     ]
    },
    {
     "name": "stderr",
     "output_type": "stream",
     "text": [
      "c:\\Users\\maxbr\\OneDrive\\Desktop\\CLVSim\\CLVSim\\CLV Sim\\Sim\\features.py:65: FutureWarning: DataFrame.applymap has been deprecated. Use DataFrame.map instead.\n",
      "  frame = frame.applymap(lambda x: x.split(' - price: ')[1].strip()\n",
      "c:\\Users\\maxbr\\OneDrive\\Desktop\\CLVSim\\CLVSim\\CLV Sim\\Sim\\features.py:65: FutureWarning: DataFrame.applymap has been deprecated. Use DataFrame.map instead.\n",
      "  frame = frame.applymap(lambda x: x.split(' - price: ')[1].strip()\n"
     ]
    },
    {
     "name": "stdout",
     "output_type": "stream",
     "text": [
      "460\n",
      "1/1 [==============================] - 0s 92ms/step\n",
      "1/1 [==============================] - 0s 18ms/step\n"
     ]
    },
    {
     "name": "stderr",
     "output_type": "stream",
     "text": [
      "c:\\Users\\maxbr\\OneDrive\\Desktop\\CLVSim\\CLVSim\\CLV Sim\\Sim\\features.py:65: FutureWarning: DataFrame.applymap has been deprecated. Use DataFrame.map instead.\n",
      "  frame = frame.applymap(lambda x: x.split(' - price: ')[1].strip()\n",
      "c:\\Users\\maxbr\\OneDrive\\Desktop\\CLVSim\\CLVSim\\CLV Sim\\Sim\\features.py:65: FutureWarning: DataFrame.applymap has been deprecated. Use DataFrame.map instead.\n",
      "  frame = frame.applymap(lambda x: x.split(' - price: ')[1].strip()\n"
     ]
    },
    {
     "name": "stdout",
     "output_type": "stream",
     "text": [
      "461\n",
      "1/1 [==============================] - 0s 84ms/step\n",
      "1/1 [==============================] - ETA: 0s"
     ]
    },
    {
     "name": "stderr",
     "output_type": "stream",
     "text": [
      "c:\\Users\\maxbr\\OneDrive\\Desktop\\CLVSim\\CLVSim\\CLV Sim\\Sim\\features.py:65: FutureWarning: DataFrame.applymap has been deprecated. Use DataFrame.map instead.\n",
      "  frame = frame.applymap(lambda x: x.split(' - price: ')[1].strip()\n",
      "c:\\Users\\maxbr\\OneDrive\\Desktop\\CLVSim\\CLVSim\\CLV Sim\\Sim\\features.py:65: FutureWarning: DataFrame.applymap has been deprecated. Use DataFrame.map instead.\n",
      "  frame = frame.applymap(lambda x: x.split(' - price: ')[1].strip()\n"
     ]
    },
    {
     "name": "stdout",
     "output_type": "stream",
     "text": [
      "1/1 [==============================] - 0s 29ms/step\n",
      "462\n",
      "1/1 [==============================] - 0s 87ms/step\n",
      "1/1 [==============================] - 0s 32ms/step\n"
     ]
    },
    {
     "name": "stderr",
     "output_type": "stream",
     "text": [
      "c:\\Users\\maxbr\\OneDrive\\Desktop\\CLVSim\\CLVSim\\CLV Sim\\Sim\\features.py:65: FutureWarning: DataFrame.applymap has been deprecated. Use DataFrame.map instead.\n",
      "  frame = frame.applymap(lambda x: x.split(' - price: ')[1].strip()\n",
      "c:\\Users\\maxbr\\OneDrive\\Desktop\\CLVSim\\CLVSim\\CLV Sim\\Sim\\features.py:65: FutureWarning: DataFrame.applymap has been deprecated. Use DataFrame.map instead.\n",
      "  frame = frame.applymap(lambda x: x.split(' - price: ')[1].strip()\n"
     ]
    },
    {
     "name": "stdout",
     "output_type": "stream",
     "text": [
      "463\n",
      "1/1 [==============================] - 0s 86ms/step\n"
     ]
    },
    {
     "name": "stderr",
     "output_type": "stream",
     "text": [
      "c:\\Users\\maxbr\\OneDrive\\Desktop\\CLVSim\\CLVSim\\CLV Sim\\Sim\\features.py:65: FutureWarning: DataFrame.applymap has been deprecated. Use DataFrame.map instead.\n",
      "  frame = frame.applymap(lambda x: x.split(' - price: ')[1].strip()\n",
      "c:\\Users\\maxbr\\OneDrive\\Desktop\\CLVSim\\CLVSim\\CLV Sim\\Sim\\features.py:65: FutureWarning: DataFrame.applymap has been deprecated. Use DataFrame.map instead.\n",
      "  frame = frame.applymap(lambda x: x.split(' - price: ')[1].strip()\n"
     ]
    },
    {
     "name": "stdout",
     "output_type": "stream",
     "text": [
      "1/1 [==============================] - 0s 20ms/step\n",
      "464\n",
      "1/1 [==============================] - 0s 97ms/step\n"
     ]
    },
    {
     "name": "stderr",
     "output_type": "stream",
     "text": [
      "c:\\Users\\maxbr\\OneDrive\\Desktop\\CLVSim\\CLVSim\\CLV Sim\\Sim\\features.py:65: FutureWarning: DataFrame.applymap has been deprecated. Use DataFrame.map instead.\n",
      "  frame = frame.applymap(lambda x: x.split(' - price: ')[1].strip()\n",
      "c:\\Users\\maxbr\\OneDrive\\Desktop\\CLVSim\\CLVSim\\CLV Sim\\Sim\\features.py:65: FutureWarning: DataFrame.applymap has been deprecated. Use DataFrame.map instead.\n",
      "  frame = frame.applymap(lambda x: x.split(' - price: ')[1].strip()\n"
     ]
    },
    {
     "name": "stdout",
     "output_type": "stream",
     "text": [
      "1/1 [==============================] - 0s 25ms/step\n",
      "465\n",
      "1/1 [==============================] - 0s 82ms/step\n",
      "1/1 [==============================] - 0s 33ms/step\n"
     ]
    },
    {
     "name": "stderr",
     "output_type": "stream",
     "text": [
      "c:\\Users\\maxbr\\OneDrive\\Desktop\\CLVSim\\CLVSim\\CLV Sim\\Sim\\features.py:65: FutureWarning: DataFrame.applymap has been deprecated. Use DataFrame.map instead.\n",
      "  frame = frame.applymap(lambda x: x.split(' - price: ')[1].strip()\n",
      "c:\\Users\\maxbr\\OneDrive\\Desktop\\CLVSim\\CLVSim\\CLV Sim\\Sim\\features.py:65: FutureWarning: DataFrame.applymap has been deprecated. Use DataFrame.map instead.\n",
      "  frame = frame.applymap(lambda x: x.split(' - price: ')[1].strip()\n"
     ]
    },
    {
     "name": "stdout",
     "output_type": "stream",
     "text": [
      "466\n",
      "1/1 [==============================] - 0s 75ms/step\n",
      "1/1 [==============================] - ETA: 0s"
     ]
    },
    {
     "name": "stderr",
     "output_type": "stream",
     "text": [
      "c:\\Users\\maxbr\\OneDrive\\Desktop\\CLVSim\\CLVSim\\CLV Sim\\Sim\\features.py:65: FutureWarning: DataFrame.applymap has been deprecated. Use DataFrame.map instead.\n",
      "  frame = frame.applymap(lambda x: x.split(' - price: ')[1].strip()\n",
      "c:\\Users\\maxbr\\OneDrive\\Desktop\\CLVSim\\CLVSim\\CLV Sim\\Sim\\features.py:65: FutureWarning: DataFrame.applymap has been deprecated. Use DataFrame.map instead.\n",
      "  frame = frame.applymap(lambda x: x.split(' - price: ')[1].strip()\n"
     ]
    },
    {
     "name": "stdout",
     "output_type": "stream",
     "text": [
      "1/1 [==============================] - 0s 29ms/step\n",
      "467\n",
      "1/1 [==============================] - 0s 86ms/step\n",
      "1/1 [==============================] - ETA: 0s"
     ]
    },
    {
     "name": "stderr",
     "output_type": "stream",
     "text": [
      "c:\\Users\\maxbr\\OneDrive\\Desktop\\CLVSim\\CLVSim\\CLV Sim\\Sim\\features.py:65: FutureWarning: DataFrame.applymap has been deprecated. Use DataFrame.map instead.\n",
      "  frame = frame.applymap(lambda x: x.split(' - price: ')[1].strip()\n",
      "c:\\Users\\maxbr\\OneDrive\\Desktop\\CLVSim\\CLVSim\\CLV Sim\\Sim\\features.py:65: FutureWarning: DataFrame.applymap has been deprecated. Use DataFrame.map instead.\n",
      "  frame = frame.applymap(lambda x: x.split(' - price: ')[1].strip()\n"
     ]
    },
    {
     "name": "stdout",
     "output_type": "stream",
     "text": [
      "1/1 [==============================] - 0s 21ms/step\n",
      "468\n",
      "1/1 [==============================] - 0s 96ms/step\n",
      "1/1 [==============================] - 0s 16ms/step\n"
     ]
    },
    {
     "name": "stderr",
     "output_type": "stream",
     "text": [
      "c:\\Users\\maxbr\\OneDrive\\Desktop\\CLVSim\\CLVSim\\CLV Sim\\Sim\\features.py:65: FutureWarning: DataFrame.applymap has been deprecated. Use DataFrame.map instead.\n",
      "  frame = frame.applymap(lambda x: x.split(' - price: ')[1].strip()\n",
      "c:\\Users\\maxbr\\OneDrive\\Desktop\\CLVSim\\CLVSim\\CLV Sim\\Sim\\features.py:65: FutureWarning: DataFrame.applymap has been deprecated. Use DataFrame.map instead.\n",
      "  frame = frame.applymap(lambda x: x.split(' - price: ')[1].strip()\n"
     ]
    },
    {
     "name": "stdout",
     "output_type": "stream",
     "text": [
      "469\n",
      "1/1 [==============================] - 0s 89ms/step\n",
      "1/1 [==============================] - 0s 7ms/step\n"
     ]
    },
    {
     "name": "stderr",
     "output_type": "stream",
     "text": [
      "c:\\Users\\maxbr\\OneDrive\\Desktop\\CLVSim\\CLVSim\\CLV Sim\\Sim\\features.py:65: FutureWarning: DataFrame.applymap has been deprecated. Use DataFrame.map instead.\n",
      "  frame = frame.applymap(lambda x: x.split(' - price: ')[1].strip()\n",
      "c:\\Users\\maxbr\\OneDrive\\Desktop\\CLVSim\\CLVSim\\CLV Sim\\Sim\\features.py:65: FutureWarning: DataFrame.applymap has been deprecated. Use DataFrame.map instead.\n",
      "  frame = frame.applymap(lambda x: x.split(' - price: ')[1].strip()\n"
     ]
    },
    {
     "name": "stdout",
     "output_type": "stream",
     "text": [
      "470\n",
      "1/1 [==============================] - 0s 82ms/step\n",
      "1/1 [==============================] - 0s 28ms/step\n"
     ]
    },
    {
     "name": "stderr",
     "output_type": "stream",
     "text": [
      "c:\\Users\\maxbr\\OneDrive\\Desktop\\CLVSim\\CLVSim\\CLV Sim\\Sim\\features.py:65: FutureWarning: DataFrame.applymap has been deprecated. Use DataFrame.map instead.\n",
      "  frame = frame.applymap(lambda x: x.split(' - price: ')[1].strip()\n",
      "c:\\Users\\maxbr\\OneDrive\\Desktop\\CLVSim\\CLVSim\\CLV Sim\\Sim\\features.py:65: FutureWarning: DataFrame.applymap has been deprecated. Use DataFrame.map instead.\n",
      "  frame = frame.applymap(lambda x: x.split(' - price: ')[1].strip()\n"
     ]
    },
    {
     "name": "stdout",
     "output_type": "stream",
     "text": [
      "471\n",
      "1/1 [==============================] - 0s 81ms/step\n",
      "1/1 [==============================] - ETA: 0s"
     ]
    },
    {
     "name": "stderr",
     "output_type": "stream",
     "text": [
      "c:\\Users\\maxbr\\OneDrive\\Desktop\\CLVSim\\CLVSim\\CLV Sim\\Sim\\features.py:65: FutureWarning: DataFrame.applymap has been deprecated. Use DataFrame.map instead.\n",
      "  frame = frame.applymap(lambda x: x.split(' - price: ')[1].strip()\n",
      "c:\\Users\\maxbr\\OneDrive\\Desktop\\CLVSim\\CLVSim\\CLV Sim\\Sim\\features.py:65: FutureWarning: DataFrame.applymap has been deprecated. Use DataFrame.map instead.\n",
      "  frame = frame.applymap(lambda x: x.split(' - price: ')[1].strip()\n"
     ]
    },
    {
     "name": "stdout",
     "output_type": "stream",
     "text": [
      "1/1 [==============================] - 0s 28ms/step\n",
      "472\n",
      "1/1 [==============================] - 0s 75ms/step\n",
      "1/1 [==============================] - 0s 19ms/step\n"
     ]
    },
    {
     "name": "stderr",
     "output_type": "stream",
     "text": [
      "c:\\Users\\maxbr\\OneDrive\\Desktop\\CLVSim\\CLVSim\\CLV Sim\\Sim\\features.py:65: FutureWarning: DataFrame.applymap has been deprecated. Use DataFrame.map instead.\n",
      "  frame = frame.applymap(lambda x: x.split(' - price: ')[1].strip()\n",
      "c:\\Users\\maxbr\\OneDrive\\Desktop\\CLVSim\\CLVSim\\CLV Sim\\Sim\\features.py:65: FutureWarning: DataFrame.applymap has been deprecated. Use DataFrame.map instead.\n",
      "  frame = frame.applymap(lambda x: x.split(' - price: ')[1].strip()\n"
     ]
    },
    {
     "name": "stdout",
     "output_type": "stream",
     "text": [
      "473\n",
      "1/1 [==============================] - 0s 76ms/step\n"
     ]
    },
    {
     "name": "stderr",
     "output_type": "stream",
     "text": [
      "c:\\Users\\maxbr\\OneDrive\\Desktop\\CLVSim\\CLVSim\\CLV Sim\\Sim\\features.py:65: FutureWarning: DataFrame.applymap has been deprecated. Use DataFrame.map instead.\n",
      "  frame = frame.applymap(lambda x: x.split(' - price: ')[1].strip()\n",
      "c:\\Users\\maxbr\\OneDrive\\Desktop\\CLVSim\\CLVSim\\CLV Sim\\Sim\\features.py:65: FutureWarning: DataFrame.applymap has been deprecated. Use DataFrame.map instead.\n",
      "  frame = frame.applymap(lambda x: x.split(' - price: ')[1].strip()\n"
     ]
    },
    {
     "name": "stdout",
     "output_type": "stream",
     "text": [
      "1/1 [==============================] - 0s 8ms/step\n",
      "474\n",
      "1/1 [==============================] - 0s 73ms/step\n",
      "1/1 [==============================] - 0s 18ms/step\n"
     ]
    },
    {
     "name": "stderr",
     "output_type": "stream",
     "text": [
      "c:\\Users\\maxbr\\OneDrive\\Desktop\\CLVSim\\CLVSim\\CLV Sim\\Sim\\features.py:65: FutureWarning: DataFrame.applymap has been deprecated. Use DataFrame.map instead.\n",
      "  frame = frame.applymap(lambda x: x.split(' - price: ')[1].strip()\n",
      "c:\\Users\\maxbr\\OneDrive\\Desktop\\CLVSim\\CLVSim\\CLV Sim\\Sim\\features.py:65: FutureWarning: DataFrame.applymap has been deprecated. Use DataFrame.map instead.\n",
      "  frame = frame.applymap(lambda x: x.split(' - price: ')[1].strip()\n"
     ]
    },
    {
     "name": "stdout",
     "output_type": "stream",
     "text": [
      "475\n",
      "1/1 [==============================] - 0s 77ms/step\n",
      "1/1 [==============================] - ETA: 0s"
     ]
    },
    {
     "name": "stderr",
     "output_type": "stream",
     "text": [
      "c:\\Users\\maxbr\\OneDrive\\Desktop\\CLVSim\\CLVSim\\CLV Sim\\Sim\\features.py:65: FutureWarning: DataFrame.applymap has been deprecated. Use DataFrame.map instead.\n",
      "  frame = frame.applymap(lambda x: x.split(' - price: ')[1].strip()\n",
      "c:\\Users\\maxbr\\OneDrive\\Desktop\\CLVSim\\CLVSim\\CLV Sim\\Sim\\features.py:65: FutureWarning: DataFrame.applymap has been deprecated. Use DataFrame.map instead.\n",
      "  frame = frame.applymap(lambda x: x.split(' - price: ')[1].strip()\n"
     ]
    },
    {
     "name": "stdout",
     "output_type": "stream",
     "text": [
      "1/1 [==============================] - 0s 19ms/step\n",
      "476\n",
      "1/1 [==============================] - 0s 75ms/step\n",
      "1/1 [==============================] - 0s 20ms/step\n"
     ]
    },
    {
     "name": "stderr",
     "output_type": "stream",
     "text": [
      "c:\\Users\\maxbr\\OneDrive\\Desktop\\CLVSim\\CLVSim\\CLV Sim\\Sim\\features.py:65: FutureWarning: DataFrame.applymap has been deprecated. Use DataFrame.map instead.\n",
      "  frame = frame.applymap(lambda x: x.split(' - price: ')[1].strip()\n",
      "c:\\Users\\maxbr\\OneDrive\\Desktop\\CLVSim\\CLVSim\\CLV Sim\\Sim\\features.py:65: FutureWarning: DataFrame.applymap has been deprecated. Use DataFrame.map instead.\n",
      "  frame = frame.applymap(lambda x: x.split(' - price: ')[1].strip()\n"
     ]
    },
    {
     "name": "stdout",
     "output_type": "stream",
     "text": [
      "477\n",
      "1/1 [==============================] - 0s 85ms/step\n",
      "1/1 [==============================] - ETA: 0s"
     ]
    },
    {
     "name": "stderr",
     "output_type": "stream",
     "text": [
      "c:\\Users\\maxbr\\OneDrive\\Desktop\\CLVSim\\CLVSim\\CLV Sim\\Sim\\features.py:65: FutureWarning: DataFrame.applymap has been deprecated. Use DataFrame.map instead.\n",
      "  frame = frame.applymap(lambda x: x.split(' - price: ')[1].strip()\n",
      "c:\\Users\\maxbr\\OneDrive\\Desktop\\CLVSim\\CLVSim\\CLV Sim\\Sim\\features.py:65: FutureWarning: DataFrame.applymap has been deprecated. Use DataFrame.map instead.\n",
      "  frame = frame.applymap(lambda x: x.split(' - price: ')[1].strip()\n"
     ]
    },
    {
     "name": "stdout",
     "output_type": "stream",
     "text": [
      "1/1 [==============================] - 0s 17ms/step\n",
      "478\n",
      "1/1 [==============================] - 0s 86ms/step\n",
      "1/1 [==============================] - ETA: 0s"
     ]
    },
    {
     "name": "stderr",
     "output_type": "stream",
     "text": [
      "c:\\Users\\maxbr\\OneDrive\\Desktop\\CLVSim\\CLVSim\\CLV Sim\\Sim\\features.py:65: FutureWarning: DataFrame.applymap has been deprecated. Use DataFrame.map instead.\n",
      "  frame = frame.applymap(lambda x: x.split(' - price: ')[1].strip()\n",
      "c:\\Users\\maxbr\\OneDrive\\Desktop\\CLVSim\\CLVSim\\CLV Sim\\Sim\\features.py:65: FutureWarning: DataFrame.applymap has been deprecated. Use DataFrame.map instead.\n",
      "  frame = frame.applymap(lambda x: x.split(' - price: ')[1].strip()\n"
     ]
    },
    {
     "name": "stdout",
     "output_type": "stream",
     "text": [
      "1/1 [==============================] - 0s 20ms/step\n",
      "479\n",
      "1/1 [==============================] - 0s 99ms/step\n"
     ]
    },
    {
     "name": "stderr",
     "output_type": "stream",
     "text": [
      "c:\\Users\\maxbr\\OneDrive\\Desktop\\CLVSim\\CLVSim\\CLV Sim\\Sim\\features.py:65: FutureWarning: DataFrame.applymap has been deprecated. Use DataFrame.map instead.\n",
      "  frame = frame.applymap(lambda x: x.split(' - price: ')[1].strip()\n",
      "c:\\Users\\maxbr\\OneDrive\\Desktop\\CLVSim\\CLVSim\\CLV Sim\\Sim\\features.py:65: FutureWarning: DataFrame.applymap has been deprecated. Use DataFrame.map instead.\n",
      "  frame = frame.applymap(lambda x: x.split(' - price: ')[1].strip()\n"
     ]
    },
    {
     "name": "stdout",
     "output_type": "stream",
     "text": [
      "1/1 [==============================] - 0s 22ms/step\n",
      "480\n",
      "1/1 [==============================] - 0s 88ms/step\n",
      "1/1 [==============================] - 0s 24ms/step\n"
     ]
    },
    {
     "name": "stderr",
     "output_type": "stream",
     "text": [
      "c:\\Users\\maxbr\\OneDrive\\Desktop\\CLVSim\\CLVSim\\CLV Sim\\Sim\\features.py:65: FutureWarning: DataFrame.applymap has been deprecated. Use DataFrame.map instead.\n",
      "  frame = frame.applymap(lambda x: x.split(' - price: ')[1].strip()\n",
      "c:\\Users\\maxbr\\OneDrive\\Desktop\\CLVSim\\CLVSim\\CLV Sim\\Sim\\features.py:65: FutureWarning: DataFrame.applymap has been deprecated. Use DataFrame.map instead.\n",
      "  frame = frame.applymap(lambda x: x.split(' - price: ')[1].strip()\n"
     ]
    },
    {
     "name": "stdout",
     "output_type": "stream",
     "text": [
      "481\n",
      "1/1 [==============================] - 0s 79ms/step\n",
      "1/1 [==============================] - ETA: 0s"
     ]
    },
    {
     "name": "stderr",
     "output_type": "stream",
     "text": [
      "c:\\Users\\maxbr\\OneDrive\\Desktop\\CLVSim\\CLVSim\\CLV Sim\\Sim\\features.py:65: FutureWarning: DataFrame.applymap has been deprecated. Use DataFrame.map instead.\n",
      "  frame = frame.applymap(lambda x: x.split(' - price: ')[1].strip()\n",
      "c:\\Users\\maxbr\\OneDrive\\Desktop\\CLVSim\\CLVSim\\CLV Sim\\Sim\\features.py:65: FutureWarning: DataFrame.applymap has been deprecated. Use DataFrame.map instead.\n",
      "  frame = frame.applymap(lambda x: x.split(' - price: ')[1].strip()\n"
     ]
    },
    {
     "name": "stdout",
     "output_type": "stream",
     "text": [
      "1/1 [==============================] - 0s 19ms/step\n",
      "482\n",
      "1/1 [==============================] - 0s 83ms/step\n",
      "1/1 [==============================] - 0s 6ms/step\n"
     ]
    },
    {
     "name": "stderr",
     "output_type": "stream",
     "text": [
      "c:\\Users\\maxbr\\OneDrive\\Desktop\\CLVSim\\CLVSim\\CLV Sim\\Sim\\features.py:65: FutureWarning: DataFrame.applymap has been deprecated. Use DataFrame.map instead.\n",
      "  frame = frame.applymap(lambda x: x.split(' - price: ')[1].strip()\n",
      "c:\\Users\\maxbr\\OneDrive\\Desktop\\CLVSim\\CLVSim\\CLV Sim\\Sim\\features.py:65: FutureWarning: DataFrame.applymap has been deprecated. Use DataFrame.map instead.\n",
      "  frame = frame.applymap(lambda x: x.split(' - price: ')[1].strip()\n"
     ]
    },
    {
     "name": "stdout",
     "output_type": "stream",
     "text": [
      "483\n",
      "1/1 [==============================] - 0s 88ms/step\n"
     ]
    },
    {
     "name": "stderr",
     "output_type": "stream",
     "text": [
      "c:\\Users\\maxbr\\OneDrive\\Desktop\\CLVSim\\CLVSim\\CLV Sim\\Sim\\features.py:65: FutureWarning: DataFrame.applymap has been deprecated. Use DataFrame.map instead.\n",
      "  frame = frame.applymap(lambda x: x.split(' - price: ')[1].strip()\n",
      "c:\\Users\\maxbr\\OneDrive\\Desktop\\CLVSim\\CLVSim\\CLV Sim\\Sim\\features.py:65: FutureWarning: DataFrame.applymap has been deprecated. Use DataFrame.map instead.\n",
      "  frame = frame.applymap(lambda x: x.split(' - price: ')[1].strip()\n"
     ]
    },
    {
     "name": "stdout",
     "output_type": "stream",
     "text": [
      "1/1 [==============================] - 0s 22ms/step\n",
      "484\n",
      "1/1 [==============================] - 0s 87ms/step\n"
     ]
    },
    {
     "name": "stderr",
     "output_type": "stream",
     "text": [
      "c:\\Users\\maxbr\\OneDrive\\Desktop\\CLVSim\\CLVSim\\CLV Sim\\Sim\\features.py:65: FutureWarning: DataFrame.applymap has been deprecated. Use DataFrame.map instead.\n",
      "  frame = frame.applymap(lambda x: x.split(' - price: ')[1].strip()\n",
      "c:\\Users\\maxbr\\OneDrive\\Desktop\\CLVSim\\CLVSim\\CLV Sim\\Sim\\features.py:65: FutureWarning: DataFrame.applymap has been deprecated. Use DataFrame.map instead.\n",
      "  frame = frame.applymap(lambda x: x.split(' - price: ')[1].strip()\n"
     ]
    },
    {
     "name": "stdout",
     "output_type": "stream",
     "text": [
      "1/1 [==============================] - 0s 28ms/step\n",
      "485\n",
      "1/1 [==============================] - 0s 90ms/step\n"
     ]
    },
    {
     "name": "stderr",
     "output_type": "stream",
     "text": [
      "c:\\Users\\maxbr\\OneDrive\\Desktop\\CLVSim\\CLVSim\\CLV Sim\\Sim\\features.py:65: FutureWarning: DataFrame.applymap has been deprecated. Use DataFrame.map instead.\n",
      "  frame = frame.applymap(lambda x: x.split(' - price: ')[1].strip()\n",
      "c:\\Users\\maxbr\\OneDrive\\Desktop\\CLVSim\\CLVSim\\CLV Sim\\Sim\\features.py:65: FutureWarning: DataFrame.applymap has been deprecated. Use DataFrame.map instead.\n",
      "  frame = frame.applymap(lambda x: x.split(' - price: ')[1].strip()\n"
     ]
    },
    {
     "name": "stdout",
     "output_type": "stream",
     "text": [
      "1/1 [==============================] - 0s 22ms/step\n",
      "486\n",
      "1/1 [==============================] - 0s 85ms/step\n",
      "1/1 [==============================] - ETA: 0s"
     ]
    },
    {
     "name": "stderr",
     "output_type": "stream",
     "text": [
      "c:\\Users\\maxbr\\OneDrive\\Desktop\\CLVSim\\CLVSim\\CLV Sim\\Sim\\features.py:65: FutureWarning: DataFrame.applymap has been deprecated. Use DataFrame.map instead.\n",
      "  frame = frame.applymap(lambda x: x.split(' - price: ')[1].strip()\n",
      "c:\\Users\\maxbr\\OneDrive\\Desktop\\CLVSim\\CLVSim\\CLV Sim\\Sim\\features.py:65: FutureWarning: DataFrame.applymap has been deprecated. Use DataFrame.map instead.\n",
      "  frame = frame.applymap(lambda x: x.split(' - price: ')[1].strip()\n"
     ]
    },
    {
     "name": "stdout",
     "output_type": "stream",
     "text": [
      "1/1 [==============================] - 0s 19ms/step\n",
      "487\n",
      "1/1 [==============================] - 0s 87ms/step\n",
      "1/1 [==============================] - ETA: 0s"
     ]
    },
    {
     "name": "stderr",
     "output_type": "stream",
     "text": [
      "c:\\Users\\maxbr\\OneDrive\\Desktop\\CLVSim\\CLVSim\\CLV Sim\\Sim\\features.py:65: FutureWarning: DataFrame.applymap has been deprecated. Use DataFrame.map instead.\n",
      "  frame = frame.applymap(lambda x: x.split(' - price: ')[1].strip()\n",
      "c:\\Users\\maxbr\\OneDrive\\Desktop\\CLVSim\\CLVSim\\CLV Sim\\Sim\\features.py:65: FutureWarning: DataFrame.applymap has been deprecated. Use DataFrame.map instead.\n",
      "  frame = frame.applymap(lambda x: x.split(' - price: ')[1].strip()\n"
     ]
    },
    {
     "name": "stdout",
     "output_type": "stream",
     "text": [
      "1/1 [==============================] - 0s 23ms/step\n",
      "488\n",
      "1/1 [==============================] - 0s 88ms/step\n",
      "1/1 [==============================] - ETA: 0s"
     ]
    },
    {
     "name": "stderr",
     "output_type": "stream",
     "text": [
      "c:\\Users\\maxbr\\OneDrive\\Desktop\\CLVSim\\CLVSim\\CLV Sim\\Sim\\features.py:65: FutureWarning: DataFrame.applymap has been deprecated. Use DataFrame.map instead.\n",
      "  frame = frame.applymap(lambda x: x.split(' - price: ')[1].strip()\n",
      "c:\\Users\\maxbr\\OneDrive\\Desktop\\CLVSim\\CLVSim\\CLV Sim\\Sim\\features.py:65: FutureWarning: DataFrame.applymap has been deprecated. Use DataFrame.map instead.\n",
      "  frame = frame.applymap(lambda x: x.split(' - price: ')[1].strip()\n"
     ]
    },
    {
     "name": "stdout",
     "output_type": "stream",
     "text": [
      "1/1 [==============================] - 0s 34ms/step\n",
      "489\n",
      "1/1 [==============================] - 0s 90ms/step\n"
     ]
    },
    {
     "name": "stderr",
     "output_type": "stream",
     "text": [
      "c:\\Users\\maxbr\\OneDrive\\Desktop\\CLVSim\\CLVSim\\CLV Sim\\Sim\\features.py:65: FutureWarning: DataFrame.applymap has been deprecated. Use DataFrame.map instead.\n",
      "  frame = frame.applymap(lambda x: x.split(' - price: ')[1].strip()\n",
      "c:\\Users\\maxbr\\OneDrive\\Desktop\\CLVSim\\CLVSim\\CLV Sim\\Sim\\features.py:65: FutureWarning: DataFrame.applymap has been deprecated. Use DataFrame.map instead.\n",
      "  frame = frame.applymap(lambda x: x.split(' - price: ')[1].strip()\n"
     ]
    },
    {
     "name": "stdout",
     "output_type": "stream",
     "text": [
      "1/1 [==============================] - 0s 20ms/step\n",
      "490\n",
      "1/1 [==============================] - 0s 82ms/step\n",
      "1/1 [==============================] - 0s 20ms/step\n"
     ]
    },
    {
     "name": "stderr",
     "output_type": "stream",
     "text": [
      "c:\\Users\\maxbr\\OneDrive\\Desktop\\CLVSim\\CLVSim\\CLV Sim\\Sim\\features.py:65: FutureWarning: DataFrame.applymap has been deprecated. Use DataFrame.map instead.\n",
      "  frame = frame.applymap(lambda x: x.split(' - price: ')[1].strip()\n",
      "c:\\Users\\maxbr\\OneDrive\\Desktop\\CLVSim\\CLVSim\\CLV Sim\\Sim\\features.py:65: FutureWarning: DataFrame.applymap has been deprecated. Use DataFrame.map instead.\n",
      "  frame = frame.applymap(lambda x: x.split(' - price: ')[1].strip()\n"
     ]
    },
    {
     "name": "stdout",
     "output_type": "stream",
     "text": [
      "491\n",
      "1/1 [==============================] - 0s 103ms/step\n"
     ]
    },
    {
     "name": "stderr",
     "output_type": "stream",
     "text": [
      "c:\\Users\\maxbr\\OneDrive\\Desktop\\CLVSim\\CLVSim\\CLV Sim\\Sim\\features.py:65: FutureWarning: DataFrame.applymap has been deprecated. Use DataFrame.map instead.\n",
      "  frame = frame.applymap(lambda x: x.split(' - price: ')[1].strip()\n",
      "c:\\Users\\maxbr\\OneDrive\\Desktop\\CLVSim\\CLVSim\\CLV Sim\\Sim\\features.py:65: FutureWarning: DataFrame.applymap has been deprecated. Use DataFrame.map instead.\n",
      "  frame = frame.applymap(lambda x: x.split(' - price: ')[1].strip()\n"
     ]
    },
    {
     "name": "stdout",
     "output_type": "stream",
     "text": [
      "1/1 [==============================] - 0s 28ms/step\n",
      "492\n",
      "1/1 [==============================] - 0s 96ms/step\n",
      "1/1 [==============================] - ETA: 0s"
     ]
    },
    {
     "name": "stderr",
     "output_type": "stream",
     "text": [
      "c:\\Users\\maxbr\\OneDrive\\Desktop\\CLVSim\\CLVSim\\CLV Sim\\Sim\\features.py:65: FutureWarning: DataFrame.applymap has been deprecated. Use DataFrame.map instead.\n",
      "  frame = frame.applymap(lambda x: x.split(' - price: ')[1].strip()\n",
      "c:\\Users\\maxbr\\OneDrive\\Desktop\\CLVSim\\CLVSim\\CLV Sim\\Sim\\features.py:65: FutureWarning: DataFrame.applymap has been deprecated. Use DataFrame.map instead.\n",
      "  frame = frame.applymap(lambda x: x.split(' - price: ')[1].strip()\n"
     ]
    },
    {
     "name": "stdout",
     "output_type": "stream",
     "text": [
      "1/1 [==============================] - 0s 16ms/step\n",
      "493\n",
      "1/1 [==============================] - 0s 83ms/step\n",
      "1/1 [==============================] - 0s 16ms/step\n"
     ]
    },
    {
     "name": "stderr",
     "output_type": "stream",
     "text": [
      "c:\\Users\\maxbr\\OneDrive\\Desktop\\CLVSim\\CLVSim\\CLV Sim\\Sim\\features.py:65: FutureWarning: DataFrame.applymap has been deprecated. Use DataFrame.map instead.\n",
      "  frame = frame.applymap(lambda x: x.split(' - price: ')[1].strip()\n",
      "c:\\Users\\maxbr\\OneDrive\\Desktop\\CLVSim\\CLVSim\\CLV Sim\\Sim\\features.py:65: FutureWarning: DataFrame.applymap has been deprecated. Use DataFrame.map instead.\n",
      "  frame = frame.applymap(lambda x: x.split(' - price: ')[1].strip()\n"
     ]
    },
    {
     "name": "stdout",
     "output_type": "stream",
     "text": [
      "494\n",
      "1/1 [==============================] - 0s 92ms/step\n",
      "1/1 [==============================] - ETA: 0s"
     ]
    },
    {
     "name": "stderr",
     "output_type": "stream",
     "text": [
      "c:\\Users\\maxbr\\OneDrive\\Desktop\\CLVSim\\CLVSim\\CLV Sim\\Sim\\features.py:65: FutureWarning: DataFrame.applymap has been deprecated. Use DataFrame.map instead.\n",
      "  frame = frame.applymap(lambda x: x.split(' - price: ')[1].strip()\n",
      "c:\\Users\\maxbr\\OneDrive\\Desktop\\CLVSim\\CLVSim\\CLV Sim\\Sim\\features.py:65: FutureWarning: DataFrame.applymap has been deprecated. Use DataFrame.map instead.\n",
      "  frame = frame.applymap(lambda x: x.split(' - price: ')[1].strip()\n"
     ]
    },
    {
     "name": "stdout",
     "output_type": "stream",
     "text": [
      "1/1 [==============================] - 0s 20ms/step\n",
      "495\n",
      "1/1 [==============================] - 0s 92ms/step\n",
      "1/1 [==============================] - ETA: 0s"
     ]
    },
    {
     "name": "stderr",
     "output_type": "stream",
     "text": [
      "c:\\Users\\maxbr\\OneDrive\\Desktop\\CLVSim\\CLVSim\\CLV Sim\\Sim\\features.py:65: FutureWarning: DataFrame.applymap has been deprecated. Use DataFrame.map instead.\n",
      "  frame = frame.applymap(lambda x: x.split(' - price: ')[1].strip()\n",
      "c:\\Users\\maxbr\\OneDrive\\Desktop\\CLVSim\\CLVSim\\CLV Sim\\Sim\\features.py:65: FutureWarning: DataFrame.applymap has been deprecated. Use DataFrame.map instead.\n",
      "  frame = frame.applymap(lambda x: x.split(' - price: ')[1].strip()\n"
     ]
    },
    {
     "name": "stdout",
     "output_type": "stream",
     "text": [
      "1/1 [==============================] - 0s 20ms/step\n",
      "496\n",
      "1/1 [==============================] - 0s 88ms/step\n"
     ]
    },
    {
     "name": "stderr",
     "output_type": "stream",
     "text": [
      "c:\\Users\\maxbr\\OneDrive\\Desktop\\CLVSim\\CLVSim\\CLV Sim\\Sim\\features.py:65: FutureWarning: DataFrame.applymap has been deprecated. Use DataFrame.map instead.\n",
      "  frame = frame.applymap(lambda x: x.split(' - price: ')[1].strip()\n",
      "c:\\Users\\maxbr\\OneDrive\\Desktop\\CLVSim\\CLVSim\\CLV Sim\\Sim\\features.py:65: FutureWarning: DataFrame.applymap has been deprecated. Use DataFrame.map instead.\n",
      "  frame = frame.applymap(lambda x: x.split(' - price: ')[1].strip()\n"
     ]
    },
    {
     "name": "stdout",
     "output_type": "stream",
     "text": [
      "1/1 [==============================] - 0s 32ms/step\n",
      "497\n",
      "1/1 [==============================] - 0s 97ms/step\n",
      "1/1 [==============================] - 0s 16ms/step\n"
     ]
    },
    {
     "name": "stderr",
     "output_type": "stream",
     "text": [
      "c:\\Users\\maxbr\\OneDrive\\Desktop\\CLVSim\\CLVSim\\CLV Sim\\Sim\\features.py:65: FutureWarning: DataFrame.applymap has been deprecated. Use DataFrame.map instead.\n",
      "  frame = frame.applymap(lambda x: x.split(' - price: ')[1].strip()\n",
      "c:\\Users\\maxbr\\OneDrive\\Desktop\\CLVSim\\CLVSim\\CLV Sim\\Sim\\features.py:65: FutureWarning: DataFrame.applymap has been deprecated. Use DataFrame.map instead.\n",
      "  frame = frame.applymap(lambda x: x.split(' - price: ')[1].strip()\n"
     ]
    },
    {
     "name": "stdout",
     "output_type": "stream",
     "text": [
      "498\n",
      "1/1 [==============================] - 0s 81ms/step\n"
     ]
    },
    {
     "name": "stderr",
     "output_type": "stream",
     "text": [
      "c:\\Users\\maxbr\\OneDrive\\Desktop\\CLVSim\\CLVSim\\CLV Sim\\Sim\\features.py:65: FutureWarning: DataFrame.applymap has been deprecated. Use DataFrame.map instead.\n",
      "  frame = frame.applymap(lambda x: x.split(' - price: ')[1].strip()\n",
      "c:\\Users\\maxbr\\OneDrive\\Desktop\\CLVSim\\CLVSim\\CLV Sim\\Sim\\features.py:65: FutureWarning: DataFrame.applymap has been deprecated. Use DataFrame.map instead.\n",
      "  frame = frame.applymap(lambda x: x.split(' - price: ')[1].strip()\n"
     ]
    },
    {
     "name": "stdout",
     "output_type": "stream",
     "text": [
      "1/1 [==============================] - 0s 16ms/step\n",
      "499\n",
      "1/1 [==============================] - 0s 78ms/step\n",
      "1/1 [==============================] - ETA: 0s"
     ]
    },
    {
     "name": "stderr",
     "output_type": "stream",
     "text": [
      "c:\\Users\\maxbr\\OneDrive\\Desktop\\CLVSim\\CLVSim\\CLV Sim\\Sim\\features.py:65: FutureWarning: DataFrame.applymap has been deprecated. Use DataFrame.map instead.\n",
      "  frame = frame.applymap(lambda x: x.split(' - price: ')[1].strip()\n",
      "c:\\Users\\maxbr\\OneDrive\\Desktop\\CLVSim\\CLVSim\\CLV Sim\\Sim\\features.py:65: FutureWarning: DataFrame.applymap has been deprecated. Use DataFrame.map instead.\n",
      "  frame = frame.applymap(lambda x: x.split(' - price: ')[1].strip()\n"
     ]
    },
    {
     "name": "stdout",
     "output_type": "stream",
     "text": [
      "1/1 [==============================] - 0s 16ms/step\n",
      "500\n",
      "1/1 [==============================] - 0s 78ms/step\n"
     ]
    },
    {
     "name": "stderr",
     "output_type": "stream",
     "text": [
      "c:\\Users\\maxbr\\OneDrive\\Desktop\\CLVSim\\CLVSim\\CLV Sim\\Sim\\features.py:65: FutureWarning: DataFrame.applymap has been deprecated. Use DataFrame.map instead.\n",
      "  frame = frame.applymap(lambda x: x.split(' - price: ')[1].strip()\n",
      "c:\\Users\\maxbr\\OneDrive\\Desktop\\CLVSim\\CLVSim\\CLV Sim\\Sim\\features.py:65: FutureWarning: DataFrame.applymap has been deprecated. Use DataFrame.map instead.\n",
      "  frame = frame.applymap(lambda x: x.split(' - price: ')[1].strip()\n"
     ]
    },
    {
     "name": "stdout",
     "output_type": "stream",
     "text": [
      "1/1 [==============================] - 0s 16ms/step\n",
      "501\n",
      "1/1 [==============================] - 0s 94ms/step\n",
      "1/1 [==============================] - 0s 16ms/step\n"
     ]
    },
    {
     "name": "stderr",
     "output_type": "stream",
     "text": [
      "c:\\Users\\maxbr\\OneDrive\\Desktop\\CLVSim\\CLVSim\\CLV Sim\\Sim\\features.py:65: FutureWarning: DataFrame.applymap has been deprecated. Use DataFrame.map instead.\n",
      "  frame = frame.applymap(lambda x: x.split(' - price: ')[1].strip()\n",
      "c:\\Users\\maxbr\\OneDrive\\Desktop\\CLVSim\\CLVSim\\CLV Sim\\Sim\\features.py:65: FutureWarning: DataFrame.applymap has been deprecated. Use DataFrame.map instead.\n",
      "  frame = frame.applymap(lambda x: x.split(' - price: ')[1].strip()\n"
     ]
    },
    {
     "name": "stdout",
     "output_type": "stream",
     "text": [
      "502\n",
      "1/1 [==============================] - 0s 87ms/step\n",
      "1/1 [==============================] - 0s 21ms/step\n"
     ]
    },
    {
     "name": "stderr",
     "output_type": "stream",
     "text": [
      "c:\\Users\\maxbr\\OneDrive\\Desktop\\CLVSim\\CLVSim\\CLV Sim\\Sim\\features.py:65: FutureWarning: DataFrame.applymap has been deprecated. Use DataFrame.map instead.\n",
      "  frame = frame.applymap(lambda x: x.split(' - price: ')[1].strip()\n",
      "c:\\Users\\maxbr\\OneDrive\\Desktop\\CLVSim\\CLVSim\\CLV Sim\\Sim\\features.py:65: FutureWarning: DataFrame.applymap has been deprecated. Use DataFrame.map instead.\n",
      "  frame = frame.applymap(lambda x: x.split(' - price: ')[1].strip()\n"
     ]
    },
    {
     "name": "stdout",
     "output_type": "stream",
     "text": [
      "503\n",
      "1/1 [==============================] - 0s 88ms/step\n"
     ]
    },
    {
     "name": "stderr",
     "output_type": "stream",
     "text": [
      "c:\\Users\\maxbr\\OneDrive\\Desktop\\CLVSim\\CLVSim\\CLV Sim\\Sim\\features.py:65: FutureWarning: DataFrame.applymap has been deprecated. Use DataFrame.map instead.\n",
      "  frame = frame.applymap(lambda x: x.split(' - price: ')[1].strip()\n",
      "c:\\Users\\maxbr\\OneDrive\\Desktop\\CLVSim\\CLVSim\\CLV Sim\\Sim\\features.py:65: FutureWarning: DataFrame.applymap has been deprecated. Use DataFrame.map instead.\n",
      "  frame = frame.applymap(lambda x: x.split(' - price: ')[1].strip()\n"
     ]
    },
    {
     "name": "stdout",
     "output_type": "stream",
     "text": [
      "1/1 [==============================] - 0s 19ms/step\n",
      "504\n",
      "1/1 [==============================] - 0s 87ms/step\n",
      "1/1 [==============================] - ETA: 0s"
     ]
    },
    {
     "name": "stderr",
     "output_type": "stream",
     "text": [
      "c:\\Users\\maxbr\\OneDrive\\Desktop\\CLVSim\\CLVSim\\CLV Sim\\Sim\\features.py:65: FutureWarning: DataFrame.applymap has been deprecated. Use DataFrame.map instead.\n",
      "  frame = frame.applymap(lambda x: x.split(' - price: ')[1].strip()\n",
      "c:\\Users\\maxbr\\OneDrive\\Desktop\\CLVSim\\CLVSim\\CLV Sim\\Sim\\features.py:65: FutureWarning: DataFrame.applymap has been deprecated. Use DataFrame.map instead.\n",
      "  frame = frame.applymap(lambda x: x.split(' - price: ')[1].strip()\n"
     ]
    },
    {
     "name": "stdout",
     "output_type": "stream",
     "text": [
      "1/1 [==============================] - 0s 21ms/step\n",
      "505\n",
      "1/1 [==============================] - 0s 90ms/step\n"
     ]
    },
    {
     "name": "stderr",
     "output_type": "stream",
     "text": [
      "c:\\Users\\maxbr\\OneDrive\\Desktop\\CLVSim\\CLVSim\\CLV Sim\\Sim\\features.py:65: FutureWarning: DataFrame.applymap has been deprecated. Use DataFrame.map instead.\n",
      "  frame = frame.applymap(lambda x: x.split(' - price: ')[1].strip()\n",
      "c:\\Users\\maxbr\\OneDrive\\Desktop\\CLVSim\\CLVSim\\CLV Sim\\Sim\\features.py:65: FutureWarning: DataFrame.applymap has been deprecated. Use DataFrame.map instead.\n",
      "  frame = frame.applymap(lambda x: x.split(' - price: ')[1].strip()\n"
     ]
    },
    {
     "name": "stdout",
     "output_type": "stream",
     "text": [
      "1/1 [==============================] - 0s 20ms/step\n",
      "506\n",
      "1/1 [==============================] - 0s 87ms/step\n",
      "1/1 [==============================] - 0s 20ms/step\n"
     ]
    },
    {
     "name": "stderr",
     "output_type": "stream",
     "text": [
      "c:\\Users\\maxbr\\OneDrive\\Desktop\\CLVSim\\CLVSim\\CLV Sim\\Sim\\features.py:65: FutureWarning: DataFrame.applymap has been deprecated. Use DataFrame.map instead.\n",
      "  frame = frame.applymap(lambda x: x.split(' - price: ')[1].strip()\n",
      "c:\\Users\\maxbr\\OneDrive\\Desktop\\CLVSim\\CLVSim\\CLV Sim\\Sim\\features.py:65: FutureWarning: DataFrame.applymap has been deprecated. Use DataFrame.map instead.\n",
      "  frame = frame.applymap(lambda x: x.split(' - price: ')[1].strip()\n"
     ]
    },
    {
     "name": "stdout",
     "output_type": "stream",
     "text": [
      "507\n",
      "1/1 [==============================] - 0s 94ms/step\n",
      "1/1 [==============================] - 0s 15ms/step\n"
     ]
    },
    {
     "name": "stderr",
     "output_type": "stream",
     "text": [
      "c:\\Users\\maxbr\\OneDrive\\Desktop\\CLVSim\\CLVSim\\CLV Sim\\Sim\\features.py:65: FutureWarning: DataFrame.applymap has been deprecated. Use DataFrame.map instead.\n",
      "  frame = frame.applymap(lambda x: x.split(' - price: ')[1].strip()\n",
      "c:\\Users\\maxbr\\OneDrive\\Desktop\\CLVSim\\CLVSim\\CLV Sim\\Sim\\features.py:65: FutureWarning: DataFrame.applymap has been deprecated. Use DataFrame.map instead.\n",
      "  frame = frame.applymap(lambda x: x.split(' - price: ')[1].strip()\n"
     ]
    },
    {
     "name": "stdout",
     "output_type": "stream",
     "text": [
      "508\n",
      "1/1 [==============================] - 0s 94ms/step\n",
      "1/1 [==============================] - 0s 16ms/step\n"
     ]
    },
    {
     "name": "stderr",
     "output_type": "stream",
     "text": [
      "c:\\Users\\maxbr\\OneDrive\\Desktop\\CLVSim\\CLVSim\\CLV Sim\\Sim\\features.py:65: FutureWarning: DataFrame.applymap has been deprecated. Use DataFrame.map instead.\n",
      "  frame = frame.applymap(lambda x: x.split(' - price: ')[1].strip()\n",
      "c:\\Users\\maxbr\\OneDrive\\Desktop\\CLVSim\\CLVSim\\CLV Sim\\Sim\\features.py:65: FutureWarning: DataFrame.applymap has been deprecated. Use DataFrame.map instead.\n",
      "  frame = frame.applymap(lambda x: x.split(' - price: ')[1].strip()\n"
     ]
    },
    {
     "name": "stdout",
     "output_type": "stream",
     "text": [
      "509\n",
      "1/1 [==============================] - 0s 94ms/step\n",
      "1/1 [==============================] - 0s 16ms/step\n"
     ]
    },
    {
     "name": "stderr",
     "output_type": "stream",
     "text": [
      "c:\\Users\\maxbr\\OneDrive\\Desktop\\CLVSim\\CLVSim\\CLV Sim\\Sim\\features.py:65: FutureWarning: DataFrame.applymap has been deprecated. Use DataFrame.map instead.\n",
      "  frame = frame.applymap(lambda x: x.split(' - price: ')[1].strip()\n",
      "c:\\Users\\maxbr\\OneDrive\\Desktop\\CLVSim\\CLVSim\\CLV Sim\\Sim\\features.py:65: FutureWarning: DataFrame.applymap has been deprecated. Use DataFrame.map instead.\n",
      "  frame = frame.applymap(lambda x: x.split(' - price: ')[1].strip()\n"
     ]
    },
    {
     "name": "stdout",
     "output_type": "stream",
     "text": [
      "510\n",
      "1/1 [==============================] - 0s 94ms/step\n",
      "1/1 [==============================] - 0s 16ms/step\n"
     ]
    },
    {
     "name": "stderr",
     "output_type": "stream",
     "text": [
      "c:\\Users\\maxbr\\OneDrive\\Desktop\\CLVSim\\CLVSim\\CLV Sim\\Sim\\features.py:65: FutureWarning: DataFrame.applymap has been deprecated. Use DataFrame.map instead.\n",
      "  frame = frame.applymap(lambda x: x.split(' - price: ')[1].strip()\n",
      "c:\\Users\\maxbr\\OneDrive\\Desktop\\CLVSim\\CLVSim\\CLV Sim\\Sim\\features.py:65: FutureWarning: DataFrame.applymap has been deprecated. Use DataFrame.map instead.\n",
      "  frame = frame.applymap(lambda x: x.split(' - price: ')[1].strip()\n"
     ]
    },
    {
     "name": "stdout",
     "output_type": "stream",
     "text": [
      "511\n",
      "1/1 [==============================] - 0s 98ms/step\n",
      "1/1 [==============================] - 0s 16ms/step\n"
     ]
    },
    {
     "name": "stderr",
     "output_type": "stream",
     "text": [
      "c:\\Users\\maxbr\\OneDrive\\Desktop\\CLVSim\\CLVSim\\CLV Sim\\Sim\\features.py:65: FutureWarning: DataFrame.applymap has been deprecated. Use DataFrame.map instead.\n",
      "  frame = frame.applymap(lambda x: x.split(' - price: ')[1].strip()\n",
      "c:\\Users\\maxbr\\OneDrive\\Desktop\\CLVSim\\CLVSim\\CLV Sim\\Sim\\features.py:65: FutureWarning: DataFrame.applymap has been deprecated. Use DataFrame.map instead.\n",
      "  frame = frame.applymap(lambda x: x.split(' - price: ')[1].strip()\n"
     ]
    },
    {
     "name": "stdout",
     "output_type": "stream",
     "text": [
      "512\n",
      "1/1 [==============================] - 0s 103ms/step\n",
      "1/1 [==============================] - ETA: 0s"
     ]
    },
    {
     "name": "stderr",
     "output_type": "stream",
     "text": [
      "c:\\Users\\maxbr\\OneDrive\\Desktop\\CLVSim\\CLVSim\\CLV Sim\\Sim\\features.py:65: FutureWarning: DataFrame.applymap has been deprecated. Use DataFrame.map instead.\n",
      "  frame = frame.applymap(lambda x: x.split(' - price: ')[1].strip()\n",
      "c:\\Users\\maxbr\\OneDrive\\Desktop\\CLVSim\\CLVSim\\CLV Sim\\Sim\\features.py:65: FutureWarning: DataFrame.applymap has been deprecated. Use DataFrame.map instead.\n",
      "  frame = frame.applymap(lambda x: x.split(' - price: ')[1].strip()\n"
     ]
    },
    {
     "name": "stdout",
     "output_type": "stream",
     "text": [
      "1/1 [==============================] - 0s 23ms/step\n",
      "513\n",
      "1/1 [==============================] - 0s 85ms/step\n",
      "1/1 [==============================] - ETA: 0s"
     ]
    },
    {
     "name": "stderr",
     "output_type": "stream",
     "text": [
      "c:\\Users\\maxbr\\OneDrive\\Desktop\\CLVSim\\CLVSim\\CLV Sim\\Sim\\features.py:65: FutureWarning: DataFrame.applymap has been deprecated. Use DataFrame.map instead.\n",
      "  frame = frame.applymap(lambda x: x.split(' - price: ')[1].strip()\n",
      "c:\\Users\\maxbr\\OneDrive\\Desktop\\CLVSim\\CLVSim\\CLV Sim\\Sim\\features.py:65: FutureWarning: DataFrame.applymap has been deprecated. Use DataFrame.map instead.\n",
      "  frame = frame.applymap(lambda x: x.split(' - price: ')[1].strip()\n"
     ]
    },
    {
     "name": "stdout",
     "output_type": "stream",
     "text": [
      "1/1 [==============================] - 0s 31ms/step\n",
      "514\n",
      "1/1 [==============================] - 0s 94ms/step\n",
      "1/1 [==============================] - 0s 16ms/step\n"
     ]
    },
    {
     "name": "stderr",
     "output_type": "stream",
     "text": [
      "c:\\Users\\maxbr\\OneDrive\\Desktop\\CLVSim\\CLVSim\\CLV Sim\\Sim\\features.py:65: FutureWarning: DataFrame.applymap has been deprecated. Use DataFrame.map instead.\n",
      "  frame = frame.applymap(lambda x: x.split(' - price: ')[1].strip()\n",
      "c:\\Users\\maxbr\\OneDrive\\Desktop\\CLVSim\\CLVSim\\CLV Sim\\Sim\\features.py:65: FutureWarning: DataFrame.applymap has been deprecated. Use DataFrame.map instead.\n",
      "  frame = frame.applymap(lambda x: x.split(' - price: ')[1].strip()\n"
     ]
    },
    {
     "name": "stdout",
     "output_type": "stream",
     "text": [
      "515\n",
      "1/1 [==============================] - 0s 90ms/step\n",
      "1/1 [==============================] - 0s 16ms/step\n"
     ]
    },
    {
     "name": "stderr",
     "output_type": "stream",
     "text": [
      "c:\\Users\\maxbr\\OneDrive\\Desktop\\CLVSim\\CLVSim\\CLV Sim\\Sim\\features.py:65: FutureWarning: DataFrame.applymap has been deprecated. Use DataFrame.map instead.\n",
      "  frame = frame.applymap(lambda x: x.split(' - price: ')[1].strip()\n",
      "c:\\Users\\maxbr\\OneDrive\\Desktop\\CLVSim\\CLVSim\\CLV Sim\\Sim\\features.py:65: FutureWarning: DataFrame.applymap has been deprecated. Use DataFrame.map instead.\n",
      "  frame = frame.applymap(lambda x: x.split(' - price: ')[1].strip()\n"
     ]
    },
    {
     "name": "stdout",
     "output_type": "stream",
     "text": [
      "516\n",
      "1/1 [==============================] - 0s 94ms/step\n",
      "1/1 [==============================] - 0s 31ms/step\n"
     ]
    },
    {
     "name": "stderr",
     "output_type": "stream",
     "text": [
      "c:\\Users\\maxbr\\OneDrive\\Desktop\\CLVSim\\CLVSim\\CLV Sim\\Sim\\features.py:65: FutureWarning: DataFrame.applymap has been deprecated. Use DataFrame.map instead.\n",
      "  frame = frame.applymap(lambda x: x.split(' - price: ')[1].strip()\n",
      "c:\\Users\\maxbr\\OneDrive\\Desktop\\CLVSim\\CLVSim\\CLV Sim\\Sim\\features.py:65: FutureWarning: DataFrame.applymap has been deprecated. Use DataFrame.map instead.\n",
      "  frame = frame.applymap(lambda x: x.split(' - price: ')[1].strip()\n"
     ]
    },
    {
     "name": "stdout",
     "output_type": "stream",
     "text": [
      "517\n",
      "1/1 [==============================] - 0s 84ms/step\n",
      "1/1 [==============================] - 0s 16ms/step\n"
     ]
    },
    {
     "name": "stderr",
     "output_type": "stream",
     "text": [
      "c:\\Users\\maxbr\\OneDrive\\Desktop\\CLVSim\\CLVSim\\CLV Sim\\Sim\\features.py:65: FutureWarning: DataFrame.applymap has been deprecated. Use DataFrame.map instead.\n",
      "  frame = frame.applymap(lambda x: x.split(' - price: ')[1].strip()\n",
      "c:\\Users\\maxbr\\OneDrive\\Desktop\\CLVSim\\CLVSim\\CLV Sim\\Sim\\features.py:65: FutureWarning: DataFrame.applymap has been deprecated. Use DataFrame.map instead.\n",
      "  frame = frame.applymap(lambda x: x.split(' - price: ')[1].strip()\n"
     ]
    },
    {
     "name": "stdout",
     "output_type": "stream",
     "text": [
      "518\n",
      "1/1 [==============================] - 0s 92ms/step\n",
      "1/1 [==============================] - 0s 16ms/step\n"
     ]
    },
    {
     "name": "stderr",
     "output_type": "stream",
     "text": [
      "c:\\Users\\maxbr\\OneDrive\\Desktop\\CLVSim\\CLVSim\\CLV Sim\\Sim\\features.py:65: FutureWarning: DataFrame.applymap has been deprecated. Use DataFrame.map instead.\n",
      "  frame = frame.applymap(lambda x: x.split(' - price: ')[1].strip()\n",
      "c:\\Users\\maxbr\\OneDrive\\Desktop\\CLVSim\\CLVSim\\CLV Sim\\Sim\\features.py:65: FutureWarning: DataFrame.applymap has been deprecated. Use DataFrame.map instead.\n",
      "  frame = frame.applymap(lambda x: x.split(' - price: ')[1].strip()\n"
     ]
    },
    {
     "name": "stdout",
     "output_type": "stream",
     "text": [
      "519\n",
      "1/1 [==============================] - 0s 96ms/step\n",
      "1/1 [==============================] - ETA: 0s"
     ]
    },
    {
     "name": "stderr",
     "output_type": "stream",
     "text": [
      "c:\\Users\\maxbr\\OneDrive\\Desktop\\CLVSim\\CLVSim\\CLV Sim\\Sim\\features.py:65: FutureWarning: DataFrame.applymap has been deprecated. Use DataFrame.map instead.\n",
      "  frame = frame.applymap(lambda x: x.split(' - price: ')[1].strip()\n",
      "c:\\Users\\maxbr\\OneDrive\\Desktop\\CLVSim\\CLVSim\\CLV Sim\\Sim\\features.py:65: FutureWarning: DataFrame.applymap has been deprecated. Use DataFrame.map instead.\n",
      "  frame = frame.applymap(lambda x: x.split(' - price: ')[1].strip()\n"
     ]
    },
    {
     "name": "stdout",
     "output_type": "stream",
     "text": [
      "1/1 [==============================] - 0s 31ms/step\n",
      "520\n",
      "1/1 [==============================] - 0s 83ms/step\n",
      "1/1 [==============================] - 0s 27ms/step\n"
     ]
    },
    {
     "name": "stderr",
     "output_type": "stream",
     "text": [
      "c:\\Users\\maxbr\\OneDrive\\Desktop\\CLVSim\\CLVSim\\CLV Sim\\Sim\\features.py:65: FutureWarning: DataFrame.applymap has been deprecated. Use DataFrame.map instead.\n",
      "  frame = frame.applymap(lambda x: x.split(' - price: ')[1].strip()\n",
      "c:\\Users\\maxbr\\OneDrive\\Desktop\\CLVSim\\CLVSim\\CLV Sim\\Sim\\features.py:65: FutureWarning: DataFrame.applymap has been deprecated. Use DataFrame.map instead.\n",
      "  frame = frame.applymap(lambda x: x.split(' - price: ')[1].strip()\n"
     ]
    },
    {
     "name": "stdout",
     "output_type": "stream",
     "text": [
      "521\n",
      "1/1 [==============================] - 0s 78ms/step\n"
     ]
    },
    {
     "name": "stderr",
     "output_type": "stream",
     "text": [
      "c:\\Users\\maxbr\\OneDrive\\Desktop\\CLVSim\\CLVSim\\CLV Sim\\Sim\\features.py:65: FutureWarning: DataFrame.applymap has been deprecated. Use DataFrame.map instead.\n",
      "  frame = frame.applymap(lambda x: x.split(' - price: ')[1].strip()\n",
      "c:\\Users\\maxbr\\OneDrive\\Desktop\\CLVSim\\CLVSim\\CLV Sim\\Sim\\features.py:65: FutureWarning: DataFrame.applymap has been deprecated. Use DataFrame.map instead.\n",
      "  frame = frame.applymap(lambda x: x.split(' - price: ')[1].strip()\n"
     ]
    },
    {
     "name": "stdout",
     "output_type": "stream",
     "text": [
      "1/1 [==============================] - 0s 21ms/step\n",
      "522\n",
      "1/1 [==============================] - 0s 98ms/step\n",
      "1/1 [==============================] - 0s 22ms/step\n"
     ]
    },
    {
     "name": "stderr",
     "output_type": "stream",
     "text": [
      "c:\\Users\\maxbr\\OneDrive\\Desktop\\CLVSim\\CLVSim\\CLV Sim\\Sim\\features.py:65: FutureWarning: DataFrame.applymap has been deprecated. Use DataFrame.map instead.\n",
      "  frame = frame.applymap(lambda x: x.split(' - price: ')[1].strip()\n",
      "c:\\Users\\maxbr\\OneDrive\\Desktop\\CLVSim\\CLVSim\\CLV Sim\\Sim\\features.py:65: FutureWarning: DataFrame.applymap has been deprecated. Use DataFrame.map instead.\n",
      "  frame = frame.applymap(lambda x: x.split(' - price: ')[1].strip()\n"
     ]
    },
    {
     "name": "stdout",
     "output_type": "stream",
     "text": [
      "523\n",
      "1/1 [==============================] - 0s 84ms/step\n",
      "1/1 [==============================] - ETA: 0s"
     ]
    },
    {
     "name": "stderr",
     "output_type": "stream",
     "text": [
      "c:\\Users\\maxbr\\OneDrive\\Desktop\\CLVSim\\CLVSim\\CLV Sim\\Sim\\features.py:65: FutureWarning: DataFrame.applymap has been deprecated. Use DataFrame.map instead.\n",
      "  frame = frame.applymap(lambda x: x.split(' - price: ')[1].strip()\n",
      "c:\\Users\\maxbr\\OneDrive\\Desktop\\CLVSim\\CLVSim\\CLV Sim\\Sim\\features.py:65: FutureWarning: DataFrame.applymap has been deprecated. Use DataFrame.map instead.\n",
      "  frame = frame.applymap(lambda x: x.split(' - price: ')[1].strip()\n"
     ]
    },
    {
     "name": "stdout",
     "output_type": "stream",
     "text": [
      "1/1 [==============================] - 0s 30ms/step\n",
      "524\n",
      "1/1 [==============================] - 0s 89ms/step\n",
      "1/1 [==============================] - ETA: 0s"
     ]
    },
    {
     "name": "stderr",
     "output_type": "stream",
     "text": [
      "c:\\Users\\maxbr\\OneDrive\\Desktop\\CLVSim\\CLVSim\\CLV Sim\\Sim\\features.py:65: FutureWarning: DataFrame.applymap has been deprecated. Use DataFrame.map instead.\n",
      "  frame = frame.applymap(lambda x: x.split(' - price: ')[1].strip()\n",
      "c:\\Users\\maxbr\\OneDrive\\Desktop\\CLVSim\\CLVSim\\CLV Sim\\Sim\\features.py:65: FutureWarning: DataFrame.applymap has been deprecated. Use DataFrame.map instead.\n",
      "  frame = frame.applymap(lambda x: x.split(' - price: ')[1].strip()\n"
     ]
    },
    {
     "name": "stdout",
     "output_type": "stream",
     "text": [
      "1/1 [==============================] - 0s 22ms/step\n",
      "525\n",
      "1/1 [==============================] - 0s 89ms/step\n",
      "1/1 [==============================] - ETA: 0s"
     ]
    },
    {
     "name": "stderr",
     "output_type": "stream",
     "text": [
      "c:\\Users\\maxbr\\OneDrive\\Desktop\\CLVSim\\CLVSim\\CLV Sim\\Sim\\features.py:65: FutureWarning: DataFrame.applymap has been deprecated. Use DataFrame.map instead.\n",
      "  frame = frame.applymap(lambda x: x.split(' - price: ')[1].strip()\n",
      "c:\\Users\\maxbr\\OneDrive\\Desktop\\CLVSim\\CLVSim\\CLV Sim\\Sim\\features.py:65: FutureWarning: DataFrame.applymap has been deprecated. Use DataFrame.map instead.\n",
      "  frame = frame.applymap(lambda x: x.split(' - price: ')[1].strip()\n"
     ]
    },
    {
     "name": "stdout",
     "output_type": "stream",
     "text": [
      "1/1 [==============================] - 0s 18ms/step\n",
      "526\n",
      "1/1 [==============================] - 0s 75ms/step\n",
      "1/1 [==============================] - 0s 16ms/step\n"
     ]
    },
    {
     "name": "stderr",
     "output_type": "stream",
     "text": [
      "c:\\Users\\maxbr\\OneDrive\\Desktop\\CLVSim\\CLVSim\\CLV Sim\\Sim\\features.py:65: FutureWarning: DataFrame.applymap has been deprecated. Use DataFrame.map instead.\n",
      "  frame = frame.applymap(lambda x: x.split(' - price: ')[1].strip()\n",
      "c:\\Users\\maxbr\\OneDrive\\Desktop\\CLVSim\\CLVSim\\CLV Sim\\Sim\\features.py:65: FutureWarning: DataFrame.applymap has been deprecated. Use DataFrame.map instead.\n",
      "  frame = frame.applymap(lambda x: x.split(' - price: ')[1].strip()\n"
     ]
    },
    {
     "name": "stdout",
     "output_type": "stream",
     "text": [
      "527\n",
      "1/1 [==============================] - 0s 100ms/step\n"
     ]
    },
    {
     "name": "stderr",
     "output_type": "stream",
     "text": [
      "c:\\Users\\maxbr\\OneDrive\\Desktop\\CLVSim\\CLVSim\\CLV Sim\\Sim\\features.py:65: FutureWarning: DataFrame.applymap has been deprecated. Use DataFrame.map instead.\n",
      "  frame = frame.applymap(lambda x: x.split(' - price: ')[1].strip()\n",
      "c:\\Users\\maxbr\\OneDrive\\Desktop\\CLVSim\\CLVSim\\CLV Sim\\Sim\\features.py:65: FutureWarning: DataFrame.applymap has been deprecated. Use DataFrame.map instead.\n",
      "  frame = frame.applymap(lambda x: x.split(' - price: ')[1].strip()\n"
     ]
    },
    {
     "name": "stdout",
     "output_type": "stream",
     "text": [
      "1/1 [==============================] - 0s 21ms/step\n",
      "528\n",
      "1/1 [==============================] - 0s 83ms/step\n",
      "1/1 [==============================] - 0s 16ms/step\n"
     ]
    },
    {
     "name": "stderr",
     "output_type": "stream",
     "text": [
      "c:\\Users\\maxbr\\OneDrive\\Desktop\\CLVSim\\CLVSim\\CLV Sim\\Sim\\features.py:65: FutureWarning: DataFrame.applymap has been deprecated. Use DataFrame.map instead.\n",
      "  frame = frame.applymap(lambda x: x.split(' - price: ')[1].strip()\n",
      "c:\\Users\\maxbr\\OneDrive\\Desktop\\CLVSim\\CLVSim\\CLV Sim\\Sim\\features.py:65: FutureWarning: DataFrame.applymap has been deprecated. Use DataFrame.map instead.\n",
      "  frame = frame.applymap(lambda x: x.split(' - price: ')[1].strip()\n"
     ]
    },
    {
     "name": "stdout",
     "output_type": "stream",
     "text": [
      "529\n",
      "1/1 [==============================] - 0s 91ms/step\n"
     ]
    },
    {
     "name": "stderr",
     "output_type": "stream",
     "text": [
      "c:\\Users\\maxbr\\OneDrive\\Desktop\\CLVSim\\CLVSim\\CLV Sim\\Sim\\features.py:65: FutureWarning: DataFrame.applymap has been deprecated. Use DataFrame.map instead.\n",
      "  frame = frame.applymap(lambda x: x.split(' - price: ')[1].strip()\n",
      "c:\\Users\\maxbr\\OneDrive\\Desktop\\CLVSim\\CLVSim\\CLV Sim\\Sim\\features.py:65: FutureWarning: DataFrame.applymap has been deprecated. Use DataFrame.map instead.\n",
      "  frame = frame.applymap(lambda x: x.split(' - price: ')[1].strip()\n"
     ]
    },
    {
     "name": "stdout",
     "output_type": "stream",
     "text": [
      "1/1 [==============================] - 0s 31ms/step\n",
      "530\n",
      "1/1 [==============================] - 0s 84ms/step\n",
      "1/1 [==============================] - 0s 16ms/step\n"
     ]
    },
    {
     "name": "stderr",
     "output_type": "stream",
     "text": [
      "c:\\Users\\maxbr\\OneDrive\\Desktop\\CLVSim\\CLVSim\\CLV Sim\\Sim\\features.py:65: FutureWarning: DataFrame.applymap has been deprecated. Use DataFrame.map instead.\n",
      "  frame = frame.applymap(lambda x: x.split(' - price: ')[1].strip()\n",
      "c:\\Users\\maxbr\\OneDrive\\Desktop\\CLVSim\\CLVSim\\CLV Sim\\Sim\\features.py:65: FutureWarning: DataFrame.applymap has been deprecated. Use DataFrame.map instead.\n",
      "  frame = frame.applymap(lambda x: x.split(' - price: ')[1].strip()\n"
     ]
    },
    {
     "name": "stdout",
     "output_type": "stream",
     "text": [
      "531\n",
      "1/1 [==============================] - 0s 82ms/step\n",
      "1/1 [==============================] - 0s 16ms/step\n"
     ]
    },
    {
     "name": "stderr",
     "output_type": "stream",
     "text": [
      "c:\\Users\\maxbr\\OneDrive\\Desktop\\CLVSim\\CLVSim\\CLV Sim\\Sim\\features.py:65: FutureWarning: DataFrame.applymap has been deprecated. Use DataFrame.map instead.\n",
      "  frame = frame.applymap(lambda x: x.split(' - price: ')[1].strip()\n",
      "c:\\Users\\maxbr\\OneDrive\\Desktop\\CLVSim\\CLVSim\\CLV Sim\\Sim\\features.py:65: FutureWarning: DataFrame.applymap has been deprecated. Use DataFrame.map instead.\n",
      "  frame = frame.applymap(lambda x: x.split(' - price: ')[1].strip()\n"
     ]
    },
    {
     "name": "stdout",
     "output_type": "stream",
     "text": [
      "532\n",
      "1/1 [==============================] - 0s 84ms/step\n",
      "1/1 [==============================] - 0s 31ms/step\n"
     ]
    },
    {
     "name": "stderr",
     "output_type": "stream",
     "text": [
      "c:\\Users\\maxbr\\OneDrive\\Desktop\\CLVSim\\CLVSim\\CLV Sim\\Sim\\features.py:65: FutureWarning: DataFrame.applymap has been deprecated. Use DataFrame.map instead.\n",
      "  frame = frame.applymap(lambda x: x.split(' - price: ')[1].strip()\n",
      "c:\\Users\\maxbr\\OneDrive\\Desktop\\CLVSim\\CLVSim\\CLV Sim\\Sim\\features.py:65: FutureWarning: DataFrame.applymap has been deprecated. Use DataFrame.map instead.\n",
      "  frame = frame.applymap(lambda x: x.split(' - price: ')[1].strip()\n"
     ]
    },
    {
     "name": "stdout",
     "output_type": "stream",
     "text": [
      "533\n"
     ]
    },
    {
     "name": "stderr",
     "output_type": "stream",
     "text": [
      "c:\\Users\\maxbr\\OneDrive\\Desktop\\CLVSim\\CLVSim\\CLV Sim\\Sim\\features.py:65: FutureWarning: DataFrame.applymap has been deprecated. Use DataFrame.map instead.\n",
      "  frame = frame.applymap(lambda x: x.split(' - price: ')[1].strip()\n"
     ]
    },
    {
     "ename": "KeyboardInterrupt",
     "evalue": "",
     "output_type": "error",
     "traceback": [
      "\u001b[1;31m---------------------------------------------------------------------------\u001b[0m",
      "\u001b[1;31mKeyboardInterrupt\u001b[0m                         Traceback (most recent call last)",
      "Cell \u001b[1;32mIn[30], line 1\u001b[0m\n\u001b[1;32m----> 1\u001b[0m simpleRNNSim \u001b[38;5;241m=\u001b[39m \u001b[43mperform_sim\u001b[49m\u001b[43m(\u001b[49m\u001b[38;5;241;43m100\u001b[39;49m\u001b[43m,\u001b[49m\u001b[43m \u001b[49m\u001b[43msimpleRNN\u001b[49m\u001b[43m,\u001b[49m\u001b[43m \u001b[49m\u001b[38;5;241;43m20\u001b[39;49m\u001b[43m)\u001b[49m\n",
      "Cell \u001b[1;32mIn[28], line 69\u001b[0m, in \u001b[0;36mperform_sim\u001b[1;34m(wager, model, size)\u001b[0m\n\u001b[0;32m     67\u001b[0m \u001b[38;5;66;03m#extract sequences\u001b[39;00m\n\u001b[0;32m     68\u001b[0m fav_sequence \u001b[38;5;241m=\u001b[39m extract_sequence(fav_frame)\n\u001b[1;32m---> 69\u001b[0m dog_sequence \u001b[38;5;241m=\u001b[39m \u001b[43mextract_sequence\u001b[49m\u001b[43m(\u001b[49m\u001b[43mdog_frame\u001b[49m\u001b[43m)\u001b[49m\n\u001b[0;32m     71\u001b[0m \u001b[38;5;66;03m#generate input data\u001b[39;00m\n\u001b[0;32m     72\u001b[0m fav_seq \u001b[38;5;241m=\u001b[39m fixed_length(fav_sequence, size, \u001b[38;5;124m'\u001b[39m\u001b[38;5;124mlinear\u001b[39m\u001b[38;5;124m'\u001b[39m)\n",
      "File \u001b[1;32mc:\\Users\\maxbr\\OneDrive\\Desktop\\CLVSim\\CLVSim\\CLV Sim\\Sim\\features.py:62\u001b[0m, in \u001b[0;36mextract_sequence\u001b[1;34m(frame)\u001b[0m\n\u001b[0;32m     60\u001b[0m frame \u001b[38;5;241m=\u001b[39m frame\u001b[38;5;241m.\u001b[39miloc[:, \u001b[38;5;241m4\u001b[39m:]\n\u001b[0;32m     61\u001b[0m frame \u001b[38;5;241m=\u001b[39m frame\u001b[38;5;241m.\u001b[39mdropna(axis\u001b[38;5;241m=\u001b[39m\u001b[38;5;241m1\u001b[39m)\n\u001b[1;32m---> 62\u001b[0m split_name \u001b[38;5;241m=\u001b[39m \u001b[43mtime_for_75\u001b[49m\u001b[43m(\u001b[49m\u001b[43mframe\u001b[49m\u001b[43m)\u001b[49m\n\u001b[0;32m     63\u001b[0m split_index \u001b[38;5;241m=\u001b[39m frame\u001b[38;5;241m.\u001b[39mcolumns\u001b[38;5;241m.\u001b[39mget_loc(split_name)\n\u001b[0;32m     65\u001b[0m frame \u001b[38;5;241m=\u001b[39m frame\u001b[38;5;241m.\u001b[39mapplymap(\u001b[38;5;28;01mlambda\u001b[39;00m x: x\u001b[38;5;241m.\u001b[39msplit(\u001b[38;5;124m'\u001b[39m\u001b[38;5;124m - price: \u001b[39m\u001b[38;5;124m'\u001b[39m)[\u001b[38;5;241m1\u001b[39m]\u001b[38;5;241m.\u001b[39mstrip()\n\u001b[0;32m     66\u001b[0m         \u001b[38;5;28;01mif\u001b[39;00m \u001b[38;5;28misinstance\u001b[39m(x, \u001b[38;5;28mstr\u001b[39m) \u001b[38;5;129;01mand\u001b[39;00m \u001b[38;5;124m'\u001b[39m\u001b[38;5;124mprice: \u001b[39m\u001b[38;5;124m'\u001b[39m \u001b[38;5;129;01min\u001b[39;00m x \u001b[38;5;28;01melse\u001b[39;00m x\n\u001b[0;32m     67\u001b[0m     )\n",
      "File \u001b[1;32mc:\\Users\\maxbr\\OneDrive\\Desktop\\CLVSim\\CLVSim\\CLV Sim\\Sim\\features.py:53\u001b[0m, in \u001b[0;36mtime_for_75\u001b[1;34m(frame)\u001b[0m\n\u001b[0;32m     50\u001b[0m target_time \u001b[38;5;241m=\u001b[39m end_time\u001b[38;5;241m-\u001b[39mpd\u001b[38;5;241m.\u001b[39mTimedelta(hours\u001b[38;5;241m=\u001b[39m\u001b[38;5;241m48\u001b[39m)\n\u001b[0;32m     51\u001b[0m row_times \u001b[38;5;241m=\u001b[39m frame\u001b[38;5;241m.\u001b[39miloc[\u001b[38;5;241m0\u001b[39m]\n\u001b[1;32m---> 53\u001b[0m time_diffs \u001b[38;5;241m=\u001b[39m \u001b[43mrow_times\u001b[49m\u001b[38;5;241;43m.\u001b[39;49m\u001b[43mapply\u001b[49m\u001b[43m(\u001b[49m\u001b[38;5;28;43;01mlambda\u001b[39;49;00m\u001b[43m \u001b[49m\u001b[43mx\u001b[49m\u001b[43m:\u001b[49m\u001b[43m \u001b[49m\u001b[38;5;28;43mabs\u001b[39;49m\u001b[43m(\u001b[49m\u001b[43mpd\u001b[49m\u001b[38;5;241;43m.\u001b[39;49m\u001b[43mto_datetime\u001b[49m\u001b[43m(\u001b[49m\u001b[38;5;28;43mstr\u001b[39;49m\u001b[43m(\u001b[49m\u001b[43mx\u001b[49m\u001b[43m)\u001b[49m\u001b[38;5;241;43m.\u001b[39;49m\u001b[43msplit\u001b[49m\u001b[43m(\u001b[49m\u001b[38;5;124;43m'\u001b[39;49m\u001b[38;5;124;43m - price:\u001b[39;49m\u001b[38;5;124;43m'\u001b[39;49m\u001b[43m)\u001b[49m\u001b[43m[\u001b[49m\u001b[38;5;241;43m0\u001b[39;49m\u001b[43m]\u001b[49m\u001b[43m)\u001b[49m\u001b[43m \u001b[49m\u001b[38;5;241;43m-\u001b[39;49m\u001b[43m \u001b[49m\u001b[43mtarget_time\u001b[49m\u001b[43m)\u001b[49m\u001b[43m)\u001b[49m\n\u001b[0;32m     54\u001b[0m closest_col \u001b[38;5;241m=\u001b[39m time_diffs\u001b[38;5;241m.\u001b[39midxmin()\n\u001b[0;32m     56\u001b[0m \u001b[38;5;28;01mreturn\u001b[39;00m closest_col\n",
      "File \u001b[1;32mc:\\Users\\maxbr\\AppData\\Local\\anaconda3\\envs\\tf\\lib\\site-packages\\pandas\\core\\series.py:4917\u001b[0m, in \u001b[0;36mSeries.apply\u001b[1;34m(self, func, convert_dtype, args, by_row, **kwargs)\u001b[0m\n\u001b[0;32m   4789\u001b[0m \u001b[38;5;28;01mdef\u001b[39;00m\u001b[38;5;250m \u001b[39m\u001b[38;5;21mapply\u001b[39m(\n\u001b[0;32m   4790\u001b[0m     \u001b[38;5;28mself\u001b[39m,\n\u001b[0;32m   4791\u001b[0m     func: AggFuncType,\n\u001b[1;32m   (...)\u001b[0m\n\u001b[0;32m   4796\u001b[0m     \u001b[38;5;241m*\u001b[39m\u001b[38;5;241m*\u001b[39mkwargs,\n\u001b[0;32m   4797\u001b[0m ) \u001b[38;5;241m-\u001b[39m\u001b[38;5;241m>\u001b[39m DataFrame \u001b[38;5;241m|\u001b[39m Series:\n\u001b[0;32m   4798\u001b[0m \u001b[38;5;250m    \u001b[39m\u001b[38;5;124;03m\"\"\"\u001b[39;00m\n\u001b[0;32m   4799\u001b[0m \u001b[38;5;124;03m    Invoke function on values of Series.\u001b[39;00m\n\u001b[0;32m   4800\u001b[0m \n\u001b[1;32m   (...)\u001b[0m\n\u001b[0;32m   4915\u001b[0m \u001b[38;5;124;03m    dtype: float64\u001b[39;00m\n\u001b[0;32m   4916\u001b[0m \u001b[38;5;124;03m    \"\"\"\u001b[39;00m\n\u001b[1;32m-> 4917\u001b[0m     \u001b[38;5;28;01mreturn\u001b[39;00m \u001b[43mSeriesApply\u001b[49m\u001b[43m(\u001b[49m\n\u001b[0;32m   4918\u001b[0m \u001b[43m        \u001b[49m\u001b[38;5;28;43mself\u001b[39;49m\u001b[43m,\u001b[49m\n\u001b[0;32m   4919\u001b[0m \u001b[43m        \u001b[49m\u001b[43mfunc\u001b[49m\u001b[43m,\u001b[49m\n\u001b[0;32m   4920\u001b[0m \u001b[43m        \u001b[49m\u001b[43mconvert_dtype\u001b[49m\u001b[38;5;241;43m=\u001b[39;49m\u001b[43mconvert_dtype\u001b[49m\u001b[43m,\u001b[49m\n\u001b[0;32m   4921\u001b[0m \u001b[43m        \u001b[49m\u001b[43mby_row\u001b[49m\u001b[38;5;241;43m=\u001b[39;49m\u001b[43mby_row\u001b[49m\u001b[43m,\u001b[49m\n\u001b[0;32m   4922\u001b[0m \u001b[43m        \u001b[49m\u001b[43margs\u001b[49m\u001b[38;5;241;43m=\u001b[39;49m\u001b[43margs\u001b[49m\u001b[43m,\u001b[49m\n\u001b[0;32m   4923\u001b[0m \u001b[43m        \u001b[49m\u001b[43mkwargs\u001b[49m\u001b[38;5;241;43m=\u001b[39;49m\u001b[43mkwargs\u001b[49m\u001b[43m,\u001b[49m\n\u001b[0;32m   4924\u001b[0m \u001b[43m    \u001b[49m\u001b[43m)\u001b[49m\u001b[38;5;241;43m.\u001b[39;49m\u001b[43mapply\u001b[49m\u001b[43m(\u001b[49m\u001b[43m)\u001b[49m\n",
      "File \u001b[1;32mc:\\Users\\maxbr\\AppData\\Local\\anaconda3\\envs\\tf\\lib\\site-packages\\pandas\\core\\apply.py:1427\u001b[0m, in \u001b[0;36mSeriesApply.apply\u001b[1;34m(self)\u001b[0m\n\u001b[0;32m   1424\u001b[0m     \u001b[38;5;28;01mreturn\u001b[39;00m \u001b[38;5;28mself\u001b[39m\u001b[38;5;241m.\u001b[39mapply_compat()\n\u001b[0;32m   1426\u001b[0m \u001b[38;5;66;03m# self.func is Callable\u001b[39;00m\n\u001b[1;32m-> 1427\u001b[0m \u001b[38;5;28;01mreturn\u001b[39;00m \u001b[38;5;28;43mself\u001b[39;49m\u001b[38;5;241;43m.\u001b[39;49m\u001b[43mapply_standard\u001b[49m\u001b[43m(\u001b[49m\u001b[43m)\u001b[49m\n",
      "File \u001b[1;32mc:\\Users\\maxbr\\AppData\\Local\\anaconda3\\envs\\tf\\lib\\site-packages\\pandas\\core\\apply.py:1507\u001b[0m, in \u001b[0;36mSeriesApply.apply_standard\u001b[1;34m(self)\u001b[0m\n\u001b[0;32m   1501\u001b[0m \u001b[38;5;66;03m# row-wise access\u001b[39;00m\n\u001b[0;32m   1502\u001b[0m \u001b[38;5;66;03m# apply doesn't have a `na_action` keyword and for backward compat reasons\u001b[39;00m\n\u001b[0;32m   1503\u001b[0m \u001b[38;5;66;03m# we need to give `na_action=\"ignore\"` for categorical data.\u001b[39;00m\n\u001b[0;32m   1504\u001b[0m \u001b[38;5;66;03m# TODO: remove the `na_action=\"ignore\"` when that default has been changed in\u001b[39;00m\n\u001b[0;32m   1505\u001b[0m \u001b[38;5;66;03m#  Categorical (GH51645).\u001b[39;00m\n\u001b[0;32m   1506\u001b[0m action \u001b[38;5;241m=\u001b[39m \u001b[38;5;124m\"\u001b[39m\u001b[38;5;124mignore\u001b[39m\u001b[38;5;124m\"\u001b[39m \u001b[38;5;28;01mif\u001b[39;00m \u001b[38;5;28misinstance\u001b[39m(obj\u001b[38;5;241m.\u001b[39mdtype, CategoricalDtype) \u001b[38;5;28;01melse\u001b[39;00m \u001b[38;5;28;01mNone\u001b[39;00m\n\u001b[1;32m-> 1507\u001b[0m mapped \u001b[38;5;241m=\u001b[39m \u001b[43mobj\u001b[49m\u001b[38;5;241;43m.\u001b[39;49m\u001b[43m_map_values\u001b[49m\u001b[43m(\u001b[49m\n\u001b[0;32m   1508\u001b[0m \u001b[43m    \u001b[49m\u001b[43mmapper\u001b[49m\u001b[38;5;241;43m=\u001b[39;49m\u001b[43mcurried\u001b[49m\u001b[43m,\u001b[49m\u001b[43m \u001b[49m\u001b[43mna_action\u001b[49m\u001b[38;5;241;43m=\u001b[39;49m\u001b[43maction\u001b[49m\u001b[43m,\u001b[49m\u001b[43m \u001b[49m\u001b[43mconvert\u001b[49m\u001b[38;5;241;43m=\u001b[39;49m\u001b[38;5;28;43mself\u001b[39;49m\u001b[38;5;241;43m.\u001b[39;49m\u001b[43mconvert_dtype\u001b[49m\n\u001b[0;32m   1509\u001b[0m \u001b[43m\u001b[49m\u001b[43m)\u001b[49m\n\u001b[0;32m   1511\u001b[0m \u001b[38;5;28;01mif\u001b[39;00m \u001b[38;5;28mlen\u001b[39m(mapped) \u001b[38;5;129;01mand\u001b[39;00m \u001b[38;5;28misinstance\u001b[39m(mapped[\u001b[38;5;241m0\u001b[39m], ABCSeries):\n\u001b[0;32m   1512\u001b[0m     \u001b[38;5;66;03m# GH#43986 Need to do list(mapped) in order to get treated as nested\u001b[39;00m\n\u001b[0;32m   1513\u001b[0m     \u001b[38;5;66;03m#  See also GH#25959 regarding EA support\u001b[39;00m\n\u001b[0;32m   1514\u001b[0m     \u001b[38;5;28;01mreturn\u001b[39;00m obj\u001b[38;5;241m.\u001b[39m_constructor_expanddim(\u001b[38;5;28mlist\u001b[39m(mapped), index\u001b[38;5;241m=\u001b[39mobj\u001b[38;5;241m.\u001b[39mindex)\n",
      "File \u001b[1;32mc:\\Users\\maxbr\\AppData\\Local\\anaconda3\\envs\\tf\\lib\\site-packages\\pandas\\core\\base.py:921\u001b[0m, in \u001b[0;36mIndexOpsMixin._map_values\u001b[1;34m(self, mapper, na_action, convert)\u001b[0m\n\u001b[0;32m    918\u001b[0m \u001b[38;5;28;01mif\u001b[39;00m \u001b[38;5;28misinstance\u001b[39m(arr, ExtensionArray):\n\u001b[0;32m    919\u001b[0m     \u001b[38;5;28;01mreturn\u001b[39;00m arr\u001b[38;5;241m.\u001b[39mmap(mapper, na_action\u001b[38;5;241m=\u001b[39mna_action)\n\u001b[1;32m--> 921\u001b[0m \u001b[38;5;28;01mreturn\u001b[39;00m \u001b[43malgorithms\u001b[49m\u001b[38;5;241;43m.\u001b[39;49m\u001b[43mmap_array\u001b[49m\u001b[43m(\u001b[49m\u001b[43marr\u001b[49m\u001b[43m,\u001b[49m\u001b[43m \u001b[49m\u001b[43mmapper\u001b[49m\u001b[43m,\u001b[49m\u001b[43m \u001b[49m\u001b[43mna_action\u001b[49m\u001b[38;5;241;43m=\u001b[39;49m\u001b[43mna_action\u001b[49m\u001b[43m,\u001b[49m\u001b[43m \u001b[49m\u001b[43mconvert\u001b[49m\u001b[38;5;241;43m=\u001b[39;49m\u001b[43mconvert\u001b[49m\u001b[43m)\u001b[49m\n",
      "File \u001b[1;32mc:\\Users\\maxbr\\AppData\\Local\\anaconda3\\envs\\tf\\lib\\site-packages\\pandas\\core\\algorithms.py:1743\u001b[0m, in \u001b[0;36mmap_array\u001b[1;34m(arr, mapper, na_action, convert)\u001b[0m\n\u001b[0;32m   1741\u001b[0m values \u001b[38;5;241m=\u001b[39m arr\u001b[38;5;241m.\u001b[39mastype(\u001b[38;5;28mobject\u001b[39m, copy\u001b[38;5;241m=\u001b[39m\u001b[38;5;28;01mFalse\u001b[39;00m)\n\u001b[0;32m   1742\u001b[0m \u001b[38;5;28;01mif\u001b[39;00m na_action \u001b[38;5;129;01mis\u001b[39;00m \u001b[38;5;28;01mNone\u001b[39;00m:\n\u001b[1;32m-> 1743\u001b[0m     \u001b[38;5;28;01mreturn\u001b[39;00m \u001b[43mlib\u001b[49m\u001b[38;5;241;43m.\u001b[39;49m\u001b[43mmap_infer\u001b[49m\u001b[43m(\u001b[49m\u001b[43mvalues\u001b[49m\u001b[43m,\u001b[49m\u001b[43m \u001b[49m\u001b[43mmapper\u001b[49m\u001b[43m,\u001b[49m\u001b[43m \u001b[49m\u001b[43mconvert\u001b[49m\u001b[38;5;241;43m=\u001b[39;49m\u001b[43mconvert\u001b[49m\u001b[43m)\u001b[49m\n\u001b[0;32m   1744\u001b[0m \u001b[38;5;28;01melse\u001b[39;00m:\n\u001b[0;32m   1745\u001b[0m     \u001b[38;5;28;01mreturn\u001b[39;00m lib\u001b[38;5;241m.\u001b[39mmap_infer_mask(\n\u001b[0;32m   1746\u001b[0m         values, mapper, mask\u001b[38;5;241m=\u001b[39misna(values)\u001b[38;5;241m.\u001b[39mview(np\u001b[38;5;241m.\u001b[39muint8), convert\u001b[38;5;241m=\u001b[39mconvert\n\u001b[0;32m   1747\u001b[0m     )\n",
      "File \u001b[1;32mlib.pyx:2972\u001b[0m, in \u001b[0;36mpandas._libs.lib.map_infer\u001b[1;34m()\u001b[0m\n",
      "File \u001b[1;32mc:\\Users\\maxbr\\OneDrive\\Desktop\\CLVSim\\CLVSim\\CLV Sim\\Sim\\features.py:53\u001b[0m, in \u001b[0;36mtime_for_75.<locals>.<lambda>\u001b[1;34m(x)\u001b[0m\n\u001b[0;32m     50\u001b[0m target_time \u001b[38;5;241m=\u001b[39m end_time\u001b[38;5;241m-\u001b[39mpd\u001b[38;5;241m.\u001b[39mTimedelta(hours\u001b[38;5;241m=\u001b[39m\u001b[38;5;241m48\u001b[39m)\n\u001b[0;32m     51\u001b[0m row_times \u001b[38;5;241m=\u001b[39m frame\u001b[38;5;241m.\u001b[39miloc[\u001b[38;5;241m0\u001b[39m]\n\u001b[1;32m---> 53\u001b[0m time_diffs \u001b[38;5;241m=\u001b[39m row_times\u001b[38;5;241m.\u001b[39mapply(\u001b[38;5;28;01mlambda\u001b[39;00m x: \u001b[38;5;28mabs\u001b[39m(\u001b[43mpd\u001b[49m\u001b[38;5;241;43m.\u001b[39;49m\u001b[43mto_datetime\u001b[49m\u001b[43m(\u001b[49m\u001b[38;5;28;43mstr\u001b[39;49m\u001b[43m(\u001b[49m\u001b[43mx\u001b[49m\u001b[43m)\u001b[49m\u001b[38;5;241;43m.\u001b[39;49m\u001b[43msplit\u001b[49m\u001b[43m(\u001b[49m\u001b[38;5;124;43m'\u001b[39;49m\u001b[38;5;124;43m - price:\u001b[39;49m\u001b[38;5;124;43m'\u001b[39;49m\u001b[43m)\u001b[49m\u001b[43m[\u001b[49m\u001b[38;5;241;43m0\u001b[39;49m\u001b[43m]\u001b[49m\u001b[43m)\u001b[49m \u001b[38;5;241m-\u001b[39m target_time))\n\u001b[0;32m     54\u001b[0m closest_col \u001b[38;5;241m=\u001b[39m time_diffs\u001b[38;5;241m.\u001b[39midxmin()\n\u001b[0;32m     56\u001b[0m \u001b[38;5;28;01mreturn\u001b[39;00m closest_col\n",
      "File \u001b[1;32mc:\\Users\\maxbr\\AppData\\Local\\anaconda3\\envs\\tf\\lib\\site-packages\\pandas\\core\\tools\\datetimes.py:1101\u001b[0m, in \u001b[0;36mto_datetime\u001b[1;34m(arg, errors, dayfirst, yearfirst, utc, format, exact, unit, infer_datetime_format, origin, cache)\u001b[0m\n\u001b[0;32m   1099\u001b[0m         result \u001b[38;5;241m=\u001b[39m convert_listlike(argc, \u001b[38;5;28mformat\u001b[39m)\n\u001b[0;32m   1100\u001b[0m \u001b[38;5;28;01melse\u001b[39;00m:\n\u001b[1;32m-> 1101\u001b[0m     result \u001b[38;5;241m=\u001b[39m \u001b[43mconvert_listlike\u001b[49m\u001b[43m(\u001b[49m\u001b[43mnp\u001b[49m\u001b[38;5;241;43m.\u001b[39;49m\u001b[43marray\u001b[49m\u001b[43m(\u001b[49m\u001b[43m[\u001b[49m\u001b[43marg\u001b[49m\u001b[43m]\u001b[49m\u001b[43m)\u001b[49m\u001b[43m,\u001b[49m\u001b[43m \u001b[49m\u001b[38;5;28;43mformat\u001b[39;49m\u001b[43m)\u001b[49m[\u001b[38;5;241m0\u001b[39m]\n\u001b[0;32m   1102\u001b[0m     \u001b[38;5;28;01mif\u001b[39;00m \u001b[38;5;28misinstance\u001b[39m(arg, \u001b[38;5;28mbool\u001b[39m) \u001b[38;5;129;01mand\u001b[39;00m \u001b[38;5;28misinstance\u001b[39m(result, np\u001b[38;5;241m.\u001b[39mbool_):\n\u001b[0;32m   1103\u001b[0m         result \u001b[38;5;241m=\u001b[39m \u001b[38;5;28mbool\u001b[39m(result)  \u001b[38;5;66;03m# TODO: avoid this kludge.\u001b[39;00m\n",
      "File \u001b[1;32mc:\\Users\\maxbr\\AppData\\Local\\anaconda3\\envs\\tf\\lib\\site-packages\\pandas\\core\\tools\\datetimes.py:429\u001b[0m, in \u001b[0;36m_convert_listlike_datetimes\u001b[1;34m(arg, format, name, utc, unit, errors, dayfirst, yearfirst, exact)\u001b[0m\n\u001b[0;32m    426\u001b[0m arg \u001b[38;5;241m=\u001b[39m ensure_object(arg)\n\u001b[0;32m    428\u001b[0m \u001b[38;5;28;01mif\u001b[39;00m \u001b[38;5;28mformat\u001b[39m \u001b[38;5;129;01mis\u001b[39;00m \u001b[38;5;28;01mNone\u001b[39;00m:\n\u001b[1;32m--> 429\u001b[0m     \u001b[38;5;28mformat\u001b[39m \u001b[38;5;241m=\u001b[39m \u001b[43m_guess_datetime_format_for_array\u001b[49m\u001b[43m(\u001b[49m\u001b[43marg\u001b[49m\u001b[43m,\u001b[49m\u001b[43m \u001b[49m\u001b[43mdayfirst\u001b[49m\u001b[38;5;241;43m=\u001b[39;49m\u001b[43mdayfirst\u001b[49m\u001b[43m)\u001b[49m\n\u001b[0;32m    431\u001b[0m \u001b[38;5;66;03m# `format` could be inferred, or user didn't ask for mixed-format parsing.\u001b[39;00m\n\u001b[0;32m    432\u001b[0m \u001b[38;5;28;01mif\u001b[39;00m \u001b[38;5;28mformat\u001b[39m \u001b[38;5;129;01mis\u001b[39;00m \u001b[38;5;129;01mnot\u001b[39;00m \u001b[38;5;28;01mNone\u001b[39;00m \u001b[38;5;129;01mand\u001b[39;00m \u001b[38;5;28mformat\u001b[39m \u001b[38;5;241m!=\u001b[39m \u001b[38;5;124m\"\u001b[39m\u001b[38;5;124mmixed\u001b[39m\u001b[38;5;124m\"\u001b[39m:\n",
      "File \u001b[1;32mc:\\Users\\maxbr\\AppData\\Local\\anaconda3\\envs\\tf\\lib\\site-packages\\pandas\\core\\tools\\datetimes.py:131\u001b[0m, in \u001b[0;36m_guess_datetime_format_for_array\u001b[1;34m(arr, dayfirst)\u001b[0m\n\u001b[0;32m    128\u001b[0m \u001b[38;5;28;01mif\u001b[39;00m (first_non_null \u001b[38;5;241m:=\u001b[39m tslib\u001b[38;5;241m.\u001b[39mfirst_non_null(arr)) \u001b[38;5;241m!=\u001b[39m \u001b[38;5;241m-\u001b[39m\u001b[38;5;241m1\u001b[39m:\n\u001b[0;32m    129\u001b[0m     \u001b[38;5;28;01mif\u001b[39;00m \u001b[38;5;28mtype\u001b[39m(first_non_nan_element \u001b[38;5;241m:=\u001b[39m arr[first_non_null]) \u001b[38;5;129;01mis\u001b[39;00m \u001b[38;5;28mstr\u001b[39m:  \u001b[38;5;66;03m# noqa: E721\u001b[39;00m\n\u001b[0;32m    130\u001b[0m         \u001b[38;5;66;03m# GH#32264 np.str_ object\u001b[39;00m\n\u001b[1;32m--> 131\u001b[0m         guessed_format \u001b[38;5;241m=\u001b[39m \u001b[43mguess_datetime_format\u001b[49m\u001b[43m(\u001b[49m\n\u001b[0;32m    132\u001b[0m \u001b[43m            \u001b[49m\u001b[43mfirst_non_nan_element\u001b[49m\u001b[43m,\u001b[49m\u001b[43m \u001b[49m\u001b[43mdayfirst\u001b[49m\u001b[38;5;241;43m=\u001b[39;49m\u001b[43mdayfirst\u001b[49m\n\u001b[0;32m    133\u001b[0m \u001b[43m        \u001b[49m\u001b[43m)\u001b[49m\n\u001b[0;32m    134\u001b[0m         \u001b[38;5;28;01mif\u001b[39;00m guessed_format \u001b[38;5;129;01mis\u001b[39;00m \u001b[38;5;129;01mnot\u001b[39;00m \u001b[38;5;28;01mNone\u001b[39;00m:\n\u001b[0;32m    135\u001b[0m             \u001b[38;5;28;01mreturn\u001b[39;00m guessed_format\n",
      "File \u001b[1;32mparsing.pyx:1013\u001b[0m, in \u001b[0;36mpandas._libs.tslibs.parsing.guess_datetime_format\u001b[1;34m()\u001b[0m\n",
      "File \u001b[1;32mparsing.pyx:1072\u001b[0m, in \u001b[0;36mpandas._libs.tslibs.parsing._fill_token\u001b[1;34m()\u001b[0m\n",
      "File \u001b[1;32mc:\\Users\\maxbr\\AppData\\Local\\anaconda3\\envs\\tf\\lib\\re.py:198\u001b[0m, in \u001b[0;36msearch\u001b[1;34m(pattern, string, flags)\u001b[0m\n\u001b[0;32m    194\u001b[0m \u001b[38;5;250m    \u001b[39m\u001b[38;5;124;03m\"\"\"Try to apply the pattern to all of the string, returning\u001b[39;00m\n\u001b[0;32m    195\u001b[0m \u001b[38;5;124;03m    a Match object, or None if no match was found.\"\"\"\u001b[39;00m\n\u001b[0;32m    196\u001b[0m     \u001b[38;5;28;01mreturn\u001b[39;00m _compile(pattern, flags)\u001b[38;5;241m.\u001b[39mfullmatch(string)\n\u001b[1;32m--> 198\u001b[0m \u001b[38;5;28;01mdef\u001b[39;00m\u001b[38;5;250m \u001b[39m\u001b[38;5;21msearch\u001b[39m(pattern, string, flags\u001b[38;5;241m=\u001b[39m\u001b[38;5;241m0\u001b[39m):\n\u001b[0;32m    199\u001b[0m \u001b[38;5;250m    \u001b[39m\u001b[38;5;124;03m\"\"\"Scan through string looking for a match to the pattern, returning\u001b[39;00m\n\u001b[0;32m    200\u001b[0m \u001b[38;5;124;03m    a Match object, or None if no match was found.\"\"\"\u001b[39;00m\n\u001b[0;32m    201\u001b[0m     \u001b[38;5;28;01mreturn\u001b[39;00m _compile(pattern, flags)\u001b[38;5;241m.\u001b[39msearch(string)\n",
      "\u001b[1;31mKeyboardInterrupt\u001b[0m: "
     ]
    }
   ],
   "source": [
    "simpleRNNSim = perform_sim(100, simpleRNN, 20)"
   ]
  }
 ],
 "metadata": {
  "kernelspec": {
   "display_name": "tf",
   "language": "python",
   "name": "python3"
  },
  "language_info": {
   "codemirror_mode": {
    "name": "ipython",
    "version": 3
   },
   "file_extension": ".py",
   "mimetype": "text/x-python",
   "name": "python",
   "nbconvert_exporter": "python",
   "pygments_lexer": "ipython3",
   "version": "3.9.21"
  }
 },
 "nbformat": 4,
 "nbformat_minor": 2
}
